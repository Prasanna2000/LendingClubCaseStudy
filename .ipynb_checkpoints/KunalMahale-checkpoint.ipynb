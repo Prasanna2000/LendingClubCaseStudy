{
 "cells": [
  {
   "cell_type": "code",
   "execution_count": 1,
   "metadata": {
    "id": "c9ef05e7"
   },
   "outputs": [],
   "source": [
    "import numpy as np\n",
    "import pandas as pd\n",
    "import matplotlib.pyplot as plt\n",
    "import seaborn as sns\n",
    "import itertools\n",
    "import warnings\n",
    "import scipy.stats as stats\n",
    "\n",
    "warnings.filterwarnings(\"ignore\")\n",
    "sns.set_style('darkgrid')\n",
    "%matplotlib inline"
   ]
  },
  {
   "cell_type": "code",
   "execution_count": 2,
   "metadata": {
    "id": "a7dc7b1e"
   },
   "outputs": [],
   "source": [
    "# set the max rows and columns\n",
    "pd.set_option('display.max_columns', None)\n",
    "pd.set_option('display.max_rows', 500)"
   ]
  },
  {
   "cell_type": "markdown",
   "metadata": {
    "id": "5b90e8ab"
   },
   "source": [
    "## Loading the dataframe and analyse the columns"
   ]
  },
  {
   "cell_type": "code",
   "execution_count": 3,
   "metadata": {
    "id": "20d07fcd"
   },
   "outputs": [],
   "source": [
    "loan = pd.read_csv(\"data/loan/loan.csv\")"
   ]
  },
  {
   "cell_type": "code",
   "execution_count": 4,
   "metadata": {
    "id": "83031ccd"
   },
   "outputs": [
    {
     "data": {
      "text/html": [
       "<div>\n",
       "<style scoped>\n",
       "    .dataframe tbody tr th:only-of-type {\n",
       "        vertical-align: middle;\n",
       "    }\n",
       "\n",
       "    .dataframe tbody tr th {\n",
       "        vertical-align: top;\n",
       "    }\n",
       "\n",
       "    .dataframe thead th {\n",
       "        text-align: right;\n",
       "    }\n",
       "</style>\n",
       "<table border=\"1\" class=\"dataframe\">\n",
       "  <thead>\n",
       "    <tr style=\"text-align: right;\">\n",
       "      <th></th>\n",
       "      <th>id</th>\n",
       "      <th>member_id</th>\n",
       "      <th>loan_amnt</th>\n",
       "      <th>funded_amnt</th>\n",
       "      <th>funded_amnt_inv</th>\n",
       "      <th>term</th>\n",
       "      <th>int_rate</th>\n",
       "      <th>installment</th>\n",
       "      <th>grade</th>\n",
       "      <th>sub_grade</th>\n",
       "      <th>emp_title</th>\n",
       "      <th>emp_length</th>\n",
       "      <th>home_ownership</th>\n",
       "      <th>annual_inc</th>\n",
       "      <th>verification_status</th>\n",
       "      <th>issue_d</th>\n",
       "      <th>loan_status</th>\n",
       "      <th>pymnt_plan</th>\n",
       "      <th>url</th>\n",
       "      <th>desc</th>\n",
       "      <th>purpose</th>\n",
       "      <th>title</th>\n",
       "      <th>zip_code</th>\n",
       "      <th>addr_state</th>\n",
       "      <th>dti</th>\n",
       "      <th>delinq_2yrs</th>\n",
       "      <th>earliest_cr_line</th>\n",
       "      <th>inq_last_6mths</th>\n",
       "      <th>mths_since_last_delinq</th>\n",
       "      <th>mths_since_last_record</th>\n",
       "      <th>open_acc</th>\n",
       "      <th>pub_rec</th>\n",
       "      <th>revol_bal</th>\n",
       "      <th>revol_util</th>\n",
       "      <th>total_acc</th>\n",
       "      <th>initial_list_status</th>\n",
       "      <th>out_prncp</th>\n",
       "      <th>out_prncp_inv</th>\n",
       "      <th>total_pymnt</th>\n",
       "      <th>total_pymnt_inv</th>\n",
       "      <th>total_rec_prncp</th>\n",
       "      <th>total_rec_int</th>\n",
       "      <th>total_rec_late_fee</th>\n",
       "      <th>recoveries</th>\n",
       "      <th>collection_recovery_fee</th>\n",
       "      <th>last_pymnt_d</th>\n",
       "      <th>last_pymnt_amnt</th>\n",
       "      <th>next_pymnt_d</th>\n",
       "      <th>last_credit_pull_d</th>\n",
       "      <th>collections_12_mths_ex_med</th>\n",
       "      <th>mths_since_last_major_derog</th>\n",
       "      <th>policy_code</th>\n",
       "      <th>application_type</th>\n",
       "      <th>annual_inc_joint</th>\n",
       "      <th>dti_joint</th>\n",
       "      <th>verification_status_joint</th>\n",
       "      <th>acc_now_delinq</th>\n",
       "      <th>tot_coll_amt</th>\n",
       "      <th>tot_cur_bal</th>\n",
       "      <th>open_acc_6m</th>\n",
       "      <th>open_il_6m</th>\n",
       "      <th>open_il_12m</th>\n",
       "      <th>open_il_24m</th>\n",
       "      <th>mths_since_rcnt_il</th>\n",
       "      <th>total_bal_il</th>\n",
       "      <th>il_util</th>\n",
       "      <th>open_rv_12m</th>\n",
       "      <th>open_rv_24m</th>\n",
       "      <th>max_bal_bc</th>\n",
       "      <th>all_util</th>\n",
       "      <th>total_rev_hi_lim</th>\n",
       "      <th>inq_fi</th>\n",
       "      <th>total_cu_tl</th>\n",
       "      <th>inq_last_12m</th>\n",
       "      <th>acc_open_past_24mths</th>\n",
       "      <th>avg_cur_bal</th>\n",
       "      <th>bc_open_to_buy</th>\n",
       "      <th>bc_util</th>\n",
       "      <th>chargeoff_within_12_mths</th>\n",
       "      <th>delinq_amnt</th>\n",
       "      <th>mo_sin_old_il_acct</th>\n",
       "      <th>mo_sin_old_rev_tl_op</th>\n",
       "      <th>mo_sin_rcnt_rev_tl_op</th>\n",
       "      <th>mo_sin_rcnt_tl</th>\n",
       "      <th>mort_acc</th>\n",
       "      <th>mths_since_recent_bc</th>\n",
       "      <th>mths_since_recent_bc_dlq</th>\n",
       "      <th>mths_since_recent_inq</th>\n",
       "      <th>mths_since_recent_revol_delinq</th>\n",
       "      <th>num_accts_ever_120_pd</th>\n",
       "      <th>num_actv_bc_tl</th>\n",
       "      <th>num_actv_rev_tl</th>\n",
       "      <th>num_bc_sats</th>\n",
       "      <th>num_bc_tl</th>\n",
       "      <th>num_il_tl</th>\n",
       "      <th>num_op_rev_tl</th>\n",
       "      <th>num_rev_accts</th>\n",
       "      <th>num_rev_tl_bal_gt_0</th>\n",
       "      <th>num_sats</th>\n",
       "      <th>num_tl_120dpd_2m</th>\n",
       "      <th>num_tl_30dpd</th>\n",
       "      <th>num_tl_90g_dpd_24m</th>\n",
       "      <th>num_tl_op_past_12m</th>\n",
       "      <th>pct_tl_nvr_dlq</th>\n",
       "      <th>percent_bc_gt_75</th>\n",
       "      <th>pub_rec_bankruptcies</th>\n",
       "      <th>tax_liens</th>\n",
       "      <th>tot_hi_cred_lim</th>\n",
       "      <th>total_bal_ex_mort</th>\n",
       "      <th>total_bc_limit</th>\n",
       "      <th>total_il_high_credit_limit</th>\n",
       "    </tr>\n",
       "  </thead>\n",
       "  <tbody>\n",
       "    <tr>\n",
       "      <th>0</th>\n",
       "      <td>1077501</td>\n",
       "      <td>1296599</td>\n",
       "      <td>5000</td>\n",
       "      <td>5000</td>\n",
       "      <td>4975.0</td>\n",
       "      <td>36 months</td>\n",
       "      <td>10.65%</td>\n",
       "      <td>162.87</td>\n",
       "      <td>B</td>\n",
       "      <td>B2</td>\n",
       "      <td>NaN</td>\n",
       "      <td>10+ years</td>\n",
       "      <td>RENT</td>\n",
       "      <td>24000.0</td>\n",
       "      <td>Verified</td>\n",
       "      <td>Dec-11</td>\n",
       "      <td>Fully Paid</td>\n",
       "      <td>n</td>\n",
       "      <td>https://lendingclub.com/browse/loanDetail.acti...</td>\n",
       "      <td>Borrower added on 12/22/11 &gt; I need to upgra...</td>\n",
       "      <td>credit_card</td>\n",
       "      <td>Computer</td>\n",
       "      <td>860xx</td>\n",
       "      <td>AZ</td>\n",
       "      <td>27.65</td>\n",
       "      <td>0</td>\n",
       "      <td>Jan-85</td>\n",
       "      <td>1</td>\n",
       "      <td>NaN</td>\n",
       "      <td>NaN</td>\n",
       "      <td>3</td>\n",
       "      <td>0</td>\n",
       "      <td>13648</td>\n",
       "      <td>83.70%</td>\n",
       "      <td>9</td>\n",
       "      <td>f</td>\n",
       "      <td>0.00</td>\n",
       "      <td>0.00</td>\n",
       "      <td>5863.155187</td>\n",
       "      <td>5833.84</td>\n",
       "      <td>5000.00</td>\n",
       "      <td>863.16</td>\n",
       "      <td>0.00</td>\n",
       "      <td>0.00</td>\n",
       "      <td>0.00</td>\n",
       "      <td>Jan-15</td>\n",
       "      <td>171.62</td>\n",
       "      <td>NaN</td>\n",
       "      <td>May-16</td>\n",
       "      <td>0.0</td>\n",
       "      <td>NaN</td>\n",
       "      <td>1</td>\n",
       "      <td>INDIVIDUAL</td>\n",
       "      <td>NaN</td>\n",
       "      <td>NaN</td>\n",
       "      <td>NaN</td>\n",
       "      <td>0</td>\n",
       "      <td>NaN</td>\n",
       "      <td>NaN</td>\n",
       "      <td>NaN</td>\n",
       "      <td>NaN</td>\n",
       "      <td>NaN</td>\n",
       "      <td>NaN</td>\n",
       "      <td>NaN</td>\n",
       "      <td>NaN</td>\n",
       "      <td>NaN</td>\n",
       "      <td>NaN</td>\n",
       "      <td>NaN</td>\n",
       "      <td>NaN</td>\n",
       "      <td>NaN</td>\n",
       "      <td>NaN</td>\n",
       "      <td>NaN</td>\n",
       "      <td>NaN</td>\n",
       "      <td>NaN</td>\n",
       "      <td>NaN</td>\n",
       "      <td>NaN</td>\n",
       "      <td>NaN</td>\n",
       "      <td>NaN</td>\n",
       "      <td>0.0</td>\n",
       "      <td>0</td>\n",
       "      <td>NaN</td>\n",
       "      <td>NaN</td>\n",
       "      <td>NaN</td>\n",
       "      <td>NaN</td>\n",
       "      <td>NaN</td>\n",
       "      <td>NaN</td>\n",
       "      <td>NaN</td>\n",
       "      <td>NaN</td>\n",
       "      <td>NaN</td>\n",
       "      <td>NaN</td>\n",
       "      <td>NaN</td>\n",
       "      <td>NaN</td>\n",
       "      <td>NaN</td>\n",
       "      <td>NaN</td>\n",
       "      <td>NaN</td>\n",
       "      <td>NaN</td>\n",
       "      <td>NaN</td>\n",
       "      <td>NaN</td>\n",
       "      <td>NaN</td>\n",
       "      <td>NaN</td>\n",
       "      <td>NaN</td>\n",
       "      <td>NaN</td>\n",
       "      <td>NaN</td>\n",
       "      <td>NaN</td>\n",
       "      <td>NaN</td>\n",
       "      <td>0.0</td>\n",
       "      <td>0.0</td>\n",
       "      <td>NaN</td>\n",
       "      <td>NaN</td>\n",
       "      <td>NaN</td>\n",
       "      <td>NaN</td>\n",
       "    </tr>\n",
       "    <tr>\n",
       "      <th>1</th>\n",
       "      <td>1077430</td>\n",
       "      <td>1314167</td>\n",
       "      <td>2500</td>\n",
       "      <td>2500</td>\n",
       "      <td>2500.0</td>\n",
       "      <td>60 months</td>\n",
       "      <td>15.27%</td>\n",
       "      <td>59.83</td>\n",
       "      <td>C</td>\n",
       "      <td>C4</td>\n",
       "      <td>Ryder</td>\n",
       "      <td>&lt; 1 year</td>\n",
       "      <td>RENT</td>\n",
       "      <td>30000.0</td>\n",
       "      <td>Source Verified</td>\n",
       "      <td>Dec-11</td>\n",
       "      <td>Charged Off</td>\n",
       "      <td>n</td>\n",
       "      <td>https://lendingclub.com/browse/loanDetail.acti...</td>\n",
       "      <td>Borrower added on 12/22/11 &gt; I plan to use t...</td>\n",
       "      <td>car</td>\n",
       "      <td>bike</td>\n",
       "      <td>309xx</td>\n",
       "      <td>GA</td>\n",
       "      <td>1.00</td>\n",
       "      <td>0</td>\n",
       "      <td>Apr-99</td>\n",
       "      <td>5</td>\n",
       "      <td>NaN</td>\n",
       "      <td>NaN</td>\n",
       "      <td>3</td>\n",
       "      <td>0</td>\n",
       "      <td>1687</td>\n",
       "      <td>9.40%</td>\n",
       "      <td>4</td>\n",
       "      <td>f</td>\n",
       "      <td>0.00</td>\n",
       "      <td>0.00</td>\n",
       "      <td>1008.710000</td>\n",
       "      <td>1008.71</td>\n",
       "      <td>456.46</td>\n",
       "      <td>435.17</td>\n",
       "      <td>0.00</td>\n",
       "      <td>117.08</td>\n",
       "      <td>1.11</td>\n",
       "      <td>Apr-13</td>\n",
       "      <td>119.66</td>\n",
       "      <td>NaN</td>\n",
       "      <td>Sep-13</td>\n",
       "      <td>0.0</td>\n",
       "      <td>NaN</td>\n",
       "      <td>1</td>\n",
       "      <td>INDIVIDUAL</td>\n",
       "      <td>NaN</td>\n",
       "      <td>NaN</td>\n",
       "      <td>NaN</td>\n",
       "      <td>0</td>\n",
       "      <td>NaN</td>\n",
       "      <td>NaN</td>\n",
       "      <td>NaN</td>\n",
       "      <td>NaN</td>\n",
       "      <td>NaN</td>\n",
       "      <td>NaN</td>\n",
       "      <td>NaN</td>\n",
       "      <td>NaN</td>\n",
       "      <td>NaN</td>\n",
       "      <td>NaN</td>\n",
       "      <td>NaN</td>\n",
       "      <td>NaN</td>\n",
       "      <td>NaN</td>\n",
       "      <td>NaN</td>\n",
       "      <td>NaN</td>\n",
       "      <td>NaN</td>\n",
       "      <td>NaN</td>\n",
       "      <td>NaN</td>\n",
       "      <td>NaN</td>\n",
       "      <td>NaN</td>\n",
       "      <td>NaN</td>\n",
       "      <td>0.0</td>\n",
       "      <td>0</td>\n",
       "      <td>NaN</td>\n",
       "      <td>NaN</td>\n",
       "      <td>NaN</td>\n",
       "      <td>NaN</td>\n",
       "      <td>NaN</td>\n",
       "      <td>NaN</td>\n",
       "      <td>NaN</td>\n",
       "      <td>NaN</td>\n",
       "      <td>NaN</td>\n",
       "      <td>NaN</td>\n",
       "      <td>NaN</td>\n",
       "      <td>NaN</td>\n",
       "      <td>NaN</td>\n",
       "      <td>NaN</td>\n",
       "      <td>NaN</td>\n",
       "      <td>NaN</td>\n",
       "      <td>NaN</td>\n",
       "      <td>NaN</td>\n",
       "      <td>NaN</td>\n",
       "      <td>NaN</td>\n",
       "      <td>NaN</td>\n",
       "      <td>NaN</td>\n",
       "      <td>NaN</td>\n",
       "      <td>NaN</td>\n",
       "      <td>NaN</td>\n",
       "      <td>0.0</td>\n",
       "      <td>0.0</td>\n",
       "      <td>NaN</td>\n",
       "      <td>NaN</td>\n",
       "      <td>NaN</td>\n",
       "      <td>NaN</td>\n",
       "    </tr>\n",
       "    <tr>\n",
       "      <th>2</th>\n",
       "      <td>1077175</td>\n",
       "      <td>1313524</td>\n",
       "      <td>2400</td>\n",
       "      <td>2400</td>\n",
       "      <td>2400.0</td>\n",
       "      <td>36 months</td>\n",
       "      <td>15.96%</td>\n",
       "      <td>84.33</td>\n",
       "      <td>C</td>\n",
       "      <td>C5</td>\n",
       "      <td>NaN</td>\n",
       "      <td>10+ years</td>\n",
       "      <td>RENT</td>\n",
       "      <td>12252.0</td>\n",
       "      <td>Not Verified</td>\n",
       "      <td>Dec-11</td>\n",
       "      <td>Fully Paid</td>\n",
       "      <td>n</td>\n",
       "      <td>https://lendingclub.com/browse/loanDetail.acti...</td>\n",
       "      <td>NaN</td>\n",
       "      <td>small_business</td>\n",
       "      <td>real estate business</td>\n",
       "      <td>606xx</td>\n",
       "      <td>IL</td>\n",
       "      <td>8.72</td>\n",
       "      <td>0</td>\n",
       "      <td>Nov-01</td>\n",
       "      <td>2</td>\n",
       "      <td>NaN</td>\n",
       "      <td>NaN</td>\n",
       "      <td>2</td>\n",
       "      <td>0</td>\n",
       "      <td>2956</td>\n",
       "      <td>98.50%</td>\n",
       "      <td>10</td>\n",
       "      <td>f</td>\n",
       "      <td>0.00</td>\n",
       "      <td>0.00</td>\n",
       "      <td>3005.666844</td>\n",
       "      <td>3005.67</td>\n",
       "      <td>2400.00</td>\n",
       "      <td>605.67</td>\n",
       "      <td>0.00</td>\n",
       "      <td>0.00</td>\n",
       "      <td>0.00</td>\n",
       "      <td>Jun-14</td>\n",
       "      <td>649.91</td>\n",
       "      <td>NaN</td>\n",
       "      <td>May-16</td>\n",
       "      <td>0.0</td>\n",
       "      <td>NaN</td>\n",
       "      <td>1</td>\n",
       "      <td>INDIVIDUAL</td>\n",
       "      <td>NaN</td>\n",
       "      <td>NaN</td>\n",
       "      <td>NaN</td>\n",
       "      <td>0</td>\n",
       "      <td>NaN</td>\n",
       "      <td>NaN</td>\n",
       "      <td>NaN</td>\n",
       "      <td>NaN</td>\n",
       "      <td>NaN</td>\n",
       "      <td>NaN</td>\n",
       "      <td>NaN</td>\n",
       "      <td>NaN</td>\n",
       "      <td>NaN</td>\n",
       "      <td>NaN</td>\n",
       "      <td>NaN</td>\n",
       "      <td>NaN</td>\n",
       "      <td>NaN</td>\n",
       "      <td>NaN</td>\n",
       "      <td>NaN</td>\n",
       "      <td>NaN</td>\n",
       "      <td>NaN</td>\n",
       "      <td>NaN</td>\n",
       "      <td>NaN</td>\n",
       "      <td>NaN</td>\n",
       "      <td>NaN</td>\n",
       "      <td>0.0</td>\n",
       "      <td>0</td>\n",
       "      <td>NaN</td>\n",
       "      <td>NaN</td>\n",
       "      <td>NaN</td>\n",
       "      <td>NaN</td>\n",
       "      <td>NaN</td>\n",
       "      <td>NaN</td>\n",
       "      <td>NaN</td>\n",
       "      <td>NaN</td>\n",
       "      <td>NaN</td>\n",
       "      <td>NaN</td>\n",
       "      <td>NaN</td>\n",
       "      <td>NaN</td>\n",
       "      <td>NaN</td>\n",
       "      <td>NaN</td>\n",
       "      <td>NaN</td>\n",
       "      <td>NaN</td>\n",
       "      <td>NaN</td>\n",
       "      <td>NaN</td>\n",
       "      <td>NaN</td>\n",
       "      <td>NaN</td>\n",
       "      <td>NaN</td>\n",
       "      <td>NaN</td>\n",
       "      <td>NaN</td>\n",
       "      <td>NaN</td>\n",
       "      <td>NaN</td>\n",
       "      <td>0.0</td>\n",
       "      <td>0.0</td>\n",
       "      <td>NaN</td>\n",
       "      <td>NaN</td>\n",
       "      <td>NaN</td>\n",
       "      <td>NaN</td>\n",
       "    </tr>\n",
       "    <tr>\n",
       "      <th>3</th>\n",
       "      <td>1076863</td>\n",
       "      <td>1277178</td>\n",
       "      <td>10000</td>\n",
       "      <td>10000</td>\n",
       "      <td>10000.0</td>\n",
       "      <td>36 months</td>\n",
       "      <td>13.49%</td>\n",
       "      <td>339.31</td>\n",
       "      <td>C</td>\n",
       "      <td>C1</td>\n",
       "      <td>AIR RESOURCES BOARD</td>\n",
       "      <td>10+ years</td>\n",
       "      <td>RENT</td>\n",
       "      <td>49200.0</td>\n",
       "      <td>Source Verified</td>\n",
       "      <td>Dec-11</td>\n",
       "      <td>Fully Paid</td>\n",
       "      <td>n</td>\n",
       "      <td>https://lendingclub.com/browse/loanDetail.acti...</td>\n",
       "      <td>Borrower added on 12/21/11 &gt; to pay for prop...</td>\n",
       "      <td>other</td>\n",
       "      <td>personel</td>\n",
       "      <td>917xx</td>\n",
       "      <td>CA</td>\n",
       "      <td>20.00</td>\n",
       "      <td>0</td>\n",
       "      <td>Feb-96</td>\n",
       "      <td>1</td>\n",
       "      <td>35.0</td>\n",
       "      <td>NaN</td>\n",
       "      <td>10</td>\n",
       "      <td>0</td>\n",
       "      <td>5598</td>\n",
       "      <td>21%</td>\n",
       "      <td>37</td>\n",
       "      <td>f</td>\n",
       "      <td>0.00</td>\n",
       "      <td>0.00</td>\n",
       "      <td>12231.890000</td>\n",
       "      <td>12231.89</td>\n",
       "      <td>10000.00</td>\n",
       "      <td>2214.92</td>\n",
       "      <td>16.97</td>\n",
       "      <td>0.00</td>\n",
       "      <td>0.00</td>\n",
       "      <td>Jan-15</td>\n",
       "      <td>357.48</td>\n",
       "      <td>NaN</td>\n",
       "      <td>Apr-16</td>\n",
       "      <td>0.0</td>\n",
       "      <td>NaN</td>\n",
       "      <td>1</td>\n",
       "      <td>INDIVIDUAL</td>\n",
       "      <td>NaN</td>\n",
       "      <td>NaN</td>\n",
       "      <td>NaN</td>\n",
       "      <td>0</td>\n",
       "      <td>NaN</td>\n",
       "      <td>NaN</td>\n",
       "      <td>NaN</td>\n",
       "      <td>NaN</td>\n",
       "      <td>NaN</td>\n",
       "      <td>NaN</td>\n",
       "      <td>NaN</td>\n",
       "      <td>NaN</td>\n",
       "      <td>NaN</td>\n",
       "      <td>NaN</td>\n",
       "      <td>NaN</td>\n",
       "      <td>NaN</td>\n",
       "      <td>NaN</td>\n",
       "      <td>NaN</td>\n",
       "      <td>NaN</td>\n",
       "      <td>NaN</td>\n",
       "      <td>NaN</td>\n",
       "      <td>NaN</td>\n",
       "      <td>NaN</td>\n",
       "      <td>NaN</td>\n",
       "      <td>NaN</td>\n",
       "      <td>0.0</td>\n",
       "      <td>0</td>\n",
       "      <td>NaN</td>\n",
       "      <td>NaN</td>\n",
       "      <td>NaN</td>\n",
       "      <td>NaN</td>\n",
       "      <td>NaN</td>\n",
       "      <td>NaN</td>\n",
       "      <td>NaN</td>\n",
       "      <td>NaN</td>\n",
       "      <td>NaN</td>\n",
       "      <td>NaN</td>\n",
       "      <td>NaN</td>\n",
       "      <td>NaN</td>\n",
       "      <td>NaN</td>\n",
       "      <td>NaN</td>\n",
       "      <td>NaN</td>\n",
       "      <td>NaN</td>\n",
       "      <td>NaN</td>\n",
       "      <td>NaN</td>\n",
       "      <td>NaN</td>\n",
       "      <td>NaN</td>\n",
       "      <td>NaN</td>\n",
       "      <td>NaN</td>\n",
       "      <td>NaN</td>\n",
       "      <td>NaN</td>\n",
       "      <td>NaN</td>\n",
       "      <td>0.0</td>\n",
       "      <td>0.0</td>\n",
       "      <td>NaN</td>\n",
       "      <td>NaN</td>\n",
       "      <td>NaN</td>\n",
       "      <td>NaN</td>\n",
       "    </tr>\n",
       "    <tr>\n",
       "      <th>4</th>\n",
       "      <td>1075358</td>\n",
       "      <td>1311748</td>\n",
       "      <td>3000</td>\n",
       "      <td>3000</td>\n",
       "      <td>3000.0</td>\n",
       "      <td>60 months</td>\n",
       "      <td>12.69%</td>\n",
       "      <td>67.79</td>\n",
       "      <td>B</td>\n",
       "      <td>B5</td>\n",
       "      <td>University Medical Group</td>\n",
       "      <td>1 year</td>\n",
       "      <td>RENT</td>\n",
       "      <td>80000.0</td>\n",
       "      <td>Source Verified</td>\n",
       "      <td>Dec-11</td>\n",
       "      <td>Current</td>\n",
       "      <td>n</td>\n",
       "      <td>https://lendingclub.com/browse/loanDetail.acti...</td>\n",
       "      <td>Borrower added on 12/21/11 &gt; I plan on combi...</td>\n",
       "      <td>other</td>\n",
       "      <td>Personal</td>\n",
       "      <td>972xx</td>\n",
       "      <td>OR</td>\n",
       "      <td>17.94</td>\n",
       "      <td>0</td>\n",
       "      <td>Jan-96</td>\n",
       "      <td>0</td>\n",
       "      <td>38.0</td>\n",
       "      <td>NaN</td>\n",
       "      <td>15</td>\n",
       "      <td>0</td>\n",
       "      <td>27783</td>\n",
       "      <td>53.90%</td>\n",
       "      <td>38</td>\n",
       "      <td>f</td>\n",
       "      <td>524.06</td>\n",
       "      <td>524.06</td>\n",
       "      <td>3513.330000</td>\n",
       "      <td>3513.33</td>\n",
       "      <td>2475.94</td>\n",
       "      <td>1037.39</td>\n",
       "      <td>0.00</td>\n",
       "      <td>0.00</td>\n",
       "      <td>0.00</td>\n",
       "      <td>May-16</td>\n",
       "      <td>67.79</td>\n",
       "      <td>Jun-16</td>\n",
       "      <td>May-16</td>\n",
       "      <td>0.0</td>\n",
       "      <td>NaN</td>\n",
       "      <td>1</td>\n",
       "      <td>INDIVIDUAL</td>\n",
       "      <td>NaN</td>\n",
       "      <td>NaN</td>\n",
       "      <td>NaN</td>\n",
       "      <td>0</td>\n",
       "      <td>NaN</td>\n",
       "      <td>NaN</td>\n",
       "      <td>NaN</td>\n",
       "      <td>NaN</td>\n",
       "      <td>NaN</td>\n",
       "      <td>NaN</td>\n",
       "      <td>NaN</td>\n",
       "      <td>NaN</td>\n",
       "      <td>NaN</td>\n",
       "      <td>NaN</td>\n",
       "      <td>NaN</td>\n",
       "      <td>NaN</td>\n",
       "      <td>NaN</td>\n",
       "      <td>NaN</td>\n",
       "      <td>NaN</td>\n",
       "      <td>NaN</td>\n",
       "      <td>NaN</td>\n",
       "      <td>NaN</td>\n",
       "      <td>NaN</td>\n",
       "      <td>NaN</td>\n",
       "      <td>NaN</td>\n",
       "      <td>0.0</td>\n",
       "      <td>0</td>\n",
       "      <td>NaN</td>\n",
       "      <td>NaN</td>\n",
       "      <td>NaN</td>\n",
       "      <td>NaN</td>\n",
       "      <td>NaN</td>\n",
       "      <td>NaN</td>\n",
       "      <td>NaN</td>\n",
       "      <td>NaN</td>\n",
       "      <td>NaN</td>\n",
       "      <td>NaN</td>\n",
       "      <td>NaN</td>\n",
       "      <td>NaN</td>\n",
       "      <td>NaN</td>\n",
       "      <td>NaN</td>\n",
       "      <td>NaN</td>\n",
       "      <td>NaN</td>\n",
       "      <td>NaN</td>\n",
       "      <td>NaN</td>\n",
       "      <td>NaN</td>\n",
       "      <td>NaN</td>\n",
       "      <td>NaN</td>\n",
       "      <td>NaN</td>\n",
       "      <td>NaN</td>\n",
       "      <td>NaN</td>\n",
       "      <td>NaN</td>\n",
       "      <td>0.0</td>\n",
       "      <td>0.0</td>\n",
       "      <td>NaN</td>\n",
       "      <td>NaN</td>\n",
       "      <td>NaN</td>\n",
       "      <td>NaN</td>\n",
       "    </tr>\n",
       "  </tbody>\n",
       "</table>\n",
       "</div>"
      ],
      "text/plain": [
       "        id  member_id  loan_amnt  funded_amnt  funded_amnt_inv        term  \\\n",
       "0  1077501    1296599       5000         5000           4975.0   36 months   \n",
       "1  1077430    1314167       2500         2500           2500.0   60 months   \n",
       "2  1077175    1313524       2400         2400           2400.0   36 months   \n",
       "3  1076863    1277178      10000        10000          10000.0   36 months   \n",
       "4  1075358    1311748       3000         3000           3000.0   60 months   \n",
       "\n",
       "  int_rate  installment grade sub_grade                 emp_title emp_length  \\\n",
       "0   10.65%       162.87     B        B2                       NaN  10+ years   \n",
       "1   15.27%        59.83     C        C4                     Ryder   < 1 year   \n",
       "2   15.96%        84.33     C        C5                       NaN  10+ years   \n",
       "3   13.49%       339.31     C        C1       AIR RESOURCES BOARD  10+ years   \n",
       "4   12.69%        67.79     B        B5  University Medical Group     1 year   \n",
       "\n",
       "  home_ownership  annual_inc verification_status issue_d  loan_status  \\\n",
       "0           RENT     24000.0            Verified  Dec-11   Fully Paid   \n",
       "1           RENT     30000.0     Source Verified  Dec-11  Charged Off   \n",
       "2           RENT     12252.0        Not Verified  Dec-11   Fully Paid   \n",
       "3           RENT     49200.0     Source Verified  Dec-11   Fully Paid   \n",
       "4           RENT     80000.0     Source Verified  Dec-11      Current   \n",
       "\n",
       "  pymnt_plan                                                url  \\\n",
       "0          n  https://lendingclub.com/browse/loanDetail.acti...   \n",
       "1          n  https://lendingclub.com/browse/loanDetail.acti...   \n",
       "2          n  https://lendingclub.com/browse/loanDetail.acti...   \n",
       "3          n  https://lendingclub.com/browse/loanDetail.acti...   \n",
       "4          n  https://lendingclub.com/browse/loanDetail.acti...   \n",
       "\n",
       "                                                desc         purpose  \\\n",
       "0    Borrower added on 12/22/11 > I need to upgra...     credit_card   \n",
       "1    Borrower added on 12/22/11 > I plan to use t...             car   \n",
       "2                                                NaN  small_business   \n",
       "3    Borrower added on 12/21/11 > to pay for prop...           other   \n",
       "4    Borrower added on 12/21/11 > I plan on combi...           other   \n",
       "\n",
       "                  title zip_code addr_state    dti  delinq_2yrs  \\\n",
       "0              Computer    860xx         AZ  27.65            0   \n",
       "1                  bike    309xx         GA   1.00            0   \n",
       "2  real estate business    606xx         IL   8.72            0   \n",
       "3              personel    917xx         CA  20.00            0   \n",
       "4              Personal    972xx         OR  17.94            0   \n",
       "\n",
       "  earliest_cr_line  inq_last_6mths  mths_since_last_delinq  \\\n",
       "0           Jan-85               1                     NaN   \n",
       "1           Apr-99               5                     NaN   \n",
       "2           Nov-01               2                     NaN   \n",
       "3           Feb-96               1                    35.0   \n",
       "4           Jan-96               0                    38.0   \n",
       "\n",
       "   mths_since_last_record  open_acc  pub_rec  revol_bal revol_util  total_acc  \\\n",
       "0                     NaN         3        0      13648     83.70%          9   \n",
       "1                     NaN         3        0       1687      9.40%          4   \n",
       "2                     NaN         2        0       2956     98.50%         10   \n",
       "3                     NaN        10        0       5598        21%         37   \n",
       "4                     NaN        15        0      27783     53.90%         38   \n",
       "\n",
       "  initial_list_status  out_prncp  out_prncp_inv   total_pymnt  \\\n",
       "0                   f       0.00           0.00   5863.155187   \n",
       "1                   f       0.00           0.00   1008.710000   \n",
       "2                   f       0.00           0.00   3005.666844   \n",
       "3                   f       0.00           0.00  12231.890000   \n",
       "4                   f     524.06         524.06   3513.330000   \n",
       "\n",
       "   total_pymnt_inv  total_rec_prncp  total_rec_int  total_rec_late_fee  \\\n",
       "0          5833.84          5000.00         863.16                0.00   \n",
       "1          1008.71           456.46         435.17                0.00   \n",
       "2          3005.67          2400.00         605.67                0.00   \n",
       "3         12231.89         10000.00        2214.92               16.97   \n",
       "4          3513.33          2475.94        1037.39                0.00   \n",
       "\n",
       "   recoveries  collection_recovery_fee last_pymnt_d  last_pymnt_amnt  \\\n",
       "0        0.00                     0.00       Jan-15           171.62   \n",
       "1      117.08                     1.11       Apr-13           119.66   \n",
       "2        0.00                     0.00       Jun-14           649.91   \n",
       "3        0.00                     0.00       Jan-15           357.48   \n",
       "4        0.00                     0.00       May-16            67.79   \n",
       "\n",
       "  next_pymnt_d last_credit_pull_d  collections_12_mths_ex_med  \\\n",
       "0          NaN             May-16                         0.0   \n",
       "1          NaN             Sep-13                         0.0   \n",
       "2          NaN             May-16                         0.0   \n",
       "3          NaN             Apr-16                         0.0   \n",
       "4       Jun-16             May-16                         0.0   \n",
       "\n",
       "   mths_since_last_major_derog  policy_code application_type  \\\n",
       "0                          NaN            1       INDIVIDUAL   \n",
       "1                          NaN            1       INDIVIDUAL   \n",
       "2                          NaN            1       INDIVIDUAL   \n",
       "3                          NaN            1       INDIVIDUAL   \n",
       "4                          NaN            1       INDIVIDUAL   \n",
       "\n",
       "   annual_inc_joint  dti_joint  verification_status_joint  acc_now_delinq  \\\n",
       "0               NaN        NaN                        NaN               0   \n",
       "1               NaN        NaN                        NaN               0   \n",
       "2               NaN        NaN                        NaN               0   \n",
       "3               NaN        NaN                        NaN               0   \n",
       "4               NaN        NaN                        NaN               0   \n",
       "\n",
       "   tot_coll_amt  tot_cur_bal  open_acc_6m  open_il_6m  open_il_12m  \\\n",
       "0           NaN          NaN          NaN         NaN          NaN   \n",
       "1           NaN          NaN          NaN         NaN          NaN   \n",
       "2           NaN          NaN          NaN         NaN          NaN   \n",
       "3           NaN          NaN          NaN         NaN          NaN   \n",
       "4           NaN          NaN          NaN         NaN          NaN   \n",
       "\n",
       "   open_il_24m  mths_since_rcnt_il  total_bal_il  il_util  open_rv_12m  \\\n",
       "0          NaN                 NaN           NaN      NaN          NaN   \n",
       "1          NaN                 NaN           NaN      NaN          NaN   \n",
       "2          NaN                 NaN           NaN      NaN          NaN   \n",
       "3          NaN                 NaN           NaN      NaN          NaN   \n",
       "4          NaN                 NaN           NaN      NaN          NaN   \n",
       "\n",
       "   open_rv_24m  max_bal_bc  all_util  total_rev_hi_lim  inq_fi  total_cu_tl  \\\n",
       "0          NaN         NaN       NaN               NaN     NaN          NaN   \n",
       "1          NaN         NaN       NaN               NaN     NaN          NaN   \n",
       "2          NaN         NaN       NaN               NaN     NaN          NaN   \n",
       "3          NaN         NaN       NaN               NaN     NaN          NaN   \n",
       "4          NaN         NaN       NaN               NaN     NaN          NaN   \n",
       "\n",
       "   inq_last_12m  acc_open_past_24mths  avg_cur_bal  bc_open_to_buy  bc_util  \\\n",
       "0           NaN                   NaN          NaN             NaN      NaN   \n",
       "1           NaN                   NaN          NaN             NaN      NaN   \n",
       "2           NaN                   NaN          NaN             NaN      NaN   \n",
       "3           NaN                   NaN          NaN             NaN      NaN   \n",
       "4           NaN                   NaN          NaN             NaN      NaN   \n",
       "\n",
       "   chargeoff_within_12_mths  delinq_amnt  mo_sin_old_il_acct  \\\n",
       "0                       0.0            0                 NaN   \n",
       "1                       0.0            0                 NaN   \n",
       "2                       0.0            0                 NaN   \n",
       "3                       0.0            0                 NaN   \n",
       "4                       0.0            0                 NaN   \n",
       "\n",
       "   mo_sin_old_rev_tl_op  mo_sin_rcnt_rev_tl_op  mo_sin_rcnt_tl  mort_acc  \\\n",
       "0                   NaN                    NaN             NaN       NaN   \n",
       "1                   NaN                    NaN             NaN       NaN   \n",
       "2                   NaN                    NaN             NaN       NaN   \n",
       "3                   NaN                    NaN             NaN       NaN   \n",
       "4                   NaN                    NaN             NaN       NaN   \n",
       "\n",
       "   mths_since_recent_bc  mths_since_recent_bc_dlq  mths_since_recent_inq  \\\n",
       "0                   NaN                       NaN                    NaN   \n",
       "1                   NaN                       NaN                    NaN   \n",
       "2                   NaN                       NaN                    NaN   \n",
       "3                   NaN                       NaN                    NaN   \n",
       "4                   NaN                       NaN                    NaN   \n",
       "\n",
       "   mths_since_recent_revol_delinq  num_accts_ever_120_pd  num_actv_bc_tl  \\\n",
       "0                             NaN                    NaN             NaN   \n",
       "1                             NaN                    NaN             NaN   \n",
       "2                             NaN                    NaN             NaN   \n",
       "3                             NaN                    NaN             NaN   \n",
       "4                             NaN                    NaN             NaN   \n",
       "\n",
       "   num_actv_rev_tl  num_bc_sats  num_bc_tl  num_il_tl  num_op_rev_tl  \\\n",
       "0              NaN          NaN        NaN        NaN            NaN   \n",
       "1              NaN          NaN        NaN        NaN            NaN   \n",
       "2              NaN          NaN        NaN        NaN            NaN   \n",
       "3              NaN          NaN        NaN        NaN            NaN   \n",
       "4              NaN          NaN        NaN        NaN            NaN   \n",
       "\n",
       "   num_rev_accts  num_rev_tl_bal_gt_0  num_sats  num_tl_120dpd_2m  \\\n",
       "0            NaN                  NaN       NaN               NaN   \n",
       "1            NaN                  NaN       NaN               NaN   \n",
       "2            NaN                  NaN       NaN               NaN   \n",
       "3            NaN                  NaN       NaN               NaN   \n",
       "4            NaN                  NaN       NaN               NaN   \n",
       "\n",
       "   num_tl_30dpd  num_tl_90g_dpd_24m  num_tl_op_past_12m  pct_tl_nvr_dlq  \\\n",
       "0           NaN                 NaN                 NaN             NaN   \n",
       "1           NaN                 NaN                 NaN             NaN   \n",
       "2           NaN                 NaN                 NaN             NaN   \n",
       "3           NaN                 NaN                 NaN             NaN   \n",
       "4           NaN                 NaN                 NaN             NaN   \n",
       "\n",
       "   percent_bc_gt_75  pub_rec_bankruptcies  tax_liens  tot_hi_cred_lim  \\\n",
       "0               NaN                   0.0        0.0              NaN   \n",
       "1               NaN                   0.0        0.0              NaN   \n",
       "2               NaN                   0.0        0.0              NaN   \n",
       "3               NaN                   0.0        0.0              NaN   \n",
       "4               NaN                   0.0        0.0              NaN   \n",
       "\n",
       "   total_bal_ex_mort  total_bc_limit  total_il_high_credit_limit  \n",
       "0                NaN             NaN                         NaN  \n",
       "1                NaN             NaN                         NaN  \n",
       "2                NaN             NaN                         NaN  \n",
       "3                NaN             NaN                         NaN  \n",
       "4                NaN             NaN                         NaN  "
      ]
     },
     "execution_count": 4,
     "metadata": {},
     "output_type": "execute_result"
    }
   ],
   "source": [
    "loan.head()"
   ]
  },
  {
   "cell_type": "code",
   "execution_count": 5,
   "metadata": {
    "id": "ec50c745"
   },
   "outputs": [
    {
     "data": {
      "text/plain": [
       "(39717, 111)"
      ]
     },
     "execution_count": 5,
     "metadata": {},
     "output_type": "execute_result"
    }
   ],
   "source": [
    "loan.shape"
   ]
  },
  {
   "cell_type": "code",
   "execution_count": 6,
   "metadata": {
    "id": "bf2899bd",
    "scrolled": false
   },
   "outputs": [
    {
     "data": {
      "text/html": [
       "<div>\n",
       "<style scoped>\n",
       "    .dataframe tbody tr th:only-of-type {\n",
       "        vertical-align: middle;\n",
       "    }\n",
       "\n",
       "    .dataframe tbody tr th {\n",
       "        vertical-align: top;\n",
       "    }\n",
       "\n",
       "    .dataframe thead th {\n",
       "        text-align: right;\n",
       "    }\n",
       "</style>\n",
       "<table border=\"1\" class=\"dataframe\">\n",
       "  <thead>\n",
       "    <tr style=\"text-align: right;\">\n",
       "      <th></th>\n",
       "      <th>id</th>\n",
       "      <th>member_id</th>\n",
       "      <th>loan_amnt</th>\n",
       "      <th>funded_amnt</th>\n",
       "      <th>funded_amnt_inv</th>\n",
       "      <th>installment</th>\n",
       "      <th>annual_inc</th>\n",
       "      <th>dti</th>\n",
       "      <th>delinq_2yrs</th>\n",
       "      <th>inq_last_6mths</th>\n",
       "      <th>mths_since_last_delinq</th>\n",
       "      <th>mths_since_last_record</th>\n",
       "      <th>open_acc</th>\n",
       "      <th>pub_rec</th>\n",
       "      <th>revol_bal</th>\n",
       "      <th>total_acc</th>\n",
       "      <th>out_prncp</th>\n",
       "      <th>out_prncp_inv</th>\n",
       "      <th>total_pymnt</th>\n",
       "      <th>total_pymnt_inv</th>\n",
       "      <th>total_rec_prncp</th>\n",
       "      <th>total_rec_int</th>\n",
       "      <th>total_rec_late_fee</th>\n",
       "      <th>recoveries</th>\n",
       "      <th>collection_recovery_fee</th>\n",
       "      <th>last_pymnt_amnt</th>\n",
       "      <th>collections_12_mths_ex_med</th>\n",
       "      <th>mths_since_last_major_derog</th>\n",
       "      <th>policy_code</th>\n",
       "      <th>annual_inc_joint</th>\n",
       "      <th>dti_joint</th>\n",
       "      <th>verification_status_joint</th>\n",
       "      <th>acc_now_delinq</th>\n",
       "      <th>tot_coll_amt</th>\n",
       "      <th>tot_cur_bal</th>\n",
       "      <th>open_acc_6m</th>\n",
       "      <th>open_il_6m</th>\n",
       "      <th>open_il_12m</th>\n",
       "      <th>open_il_24m</th>\n",
       "      <th>mths_since_rcnt_il</th>\n",
       "      <th>total_bal_il</th>\n",
       "      <th>il_util</th>\n",
       "      <th>open_rv_12m</th>\n",
       "      <th>open_rv_24m</th>\n",
       "      <th>max_bal_bc</th>\n",
       "      <th>all_util</th>\n",
       "      <th>total_rev_hi_lim</th>\n",
       "      <th>inq_fi</th>\n",
       "      <th>total_cu_tl</th>\n",
       "      <th>inq_last_12m</th>\n",
       "      <th>acc_open_past_24mths</th>\n",
       "      <th>avg_cur_bal</th>\n",
       "      <th>bc_open_to_buy</th>\n",
       "      <th>bc_util</th>\n",
       "      <th>chargeoff_within_12_mths</th>\n",
       "      <th>delinq_amnt</th>\n",
       "      <th>mo_sin_old_il_acct</th>\n",
       "      <th>mo_sin_old_rev_tl_op</th>\n",
       "      <th>mo_sin_rcnt_rev_tl_op</th>\n",
       "      <th>mo_sin_rcnt_tl</th>\n",
       "      <th>mort_acc</th>\n",
       "      <th>mths_since_recent_bc</th>\n",
       "      <th>mths_since_recent_bc_dlq</th>\n",
       "      <th>mths_since_recent_inq</th>\n",
       "      <th>mths_since_recent_revol_delinq</th>\n",
       "      <th>num_accts_ever_120_pd</th>\n",
       "      <th>num_actv_bc_tl</th>\n",
       "      <th>num_actv_rev_tl</th>\n",
       "      <th>num_bc_sats</th>\n",
       "      <th>num_bc_tl</th>\n",
       "      <th>num_il_tl</th>\n",
       "      <th>num_op_rev_tl</th>\n",
       "      <th>num_rev_accts</th>\n",
       "      <th>num_rev_tl_bal_gt_0</th>\n",
       "      <th>num_sats</th>\n",
       "      <th>num_tl_120dpd_2m</th>\n",
       "      <th>num_tl_30dpd</th>\n",
       "      <th>num_tl_90g_dpd_24m</th>\n",
       "      <th>num_tl_op_past_12m</th>\n",
       "      <th>pct_tl_nvr_dlq</th>\n",
       "      <th>percent_bc_gt_75</th>\n",
       "      <th>pub_rec_bankruptcies</th>\n",
       "      <th>tax_liens</th>\n",
       "      <th>tot_hi_cred_lim</th>\n",
       "      <th>total_bal_ex_mort</th>\n",
       "      <th>total_bc_limit</th>\n",
       "      <th>total_il_high_credit_limit</th>\n",
       "    </tr>\n",
       "  </thead>\n",
       "  <tbody>\n",
       "    <tr>\n",
       "      <th>count</th>\n",
       "      <td>3.971700e+04</td>\n",
       "      <td>3.971700e+04</td>\n",
       "      <td>39717.000000</td>\n",
       "      <td>39717.000000</td>\n",
       "      <td>39717.000000</td>\n",
       "      <td>39717.000000</td>\n",
       "      <td>3.971700e+04</td>\n",
       "      <td>39717.000000</td>\n",
       "      <td>39717.000000</td>\n",
       "      <td>39717.000000</td>\n",
       "      <td>14035.000000</td>\n",
       "      <td>2786.000000</td>\n",
       "      <td>39717.000000</td>\n",
       "      <td>39717.000000</td>\n",
       "      <td>39717.000000</td>\n",
       "      <td>39717.000000</td>\n",
       "      <td>39717.000000</td>\n",
       "      <td>39717.000000</td>\n",
       "      <td>39717.000000</td>\n",
       "      <td>39717.000000</td>\n",
       "      <td>39717.000000</td>\n",
       "      <td>39717.000000</td>\n",
       "      <td>39717.000000</td>\n",
       "      <td>39717.000000</td>\n",
       "      <td>39717.000000</td>\n",
       "      <td>39717.000000</td>\n",
       "      <td>39661.0</td>\n",
       "      <td>0.0</td>\n",
       "      <td>39717.0</td>\n",
       "      <td>0.0</td>\n",
       "      <td>0.0</td>\n",
       "      <td>0.0</td>\n",
       "      <td>39717.0</td>\n",
       "      <td>0.0</td>\n",
       "      <td>0.0</td>\n",
       "      <td>0.0</td>\n",
       "      <td>0.0</td>\n",
       "      <td>0.0</td>\n",
       "      <td>0.0</td>\n",
       "      <td>0.0</td>\n",
       "      <td>0.0</td>\n",
       "      <td>0.0</td>\n",
       "      <td>0.0</td>\n",
       "      <td>0.0</td>\n",
       "      <td>0.0</td>\n",
       "      <td>0.0</td>\n",
       "      <td>0.0</td>\n",
       "      <td>0.0</td>\n",
       "      <td>0.0</td>\n",
       "      <td>0.0</td>\n",
       "      <td>0.0</td>\n",
       "      <td>0.0</td>\n",
       "      <td>0.0</td>\n",
       "      <td>0.0</td>\n",
       "      <td>39661.0</td>\n",
       "      <td>39717.0</td>\n",
       "      <td>0.0</td>\n",
       "      <td>0.0</td>\n",
       "      <td>0.0</td>\n",
       "      <td>0.0</td>\n",
       "      <td>0.0</td>\n",
       "      <td>0.0</td>\n",
       "      <td>0.0</td>\n",
       "      <td>0.0</td>\n",
       "      <td>0.0</td>\n",
       "      <td>0.0</td>\n",
       "      <td>0.0</td>\n",
       "      <td>0.0</td>\n",
       "      <td>0.0</td>\n",
       "      <td>0.0</td>\n",
       "      <td>0.0</td>\n",
       "      <td>0.0</td>\n",
       "      <td>0.0</td>\n",
       "      <td>0.0</td>\n",
       "      <td>0.0</td>\n",
       "      <td>0.0</td>\n",
       "      <td>0.0</td>\n",
       "      <td>0.0</td>\n",
       "      <td>0.0</td>\n",
       "      <td>0.0</td>\n",
       "      <td>0.0</td>\n",
       "      <td>39020.000000</td>\n",
       "      <td>39678.0</td>\n",
       "      <td>0.0</td>\n",
       "      <td>0.0</td>\n",
       "      <td>0.0</td>\n",
       "      <td>0.0</td>\n",
       "    </tr>\n",
       "    <tr>\n",
       "      <th>mean</th>\n",
       "      <td>6.831319e+05</td>\n",
       "      <td>8.504636e+05</td>\n",
       "      <td>11219.443815</td>\n",
       "      <td>10947.713196</td>\n",
       "      <td>10397.448868</td>\n",
       "      <td>324.561922</td>\n",
       "      <td>6.896893e+04</td>\n",
       "      <td>13.315130</td>\n",
       "      <td>0.146512</td>\n",
       "      <td>0.869200</td>\n",
       "      <td>35.900962</td>\n",
       "      <td>69.698134</td>\n",
       "      <td>9.294408</td>\n",
       "      <td>0.055065</td>\n",
       "      <td>13382.528086</td>\n",
       "      <td>22.088828</td>\n",
       "      <td>51.227887</td>\n",
       "      <td>50.989768</td>\n",
       "      <td>12153.596544</td>\n",
       "      <td>11567.149118</td>\n",
       "      <td>9793.348813</td>\n",
       "      <td>2263.663172</td>\n",
       "      <td>1.363015</td>\n",
       "      <td>95.221624</td>\n",
       "      <td>12.406112</td>\n",
       "      <td>2678.826162</td>\n",
       "      <td>0.0</td>\n",
       "      <td>NaN</td>\n",
       "      <td>1.0</td>\n",
       "      <td>NaN</td>\n",
       "      <td>NaN</td>\n",
       "      <td>NaN</td>\n",
       "      <td>0.0</td>\n",
       "      <td>NaN</td>\n",
       "      <td>NaN</td>\n",
       "      <td>NaN</td>\n",
       "      <td>NaN</td>\n",
       "      <td>NaN</td>\n",
       "      <td>NaN</td>\n",
       "      <td>NaN</td>\n",
       "      <td>NaN</td>\n",
       "      <td>NaN</td>\n",
       "      <td>NaN</td>\n",
       "      <td>NaN</td>\n",
       "      <td>NaN</td>\n",
       "      <td>NaN</td>\n",
       "      <td>NaN</td>\n",
       "      <td>NaN</td>\n",
       "      <td>NaN</td>\n",
       "      <td>NaN</td>\n",
       "      <td>NaN</td>\n",
       "      <td>NaN</td>\n",
       "      <td>NaN</td>\n",
       "      <td>NaN</td>\n",
       "      <td>0.0</td>\n",
       "      <td>0.0</td>\n",
       "      <td>NaN</td>\n",
       "      <td>NaN</td>\n",
       "      <td>NaN</td>\n",
       "      <td>NaN</td>\n",
       "      <td>NaN</td>\n",
       "      <td>NaN</td>\n",
       "      <td>NaN</td>\n",
       "      <td>NaN</td>\n",
       "      <td>NaN</td>\n",
       "      <td>NaN</td>\n",
       "      <td>NaN</td>\n",
       "      <td>NaN</td>\n",
       "      <td>NaN</td>\n",
       "      <td>NaN</td>\n",
       "      <td>NaN</td>\n",
       "      <td>NaN</td>\n",
       "      <td>NaN</td>\n",
       "      <td>NaN</td>\n",
       "      <td>NaN</td>\n",
       "      <td>NaN</td>\n",
       "      <td>NaN</td>\n",
       "      <td>NaN</td>\n",
       "      <td>NaN</td>\n",
       "      <td>NaN</td>\n",
       "      <td>NaN</td>\n",
       "      <td>0.043260</td>\n",
       "      <td>0.0</td>\n",
       "      <td>NaN</td>\n",
       "      <td>NaN</td>\n",
       "      <td>NaN</td>\n",
       "      <td>NaN</td>\n",
       "    </tr>\n",
       "    <tr>\n",
       "      <th>std</th>\n",
       "      <td>2.106941e+05</td>\n",
       "      <td>2.656783e+05</td>\n",
       "      <td>7456.670694</td>\n",
       "      <td>7187.238670</td>\n",
       "      <td>7128.450439</td>\n",
       "      <td>208.874874</td>\n",
       "      <td>6.379377e+04</td>\n",
       "      <td>6.678594</td>\n",
       "      <td>0.491812</td>\n",
       "      <td>1.070219</td>\n",
       "      <td>22.020060</td>\n",
       "      <td>43.822529</td>\n",
       "      <td>4.400282</td>\n",
       "      <td>0.237200</td>\n",
       "      <td>15885.016641</td>\n",
       "      <td>11.401709</td>\n",
       "      <td>375.172839</td>\n",
       "      <td>373.824457</td>\n",
       "      <td>9042.040766</td>\n",
       "      <td>8942.672613</td>\n",
       "      <td>7065.522127</td>\n",
       "      <td>2608.111964</td>\n",
       "      <td>7.289979</td>\n",
       "      <td>688.744771</td>\n",
       "      <td>148.671593</td>\n",
       "      <td>4447.136012</td>\n",
       "      <td>0.0</td>\n",
       "      <td>NaN</td>\n",
       "      <td>0.0</td>\n",
       "      <td>NaN</td>\n",
       "      <td>NaN</td>\n",
       "      <td>NaN</td>\n",
       "      <td>0.0</td>\n",
       "      <td>NaN</td>\n",
       "      <td>NaN</td>\n",
       "      <td>NaN</td>\n",
       "      <td>NaN</td>\n",
       "      <td>NaN</td>\n",
       "      <td>NaN</td>\n",
       "      <td>NaN</td>\n",
       "      <td>NaN</td>\n",
       "      <td>NaN</td>\n",
       "      <td>NaN</td>\n",
       "      <td>NaN</td>\n",
       "      <td>NaN</td>\n",
       "      <td>NaN</td>\n",
       "      <td>NaN</td>\n",
       "      <td>NaN</td>\n",
       "      <td>NaN</td>\n",
       "      <td>NaN</td>\n",
       "      <td>NaN</td>\n",
       "      <td>NaN</td>\n",
       "      <td>NaN</td>\n",
       "      <td>NaN</td>\n",
       "      <td>0.0</td>\n",
       "      <td>0.0</td>\n",
       "      <td>NaN</td>\n",
       "      <td>NaN</td>\n",
       "      <td>NaN</td>\n",
       "      <td>NaN</td>\n",
       "      <td>NaN</td>\n",
       "      <td>NaN</td>\n",
       "      <td>NaN</td>\n",
       "      <td>NaN</td>\n",
       "      <td>NaN</td>\n",
       "      <td>NaN</td>\n",
       "      <td>NaN</td>\n",
       "      <td>NaN</td>\n",
       "      <td>NaN</td>\n",
       "      <td>NaN</td>\n",
       "      <td>NaN</td>\n",
       "      <td>NaN</td>\n",
       "      <td>NaN</td>\n",
       "      <td>NaN</td>\n",
       "      <td>NaN</td>\n",
       "      <td>NaN</td>\n",
       "      <td>NaN</td>\n",
       "      <td>NaN</td>\n",
       "      <td>NaN</td>\n",
       "      <td>NaN</td>\n",
       "      <td>NaN</td>\n",
       "      <td>0.204324</td>\n",
       "      <td>0.0</td>\n",
       "      <td>NaN</td>\n",
       "      <td>NaN</td>\n",
       "      <td>NaN</td>\n",
       "      <td>NaN</td>\n",
       "    </tr>\n",
       "    <tr>\n",
       "      <th>min</th>\n",
       "      <td>5.473400e+04</td>\n",
       "      <td>7.069900e+04</td>\n",
       "      <td>500.000000</td>\n",
       "      <td>500.000000</td>\n",
       "      <td>0.000000</td>\n",
       "      <td>15.690000</td>\n",
       "      <td>4.000000e+03</td>\n",
       "      <td>0.000000</td>\n",
       "      <td>0.000000</td>\n",
       "      <td>0.000000</td>\n",
       "      <td>0.000000</td>\n",
       "      <td>0.000000</td>\n",
       "      <td>2.000000</td>\n",
       "      <td>0.000000</td>\n",
       "      <td>0.000000</td>\n",
       "      <td>2.000000</td>\n",
       "      <td>0.000000</td>\n",
       "      <td>0.000000</td>\n",
       "      <td>0.000000</td>\n",
       "      <td>0.000000</td>\n",
       "      <td>0.000000</td>\n",
       "      <td>0.000000</td>\n",
       "      <td>0.000000</td>\n",
       "      <td>0.000000</td>\n",
       "      <td>0.000000</td>\n",
       "      <td>0.000000</td>\n",
       "      <td>0.0</td>\n",
       "      <td>NaN</td>\n",
       "      <td>1.0</td>\n",
       "      <td>NaN</td>\n",
       "      <td>NaN</td>\n",
       "      <td>NaN</td>\n",
       "      <td>0.0</td>\n",
       "      <td>NaN</td>\n",
       "      <td>NaN</td>\n",
       "      <td>NaN</td>\n",
       "      <td>NaN</td>\n",
       "      <td>NaN</td>\n",
       "      <td>NaN</td>\n",
       "      <td>NaN</td>\n",
       "      <td>NaN</td>\n",
       "      <td>NaN</td>\n",
       "      <td>NaN</td>\n",
       "      <td>NaN</td>\n",
       "      <td>NaN</td>\n",
       "      <td>NaN</td>\n",
       "      <td>NaN</td>\n",
       "      <td>NaN</td>\n",
       "      <td>NaN</td>\n",
       "      <td>NaN</td>\n",
       "      <td>NaN</td>\n",
       "      <td>NaN</td>\n",
       "      <td>NaN</td>\n",
       "      <td>NaN</td>\n",
       "      <td>0.0</td>\n",
       "      <td>0.0</td>\n",
       "      <td>NaN</td>\n",
       "      <td>NaN</td>\n",
       "      <td>NaN</td>\n",
       "      <td>NaN</td>\n",
       "      <td>NaN</td>\n",
       "      <td>NaN</td>\n",
       "      <td>NaN</td>\n",
       "      <td>NaN</td>\n",
       "      <td>NaN</td>\n",
       "      <td>NaN</td>\n",
       "      <td>NaN</td>\n",
       "      <td>NaN</td>\n",
       "      <td>NaN</td>\n",
       "      <td>NaN</td>\n",
       "      <td>NaN</td>\n",
       "      <td>NaN</td>\n",
       "      <td>NaN</td>\n",
       "      <td>NaN</td>\n",
       "      <td>NaN</td>\n",
       "      <td>NaN</td>\n",
       "      <td>NaN</td>\n",
       "      <td>NaN</td>\n",
       "      <td>NaN</td>\n",
       "      <td>NaN</td>\n",
       "      <td>NaN</td>\n",
       "      <td>0.000000</td>\n",
       "      <td>0.0</td>\n",
       "      <td>NaN</td>\n",
       "      <td>NaN</td>\n",
       "      <td>NaN</td>\n",
       "      <td>NaN</td>\n",
       "    </tr>\n",
       "    <tr>\n",
       "      <th>25%</th>\n",
       "      <td>5.162210e+05</td>\n",
       "      <td>6.667800e+05</td>\n",
       "      <td>5500.000000</td>\n",
       "      <td>5400.000000</td>\n",
       "      <td>5000.000000</td>\n",
       "      <td>167.020000</td>\n",
       "      <td>4.040400e+04</td>\n",
       "      <td>8.170000</td>\n",
       "      <td>0.000000</td>\n",
       "      <td>0.000000</td>\n",
       "      <td>18.000000</td>\n",
       "      <td>22.000000</td>\n",
       "      <td>6.000000</td>\n",
       "      <td>0.000000</td>\n",
       "      <td>3703.000000</td>\n",
       "      <td>13.000000</td>\n",
       "      <td>0.000000</td>\n",
       "      <td>0.000000</td>\n",
       "      <td>5576.930000</td>\n",
       "      <td>5112.310000</td>\n",
       "      <td>4600.000000</td>\n",
       "      <td>662.180000</td>\n",
       "      <td>0.000000</td>\n",
       "      <td>0.000000</td>\n",
       "      <td>0.000000</td>\n",
       "      <td>218.680000</td>\n",
       "      <td>0.0</td>\n",
       "      <td>NaN</td>\n",
       "      <td>1.0</td>\n",
       "      <td>NaN</td>\n",
       "      <td>NaN</td>\n",
       "      <td>NaN</td>\n",
       "      <td>0.0</td>\n",
       "      <td>NaN</td>\n",
       "      <td>NaN</td>\n",
       "      <td>NaN</td>\n",
       "      <td>NaN</td>\n",
       "      <td>NaN</td>\n",
       "      <td>NaN</td>\n",
       "      <td>NaN</td>\n",
       "      <td>NaN</td>\n",
       "      <td>NaN</td>\n",
       "      <td>NaN</td>\n",
       "      <td>NaN</td>\n",
       "      <td>NaN</td>\n",
       "      <td>NaN</td>\n",
       "      <td>NaN</td>\n",
       "      <td>NaN</td>\n",
       "      <td>NaN</td>\n",
       "      <td>NaN</td>\n",
       "      <td>NaN</td>\n",
       "      <td>NaN</td>\n",
       "      <td>NaN</td>\n",
       "      <td>NaN</td>\n",
       "      <td>0.0</td>\n",
       "      <td>0.0</td>\n",
       "      <td>NaN</td>\n",
       "      <td>NaN</td>\n",
       "      <td>NaN</td>\n",
       "      <td>NaN</td>\n",
       "      <td>NaN</td>\n",
       "      <td>NaN</td>\n",
       "      <td>NaN</td>\n",
       "      <td>NaN</td>\n",
       "      <td>NaN</td>\n",
       "      <td>NaN</td>\n",
       "      <td>NaN</td>\n",
       "      <td>NaN</td>\n",
       "      <td>NaN</td>\n",
       "      <td>NaN</td>\n",
       "      <td>NaN</td>\n",
       "      <td>NaN</td>\n",
       "      <td>NaN</td>\n",
       "      <td>NaN</td>\n",
       "      <td>NaN</td>\n",
       "      <td>NaN</td>\n",
       "      <td>NaN</td>\n",
       "      <td>NaN</td>\n",
       "      <td>NaN</td>\n",
       "      <td>NaN</td>\n",
       "      <td>NaN</td>\n",
       "      <td>0.000000</td>\n",
       "      <td>0.0</td>\n",
       "      <td>NaN</td>\n",
       "      <td>NaN</td>\n",
       "      <td>NaN</td>\n",
       "      <td>NaN</td>\n",
       "    </tr>\n",
       "    <tr>\n",
       "      <th>50%</th>\n",
       "      <td>6.656650e+05</td>\n",
       "      <td>8.508120e+05</td>\n",
       "      <td>10000.000000</td>\n",
       "      <td>9600.000000</td>\n",
       "      <td>8975.000000</td>\n",
       "      <td>280.220000</td>\n",
       "      <td>5.900000e+04</td>\n",
       "      <td>13.400000</td>\n",
       "      <td>0.000000</td>\n",
       "      <td>1.000000</td>\n",
       "      <td>34.000000</td>\n",
       "      <td>90.000000</td>\n",
       "      <td>9.000000</td>\n",
       "      <td>0.000000</td>\n",
       "      <td>8850.000000</td>\n",
       "      <td>20.000000</td>\n",
       "      <td>0.000000</td>\n",
       "      <td>0.000000</td>\n",
       "      <td>9899.640319</td>\n",
       "      <td>9287.150000</td>\n",
       "      <td>8000.000000</td>\n",
       "      <td>1348.910000</td>\n",
       "      <td>0.000000</td>\n",
       "      <td>0.000000</td>\n",
       "      <td>0.000000</td>\n",
       "      <td>546.140000</td>\n",
       "      <td>0.0</td>\n",
       "      <td>NaN</td>\n",
       "      <td>1.0</td>\n",
       "      <td>NaN</td>\n",
       "      <td>NaN</td>\n",
       "      <td>NaN</td>\n",
       "      <td>0.0</td>\n",
       "      <td>NaN</td>\n",
       "      <td>NaN</td>\n",
       "      <td>NaN</td>\n",
       "      <td>NaN</td>\n",
       "      <td>NaN</td>\n",
       "      <td>NaN</td>\n",
       "      <td>NaN</td>\n",
       "      <td>NaN</td>\n",
       "      <td>NaN</td>\n",
       "      <td>NaN</td>\n",
       "      <td>NaN</td>\n",
       "      <td>NaN</td>\n",
       "      <td>NaN</td>\n",
       "      <td>NaN</td>\n",
       "      <td>NaN</td>\n",
       "      <td>NaN</td>\n",
       "      <td>NaN</td>\n",
       "      <td>NaN</td>\n",
       "      <td>NaN</td>\n",
       "      <td>NaN</td>\n",
       "      <td>NaN</td>\n",
       "      <td>0.0</td>\n",
       "      <td>0.0</td>\n",
       "      <td>NaN</td>\n",
       "      <td>NaN</td>\n",
       "      <td>NaN</td>\n",
       "      <td>NaN</td>\n",
       "      <td>NaN</td>\n",
       "      <td>NaN</td>\n",
       "      <td>NaN</td>\n",
       "      <td>NaN</td>\n",
       "      <td>NaN</td>\n",
       "      <td>NaN</td>\n",
       "      <td>NaN</td>\n",
       "      <td>NaN</td>\n",
       "      <td>NaN</td>\n",
       "      <td>NaN</td>\n",
       "      <td>NaN</td>\n",
       "      <td>NaN</td>\n",
       "      <td>NaN</td>\n",
       "      <td>NaN</td>\n",
       "      <td>NaN</td>\n",
       "      <td>NaN</td>\n",
       "      <td>NaN</td>\n",
       "      <td>NaN</td>\n",
       "      <td>NaN</td>\n",
       "      <td>NaN</td>\n",
       "      <td>NaN</td>\n",
       "      <td>0.000000</td>\n",
       "      <td>0.0</td>\n",
       "      <td>NaN</td>\n",
       "      <td>NaN</td>\n",
       "      <td>NaN</td>\n",
       "      <td>NaN</td>\n",
       "    </tr>\n",
       "    <tr>\n",
       "      <th>75%</th>\n",
       "      <td>8.377550e+05</td>\n",
       "      <td>1.047339e+06</td>\n",
       "      <td>15000.000000</td>\n",
       "      <td>15000.000000</td>\n",
       "      <td>14400.000000</td>\n",
       "      <td>430.780000</td>\n",
       "      <td>8.230000e+04</td>\n",
       "      <td>18.600000</td>\n",
       "      <td>0.000000</td>\n",
       "      <td>1.000000</td>\n",
       "      <td>52.000000</td>\n",
       "      <td>104.000000</td>\n",
       "      <td>12.000000</td>\n",
       "      <td>0.000000</td>\n",
       "      <td>17058.000000</td>\n",
       "      <td>29.000000</td>\n",
       "      <td>0.000000</td>\n",
       "      <td>0.000000</td>\n",
       "      <td>16534.433040</td>\n",
       "      <td>15798.810000</td>\n",
       "      <td>13653.260000</td>\n",
       "      <td>2833.400000</td>\n",
       "      <td>0.000000</td>\n",
       "      <td>0.000000</td>\n",
       "      <td>0.000000</td>\n",
       "      <td>3293.160000</td>\n",
       "      <td>0.0</td>\n",
       "      <td>NaN</td>\n",
       "      <td>1.0</td>\n",
       "      <td>NaN</td>\n",
       "      <td>NaN</td>\n",
       "      <td>NaN</td>\n",
       "      <td>0.0</td>\n",
       "      <td>NaN</td>\n",
       "      <td>NaN</td>\n",
       "      <td>NaN</td>\n",
       "      <td>NaN</td>\n",
       "      <td>NaN</td>\n",
       "      <td>NaN</td>\n",
       "      <td>NaN</td>\n",
       "      <td>NaN</td>\n",
       "      <td>NaN</td>\n",
       "      <td>NaN</td>\n",
       "      <td>NaN</td>\n",
       "      <td>NaN</td>\n",
       "      <td>NaN</td>\n",
       "      <td>NaN</td>\n",
       "      <td>NaN</td>\n",
       "      <td>NaN</td>\n",
       "      <td>NaN</td>\n",
       "      <td>NaN</td>\n",
       "      <td>NaN</td>\n",
       "      <td>NaN</td>\n",
       "      <td>NaN</td>\n",
       "      <td>0.0</td>\n",
       "      <td>0.0</td>\n",
       "      <td>NaN</td>\n",
       "      <td>NaN</td>\n",
       "      <td>NaN</td>\n",
       "      <td>NaN</td>\n",
       "      <td>NaN</td>\n",
       "      <td>NaN</td>\n",
       "      <td>NaN</td>\n",
       "      <td>NaN</td>\n",
       "      <td>NaN</td>\n",
       "      <td>NaN</td>\n",
       "      <td>NaN</td>\n",
       "      <td>NaN</td>\n",
       "      <td>NaN</td>\n",
       "      <td>NaN</td>\n",
       "      <td>NaN</td>\n",
       "      <td>NaN</td>\n",
       "      <td>NaN</td>\n",
       "      <td>NaN</td>\n",
       "      <td>NaN</td>\n",
       "      <td>NaN</td>\n",
       "      <td>NaN</td>\n",
       "      <td>NaN</td>\n",
       "      <td>NaN</td>\n",
       "      <td>NaN</td>\n",
       "      <td>NaN</td>\n",
       "      <td>0.000000</td>\n",
       "      <td>0.0</td>\n",
       "      <td>NaN</td>\n",
       "      <td>NaN</td>\n",
       "      <td>NaN</td>\n",
       "      <td>NaN</td>\n",
       "    </tr>\n",
       "    <tr>\n",
       "      <th>max</th>\n",
       "      <td>1.077501e+06</td>\n",
       "      <td>1.314167e+06</td>\n",
       "      <td>35000.000000</td>\n",
       "      <td>35000.000000</td>\n",
       "      <td>35000.000000</td>\n",
       "      <td>1305.190000</td>\n",
       "      <td>6.000000e+06</td>\n",
       "      <td>29.990000</td>\n",
       "      <td>11.000000</td>\n",
       "      <td>8.000000</td>\n",
       "      <td>120.000000</td>\n",
       "      <td>129.000000</td>\n",
       "      <td>44.000000</td>\n",
       "      <td>4.000000</td>\n",
       "      <td>149588.000000</td>\n",
       "      <td>90.000000</td>\n",
       "      <td>6311.470000</td>\n",
       "      <td>6307.370000</td>\n",
       "      <td>58563.679930</td>\n",
       "      <td>58563.680000</td>\n",
       "      <td>35000.020000</td>\n",
       "      <td>23563.680000</td>\n",
       "      <td>180.200000</td>\n",
       "      <td>29623.350000</td>\n",
       "      <td>7002.190000</td>\n",
       "      <td>36115.200000</td>\n",
       "      <td>0.0</td>\n",
       "      <td>NaN</td>\n",
       "      <td>1.0</td>\n",
       "      <td>NaN</td>\n",
       "      <td>NaN</td>\n",
       "      <td>NaN</td>\n",
       "      <td>0.0</td>\n",
       "      <td>NaN</td>\n",
       "      <td>NaN</td>\n",
       "      <td>NaN</td>\n",
       "      <td>NaN</td>\n",
       "      <td>NaN</td>\n",
       "      <td>NaN</td>\n",
       "      <td>NaN</td>\n",
       "      <td>NaN</td>\n",
       "      <td>NaN</td>\n",
       "      <td>NaN</td>\n",
       "      <td>NaN</td>\n",
       "      <td>NaN</td>\n",
       "      <td>NaN</td>\n",
       "      <td>NaN</td>\n",
       "      <td>NaN</td>\n",
       "      <td>NaN</td>\n",
       "      <td>NaN</td>\n",
       "      <td>NaN</td>\n",
       "      <td>NaN</td>\n",
       "      <td>NaN</td>\n",
       "      <td>NaN</td>\n",
       "      <td>0.0</td>\n",
       "      <td>0.0</td>\n",
       "      <td>NaN</td>\n",
       "      <td>NaN</td>\n",
       "      <td>NaN</td>\n",
       "      <td>NaN</td>\n",
       "      <td>NaN</td>\n",
       "      <td>NaN</td>\n",
       "      <td>NaN</td>\n",
       "      <td>NaN</td>\n",
       "      <td>NaN</td>\n",
       "      <td>NaN</td>\n",
       "      <td>NaN</td>\n",
       "      <td>NaN</td>\n",
       "      <td>NaN</td>\n",
       "      <td>NaN</td>\n",
       "      <td>NaN</td>\n",
       "      <td>NaN</td>\n",
       "      <td>NaN</td>\n",
       "      <td>NaN</td>\n",
       "      <td>NaN</td>\n",
       "      <td>NaN</td>\n",
       "      <td>NaN</td>\n",
       "      <td>NaN</td>\n",
       "      <td>NaN</td>\n",
       "      <td>NaN</td>\n",
       "      <td>NaN</td>\n",
       "      <td>2.000000</td>\n",
       "      <td>0.0</td>\n",
       "      <td>NaN</td>\n",
       "      <td>NaN</td>\n",
       "      <td>NaN</td>\n",
       "      <td>NaN</td>\n",
       "    </tr>\n",
       "  </tbody>\n",
       "</table>\n",
       "</div>"
      ],
      "text/plain": [
       "                 id     member_id     loan_amnt   funded_amnt  \\\n",
       "count  3.971700e+04  3.971700e+04  39717.000000  39717.000000   \n",
       "mean   6.831319e+05  8.504636e+05  11219.443815  10947.713196   \n",
       "std    2.106941e+05  2.656783e+05   7456.670694   7187.238670   \n",
       "min    5.473400e+04  7.069900e+04    500.000000    500.000000   \n",
       "25%    5.162210e+05  6.667800e+05   5500.000000   5400.000000   \n",
       "50%    6.656650e+05  8.508120e+05  10000.000000   9600.000000   \n",
       "75%    8.377550e+05  1.047339e+06  15000.000000  15000.000000   \n",
       "max    1.077501e+06  1.314167e+06  35000.000000  35000.000000   \n",
       "\n",
       "       funded_amnt_inv   installment    annual_inc           dti  \\\n",
       "count     39717.000000  39717.000000  3.971700e+04  39717.000000   \n",
       "mean      10397.448868    324.561922  6.896893e+04     13.315130   \n",
       "std        7128.450439    208.874874  6.379377e+04      6.678594   \n",
       "min           0.000000     15.690000  4.000000e+03      0.000000   \n",
       "25%        5000.000000    167.020000  4.040400e+04      8.170000   \n",
       "50%        8975.000000    280.220000  5.900000e+04     13.400000   \n",
       "75%       14400.000000    430.780000  8.230000e+04     18.600000   \n",
       "max       35000.000000   1305.190000  6.000000e+06     29.990000   \n",
       "\n",
       "        delinq_2yrs  inq_last_6mths  mths_since_last_delinq  \\\n",
       "count  39717.000000    39717.000000            14035.000000   \n",
       "mean       0.146512        0.869200               35.900962   \n",
       "std        0.491812        1.070219               22.020060   \n",
       "min        0.000000        0.000000                0.000000   \n",
       "25%        0.000000        0.000000               18.000000   \n",
       "50%        0.000000        1.000000               34.000000   \n",
       "75%        0.000000        1.000000               52.000000   \n",
       "max       11.000000        8.000000              120.000000   \n",
       "\n",
       "       mths_since_last_record      open_acc       pub_rec      revol_bal  \\\n",
       "count             2786.000000  39717.000000  39717.000000   39717.000000   \n",
       "mean                69.698134      9.294408      0.055065   13382.528086   \n",
       "std                 43.822529      4.400282      0.237200   15885.016641   \n",
       "min                  0.000000      2.000000      0.000000       0.000000   \n",
       "25%                 22.000000      6.000000      0.000000    3703.000000   \n",
       "50%                 90.000000      9.000000      0.000000    8850.000000   \n",
       "75%                104.000000     12.000000      0.000000   17058.000000   \n",
       "max                129.000000     44.000000      4.000000  149588.000000   \n",
       "\n",
       "          total_acc     out_prncp  out_prncp_inv   total_pymnt  \\\n",
       "count  39717.000000  39717.000000   39717.000000  39717.000000   \n",
       "mean      22.088828     51.227887      50.989768  12153.596544   \n",
       "std       11.401709    375.172839     373.824457   9042.040766   \n",
       "min        2.000000      0.000000       0.000000      0.000000   \n",
       "25%       13.000000      0.000000       0.000000   5576.930000   \n",
       "50%       20.000000      0.000000       0.000000   9899.640319   \n",
       "75%       29.000000      0.000000       0.000000  16534.433040   \n",
       "max       90.000000   6311.470000    6307.370000  58563.679930   \n",
       "\n",
       "       total_pymnt_inv  total_rec_prncp  total_rec_int  total_rec_late_fee  \\\n",
       "count     39717.000000     39717.000000   39717.000000        39717.000000   \n",
       "mean      11567.149118      9793.348813    2263.663172            1.363015   \n",
       "std        8942.672613      7065.522127    2608.111964            7.289979   \n",
       "min           0.000000         0.000000       0.000000            0.000000   \n",
       "25%        5112.310000      4600.000000     662.180000            0.000000   \n",
       "50%        9287.150000      8000.000000    1348.910000            0.000000   \n",
       "75%       15798.810000     13653.260000    2833.400000            0.000000   \n",
       "max       58563.680000     35000.020000   23563.680000          180.200000   \n",
       "\n",
       "         recoveries  collection_recovery_fee  last_pymnt_amnt  \\\n",
       "count  39717.000000             39717.000000     39717.000000   \n",
       "mean      95.221624                12.406112      2678.826162   \n",
       "std      688.744771               148.671593      4447.136012   \n",
       "min        0.000000                 0.000000         0.000000   \n",
       "25%        0.000000                 0.000000       218.680000   \n",
       "50%        0.000000                 0.000000       546.140000   \n",
       "75%        0.000000                 0.000000      3293.160000   \n",
       "max    29623.350000              7002.190000     36115.200000   \n",
       "\n",
       "       collections_12_mths_ex_med  mths_since_last_major_derog  policy_code  \\\n",
       "count                     39661.0                          0.0      39717.0   \n",
       "mean                          0.0                          NaN          1.0   \n",
       "std                           0.0                          NaN          0.0   \n",
       "min                           0.0                          NaN          1.0   \n",
       "25%                           0.0                          NaN          1.0   \n",
       "50%                           0.0                          NaN          1.0   \n",
       "75%                           0.0                          NaN          1.0   \n",
       "max                           0.0                          NaN          1.0   \n",
       "\n",
       "       annual_inc_joint  dti_joint  verification_status_joint  acc_now_delinq  \\\n",
       "count               0.0        0.0                        0.0         39717.0   \n",
       "mean                NaN        NaN                        NaN             0.0   \n",
       "std                 NaN        NaN                        NaN             0.0   \n",
       "min                 NaN        NaN                        NaN             0.0   \n",
       "25%                 NaN        NaN                        NaN             0.0   \n",
       "50%                 NaN        NaN                        NaN             0.0   \n",
       "75%                 NaN        NaN                        NaN             0.0   \n",
       "max                 NaN        NaN                        NaN             0.0   \n",
       "\n",
       "       tot_coll_amt  tot_cur_bal  open_acc_6m  open_il_6m  open_il_12m  \\\n",
       "count           0.0          0.0          0.0         0.0          0.0   \n",
       "mean            NaN          NaN          NaN         NaN          NaN   \n",
       "std             NaN          NaN          NaN         NaN          NaN   \n",
       "min             NaN          NaN          NaN         NaN          NaN   \n",
       "25%             NaN          NaN          NaN         NaN          NaN   \n",
       "50%             NaN          NaN          NaN         NaN          NaN   \n",
       "75%             NaN          NaN          NaN         NaN          NaN   \n",
       "max             NaN          NaN          NaN         NaN          NaN   \n",
       "\n",
       "       open_il_24m  mths_since_rcnt_il  total_bal_il  il_util  open_rv_12m  \\\n",
       "count          0.0                 0.0           0.0      0.0          0.0   \n",
       "mean           NaN                 NaN           NaN      NaN          NaN   \n",
       "std            NaN                 NaN           NaN      NaN          NaN   \n",
       "min            NaN                 NaN           NaN      NaN          NaN   \n",
       "25%            NaN                 NaN           NaN      NaN          NaN   \n",
       "50%            NaN                 NaN           NaN      NaN          NaN   \n",
       "75%            NaN                 NaN           NaN      NaN          NaN   \n",
       "max            NaN                 NaN           NaN      NaN          NaN   \n",
       "\n",
       "       open_rv_24m  max_bal_bc  all_util  total_rev_hi_lim  inq_fi  \\\n",
       "count          0.0         0.0       0.0               0.0     0.0   \n",
       "mean           NaN         NaN       NaN               NaN     NaN   \n",
       "std            NaN         NaN       NaN               NaN     NaN   \n",
       "min            NaN         NaN       NaN               NaN     NaN   \n",
       "25%            NaN         NaN       NaN               NaN     NaN   \n",
       "50%            NaN         NaN       NaN               NaN     NaN   \n",
       "75%            NaN         NaN       NaN               NaN     NaN   \n",
       "max            NaN         NaN       NaN               NaN     NaN   \n",
       "\n",
       "       total_cu_tl  inq_last_12m  acc_open_past_24mths  avg_cur_bal  \\\n",
       "count          0.0           0.0                   0.0          0.0   \n",
       "mean           NaN           NaN                   NaN          NaN   \n",
       "std            NaN           NaN                   NaN          NaN   \n",
       "min            NaN           NaN                   NaN          NaN   \n",
       "25%            NaN           NaN                   NaN          NaN   \n",
       "50%            NaN           NaN                   NaN          NaN   \n",
       "75%            NaN           NaN                   NaN          NaN   \n",
       "max            NaN           NaN                   NaN          NaN   \n",
       "\n",
       "       bc_open_to_buy  bc_util  chargeoff_within_12_mths  delinq_amnt  \\\n",
       "count             0.0      0.0                   39661.0      39717.0   \n",
       "mean              NaN      NaN                       0.0          0.0   \n",
       "std               NaN      NaN                       0.0          0.0   \n",
       "min               NaN      NaN                       0.0          0.0   \n",
       "25%               NaN      NaN                       0.0          0.0   \n",
       "50%               NaN      NaN                       0.0          0.0   \n",
       "75%               NaN      NaN                       0.0          0.0   \n",
       "max               NaN      NaN                       0.0          0.0   \n",
       "\n",
       "       mo_sin_old_il_acct  mo_sin_old_rev_tl_op  mo_sin_rcnt_rev_tl_op  \\\n",
       "count                 0.0                   0.0                    0.0   \n",
       "mean                  NaN                   NaN                    NaN   \n",
       "std                   NaN                   NaN                    NaN   \n",
       "min                   NaN                   NaN                    NaN   \n",
       "25%                   NaN                   NaN                    NaN   \n",
       "50%                   NaN                   NaN                    NaN   \n",
       "75%                   NaN                   NaN                    NaN   \n",
       "max                   NaN                   NaN                    NaN   \n",
       "\n",
       "       mo_sin_rcnt_tl  mort_acc  mths_since_recent_bc  \\\n",
       "count             0.0       0.0                   0.0   \n",
       "mean              NaN       NaN                   NaN   \n",
       "std               NaN       NaN                   NaN   \n",
       "min               NaN       NaN                   NaN   \n",
       "25%               NaN       NaN                   NaN   \n",
       "50%               NaN       NaN                   NaN   \n",
       "75%               NaN       NaN                   NaN   \n",
       "max               NaN       NaN                   NaN   \n",
       "\n",
       "       mths_since_recent_bc_dlq  mths_since_recent_inq  \\\n",
       "count                       0.0                    0.0   \n",
       "mean                        NaN                    NaN   \n",
       "std                         NaN                    NaN   \n",
       "min                         NaN                    NaN   \n",
       "25%                         NaN                    NaN   \n",
       "50%                         NaN                    NaN   \n",
       "75%                         NaN                    NaN   \n",
       "max                         NaN                    NaN   \n",
       "\n",
       "       mths_since_recent_revol_delinq  num_accts_ever_120_pd  num_actv_bc_tl  \\\n",
       "count                             0.0                    0.0             0.0   \n",
       "mean                              NaN                    NaN             NaN   \n",
       "std                               NaN                    NaN             NaN   \n",
       "min                               NaN                    NaN             NaN   \n",
       "25%                               NaN                    NaN             NaN   \n",
       "50%                               NaN                    NaN             NaN   \n",
       "75%                               NaN                    NaN             NaN   \n",
       "max                               NaN                    NaN             NaN   \n",
       "\n",
       "       num_actv_rev_tl  num_bc_sats  num_bc_tl  num_il_tl  num_op_rev_tl  \\\n",
       "count              0.0          0.0        0.0        0.0            0.0   \n",
       "mean               NaN          NaN        NaN        NaN            NaN   \n",
       "std                NaN          NaN        NaN        NaN            NaN   \n",
       "min                NaN          NaN        NaN        NaN            NaN   \n",
       "25%                NaN          NaN        NaN        NaN            NaN   \n",
       "50%                NaN          NaN        NaN        NaN            NaN   \n",
       "75%                NaN          NaN        NaN        NaN            NaN   \n",
       "max                NaN          NaN        NaN        NaN            NaN   \n",
       "\n",
       "       num_rev_accts  num_rev_tl_bal_gt_0  num_sats  num_tl_120dpd_2m  \\\n",
       "count            0.0                  0.0       0.0               0.0   \n",
       "mean             NaN                  NaN       NaN               NaN   \n",
       "std              NaN                  NaN       NaN               NaN   \n",
       "min              NaN                  NaN       NaN               NaN   \n",
       "25%              NaN                  NaN       NaN               NaN   \n",
       "50%              NaN                  NaN       NaN               NaN   \n",
       "75%              NaN                  NaN       NaN               NaN   \n",
       "max              NaN                  NaN       NaN               NaN   \n",
       "\n",
       "       num_tl_30dpd  num_tl_90g_dpd_24m  num_tl_op_past_12m  pct_tl_nvr_dlq  \\\n",
       "count           0.0                 0.0                 0.0             0.0   \n",
       "mean            NaN                 NaN                 NaN             NaN   \n",
       "std             NaN                 NaN                 NaN             NaN   \n",
       "min             NaN                 NaN                 NaN             NaN   \n",
       "25%             NaN                 NaN                 NaN             NaN   \n",
       "50%             NaN                 NaN                 NaN             NaN   \n",
       "75%             NaN                 NaN                 NaN             NaN   \n",
       "max             NaN                 NaN                 NaN             NaN   \n",
       "\n",
       "       percent_bc_gt_75  pub_rec_bankruptcies  tax_liens  tot_hi_cred_lim  \\\n",
       "count               0.0          39020.000000    39678.0              0.0   \n",
       "mean                NaN              0.043260        0.0              NaN   \n",
       "std                 NaN              0.204324        0.0              NaN   \n",
       "min                 NaN              0.000000        0.0              NaN   \n",
       "25%                 NaN              0.000000        0.0              NaN   \n",
       "50%                 NaN              0.000000        0.0              NaN   \n",
       "75%                 NaN              0.000000        0.0              NaN   \n",
       "max                 NaN              2.000000        0.0              NaN   \n",
       "\n",
       "       total_bal_ex_mort  total_bc_limit  total_il_high_credit_limit  \n",
       "count                0.0             0.0                         0.0  \n",
       "mean                 NaN             NaN                         NaN  \n",
       "std                  NaN             NaN                         NaN  \n",
       "min                  NaN             NaN                         NaN  \n",
       "25%                  NaN             NaN                         NaN  \n",
       "50%                  NaN             NaN                         NaN  \n",
       "75%                  NaN             NaN                         NaN  \n",
       "max                  NaN             NaN                         NaN  "
      ]
     },
     "execution_count": 6,
     "metadata": {},
     "output_type": "execute_result"
    }
   ],
   "source": [
    "loan.describe()"
   ]
  },
  {
   "cell_type": "markdown",
   "metadata": {
    "id": "Ot9La-6FtFRT"
   },
   "source": [
    "# Data Preprocessing"
   ]
  },
  {
   "cell_type": "markdown",
   "metadata": {
    "id": "d281ed53"
   },
   "source": [
    "## Analysis for null/na values"
   ]
  },
  {
   "cell_type": "code",
   "execution_count": 7,
   "metadata": {
    "id": "e5f397b2"
   },
   "outputs": [
    {
     "data": {
      "text/html": [
       "<div>\n",
       "<style scoped>\n",
       "    .dataframe tbody tr th:only-of-type {\n",
       "        vertical-align: middle;\n",
       "    }\n",
       "\n",
       "    .dataframe tbody tr th {\n",
       "        vertical-align: top;\n",
       "    }\n",
       "\n",
       "    .dataframe thead th {\n",
       "        text-align: right;\n",
       "    }\n",
       "</style>\n",
       "<table border=\"1\" class=\"dataframe\">\n",
       "  <thead>\n",
       "    <tr style=\"text-align: right;\">\n",
       "      <th></th>\n",
       "      <th>nulls</th>\n",
       "    </tr>\n",
       "  </thead>\n",
       "  <tbody>\n",
       "    <tr>\n",
       "      <th>id</th>\n",
       "      <td>0</td>\n",
       "    </tr>\n",
       "    <tr>\n",
       "      <th>member_id</th>\n",
       "      <td>0</td>\n",
       "    </tr>\n",
       "    <tr>\n",
       "      <th>loan_amnt</th>\n",
       "      <td>0</td>\n",
       "    </tr>\n",
       "    <tr>\n",
       "      <th>funded_amnt</th>\n",
       "      <td>0</td>\n",
       "    </tr>\n",
       "    <tr>\n",
       "      <th>funded_amnt_inv</th>\n",
       "      <td>0</td>\n",
       "    </tr>\n",
       "    <tr>\n",
       "      <th>term</th>\n",
       "      <td>0</td>\n",
       "    </tr>\n",
       "    <tr>\n",
       "      <th>int_rate</th>\n",
       "      <td>0</td>\n",
       "    </tr>\n",
       "    <tr>\n",
       "      <th>installment</th>\n",
       "      <td>0</td>\n",
       "    </tr>\n",
       "    <tr>\n",
       "      <th>grade</th>\n",
       "      <td>0</td>\n",
       "    </tr>\n",
       "    <tr>\n",
       "      <th>sub_grade</th>\n",
       "      <td>0</td>\n",
       "    </tr>\n",
       "    <tr>\n",
       "      <th>emp_title</th>\n",
       "      <td>2459</td>\n",
       "    </tr>\n",
       "    <tr>\n",
       "      <th>emp_length</th>\n",
       "      <td>1075</td>\n",
       "    </tr>\n",
       "    <tr>\n",
       "      <th>home_ownership</th>\n",
       "      <td>0</td>\n",
       "    </tr>\n",
       "    <tr>\n",
       "      <th>annual_inc</th>\n",
       "      <td>0</td>\n",
       "    </tr>\n",
       "    <tr>\n",
       "      <th>verification_status</th>\n",
       "      <td>0</td>\n",
       "    </tr>\n",
       "    <tr>\n",
       "      <th>issue_d</th>\n",
       "      <td>0</td>\n",
       "    </tr>\n",
       "    <tr>\n",
       "      <th>loan_status</th>\n",
       "      <td>0</td>\n",
       "    </tr>\n",
       "    <tr>\n",
       "      <th>pymnt_plan</th>\n",
       "      <td>0</td>\n",
       "    </tr>\n",
       "    <tr>\n",
       "      <th>url</th>\n",
       "      <td>0</td>\n",
       "    </tr>\n",
       "    <tr>\n",
       "      <th>desc</th>\n",
       "      <td>12940</td>\n",
       "    </tr>\n",
       "    <tr>\n",
       "      <th>purpose</th>\n",
       "      <td>0</td>\n",
       "    </tr>\n",
       "    <tr>\n",
       "      <th>title</th>\n",
       "      <td>11</td>\n",
       "    </tr>\n",
       "    <tr>\n",
       "      <th>zip_code</th>\n",
       "      <td>0</td>\n",
       "    </tr>\n",
       "    <tr>\n",
       "      <th>addr_state</th>\n",
       "      <td>0</td>\n",
       "    </tr>\n",
       "    <tr>\n",
       "      <th>dti</th>\n",
       "      <td>0</td>\n",
       "    </tr>\n",
       "    <tr>\n",
       "      <th>delinq_2yrs</th>\n",
       "      <td>0</td>\n",
       "    </tr>\n",
       "    <tr>\n",
       "      <th>earliest_cr_line</th>\n",
       "      <td>0</td>\n",
       "    </tr>\n",
       "    <tr>\n",
       "      <th>inq_last_6mths</th>\n",
       "      <td>0</td>\n",
       "    </tr>\n",
       "    <tr>\n",
       "      <th>mths_since_last_delinq</th>\n",
       "      <td>25682</td>\n",
       "    </tr>\n",
       "    <tr>\n",
       "      <th>mths_since_last_record</th>\n",
       "      <td>36931</td>\n",
       "    </tr>\n",
       "    <tr>\n",
       "      <th>open_acc</th>\n",
       "      <td>0</td>\n",
       "    </tr>\n",
       "    <tr>\n",
       "      <th>pub_rec</th>\n",
       "      <td>0</td>\n",
       "    </tr>\n",
       "    <tr>\n",
       "      <th>revol_bal</th>\n",
       "      <td>0</td>\n",
       "    </tr>\n",
       "    <tr>\n",
       "      <th>revol_util</th>\n",
       "      <td>50</td>\n",
       "    </tr>\n",
       "    <tr>\n",
       "      <th>total_acc</th>\n",
       "      <td>0</td>\n",
       "    </tr>\n",
       "    <tr>\n",
       "      <th>initial_list_status</th>\n",
       "      <td>0</td>\n",
       "    </tr>\n",
       "    <tr>\n",
       "      <th>out_prncp</th>\n",
       "      <td>0</td>\n",
       "    </tr>\n",
       "    <tr>\n",
       "      <th>out_prncp_inv</th>\n",
       "      <td>0</td>\n",
       "    </tr>\n",
       "    <tr>\n",
       "      <th>total_pymnt</th>\n",
       "      <td>0</td>\n",
       "    </tr>\n",
       "    <tr>\n",
       "      <th>total_pymnt_inv</th>\n",
       "      <td>0</td>\n",
       "    </tr>\n",
       "    <tr>\n",
       "      <th>total_rec_prncp</th>\n",
       "      <td>0</td>\n",
       "    </tr>\n",
       "    <tr>\n",
       "      <th>total_rec_int</th>\n",
       "      <td>0</td>\n",
       "    </tr>\n",
       "    <tr>\n",
       "      <th>total_rec_late_fee</th>\n",
       "      <td>0</td>\n",
       "    </tr>\n",
       "    <tr>\n",
       "      <th>recoveries</th>\n",
       "      <td>0</td>\n",
       "    </tr>\n",
       "    <tr>\n",
       "      <th>collection_recovery_fee</th>\n",
       "      <td>0</td>\n",
       "    </tr>\n",
       "    <tr>\n",
       "      <th>last_pymnt_d</th>\n",
       "      <td>71</td>\n",
       "    </tr>\n",
       "    <tr>\n",
       "      <th>last_pymnt_amnt</th>\n",
       "      <td>0</td>\n",
       "    </tr>\n",
       "    <tr>\n",
       "      <th>next_pymnt_d</th>\n",
       "      <td>38577</td>\n",
       "    </tr>\n",
       "    <tr>\n",
       "      <th>last_credit_pull_d</th>\n",
       "      <td>2</td>\n",
       "    </tr>\n",
       "    <tr>\n",
       "      <th>collections_12_mths_ex_med</th>\n",
       "      <td>56</td>\n",
       "    </tr>\n",
       "    <tr>\n",
       "      <th>mths_since_last_major_derog</th>\n",
       "      <td>39717</td>\n",
       "    </tr>\n",
       "    <tr>\n",
       "      <th>policy_code</th>\n",
       "      <td>0</td>\n",
       "    </tr>\n",
       "    <tr>\n",
       "      <th>application_type</th>\n",
       "      <td>0</td>\n",
       "    </tr>\n",
       "    <tr>\n",
       "      <th>annual_inc_joint</th>\n",
       "      <td>39717</td>\n",
       "    </tr>\n",
       "    <tr>\n",
       "      <th>dti_joint</th>\n",
       "      <td>39717</td>\n",
       "    </tr>\n",
       "    <tr>\n",
       "      <th>verification_status_joint</th>\n",
       "      <td>39717</td>\n",
       "    </tr>\n",
       "    <tr>\n",
       "      <th>acc_now_delinq</th>\n",
       "      <td>0</td>\n",
       "    </tr>\n",
       "    <tr>\n",
       "      <th>tot_coll_amt</th>\n",
       "      <td>39717</td>\n",
       "    </tr>\n",
       "    <tr>\n",
       "      <th>tot_cur_bal</th>\n",
       "      <td>39717</td>\n",
       "    </tr>\n",
       "    <tr>\n",
       "      <th>open_acc_6m</th>\n",
       "      <td>39717</td>\n",
       "    </tr>\n",
       "    <tr>\n",
       "      <th>open_il_6m</th>\n",
       "      <td>39717</td>\n",
       "    </tr>\n",
       "    <tr>\n",
       "      <th>open_il_12m</th>\n",
       "      <td>39717</td>\n",
       "    </tr>\n",
       "    <tr>\n",
       "      <th>open_il_24m</th>\n",
       "      <td>39717</td>\n",
       "    </tr>\n",
       "    <tr>\n",
       "      <th>mths_since_rcnt_il</th>\n",
       "      <td>39717</td>\n",
       "    </tr>\n",
       "    <tr>\n",
       "      <th>total_bal_il</th>\n",
       "      <td>39717</td>\n",
       "    </tr>\n",
       "    <tr>\n",
       "      <th>il_util</th>\n",
       "      <td>39717</td>\n",
       "    </tr>\n",
       "    <tr>\n",
       "      <th>open_rv_12m</th>\n",
       "      <td>39717</td>\n",
       "    </tr>\n",
       "    <tr>\n",
       "      <th>open_rv_24m</th>\n",
       "      <td>39717</td>\n",
       "    </tr>\n",
       "    <tr>\n",
       "      <th>max_bal_bc</th>\n",
       "      <td>39717</td>\n",
       "    </tr>\n",
       "    <tr>\n",
       "      <th>all_util</th>\n",
       "      <td>39717</td>\n",
       "    </tr>\n",
       "    <tr>\n",
       "      <th>total_rev_hi_lim</th>\n",
       "      <td>39717</td>\n",
       "    </tr>\n",
       "    <tr>\n",
       "      <th>inq_fi</th>\n",
       "      <td>39717</td>\n",
       "    </tr>\n",
       "    <tr>\n",
       "      <th>total_cu_tl</th>\n",
       "      <td>39717</td>\n",
       "    </tr>\n",
       "    <tr>\n",
       "      <th>inq_last_12m</th>\n",
       "      <td>39717</td>\n",
       "    </tr>\n",
       "    <tr>\n",
       "      <th>acc_open_past_24mths</th>\n",
       "      <td>39717</td>\n",
       "    </tr>\n",
       "    <tr>\n",
       "      <th>avg_cur_bal</th>\n",
       "      <td>39717</td>\n",
       "    </tr>\n",
       "    <tr>\n",
       "      <th>bc_open_to_buy</th>\n",
       "      <td>39717</td>\n",
       "    </tr>\n",
       "    <tr>\n",
       "      <th>bc_util</th>\n",
       "      <td>39717</td>\n",
       "    </tr>\n",
       "    <tr>\n",
       "      <th>chargeoff_within_12_mths</th>\n",
       "      <td>56</td>\n",
       "    </tr>\n",
       "    <tr>\n",
       "      <th>delinq_amnt</th>\n",
       "      <td>0</td>\n",
       "    </tr>\n",
       "    <tr>\n",
       "      <th>mo_sin_old_il_acct</th>\n",
       "      <td>39717</td>\n",
       "    </tr>\n",
       "    <tr>\n",
       "      <th>mo_sin_old_rev_tl_op</th>\n",
       "      <td>39717</td>\n",
       "    </tr>\n",
       "    <tr>\n",
       "      <th>mo_sin_rcnt_rev_tl_op</th>\n",
       "      <td>39717</td>\n",
       "    </tr>\n",
       "    <tr>\n",
       "      <th>mo_sin_rcnt_tl</th>\n",
       "      <td>39717</td>\n",
       "    </tr>\n",
       "    <tr>\n",
       "      <th>mort_acc</th>\n",
       "      <td>39717</td>\n",
       "    </tr>\n",
       "    <tr>\n",
       "      <th>mths_since_recent_bc</th>\n",
       "      <td>39717</td>\n",
       "    </tr>\n",
       "    <tr>\n",
       "      <th>mths_since_recent_bc_dlq</th>\n",
       "      <td>39717</td>\n",
       "    </tr>\n",
       "    <tr>\n",
       "      <th>mths_since_recent_inq</th>\n",
       "      <td>39717</td>\n",
       "    </tr>\n",
       "    <tr>\n",
       "      <th>mths_since_recent_revol_delinq</th>\n",
       "      <td>39717</td>\n",
       "    </tr>\n",
       "    <tr>\n",
       "      <th>num_accts_ever_120_pd</th>\n",
       "      <td>39717</td>\n",
       "    </tr>\n",
       "    <tr>\n",
       "      <th>num_actv_bc_tl</th>\n",
       "      <td>39717</td>\n",
       "    </tr>\n",
       "    <tr>\n",
       "      <th>num_actv_rev_tl</th>\n",
       "      <td>39717</td>\n",
       "    </tr>\n",
       "    <tr>\n",
       "      <th>num_bc_sats</th>\n",
       "      <td>39717</td>\n",
       "    </tr>\n",
       "    <tr>\n",
       "      <th>num_bc_tl</th>\n",
       "      <td>39717</td>\n",
       "    </tr>\n",
       "    <tr>\n",
       "      <th>num_il_tl</th>\n",
       "      <td>39717</td>\n",
       "    </tr>\n",
       "    <tr>\n",
       "      <th>num_op_rev_tl</th>\n",
       "      <td>39717</td>\n",
       "    </tr>\n",
       "    <tr>\n",
       "      <th>num_rev_accts</th>\n",
       "      <td>39717</td>\n",
       "    </tr>\n",
       "    <tr>\n",
       "      <th>num_rev_tl_bal_gt_0</th>\n",
       "      <td>39717</td>\n",
       "    </tr>\n",
       "    <tr>\n",
       "      <th>num_sats</th>\n",
       "      <td>39717</td>\n",
       "    </tr>\n",
       "    <tr>\n",
       "      <th>num_tl_120dpd_2m</th>\n",
       "      <td>39717</td>\n",
       "    </tr>\n",
       "    <tr>\n",
       "      <th>num_tl_30dpd</th>\n",
       "      <td>39717</td>\n",
       "    </tr>\n",
       "    <tr>\n",
       "      <th>num_tl_90g_dpd_24m</th>\n",
       "      <td>39717</td>\n",
       "    </tr>\n",
       "    <tr>\n",
       "      <th>num_tl_op_past_12m</th>\n",
       "      <td>39717</td>\n",
       "    </tr>\n",
       "    <tr>\n",
       "      <th>pct_tl_nvr_dlq</th>\n",
       "      <td>39717</td>\n",
       "    </tr>\n",
       "    <tr>\n",
       "      <th>percent_bc_gt_75</th>\n",
       "      <td>39717</td>\n",
       "    </tr>\n",
       "    <tr>\n",
       "      <th>pub_rec_bankruptcies</th>\n",
       "      <td>697</td>\n",
       "    </tr>\n",
       "    <tr>\n",
       "      <th>tax_liens</th>\n",
       "      <td>39</td>\n",
       "    </tr>\n",
       "    <tr>\n",
       "      <th>tot_hi_cred_lim</th>\n",
       "      <td>39717</td>\n",
       "    </tr>\n",
       "    <tr>\n",
       "      <th>total_bal_ex_mort</th>\n",
       "      <td>39717</td>\n",
       "    </tr>\n",
       "    <tr>\n",
       "      <th>total_bc_limit</th>\n",
       "      <td>39717</td>\n",
       "    </tr>\n",
       "    <tr>\n",
       "      <th>total_il_high_credit_limit</th>\n",
       "      <td>39717</td>\n",
       "    </tr>\n",
       "  </tbody>\n",
       "</table>\n",
       "</div>"
      ],
      "text/plain": [
       "                                nulls\n",
       "id                                  0\n",
       "member_id                           0\n",
       "loan_amnt                           0\n",
       "funded_amnt                         0\n",
       "funded_amnt_inv                     0\n",
       "term                                0\n",
       "int_rate                            0\n",
       "installment                         0\n",
       "grade                               0\n",
       "sub_grade                           0\n",
       "emp_title                        2459\n",
       "emp_length                       1075\n",
       "home_ownership                      0\n",
       "annual_inc                          0\n",
       "verification_status                 0\n",
       "issue_d                             0\n",
       "loan_status                         0\n",
       "pymnt_plan                          0\n",
       "url                                 0\n",
       "desc                            12940\n",
       "purpose                             0\n",
       "title                              11\n",
       "zip_code                            0\n",
       "addr_state                          0\n",
       "dti                                 0\n",
       "delinq_2yrs                         0\n",
       "earliest_cr_line                    0\n",
       "inq_last_6mths                      0\n",
       "mths_since_last_delinq          25682\n",
       "mths_since_last_record          36931\n",
       "open_acc                            0\n",
       "pub_rec                             0\n",
       "revol_bal                           0\n",
       "revol_util                         50\n",
       "total_acc                           0\n",
       "initial_list_status                 0\n",
       "out_prncp                           0\n",
       "out_prncp_inv                       0\n",
       "total_pymnt                         0\n",
       "total_pymnt_inv                     0\n",
       "total_rec_prncp                     0\n",
       "total_rec_int                       0\n",
       "total_rec_late_fee                  0\n",
       "recoveries                          0\n",
       "collection_recovery_fee             0\n",
       "last_pymnt_d                       71\n",
       "last_pymnt_amnt                     0\n",
       "next_pymnt_d                    38577\n",
       "last_credit_pull_d                  2\n",
       "collections_12_mths_ex_med         56\n",
       "mths_since_last_major_derog     39717\n",
       "policy_code                         0\n",
       "application_type                    0\n",
       "annual_inc_joint                39717\n",
       "dti_joint                       39717\n",
       "verification_status_joint       39717\n",
       "acc_now_delinq                      0\n",
       "tot_coll_amt                    39717\n",
       "tot_cur_bal                     39717\n",
       "open_acc_6m                     39717\n",
       "open_il_6m                      39717\n",
       "open_il_12m                     39717\n",
       "open_il_24m                     39717\n",
       "mths_since_rcnt_il              39717\n",
       "total_bal_il                    39717\n",
       "il_util                         39717\n",
       "open_rv_12m                     39717\n",
       "open_rv_24m                     39717\n",
       "max_bal_bc                      39717\n",
       "all_util                        39717\n",
       "total_rev_hi_lim                39717\n",
       "inq_fi                          39717\n",
       "total_cu_tl                     39717\n",
       "inq_last_12m                    39717\n",
       "acc_open_past_24mths            39717\n",
       "avg_cur_bal                     39717\n",
       "bc_open_to_buy                  39717\n",
       "bc_util                         39717\n",
       "chargeoff_within_12_mths           56\n",
       "delinq_amnt                         0\n",
       "mo_sin_old_il_acct              39717\n",
       "mo_sin_old_rev_tl_op            39717\n",
       "mo_sin_rcnt_rev_tl_op           39717\n",
       "mo_sin_rcnt_tl                  39717\n",
       "mort_acc                        39717\n",
       "mths_since_recent_bc            39717\n",
       "mths_since_recent_bc_dlq        39717\n",
       "mths_since_recent_inq           39717\n",
       "mths_since_recent_revol_delinq  39717\n",
       "num_accts_ever_120_pd           39717\n",
       "num_actv_bc_tl                  39717\n",
       "num_actv_rev_tl                 39717\n",
       "num_bc_sats                     39717\n",
       "num_bc_tl                       39717\n",
       "num_il_tl                       39717\n",
       "num_op_rev_tl                   39717\n",
       "num_rev_accts                   39717\n",
       "num_rev_tl_bal_gt_0             39717\n",
       "num_sats                        39717\n",
       "num_tl_120dpd_2m                39717\n",
       "num_tl_30dpd                    39717\n",
       "num_tl_90g_dpd_24m              39717\n",
       "num_tl_op_past_12m              39717\n",
       "pct_tl_nvr_dlq                  39717\n",
       "percent_bc_gt_75                39717\n",
       "pub_rec_bankruptcies              697\n",
       "tax_liens                          39\n",
       "tot_hi_cred_lim                 39717\n",
       "total_bal_ex_mort               39717\n",
       "total_bc_limit                  39717\n",
       "total_il_high_credit_limit      39717"
      ]
     },
     "execution_count": 7,
     "metadata": {},
     "output_type": "execute_result"
    }
   ],
   "source": [
    "tmp = loan.isnull().sum().rename(\"nulls\")\n",
    "null_counts  = tmp.to_frame()\n",
    "null_counts"
   ]
  },
  {
   "cell_type": "code",
   "execution_count": 8,
   "metadata": {
    "id": "9d7bdeef"
   },
   "outputs": [],
   "source": [
    "nullsColummns = null_counts[null_counts[\"nulls\"]>0]"
   ]
  },
  {
   "cell_type": "code",
   "execution_count": 9,
   "metadata": {
    "id": "79d1bb9f"
   },
   "outputs": [
    {
     "name": "stdout",
     "output_type": "stream",
     "text": [
      "columns with nulls: (68, 1)\n",
      "dataframe shape: (39717, 111)\n"
     ]
    }
   ],
   "source": [
    "print(f'columns with nulls: {nullsColummns.shape}')\n",
    "print(f'dataframe shape: {loan.shape}')"
   ]
  },
  {
   "cell_type": "code",
   "execution_count": 10,
   "metadata": {
    "id": "d7850ee9"
   },
   "outputs": [
    {
     "name": "stdout",
     "output_type": "stream",
     "text": [
      "before dropping :\n",
      " Columns with all values null: 54,\n",
      " Total null cols: (68, 1),\n",
      " dataframe shape: (39717, 111)\n",
      "\n",
      "\n",
      "before dropping :\n",
      " Columns with all values null: 54,\n",
      " Total null cols: (68, 1),\n",
      " dataframe shape: (39717, 57)\n"
     ]
    }
   ],
   "source": [
    "all_null_values = nullsColummns[nullsColummns[\"nulls\"]== 39717].index.to_list()\n",
    "print(f'before dropping :\\n Columns with all values null: {len(all_null_values)},\\n Total null cols: {nullsColummns.shape},\\n dataframe shape: {loan.shape}\\n\\n')\n",
    "loan.drop(columns=all_null_values, inplace=True)\n",
    "print(f'before dropping :\\n Columns with all values null: {len(all_null_values)},\\n Total null cols: {nullsColummns.shape},\\n dataframe shape: {loan.shape}')"
   ]
  },
  {
   "cell_type": "code",
   "execution_count": 11,
   "metadata": {
    "id": "a07fef08"
   },
   "outputs": [
    {
     "name": "stdout",
     "output_type": "stream",
     "text": [
      "Columns with some values as nulls :  14\n"
     ]
    },
    {
     "data": {
      "text/html": [
       "<div>\n",
       "<style scoped>\n",
       "    .dataframe tbody tr th:only-of-type {\n",
       "        vertical-align: middle;\n",
       "    }\n",
       "\n",
       "    .dataframe tbody tr th {\n",
       "        vertical-align: top;\n",
       "    }\n",
       "\n",
       "    .dataframe thead th {\n",
       "        text-align: right;\n",
       "    }\n",
       "</style>\n",
       "<table border=\"1\" class=\"dataframe\">\n",
       "  <thead>\n",
       "    <tr style=\"text-align: right;\">\n",
       "      <th></th>\n",
       "      <th>nulls</th>\n",
       "    </tr>\n",
       "  </thead>\n",
       "  <tbody>\n",
       "    <tr>\n",
       "      <th>last_credit_pull_d</th>\n",
       "      <td>2</td>\n",
       "    </tr>\n",
       "    <tr>\n",
       "      <th>title</th>\n",
       "      <td>11</td>\n",
       "    </tr>\n",
       "    <tr>\n",
       "      <th>tax_liens</th>\n",
       "      <td>39</td>\n",
       "    </tr>\n",
       "    <tr>\n",
       "      <th>revol_util</th>\n",
       "      <td>50</td>\n",
       "    </tr>\n",
       "    <tr>\n",
       "      <th>collections_12_mths_ex_med</th>\n",
       "      <td>56</td>\n",
       "    </tr>\n",
       "    <tr>\n",
       "      <th>chargeoff_within_12_mths</th>\n",
       "      <td>56</td>\n",
       "    </tr>\n",
       "    <tr>\n",
       "      <th>last_pymnt_d</th>\n",
       "      <td>71</td>\n",
       "    </tr>\n",
       "    <tr>\n",
       "      <th>pub_rec_bankruptcies</th>\n",
       "      <td>697</td>\n",
       "    </tr>\n",
       "    <tr>\n",
       "      <th>emp_length</th>\n",
       "      <td>1075</td>\n",
       "    </tr>\n",
       "    <tr>\n",
       "      <th>emp_title</th>\n",
       "      <td>2459</td>\n",
       "    </tr>\n",
       "    <tr>\n",
       "      <th>desc</th>\n",
       "      <td>12940</td>\n",
       "    </tr>\n",
       "    <tr>\n",
       "      <th>mths_since_last_delinq</th>\n",
       "      <td>25682</td>\n",
       "    </tr>\n",
       "    <tr>\n",
       "      <th>mths_since_last_record</th>\n",
       "      <td>36931</td>\n",
       "    </tr>\n",
       "    <tr>\n",
       "      <th>next_pymnt_d</th>\n",
       "      <td>38577</td>\n",
       "    </tr>\n",
       "  </tbody>\n",
       "</table>\n",
       "</div>"
      ],
      "text/plain": [
       "                            nulls\n",
       "last_credit_pull_d              2\n",
       "title                          11\n",
       "tax_liens                      39\n",
       "revol_util                     50\n",
       "collections_12_mths_ex_med     56\n",
       "chargeoff_within_12_mths       56\n",
       "last_pymnt_d                   71\n",
       "pub_rec_bankruptcies          697\n",
       "emp_length                   1075\n",
       "emp_title                    2459\n",
       "desc                        12940\n",
       "mths_since_last_delinq      25682\n",
       "mths_since_last_record      36931\n",
       "next_pymnt_d                38577"
      ]
     },
     "execution_count": 11,
     "metadata": {},
     "output_type": "execute_result"
    }
   ],
   "source": [
    "some_nulls_columns = nullsColummns[nullsColummns[\"nulls\"]!= 39717].index.to_list()\n",
    "print(\"Columns with some values as nulls : \",len(some_nulls_columns))\n",
    "some_nulls_df =  nullsColummns[nullsColummns[\"nulls\"]!= 39717].sort_values(by=\"nulls\")\n",
    "some_nulls_df"
   ]
  },
  {
   "cell_type": "code",
   "execution_count": 12,
   "metadata": {
    "id": "ae246083"
   },
   "outputs": [
    {
     "data": {
      "text/html": [
       "<div>\n",
       "<style scoped>\n",
       "    .dataframe tbody tr th:only-of-type {\n",
       "        vertical-align: middle;\n",
       "    }\n",
       "\n",
       "    .dataframe tbody tr th {\n",
       "        vertical-align: top;\n",
       "    }\n",
       "\n",
       "    .dataframe thead th {\n",
       "        text-align: right;\n",
       "    }\n",
       "</style>\n",
       "<table border=\"1\" class=\"dataframe\">\n",
       "  <thead>\n",
       "    <tr style=\"text-align: right;\">\n",
       "      <th></th>\n",
       "      <th>mths_since_last_delinq</th>\n",
       "      <th>mths_since_last_record</th>\n",
       "      <th>collections_12_mths_ex_med</th>\n",
       "      <th>chargeoff_within_12_mths</th>\n",
       "      <th>pub_rec_bankruptcies</th>\n",
       "      <th>tax_liens</th>\n",
       "    </tr>\n",
       "  </thead>\n",
       "  <tbody>\n",
       "    <tr>\n",
       "      <th>count</th>\n",
       "      <td>14035.000000</td>\n",
       "      <td>2786.000000</td>\n",
       "      <td>39661.0</td>\n",
       "      <td>39661.0</td>\n",
       "      <td>39020.000000</td>\n",
       "      <td>39678.0</td>\n",
       "    </tr>\n",
       "    <tr>\n",
       "      <th>mean</th>\n",
       "      <td>35.900962</td>\n",
       "      <td>69.698134</td>\n",
       "      <td>0.0</td>\n",
       "      <td>0.0</td>\n",
       "      <td>0.043260</td>\n",
       "      <td>0.0</td>\n",
       "    </tr>\n",
       "    <tr>\n",
       "      <th>std</th>\n",
       "      <td>22.020060</td>\n",
       "      <td>43.822529</td>\n",
       "      <td>0.0</td>\n",
       "      <td>0.0</td>\n",
       "      <td>0.204324</td>\n",
       "      <td>0.0</td>\n",
       "    </tr>\n",
       "    <tr>\n",
       "      <th>min</th>\n",
       "      <td>0.000000</td>\n",
       "      <td>0.000000</td>\n",
       "      <td>0.0</td>\n",
       "      <td>0.0</td>\n",
       "      <td>0.000000</td>\n",
       "      <td>0.0</td>\n",
       "    </tr>\n",
       "    <tr>\n",
       "      <th>25%</th>\n",
       "      <td>18.000000</td>\n",
       "      <td>22.000000</td>\n",
       "      <td>0.0</td>\n",
       "      <td>0.0</td>\n",
       "      <td>0.000000</td>\n",
       "      <td>0.0</td>\n",
       "    </tr>\n",
       "    <tr>\n",
       "      <th>50%</th>\n",
       "      <td>34.000000</td>\n",
       "      <td>90.000000</td>\n",
       "      <td>0.0</td>\n",
       "      <td>0.0</td>\n",
       "      <td>0.000000</td>\n",
       "      <td>0.0</td>\n",
       "    </tr>\n",
       "    <tr>\n",
       "      <th>75%</th>\n",
       "      <td>52.000000</td>\n",
       "      <td>104.000000</td>\n",
       "      <td>0.0</td>\n",
       "      <td>0.0</td>\n",
       "      <td>0.000000</td>\n",
       "      <td>0.0</td>\n",
       "    </tr>\n",
       "    <tr>\n",
       "      <th>max</th>\n",
       "      <td>120.000000</td>\n",
       "      <td>129.000000</td>\n",
       "      <td>0.0</td>\n",
       "      <td>0.0</td>\n",
       "      <td>2.000000</td>\n",
       "      <td>0.0</td>\n",
       "    </tr>\n",
       "  </tbody>\n",
       "</table>\n",
       "</div>"
      ],
      "text/plain": [
       "       mths_since_last_delinq  mths_since_last_record  \\\n",
       "count            14035.000000             2786.000000   \n",
       "mean                35.900962               69.698134   \n",
       "std                 22.020060               43.822529   \n",
       "min                  0.000000                0.000000   \n",
       "25%                 18.000000               22.000000   \n",
       "50%                 34.000000               90.000000   \n",
       "75%                 52.000000              104.000000   \n",
       "max                120.000000              129.000000   \n",
       "\n",
       "       collections_12_mths_ex_med  chargeoff_within_12_mths  \\\n",
       "count                     39661.0                   39661.0   \n",
       "mean                          0.0                       0.0   \n",
       "std                           0.0                       0.0   \n",
       "min                           0.0                       0.0   \n",
       "25%                           0.0                       0.0   \n",
       "50%                           0.0                       0.0   \n",
       "75%                           0.0                       0.0   \n",
       "max                           0.0                       0.0   \n",
       "\n",
       "       pub_rec_bankruptcies  tax_liens  \n",
       "count          39020.000000    39678.0  \n",
       "mean               0.043260        0.0  \n",
       "std                0.204324        0.0  \n",
       "min                0.000000        0.0  \n",
       "25%                0.000000        0.0  \n",
       "50%                0.000000        0.0  \n",
       "75%                0.000000        0.0  \n",
       "max                2.000000        0.0  "
      ]
     },
     "execution_count": 12,
     "metadata": {},
     "output_type": "execute_result"
    }
   ],
   "source": [
    "loan[some_nulls_columns].describe()"
   ]
  },
  {
   "cell_type": "code",
   "execution_count": 13,
   "metadata": {
    "id": "827c74aa"
   },
   "outputs": [
    {
     "name": "stdout",
     "output_type": "stream",
     "text": [
      "Column :  emp_title \n",
      "\n",
      "Describe : \n",
      " count       37258\n",
      "unique      28820\n",
      "top       US Army\n",
      "freq          134\n",
      "Name: emp_title, dtype: object\n",
      "\n",
      "nulls count :  2459\n",
      "nulls %     :  6.191%\n",
      "\n",
      "Value Counts : \n",
      " US Army                     134\n",
      "Bank of America             109\n",
      "IBM                          66\n",
      "AT&T                         59\n",
      "Kaiser Permanente            56\n",
      "                           ... \n",
      "P.M.A.M.                      1\n",
      "Bailard                       1\n",
      "American General Finance      1\n",
      "HKS  Inc.                     1\n",
      "Evergreen Center              1\n",
      "Name: emp_title, Length: 28820, dtype: int64\n",
      "_______________\n",
      "\n",
      "\n",
      "Column :  emp_length \n",
      "\n",
      "Describe : \n",
      " count         38642\n",
      "unique           11\n",
      "top       10+ years\n",
      "freq           8879\n",
      "Name: emp_length, dtype: object\n",
      "\n",
      "nulls count :  1075\n",
      "nulls %     :  2.707%\n",
      "\n",
      "Value Counts : \n",
      " 10+ years    8879\n",
      "< 1 year     4583\n",
      "2 years      4388\n",
      "3 years      4095\n",
      "4 years      3436\n",
      "5 years      3282\n",
      "1 year       3240\n",
      "6 years      2229\n",
      "7 years      1773\n",
      "8 years      1479\n",
      "9 years      1258\n",
      "Name: emp_length, dtype: int64\n",
      "_______________\n",
      "\n",
      "\n",
      "Column :  desc \n",
      "\n",
      "Describe : \n",
      " count     26777\n",
      "unique    26527\n",
      "top            \n",
      "freq        210\n",
      "Name: desc, dtype: object\n",
      "\n",
      "nulls count :  12940\n",
      "nulls %     :  32.581%\n",
      "\n",
      "Value Counts : \n",
      "                                                                                                                                                                                                                                                                                                                                                                                                                                                                                                                                                    210\n",
      "Debt Consolidation                                                                                                                                                                                                                                                                                                                                                                                                                                                                                                                                   8\n",
      "Camping Membership                                                                                                                                                                                                                                                                                                                                                                                                                                                                                                                                   6\n",
      "personal loan                                                                                                                                                                                                                                                                                                                                                                                                                                                                                                                                        3\n",
      "credit card consolidation                                                                                                                                                                                                                                                                                                                                                                                                                                                                                                                            3\n",
      "                                                                                                                                                                                                                                                                                                                                                                                                                                                                                                                                                  ... \n",
      "I started baking rolls and breads for family and friends from my home kitchen for parties and special occasions. People loved my baked goodies so much, that they began ordering on a more regular basis. Recently, I have had to turn down some orders because my little dough maker and conventional oven are not enough.   I plan to use the borrowed money to buy an industrial oven and a bigger dough mixer, which would make my job easier. I foresee these additions would double my production, and my business would really take off.      1\n",
      "This is a loan to help pay for other education loans at higher rates                                                                                                                                                                                                                                                                                                                                                                                                                                                                                 1\n",
      "Need a loan to remodel my kitchen                                                                                                                                                                                                                                                                                                                                                                                                                                                                                                                    1\n",
      "Need a loan to make some home improvments                                                                                                                                                                                                                                                                                                                                                                                                                                                                                                            1\n",
      "I plan to consolidate over $7,000 of debt: a combination of credit cards and student loans.                                                                                                                                                                                                                                                                                                                                                                                                                                                          1\n",
      "Name: desc, Length: 26527, dtype: int64\n",
      "_______________\n",
      "\n",
      "\n",
      "Column :  title \n",
      "\n",
      "Describe : \n",
      " count                  39706\n",
      "unique                 19615\n",
      "top       Debt Consolidation\n",
      "freq                    2184\n",
      "Name: title, dtype: object\n",
      "\n",
      "nulls count :  11\n",
      "nulls %     :  0.028%\n",
      "\n",
      "Value Counts : \n",
      " Debt Consolidation                          2184\n",
      "Debt Consolidation Loan                     1729\n",
      "Personal Loan                                659\n",
      "Consolidation                                517\n",
      "debt consolidation                           505\n",
      "                                            ... \n",
      "PayOffCard                                     1\n",
      "Payoff/close credit cards & start saving       1\n",
      "Closed Credit Cards                            1\n",
      "House Sold- Need $$$ to pay off loan           1\n",
      "JAL Loan                                       1\n",
      "Name: title, Length: 19615, dtype: int64\n",
      "_______________\n",
      "\n",
      "\n",
      "Column :  mths_since_last_delinq \n",
      "\n",
      "Describe : \n",
      " count    14035.000000\n",
      "mean        35.900962\n",
      "std         22.020060\n",
      "min          0.000000\n",
      "25%         18.000000\n",
      "50%         34.000000\n",
      "75%         52.000000\n",
      "max        120.000000\n",
      "Name: mths_since_last_delinq, dtype: float64\n",
      "\n",
      "nulls count :  25682\n",
      "nulls %     :  64.662%\n",
      "\n",
      "Value Counts : \n",
      " 0.0      443\n",
      "15.0     252\n",
      "30.0     247\n",
      "23.0     247\n",
      "24.0     241\n",
      "19.0     238\n",
      "38.0     237\n",
      "20.0     233\n",
      "18.0     231\n",
      "22.0     231\n",
      "31.0     229\n",
      "35.0     227\n",
      "32.0     226\n",
      "39.0     224\n",
      "25.0     223\n",
      "45.0     222\n",
      "37.0     217\n",
      "26.0     217\n",
      "21.0     216\n",
      "17.0     214\n",
      "16.0     214\n",
      "27.0     212\n",
      "36.0     210\n",
      "10.0     208\n",
      "42.0     208\n",
      "29.0     207\n",
      "47.0     206\n",
      "43.0     201\n",
      "34.0     201\n",
      "44.0     200\n",
      "14.0     198\n",
      "46.0     197\n",
      "41.0     197\n",
      "40.0     197\n",
      "12.0     195\n",
      "48.0     194\n",
      "28.0     193\n",
      "6.0      192\n",
      "33.0     188\n",
      "9.0      182\n",
      "7.0      176\n",
      "13.0     171\n",
      "8.0      168\n",
      "11.0     166\n",
      "4.0      153\n",
      "49.0     152\n",
      "5.0      151\n",
      "58.0     148\n",
      "3.0      145\n",
      "59.0     143\n",
      "53.0     143\n",
      "52.0     137\n",
      "56.0     134\n",
      "73.0     131\n",
      "50.0     131\n",
      "55.0     129\n",
      "68.0     128\n",
      "63.0     127\n",
      "60.0     126\n",
      "57.0     125\n",
      "72.0     124\n",
      "71.0     122\n",
      "70.0     119\n",
      "54.0     115\n",
      "74.0     114\n",
      "67.0     113\n",
      "62.0     113\n",
      "75.0     112\n",
      "76.0     112\n",
      "61.0     110\n",
      "69.0     108\n",
      "51.0     107\n",
      "79.0     103\n",
      "2.0      101\n",
      "66.0     101\n",
      "78.0      99\n",
      "64.0      97\n",
      "80.0      93\n",
      "65.0      92\n",
      "81.0      91\n",
      "77.0      88\n",
      "82.0      54\n",
      "1.0       30\n",
      "83.0       5\n",
      "103.0      2\n",
      "86.0       2\n",
      "115.0      1\n",
      "96.0       1\n",
      "120.0      1\n",
      "106.0      1\n",
      "89.0       1\n",
      "107.0      1\n",
      "85.0       1\n",
      "97.0       1\n",
      "95.0       1\n",
      "Name: mths_since_last_delinq, dtype: int64\n",
      "_______________\n",
      "\n",
      "\n",
      "Column :  mths_since_last_record \n",
      "\n",
      "Describe : \n",
      " count    2786.000000\n",
      "mean       69.698134\n",
      "std        43.822529\n",
      "min         0.000000\n",
      "25%        22.000000\n",
      "50%        90.000000\n",
      "75%       104.000000\n",
      "max       129.000000\n",
      "Name: mths_since_last_record, dtype: float64\n"
     ]
    },
    {
     "name": "stdout",
     "output_type": "stream",
     "text": [
      "\n",
      "nulls count :  36931\n",
      "nulls %     :  92.985%\n",
      "\n",
      "Value Counts : \n",
      " 0.0      670\n",
      "104.0     61\n",
      "89.0      60\n",
      "113.0     59\n",
      "111.0     57\n",
      "94.0      55\n",
      "108.0     55\n",
      "93.0      54\n",
      "87.0      54\n",
      "100.0     53\n",
      "106.0     53\n",
      "88.0      53\n",
      "110.0     53\n",
      "109.0     52\n",
      "97.0      51\n",
      "114.0     51\n",
      "96.0      51\n",
      "86.0      51\n",
      "99.0      50\n",
      "101.0     50\n",
      "90.0      49\n",
      "103.0     49\n",
      "107.0     48\n",
      "85.0      47\n",
      "117.0     47\n",
      "91.0      44\n",
      "92.0      44\n",
      "102.0     43\n",
      "98.0      42\n",
      "116.0     41\n",
      "95.0      40\n",
      "105.0     40\n",
      "112.0     39\n",
      "115.0     37\n",
      "118.0     36\n",
      "63.0      15\n",
      "76.0      15\n",
      "61.0      14\n",
      "58.0      13\n",
      "80.0      12\n",
      "67.0      11\n",
      "81.0      11\n",
      "69.0      11\n",
      "55.0      11\n",
      "77.0      10\n",
      "119.0     10\n",
      "54.0      10\n",
      "73.0       9\n",
      "53.0       9\n",
      "64.0       9\n",
      "72.0       9\n",
      "50.0       9\n",
      "82.0       8\n",
      "21.0       8\n",
      "70.0       8\n",
      "79.0       7\n",
      "38.0       7\n",
      "44.0       7\n",
      "78.0       7\n",
      "43.0       7\n",
      "49.0       7\n",
      "57.0       7\n",
      "75.0       6\n",
      "56.0       6\n",
      "45.0       6\n",
      "62.0       6\n",
      "74.0       6\n",
      "60.0       6\n",
      "42.0       6\n",
      "66.0       6\n",
      "23.0       6\n",
      "65.0       6\n",
      "26.0       6\n",
      "29.0       6\n",
      "41.0       6\n",
      "40.0       6\n",
      "33.0       6\n",
      "35.0       5\n",
      "39.0       5\n",
      "68.0       5\n",
      "25.0       5\n",
      "52.0       5\n",
      "59.0       5\n",
      "47.0       5\n",
      "27.0       4\n",
      "22.0       4\n",
      "34.0       4\n",
      "71.0       4\n",
      "36.0       4\n",
      "30.0       4\n",
      "17.0       3\n",
      "48.0       3\n",
      "37.0       3\n",
      "51.0       3\n",
      "31.0       3\n",
      "28.0       2\n",
      "32.0       2\n",
      "13.0       2\n",
      "18.0       2\n",
      "83.0       2\n",
      "11.0       2\n",
      "12.0       1\n",
      "7.0        1\n",
      "46.0       1\n",
      "14.0       1\n",
      "6.0        1\n",
      "19.0       1\n",
      "20.0       1\n",
      "120.0      1\n",
      "129.0      1\n",
      "5.0        1\n",
      "Name: mths_since_last_record, dtype: int64\n",
      "_______________\n",
      "\n",
      "\n",
      "Column :  revol_util \n",
      "\n",
      "Describe : \n",
      " count     39667\n",
      "unique     1089\n",
      "top          0%\n",
      "freq        977\n",
      "Name: revol_util, dtype: object\n",
      "\n",
      "nulls count :  50\n",
      "nulls %     :  0.126%\n",
      "\n",
      "Value Counts : \n",
      " 0%        977\n",
      "0.20%      63\n",
      "63%        62\n",
      "40.70%     58\n",
      "66.70%     58\n",
      "         ... \n",
      "33.26%      1\n",
      "5.34%       1\n",
      "58.19%      1\n",
      "33.29%      1\n",
      "7.28%       1\n",
      "Name: revol_util, Length: 1089, dtype: int64\n",
      "_______________\n",
      "\n",
      "\n",
      "Column :  last_pymnt_d \n",
      "\n",
      "Describe : \n",
      " count      39646\n",
      "unique       101\n",
      "top       May-16\n",
      "freq        1256\n",
      "Name: last_pymnt_d, dtype: object\n",
      "\n",
      "nulls count :  71\n",
      "nulls %     :  0.179%\n",
      "\n",
      "Value Counts : \n",
      " May-16    1256\n",
      "Mar-13    1026\n",
      "Dec-14     945\n",
      "May-13     907\n",
      "Feb-13     869\n",
      "Apr-13     851\n",
      "Mar-12     844\n",
      "Aug-12     832\n",
      "Jan-14     832\n",
      "Aug-14     832\n",
      "Oct-12     826\n",
      "Mar-14     824\n",
      "Jul-14     820\n",
      "Oct-14     808\n",
      "Feb-14     792\n",
      "Jan-13     784\n",
      "Dec-13     780\n",
      "Jun-14     778\n",
      "Jul-13     776\n",
      "Sep-12     761\n",
      "Jul-12     741\n",
      "Nov-12     740\n",
      "May-12     736\n",
      "Feb-12     735\n",
      "Apr-12     734\n",
      "Aug-13     727\n",
      "Dec-12     707\n",
      "Jun-12     702\n",
      "Sep-14     693\n",
      "Oct-13     692\n",
      "Jun-13     691\n",
      "Sep-13     684\n",
      "May-14     682\n",
      "Apr-14     674\n",
      "Nov-13     671\n",
      "Nov-14     589\n",
      "Jan-12     546\n",
      "Dec-11     544\n",
      "Mar-11     488\n",
      "Nov-11     454\n",
      "Oct-11     453\n",
      "Sep-11     450\n",
      "Aug-11     428\n",
      "Apr-11     420\n",
      "Jul-11     394\n",
      "May-11     386\n",
      "Jun-11     376\n",
      "Feb-11     337\n",
      "Jan-15     332\n",
      "Jan-11     266\n",
      "Dec-10     253\n",
      "Jul-15     250\n",
      "Nov-15     227\n",
      "Jun-15     220\n",
      "Apr-16     220\n",
      "Mar-16     216\n",
      "Oct-10     216\n",
      "Aug-15     210\n",
      "Sep-15     202\n",
      "Nov-10     195\n",
      "Jul-10     188\n",
      "Oct-15     186\n",
      "Jan-16     183\n",
      "Mar-15     182\n",
      "Dec-15     176\n",
      "Sep-10     176\n",
      "Feb-16     169\n",
      "Feb-15     163\n",
      "Aug-10     151\n",
      "May-15     147\n",
      "Mar-10     138\n",
      "Apr-15     136\n",
      "Jun-10     116\n",
      "May-10     116\n",
      "Apr-10     114\n",
      "Feb-10     112\n",
      "Dec-09      93\n",
      "Jan-10      73\n",
      "Oct-09      62\n",
      "Nov-09      59\n",
      "Aug-09      49\n",
      "Jul-09      43\n",
      "Apr-09      43\n",
      "May-09      41\n",
      "Jun-09      40\n",
      "Mar-09      38\n",
      "Sep-09      37\n",
      "Feb-09      33\n",
      "Oct-08      28\n",
      "Jan-09      21\n",
      "Jul-08      14\n",
      "May-08      14\n",
      "Dec-08      14\n",
      "Aug-08      13\n",
      "Sep-08      12\n",
      "Apr-08      12\n",
      "Jun-08      10\n",
      "Nov-08      10\n",
      "Mar-08       5\n",
      "Jan-08       4\n",
      "Feb-08       1\n",
      "Name: last_pymnt_d, dtype: int64\n",
      "_______________\n",
      "\n",
      "\n",
      "Column :  next_pymnt_d \n",
      "\n",
      "Describe : \n",
      " count       1140\n",
      "unique         2\n",
      "top       Jun-16\n",
      "freq        1125\n",
      "Name: next_pymnt_d, dtype: object\n",
      "\n",
      "nulls count :  38577\n",
      "nulls %     :  97.130%\n",
      "\n",
      "Value Counts : \n",
      " Jun-16    1125\n",
      "Jul-16      15\n",
      "Name: next_pymnt_d, dtype: int64\n",
      "_______________\n",
      "\n",
      "\n",
      "Column :  last_credit_pull_d \n",
      "\n",
      "Describe : \n",
      " count      39715\n",
      "unique       106\n",
      "top       May-16\n",
      "freq       10308\n",
      "Name: last_credit_pull_d, dtype: object\n",
      "\n",
      "nulls count :  2\n",
      "nulls %     :  0.005%\n",
      "\n",
      "Value Counts : \n",
      " May-16    10308\n",
      "Apr-16     2547\n",
      "Mar-16     1123\n",
      "Feb-13      843\n",
      "Feb-16      736\n",
      "Jan-16      657\n",
      "Dec-15      647\n",
      "Mar-13      577\n",
      "Mar-14      564\n",
      "Dec-14      562\n",
      "Jul-14      555\n",
      "Sep-14      546\n",
      "Jul-15      535\n",
      "Feb-14      531\n",
      "Nov-15      529\n",
      "Oct-14      529\n",
      "Aug-14      522\n",
      "Jan-14      516\n",
      "Sep-15      512\n",
      "Oct-15      502\n",
      "Nov-14      497\n",
      "Apr-14      494\n",
      "Nov-13      473\n",
      "May-14      473\n",
      "Jun-14      466\n",
      "May-13      448\n",
      "Jan-15      440\n",
      "Apr-13      425\n",
      "May-15      423\n",
      "Dec-13      422\n",
      "Aug-15      422\n",
      "Oct-13      416\n",
      "Nov-12      404\n",
      "Jul-13      396\n",
      "Sep-12      391\n",
      "Sep-13      390\n",
      "Apr-15      388\n",
      "Aug-12      377\n",
      "Jun-15      375\n",
      "Dec-12      374\n",
      "Mar-15      371\n",
      "Aug-13      370\n",
      "Jun-13      370\n",
      "Feb-12      368\n",
      "Feb-15      358\n",
      "Mar-12      338\n",
      "Oct-12      332\n",
      "May-12      324\n",
      "Apr-12      308\n",
      "Jun-12      308\n",
      "Jul-12      297\n",
      "Jan-12      258\n",
      "Mar-11      257\n",
      "Aug-11      254\n",
      "Dec-11      245\n",
      "Nov-11      201\n",
      "May-11      193\n",
      "Jun-11      165\n",
      "Sep-11      157\n",
      "Jul-11      156\n",
      "Feb-11      151\n",
      "Oct-11      148\n",
      "Apr-11      135\n",
      "Jan-11      129\n",
      "Dec-10      111\n",
      "Jul-10      107\n",
      "Sep-10       97\n",
      "Nov-10       93\n",
      "Oct-10       89\n",
      "Feb-10       69\n",
      "Apr-10       60\n",
      "Aug-10       51\n",
      "May-10       50\n",
      "Mar-10       48\n",
      "Dec-09       46\n",
      "Jun-10       46\n",
      "Jan-13       34\n",
      "Oct-09       33\n",
      "Nov-09       28\n",
      "Jan-10       27\n",
      "Aug-09       19\n",
      "Feb-09       16\n",
      "Apr-09       15\n",
      "Aug-07       15\n",
      "Jan-09       14\n",
      "Jul-09       13\n",
      "Jun-09       13\n",
      "Jun-07       12\n",
      "Sep-09       11\n",
      "May-09       10\n",
      "Mar-09       10\n",
      "Aug-08        9\n",
      "Oct-08        9\n",
      "Dec-08        5\n",
      "Sep-08        5\n",
      "Mar-08        4\n",
      "Feb-08        3\n",
      "Jan-08        3\n",
      "Oct-07        3\n",
      "Dec-07        2\n",
      "Sep-07        2\n",
      "May-08        1\n",
      "Jun-08        1\n",
      "Jul-08        1\n",
      "May-07        1\n",
      "Jul-07        1\n",
      "Name: last_credit_pull_d, dtype: int64\n",
      "_______________\n",
      "\n",
      "\n",
      "Column :  collections_12_mths_ex_med \n",
      "\n",
      "Describe : \n",
      " count    39661.0\n",
      "mean         0.0\n",
      "std          0.0\n",
      "min          0.0\n",
      "25%          0.0\n",
      "50%          0.0\n",
      "75%          0.0\n",
      "max          0.0\n",
      "Name: collections_12_mths_ex_med, dtype: float64\n",
      "\n",
      "nulls count :  56\n",
      "nulls %     :  0.141%\n",
      "\n",
      "Value Counts : \n",
      " 0.0    39661\n",
      "Name: collections_12_mths_ex_med, dtype: int64\n",
      "_______________\n",
      "\n",
      "\n",
      "Column :  chargeoff_within_12_mths \n",
      "\n",
      "Describe : \n",
      " count    39661.0\n",
      "mean         0.0\n",
      "std          0.0\n",
      "min          0.0\n",
      "25%          0.0\n",
      "50%          0.0\n",
      "75%          0.0\n",
      "max          0.0\n",
      "Name: chargeoff_within_12_mths, dtype: float64\n",
      "\n",
      "nulls count :  56\n",
      "nulls %     :  0.141%\n",
      "\n",
      "Value Counts : \n",
      " 0.0    39661\n",
      "Name: chargeoff_within_12_mths, dtype: int64\n",
      "_______________\n",
      "\n",
      "\n",
      "Column :  pub_rec_bankruptcies \n",
      "\n",
      "Describe : \n",
      " count    39020.000000\n",
      "mean         0.043260\n",
      "std          0.204324\n",
      "min          0.000000\n",
      "25%          0.000000\n",
      "50%          0.000000\n",
      "75%          0.000000\n",
      "max          2.000000\n",
      "Name: pub_rec_bankruptcies, dtype: float64\n",
      "\n",
      "nulls count :  697\n",
      "nulls %     :  1.755%\n",
      "\n",
      "Value Counts : \n",
      " 0.0    37339\n",
      "1.0     1674\n",
      "2.0        7\n",
      "Name: pub_rec_bankruptcies, dtype: int64\n",
      "_______________\n",
      "\n",
      "\n",
      "Column :  tax_liens \n",
      "\n",
      "Describe : \n",
      " count    39678.0\n",
      "mean         0.0\n",
      "std          0.0\n",
      "min          0.0\n",
      "25%          0.0\n",
      "50%          0.0\n",
      "75%          0.0\n",
      "max          0.0\n",
      "Name: tax_liens, dtype: float64\n",
      "\n",
      "nulls count :  39\n",
      "nulls %     :  0.098%\n",
      "\n",
      "Value Counts : \n",
      " 0.0    39678\n",
      "Name: tax_liens, dtype: int64\n",
      "_______________\n",
      "\n",
      "\n"
     ]
    }
   ],
   "source": [
    "# checking each of the columns with some missing values\n",
    "for some_null in some_nulls_columns:\n",
    "    print(\"Column : \", some_null + \" \\n\")\n",
    "    print(\"Describe : \\n\",loan[some_null].describe())\n",
    "\n",
    "    null_count= loan[some_null].isna().sum()\n",
    "\n",
    "    print(\"\\nnulls count : \" ,null_count)\n",
    "    print(\"nulls %     : \",\"{0:.3f}%\".format((100*null_count)/loan.shape[0]))\n",
    "    print(\"\\nValue Counts : \\n\",loan[some_null].value_counts().sort_values(ascending=False))\n",
    "    print(\"_______________\\n\\n\")"
   ]
  },
  {
   "cell_type": "code",
   "execution_count": 14,
   "metadata": {
    "id": "5c43b2b6"
   },
   "outputs": [
    {
     "data": {
      "text/html": [
       "<div>\n",
       "<style scoped>\n",
       "    .dataframe tbody tr th:only-of-type {\n",
       "        vertical-align: middle;\n",
       "    }\n",
       "\n",
       "    .dataframe tbody tr th {\n",
       "        vertical-align: top;\n",
       "    }\n",
       "\n",
       "    .dataframe thead th {\n",
       "        text-align: right;\n",
       "    }\n",
       "</style>\n",
       "<table border=\"1\" class=\"dataframe\">\n",
       "  <thead>\n",
       "    <tr style=\"text-align: right;\">\n",
       "      <th></th>\n",
       "      <th>nulls</th>\n",
       "    </tr>\n",
       "  </thead>\n",
       "  <tbody>\n",
       "    <tr>\n",
       "      <th>next_pymnt_d</th>\n",
       "      <td>38577</td>\n",
       "    </tr>\n",
       "    <tr>\n",
       "      <th>mths_since_last_record</th>\n",
       "      <td>36931</td>\n",
       "    </tr>\n",
       "    <tr>\n",
       "      <th>mths_since_last_delinq</th>\n",
       "      <td>25682</td>\n",
       "    </tr>\n",
       "    <tr>\n",
       "      <th>desc</th>\n",
       "      <td>12940</td>\n",
       "    </tr>\n",
       "    <tr>\n",
       "      <th>emp_title</th>\n",
       "      <td>2459</td>\n",
       "    </tr>\n",
       "    <tr>\n",
       "      <th>emp_length</th>\n",
       "      <td>1075</td>\n",
       "    </tr>\n",
       "    <tr>\n",
       "      <th>pub_rec_bankruptcies</th>\n",
       "      <td>697</td>\n",
       "    </tr>\n",
       "    <tr>\n",
       "      <th>last_pymnt_d</th>\n",
       "      <td>71</td>\n",
       "    </tr>\n",
       "    <tr>\n",
       "      <th>collections_12_mths_ex_med</th>\n",
       "      <td>56</td>\n",
       "    </tr>\n",
       "    <tr>\n",
       "      <th>chargeoff_within_12_mths</th>\n",
       "      <td>56</td>\n",
       "    </tr>\n",
       "    <tr>\n",
       "      <th>revol_util</th>\n",
       "      <td>50</td>\n",
       "    </tr>\n",
       "    <tr>\n",
       "      <th>tax_liens</th>\n",
       "      <td>39</td>\n",
       "    </tr>\n",
       "    <tr>\n",
       "      <th>title</th>\n",
       "      <td>11</td>\n",
       "    </tr>\n",
       "    <tr>\n",
       "      <th>last_credit_pull_d</th>\n",
       "      <td>2</td>\n",
       "    </tr>\n",
       "  </tbody>\n",
       "</table>\n",
       "</div>"
      ],
      "text/plain": [
       "                            nulls\n",
       "next_pymnt_d                38577\n",
       "mths_since_last_record      36931\n",
       "mths_since_last_delinq      25682\n",
       "desc                        12940\n",
       "emp_title                    2459\n",
       "emp_length                   1075\n",
       "pub_rec_bankruptcies          697\n",
       "last_pymnt_d                   71\n",
       "collections_12_mths_ex_med     56\n",
       "chargeoff_within_12_mths       56\n",
       "revol_util                     50\n",
       "tax_liens                      39\n",
       "title                          11\n",
       "last_credit_pull_d              2"
      ]
     },
     "execution_count": 14,
     "metadata": {},
     "output_type": "execute_result"
    }
   ],
   "source": [
    "some_nulls_df.sort_values(by=\"nulls\", ascending=False, inplace=True)\n",
    "some_nulls_df"
   ]
  },
  {
   "cell_type": "markdown",
   "metadata": {
    "id": "ff600a9d"
   },
   "source": [
    "## Analysis for variance of values"
   ]
  },
  {
   "cell_type": "code",
   "execution_count": 15,
   "metadata": {
    "id": "0418e6a1",
    "scrolled": false
   },
   "outputs": [
    {
     "data": {
      "text/html": [
       "<div>\n",
       "<style scoped>\n",
       "    .dataframe tbody tr th:only-of-type {\n",
       "        vertical-align: middle;\n",
       "    }\n",
       "\n",
       "    .dataframe tbody tr th {\n",
       "        vertical-align: top;\n",
       "    }\n",
       "\n",
       "    .dataframe thead th {\n",
       "        text-align: right;\n",
       "    }\n",
       "</style>\n",
       "<table border=\"1\" class=\"dataframe\">\n",
       "  <thead>\n",
       "    <tr style=\"text-align: right;\">\n",
       "      <th></th>\n",
       "      <th>column</th>\n",
       "      <th>uniqueValues</th>\n",
       "      <th>sample_value</th>\n",
       "      <th>type</th>\n",
       "      <th>missingCount</th>\n",
       "      <th>missing Percentage</th>\n",
       "    </tr>\n",
       "  </thead>\n",
       "  <tbody>\n",
       "    <tr>\n",
       "      <th>56</th>\n",
       "      <td>tax_liens</td>\n",
       "      <td>1</td>\n",
       "      <td>0.0</td>\n",
       "      <td>&lt;class 'numpy.float64'&gt;</td>\n",
       "      <td>39</td>\n",
       "      <td>0.098195</td>\n",
       "    </tr>\n",
       "    <tr>\n",
       "      <th>54</th>\n",
       "      <td>delinq_amnt</td>\n",
       "      <td>1</td>\n",
       "      <td>0</td>\n",
       "      <td>&lt;class 'numpy.int64'&gt;</td>\n",
       "      <td>0</td>\n",
       "      <td>0.000000</td>\n",
       "    </tr>\n",
       "    <tr>\n",
       "      <th>53</th>\n",
       "      <td>chargeoff_within_12_mths</td>\n",
       "      <td>1</td>\n",
       "      <td>0.0</td>\n",
       "      <td>&lt;class 'numpy.float64'&gt;</td>\n",
       "      <td>56</td>\n",
       "      <td>0.140998</td>\n",
       "    </tr>\n",
       "    <tr>\n",
       "      <th>52</th>\n",
       "      <td>acc_now_delinq</td>\n",
       "      <td>1</td>\n",
       "      <td>0</td>\n",
       "      <td>&lt;class 'numpy.int64'&gt;</td>\n",
       "      <td>0</td>\n",
       "      <td>0.000000</td>\n",
       "    </tr>\n",
       "    <tr>\n",
       "      <th>51</th>\n",
       "      <td>application_type</td>\n",
       "      <td>1</td>\n",
       "      <td>INDIVIDUAL</td>\n",
       "      <td>&lt;class 'str'&gt;</td>\n",
       "      <td>0</td>\n",
       "      <td>0.000000</td>\n",
       "    </tr>\n",
       "    <tr>\n",
       "      <th>50</th>\n",
       "      <td>policy_code</td>\n",
       "      <td>1</td>\n",
       "      <td>1</td>\n",
       "      <td>&lt;class 'numpy.int64'&gt;</td>\n",
       "      <td>0</td>\n",
       "      <td>0.000000</td>\n",
       "    </tr>\n",
       "    <tr>\n",
       "      <th>49</th>\n",
       "      <td>collections_12_mths_ex_med</td>\n",
       "      <td>1</td>\n",
       "      <td>0.0</td>\n",
       "      <td>&lt;class 'numpy.float64'&gt;</td>\n",
       "      <td>56</td>\n",
       "      <td>0.140998</td>\n",
       "    </tr>\n",
       "    <tr>\n",
       "      <th>17</th>\n",
       "      <td>pymnt_plan</td>\n",
       "      <td>1</td>\n",
       "      <td>n</td>\n",
       "      <td>&lt;class 'str'&gt;</td>\n",
       "      <td>0</td>\n",
       "      <td>0.000000</td>\n",
       "    </tr>\n",
       "    <tr>\n",
       "      <th>35</th>\n",
       "      <td>initial_list_status</td>\n",
       "      <td>1</td>\n",
       "      <td>f</td>\n",
       "      <td>&lt;class 'str'&gt;</td>\n",
       "      <td>0</td>\n",
       "      <td>0.000000</td>\n",
       "    </tr>\n",
       "    <tr>\n",
       "      <th>5</th>\n",
       "      <td>term</td>\n",
       "      <td>2</td>\n",
       "      <td>36 months</td>\n",
       "      <td>&lt;class 'str'&gt;</td>\n",
       "      <td>0</td>\n",
       "      <td>0.000000</td>\n",
       "    </tr>\n",
       "    <tr>\n",
       "      <th>47</th>\n",
       "      <td>next_pymnt_d</td>\n",
       "      <td>2</td>\n",
       "      <td>Jun-16</td>\n",
       "      <td>&lt;class 'str'&gt;</td>\n",
       "      <td>38577</td>\n",
       "      <td>97.129693</td>\n",
       "    </tr>\n",
       "    <tr>\n",
       "      <th>55</th>\n",
       "      <td>pub_rec_bankruptcies</td>\n",
       "      <td>3</td>\n",
       "      <td>0.0</td>\n",
       "      <td>&lt;class 'numpy.float64'&gt;</td>\n",
       "      <td>697</td>\n",
       "      <td>1.754916</td>\n",
       "    </tr>\n",
       "    <tr>\n",
       "      <th>16</th>\n",
       "      <td>loan_status</td>\n",
       "      <td>3</td>\n",
       "      <td>Fully Paid</td>\n",
       "      <td>&lt;class 'str'&gt;</td>\n",
       "      <td>0</td>\n",
       "      <td>0.000000</td>\n",
       "    </tr>\n",
       "    <tr>\n",
       "      <th>14</th>\n",
       "      <td>verification_status</td>\n",
       "      <td>3</td>\n",
       "      <td>Not Verified</td>\n",
       "      <td>&lt;class 'str'&gt;</td>\n",
       "      <td>0</td>\n",
       "      <td>0.000000</td>\n",
       "    </tr>\n",
       "    <tr>\n",
       "      <th>31</th>\n",
       "      <td>pub_rec</td>\n",
       "      <td>5</td>\n",
       "      <td>0</td>\n",
       "      <td>&lt;class 'numpy.int64'&gt;</td>\n",
       "      <td>0</td>\n",
       "      <td>0.000000</td>\n",
       "    </tr>\n",
       "    <tr>\n",
       "      <th>12</th>\n",
       "      <td>home_ownership</td>\n",
       "      <td>5</td>\n",
       "      <td>RENT</td>\n",
       "      <td>&lt;class 'str'&gt;</td>\n",
       "      <td>0</td>\n",
       "      <td>0.000000</td>\n",
       "    </tr>\n",
       "    <tr>\n",
       "      <th>8</th>\n",
       "      <td>grade</td>\n",
       "      <td>7</td>\n",
       "      <td>B</td>\n",
       "      <td>&lt;class 'str'&gt;</td>\n",
       "      <td>0</td>\n",
       "      <td>0.000000</td>\n",
       "    </tr>\n",
       "    <tr>\n",
       "      <th>27</th>\n",
       "      <td>inq_last_6mths</td>\n",
       "      <td>9</td>\n",
       "      <td>0</td>\n",
       "      <td>&lt;class 'numpy.int64'&gt;</td>\n",
       "      <td>0</td>\n",
       "      <td>0.000000</td>\n",
       "    </tr>\n",
       "    <tr>\n",
       "      <th>11</th>\n",
       "      <td>emp_length</td>\n",
       "      <td>11</td>\n",
       "      <td>10+ years</td>\n",
       "      <td>&lt;class 'str'&gt;</td>\n",
       "      <td>1075</td>\n",
       "      <td>2.706650</td>\n",
       "    </tr>\n",
       "    <tr>\n",
       "      <th>25</th>\n",
       "      <td>delinq_2yrs</td>\n",
       "      <td>11</td>\n",
       "      <td>0</td>\n",
       "      <td>&lt;class 'numpy.int64'&gt;</td>\n",
       "      <td>0</td>\n",
       "      <td>0.000000</td>\n",
       "    </tr>\n",
       "    <tr>\n",
       "      <th>20</th>\n",
       "      <td>purpose</td>\n",
       "      <td>14</td>\n",
       "      <td>debt_consolidation</td>\n",
       "      <td>&lt;class 'str'&gt;</td>\n",
       "      <td>0</td>\n",
       "      <td>0.000000</td>\n",
       "    </tr>\n",
       "    <tr>\n",
       "      <th>9</th>\n",
       "      <td>sub_grade</td>\n",
       "      <td>35</td>\n",
       "      <td>B3</td>\n",
       "      <td>&lt;class 'str'&gt;</td>\n",
       "      <td>0</td>\n",
       "      <td>0.000000</td>\n",
       "    </tr>\n",
       "    <tr>\n",
       "      <th>30</th>\n",
       "      <td>open_acc</td>\n",
       "      <td>40</td>\n",
       "      <td>7</td>\n",
       "      <td>&lt;class 'numpy.int64'&gt;</td>\n",
       "      <td>0</td>\n",
       "      <td>0.000000</td>\n",
       "    </tr>\n",
       "    <tr>\n",
       "      <th>23</th>\n",
       "      <td>addr_state</td>\n",
       "      <td>50</td>\n",
       "      <td>CA</td>\n",
       "      <td>&lt;class 'str'&gt;</td>\n",
       "      <td>0</td>\n",
       "      <td>0.000000</td>\n",
       "    </tr>\n",
       "    <tr>\n",
       "      <th>15</th>\n",
       "      <td>issue_d</td>\n",
       "      <td>55</td>\n",
       "      <td>Dec-11</td>\n",
       "      <td>&lt;class 'str'&gt;</td>\n",
       "      <td>0</td>\n",
       "      <td>0.000000</td>\n",
       "    </tr>\n",
       "    <tr>\n",
       "      <th>34</th>\n",
       "      <td>total_acc</td>\n",
       "      <td>82</td>\n",
       "      <td>16</td>\n",
       "      <td>&lt;class 'numpy.int64'&gt;</td>\n",
       "      <td>0</td>\n",
       "      <td>0.000000</td>\n",
       "    </tr>\n",
       "    <tr>\n",
       "      <th>28</th>\n",
       "      <td>mths_since_last_delinq</td>\n",
       "      <td>95</td>\n",
       "      <td>0.0</td>\n",
       "      <td>&lt;class 'numpy.float64'&gt;</td>\n",
       "      <td>25682</td>\n",
       "      <td>64.662487</td>\n",
       "    </tr>\n",
       "    <tr>\n",
       "      <th>45</th>\n",
       "      <td>last_pymnt_d</td>\n",
       "      <td>101</td>\n",
       "      <td>May-16</td>\n",
       "      <td>&lt;class 'str'&gt;</td>\n",
       "      <td>71</td>\n",
       "      <td>0.178765</td>\n",
       "    </tr>\n",
       "    <tr>\n",
       "      <th>48</th>\n",
       "      <td>last_credit_pull_d</td>\n",
       "      <td>106</td>\n",
       "      <td>May-16</td>\n",
       "      <td>&lt;class 'str'&gt;</td>\n",
       "      <td>2</td>\n",
       "      <td>0.005036</td>\n",
       "    </tr>\n",
       "    <tr>\n",
       "      <th>29</th>\n",
       "      <td>mths_since_last_record</td>\n",
       "      <td>111</td>\n",
       "      <td>0.0</td>\n",
       "      <td>&lt;class 'numpy.float64'&gt;</td>\n",
       "      <td>36931</td>\n",
       "      <td>92.985372</td>\n",
       "    </tr>\n",
       "    <tr>\n",
       "      <th>6</th>\n",
       "      <td>int_rate</td>\n",
       "      <td>371</td>\n",
       "      <td>10.99%</td>\n",
       "      <td>&lt;class 'str'&gt;</td>\n",
       "      <td>0</td>\n",
       "      <td>0.000000</td>\n",
       "    </tr>\n",
       "    <tr>\n",
       "      <th>26</th>\n",
       "      <td>earliest_cr_line</td>\n",
       "      <td>526</td>\n",
       "      <td>Nov-98</td>\n",
       "      <td>&lt;class 'str'&gt;</td>\n",
       "      <td>0</td>\n",
       "      <td>0.000000</td>\n",
       "    </tr>\n",
       "    <tr>\n",
       "      <th>22</th>\n",
       "      <td>zip_code</td>\n",
       "      <td>823</td>\n",
       "      <td>100xx</td>\n",
       "      <td>&lt;class 'str'&gt;</td>\n",
       "      <td>0</td>\n",
       "      <td>0.000000</td>\n",
       "    </tr>\n",
       "    <tr>\n",
       "      <th>2</th>\n",
       "      <td>loan_amnt</td>\n",
       "      <td>885</td>\n",
       "      <td>10000</td>\n",
       "      <td>&lt;class 'numpy.int64'&gt;</td>\n",
       "      <td>0</td>\n",
       "      <td>0.000000</td>\n",
       "    </tr>\n",
       "    <tr>\n",
       "      <th>3</th>\n",
       "      <td>funded_amnt</td>\n",
       "      <td>1041</td>\n",
       "      <td>10000</td>\n",
       "      <td>&lt;class 'numpy.int64'&gt;</td>\n",
       "      <td>0</td>\n",
       "      <td>0.000000</td>\n",
       "    </tr>\n",
       "    <tr>\n",
       "      <th>33</th>\n",
       "      <td>revol_util</td>\n",
       "      <td>1089</td>\n",
       "      <td>0%</td>\n",
       "      <td>&lt;class 'str'&gt;</td>\n",
       "      <td>50</td>\n",
       "      <td>0.125891</td>\n",
       "    </tr>\n",
       "    <tr>\n",
       "      <th>36</th>\n",
       "      <td>out_prncp</td>\n",
       "      <td>1137</td>\n",
       "      <td>0.0</td>\n",
       "      <td>&lt;class 'numpy.float64'&gt;</td>\n",
       "      <td>0</td>\n",
       "      <td>0.000000</td>\n",
       "    </tr>\n",
       "    <tr>\n",
       "      <th>37</th>\n",
       "      <td>out_prncp_inv</td>\n",
       "      <td>1138</td>\n",
       "      <td>0.0</td>\n",
       "      <td>&lt;class 'numpy.float64'&gt;</td>\n",
       "      <td>0</td>\n",
       "      <td>0.000000</td>\n",
       "    </tr>\n",
       "    <tr>\n",
       "      <th>42</th>\n",
       "      <td>total_rec_late_fee</td>\n",
       "      <td>1356</td>\n",
       "      <td>0.0</td>\n",
       "      <td>&lt;class 'numpy.float64'&gt;</td>\n",
       "      <td>0</td>\n",
       "      <td>0.000000</td>\n",
       "    </tr>\n",
       "    <tr>\n",
       "      <th>44</th>\n",
       "      <td>collection_recovery_fee</td>\n",
       "      <td>2616</td>\n",
       "      <td>0.0</td>\n",
       "      <td>&lt;class 'numpy.float64'&gt;</td>\n",
       "      <td>0</td>\n",
       "      <td>0.000000</td>\n",
       "    </tr>\n",
       "    <tr>\n",
       "      <th>24</th>\n",
       "      <td>dti</td>\n",
       "      <td>2868</td>\n",
       "      <td>0.0</td>\n",
       "      <td>&lt;class 'numpy.float64'&gt;</td>\n",
       "      <td>0</td>\n",
       "      <td>0.000000</td>\n",
       "    </tr>\n",
       "    <tr>\n",
       "      <th>43</th>\n",
       "      <td>recoveries</td>\n",
       "      <td>4040</td>\n",
       "      <td>0.0</td>\n",
       "      <td>&lt;class 'numpy.float64'&gt;</td>\n",
       "      <td>0</td>\n",
       "      <td>0.000000</td>\n",
       "    </tr>\n",
       "    <tr>\n",
       "      <th>13</th>\n",
       "      <td>annual_inc</td>\n",
       "      <td>5318</td>\n",
       "      <td>60000.0</td>\n",
       "      <td>&lt;class 'numpy.float64'&gt;</td>\n",
       "      <td>0</td>\n",
       "      <td>0.000000</td>\n",
       "    </tr>\n",
       "    <tr>\n",
       "      <th>40</th>\n",
       "      <td>total_rec_prncp</td>\n",
       "      <td>7976</td>\n",
       "      <td>10000.0</td>\n",
       "      <td>&lt;class 'numpy.float64'&gt;</td>\n",
       "      <td>0</td>\n",
       "      <td>0.000000</td>\n",
       "    </tr>\n",
       "    <tr>\n",
       "      <th>4</th>\n",
       "      <td>funded_amnt_inv</td>\n",
       "      <td>8205</td>\n",
       "      <td>5000.0</td>\n",
       "      <td>&lt;class 'numpy.float64'&gt;</td>\n",
       "      <td>0</td>\n",
       "      <td>0.000000</td>\n",
       "    </tr>\n",
       "    <tr>\n",
       "      <th>7</th>\n",
       "      <td>installment</td>\n",
       "      <td>15383</td>\n",
       "      <td>311.11</td>\n",
       "      <td>&lt;class 'numpy.float64'&gt;</td>\n",
       "      <td>0</td>\n",
       "      <td>0.000000</td>\n",
       "    </tr>\n",
       "    <tr>\n",
       "      <th>21</th>\n",
       "      <td>title</td>\n",
       "      <td>19615</td>\n",
       "      <td>Debt Consolidation</td>\n",
       "      <td>&lt;class 'str'&gt;</td>\n",
       "      <td>11</td>\n",
       "      <td>0.027696</td>\n",
       "    </tr>\n",
       "    <tr>\n",
       "      <th>32</th>\n",
       "      <td>revol_bal</td>\n",
       "      <td>21711</td>\n",
       "      <td>0</td>\n",
       "      <td>&lt;class 'numpy.int64'&gt;</td>\n",
       "      <td>0</td>\n",
       "      <td>0.000000</td>\n",
       "    </tr>\n",
       "    <tr>\n",
       "      <th>19</th>\n",
       "      <td>desc</td>\n",
       "      <td>26527</td>\n",
       "      <td></td>\n",
       "      <td>&lt;class 'str'&gt;</td>\n",
       "      <td>12940</td>\n",
       "      <td>32.580507</td>\n",
       "    </tr>\n",
       "    <tr>\n",
       "      <th>10</th>\n",
       "      <td>emp_title</td>\n",
       "      <td>28820</td>\n",
       "      <td>US Army</td>\n",
       "      <td>&lt;class 'str'&gt;</td>\n",
       "      <td>2459</td>\n",
       "      <td>6.191303</td>\n",
       "    </tr>\n",
       "    <tr>\n",
       "      <th>46</th>\n",
       "      <td>last_pymnt_amnt</td>\n",
       "      <td>34930</td>\n",
       "      <td>0.0</td>\n",
       "      <td>&lt;class 'numpy.float64'&gt;</td>\n",
       "      <td>0</td>\n",
       "      <td>0.000000</td>\n",
       "    </tr>\n",
       "    <tr>\n",
       "      <th>41</th>\n",
       "      <td>total_rec_int</td>\n",
       "      <td>35148</td>\n",
       "      <td>0.0</td>\n",
       "      <td>&lt;class 'numpy.float64'&gt;</td>\n",
       "      <td>0</td>\n",
       "      <td>0.000000</td>\n",
       "    </tr>\n",
       "    <tr>\n",
       "      <th>39</th>\n",
       "      <td>total_pymnt_inv</td>\n",
       "      <td>37518</td>\n",
       "      <td>0.0</td>\n",
       "      <td>&lt;class 'numpy.float64'&gt;</td>\n",
       "      <td>0</td>\n",
       "      <td>0.000000</td>\n",
       "    </tr>\n",
       "    <tr>\n",
       "      <th>38</th>\n",
       "      <td>total_pymnt</td>\n",
       "      <td>37850</td>\n",
       "      <td>11196.56943</td>\n",
       "      <td>&lt;class 'numpy.float64'&gt;</td>\n",
       "      <td>0</td>\n",
       "      <td>0.000000</td>\n",
       "    </tr>\n",
       "    <tr>\n",
       "      <th>18</th>\n",
       "      <td>url</td>\n",
       "      <td>39717</td>\n",
       "      <td>https://lendingclub.com/browse/loanDetail.acti...</td>\n",
       "      <td>&lt;class 'str'&gt;</td>\n",
       "      <td>0</td>\n",
       "      <td>0.000000</td>\n",
       "    </tr>\n",
       "    <tr>\n",
       "      <th>1</th>\n",
       "      <td>member_id</td>\n",
       "      <td>39717</td>\n",
       "      <td>1296599</td>\n",
       "      <td>&lt;class 'numpy.int64'&gt;</td>\n",
       "      <td>0</td>\n",
       "      <td>0.000000</td>\n",
       "    </tr>\n",
       "    <tr>\n",
       "      <th>0</th>\n",
       "      <td>id</td>\n",
       "      <td>39717</td>\n",
       "      <td>1077501</td>\n",
       "      <td>&lt;class 'numpy.int64'&gt;</td>\n",
       "      <td>0</td>\n",
       "      <td>0.000000</td>\n",
       "    </tr>\n",
       "  </tbody>\n",
       "</table>\n",
       "</div>"
      ],
      "text/plain": [
       "                        column  uniqueValues  \\\n",
       "56                   tax_liens             1   \n",
       "54                 delinq_amnt             1   \n",
       "53    chargeoff_within_12_mths             1   \n",
       "52              acc_now_delinq             1   \n",
       "51            application_type             1   \n",
       "50                 policy_code             1   \n",
       "49  collections_12_mths_ex_med             1   \n",
       "17                  pymnt_plan             1   \n",
       "35         initial_list_status             1   \n",
       "5                         term             2   \n",
       "47                next_pymnt_d             2   \n",
       "55        pub_rec_bankruptcies             3   \n",
       "16                 loan_status             3   \n",
       "14         verification_status             3   \n",
       "31                     pub_rec             5   \n",
       "12              home_ownership             5   \n",
       "8                        grade             7   \n",
       "27              inq_last_6mths             9   \n",
       "11                  emp_length            11   \n",
       "25                 delinq_2yrs            11   \n",
       "20                     purpose            14   \n",
       "9                    sub_grade            35   \n",
       "30                    open_acc            40   \n",
       "23                  addr_state            50   \n",
       "15                     issue_d            55   \n",
       "34                   total_acc            82   \n",
       "28      mths_since_last_delinq            95   \n",
       "45                last_pymnt_d           101   \n",
       "48          last_credit_pull_d           106   \n",
       "29      mths_since_last_record           111   \n",
       "6                     int_rate           371   \n",
       "26            earliest_cr_line           526   \n",
       "22                    zip_code           823   \n",
       "2                    loan_amnt           885   \n",
       "3                  funded_amnt          1041   \n",
       "33                  revol_util          1089   \n",
       "36                   out_prncp          1137   \n",
       "37               out_prncp_inv          1138   \n",
       "42          total_rec_late_fee          1356   \n",
       "44     collection_recovery_fee          2616   \n",
       "24                         dti          2868   \n",
       "43                  recoveries          4040   \n",
       "13                  annual_inc          5318   \n",
       "40             total_rec_prncp          7976   \n",
       "4              funded_amnt_inv          8205   \n",
       "7                  installment         15383   \n",
       "21                       title         19615   \n",
       "32                   revol_bal         21711   \n",
       "19                        desc         26527   \n",
       "10                   emp_title         28820   \n",
       "46             last_pymnt_amnt         34930   \n",
       "41               total_rec_int         35148   \n",
       "39             total_pymnt_inv         37518   \n",
       "38                 total_pymnt         37850   \n",
       "18                         url         39717   \n",
       "1                    member_id         39717   \n",
       "0                           id         39717   \n",
       "\n",
       "                                         sample_value  \\\n",
       "56                                                0.0   \n",
       "54                                                  0   \n",
       "53                                                0.0   \n",
       "52                                                  0   \n",
       "51                                         INDIVIDUAL   \n",
       "50                                                  1   \n",
       "49                                                0.0   \n",
       "17                                                  n   \n",
       "35                                                  f   \n",
       "5                                           36 months   \n",
       "47                                             Jun-16   \n",
       "55                                                0.0   \n",
       "16                                         Fully Paid   \n",
       "14                                       Not Verified   \n",
       "31                                                  0   \n",
       "12                                               RENT   \n",
       "8                                                   B   \n",
       "27                                                  0   \n",
       "11                                          10+ years   \n",
       "25                                                  0   \n",
       "20                                 debt_consolidation   \n",
       "9                                                  B3   \n",
       "30                                                  7   \n",
       "23                                                 CA   \n",
       "15                                             Dec-11   \n",
       "34                                                 16   \n",
       "28                                                0.0   \n",
       "45                                             May-16   \n",
       "48                                             May-16   \n",
       "29                                                0.0   \n",
       "6                                              10.99%   \n",
       "26                                             Nov-98   \n",
       "22                                              100xx   \n",
       "2                                               10000   \n",
       "3                                               10000   \n",
       "33                                                 0%   \n",
       "36                                                0.0   \n",
       "37                                                0.0   \n",
       "42                                                0.0   \n",
       "44                                                0.0   \n",
       "24                                                0.0   \n",
       "43                                                0.0   \n",
       "13                                            60000.0   \n",
       "40                                            10000.0   \n",
       "4                                              5000.0   \n",
       "7                                              311.11   \n",
       "21                                 Debt Consolidation   \n",
       "32                                                  0   \n",
       "19                                                      \n",
       "10                                            US Army   \n",
       "46                                                0.0   \n",
       "41                                                0.0   \n",
       "39                                                0.0   \n",
       "38                                        11196.56943   \n",
       "18  https://lendingclub.com/browse/loanDetail.acti...   \n",
       "1                                             1296599   \n",
       "0                                             1077501   \n",
       "\n",
       "                       type  missingCount  missing Percentage  \n",
       "56  <class 'numpy.float64'>            39            0.098195  \n",
       "54    <class 'numpy.int64'>             0            0.000000  \n",
       "53  <class 'numpy.float64'>            56            0.140998  \n",
       "52    <class 'numpy.int64'>             0            0.000000  \n",
       "51            <class 'str'>             0            0.000000  \n",
       "50    <class 'numpy.int64'>             0            0.000000  \n",
       "49  <class 'numpy.float64'>            56            0.140998  \n",
       "17            <class 'str'>             0            0.000000  \n",
       "35            <class 'str'>             0            0.000000  \n",
       "5             <class 'str'>             0            0.000000  \n",
       "47            <class 'str'>         38577           97.129693  \n",
       "55  <class 'numpy.float64'>           697            1.754916  \n",
       "16            <class 'str'>             0            0.000000  \n",
       "14            <class 'str'>             0            0.000000  \n",
       "31    <class 'numpy.int64'>             0            0.000000  \n",
       "12            <class 'str'>             0            0.000000  \n",
       "8             <class 'str'>             0            0.000000  \n",
       "27    <class 'numpy.int64'>             0            0.000000  \n",
       "11            <class 'str'>          1075            2.706650  \n",
       "25    <class 'numpy.int64'>             0            0.000000  \n",
       "20            <class 'str'>             0            0.000000  \n",
       "9             <class 'str'>             0            0.000000  \n",
       "30    <class 'numpy.int64'>             0            0.000000  \n",
       "23            <class 'str'>             0            0.000000  \n",
       "15            <class 'str'>             0            0.000000  \n",
       "34    <class 'numpy.int64'>             0            0.000000  \n",
       "28  <class 'numpy.float64'>         25682           64.662487  \n",
       "45            <class 'str'>            71            0.178765  \n",
       "48            <class 'str'>             2            0.005036  \n",
       "29  <class 'numpy.float64'>         36931           92.985372  \n",
       "6             <class 'str'>             0            0.000000  \n",
       "26            <class 'str'>             0            0.000000  \n",
       "22            <class 'str'>             0            0.000000  \n",
       "2     <class 'numpy.int64'>             0            0.000000  \n",
       "3     <class 'numpy.int64'>             0            0.000000  \n",
       "33            <class 'str'>            50            0.125891  \n",
       "36  <class 'numpy.float64'>             0            0.000000  \n",
       "37  <class 'numpy.float64'>             0            0.000000  \n",
       "42  <class 'numpy.float64'>             0            0.000000  \n",
       "44  <class 'numpy.float64'>             0            0.000000  \n",
       "24  <class 'numpy.float64'>             0            0.000000  \n",
       "43  <class 'numpy.float64'>             0            0.000000  \n",
       "13  <class 'numpy.float64'>             0            0.000000  \n",
       "40  <class 'numpy.float64'>             0            0.000000  \n",
       "4   <class 'numpy.float64'>             0            0.000000  \n",
       "7   <class 'numpy.float64'>             0            0.000000  \n",
       "21            <class 'str'>            11            0.027696  \n",
       "32    <class 'numpy.int64'>             0            0.000000  \n",
       "19            <class 'str'>         12940           32.580507  \n",
       "10            <class 'str'>          2459            6.191303  \n",
       "46  <class 'numpy.float64'>             0            0.000000  \n",
       "41  <class 'numpy.float64'>             0            0.000000  \n",
       "39  <class 'numpy.float64'>             0            0.000000  \n",
       "38  <class 'numpy.float64'>             0            0.000000  \n",
       "18            <class 'str'>             0            0.000000  \n",
       "1     <class 'numpy.int64'>             0            0.000000  \n",
       "0     <class 'numpy.int64'>             0            0.000000  "
      ]
     },
     "execution_count": 15,
     "metadata": {},
     "output_type": "execute_result"
    }
   ],
   "source": [
    "# Analysing missing values in depth\n",
    "colLengths = []\n",
    "sampleValues = []\n",
    "types = []\n",
    "missing = []\n",
    "missingCount = []\n",
    "\n",
    "for column in loan.columns:\n",
    "    colLengths.append(len(loan[column].value_counts()))\n",
    "    sampleValues.append(loan[column].value_counts().index[0])\n",
    "    types.append(type(loan[column].value_counts().index[0]))\n",
    "    missingCount_ = loan[column].isna().sum()\n",
    "    missingCount.append(missingCount_)\n",
    "    missing.append(missingCount_ *100 / loan.shape[0])\n",
    "\n",
    "data = {\"column\": loan.columns, \"uniqueValues\": colLengths,\"sample_value\":sampleValues,\"type\":types,\"missingCount\":missingCount,\"missing Percentage\":missing}\n",
    "\n",
    "columnMetadata = pd.DataFrame(data)\n",
    "columnMetadata.sort_values(by=\"uniqueValues\", inplace=True)\n",
    "columnMetadata"
   ]
  },
  {
   "cell_type": "markdown",
   "metadata": {
    "id": "39705ff5"
   },
   "source": [
    "## Attributes ignorable based on data and stats"
   ]
  },
  {
   "cell_type": "code",
   "execution_count": 16,
   "metadata": {
    "id": "fd75668a"
   },
   "outputs": [
    {
     "data": {
      "text/html": [
       "<div>\n",
       "<style scoped>\n",
       "    .dataframe tbody tr th:only-of-type {\n",
       "        vertical-align: middle;\n",
       "    }\n",
       "\n",
       "    .dataframe tbody tr th {\n",
       "        vertical-align: top;\n",
       "    }\n",
       "\n",
       "    .dataframe thead th {\n",
       "        text-align: right;\n",
       "    }\n",
       "</style>\n",
       "<table border=\"1\" class=\"dataframe\">\n",
       "  <thead>\n",
       "    <tr style=\"text-align: right;\">\n",
       "      <th></th>\n",
       "      <th>column</th>\n",
       "      <th>uniqueValues</th>\n",
       "      <th>sample_value</th>\n",
       "      <th>type</th>\n",
       "      <th>missingCount</th>\n",
       "      <th>missing Percentage</th>\n",
       "    </tr>\n",
       "  </thead>\n",
       "  <tbody>\n",
       "    <tr>\n",
       "      <th>56</th>\n",
       "      <td>tax_liens</td>\n",
       "      <td>1</td>\n",
       "      <td>0.0</td>\n",
       "      <td>&lt;class 'numpy.float64'&gt;</td>\n",
       "      <td>39</td>\n",
       "      <td>0.098195</td>\n",
       "    </tr>\n",
       "    <tr>\n",
       "      <th>54</th>\n",
       "      <td>delinq_amnt</td>\n",
       "      <td>1</td>\n",
       "      <td>0</td>\n",
       "      <td>&lt;class 'numpy.int64'&gt;</td>\n",
       "      <td>0</td>\n",
       "      <td>0.000000</td>\n",
       "    </tr>\n",
       "    <tr>\n",
       "      <th>53</th>\n",
       "      <td>chargeoff_within_12_mths</td>\n",
       "      <td>1</td>\n",
       "      <td>0.0</td>\n",
       "      <td>&lt;class 'numpy.float64'&gt;</td>\n",
       "      <td>56</td>\n",
       "      <td>0.140998</td>\n",
       "    </tr>\n",
       "    <tr>\n",
       "      <th>52</th>\n",
       "      <td>acc_now_delinq</td>\n",
       "      <td>1</td>\n",
       "      <td>0</td>\n",
       "      <td>&lt;class 'numpy.int64'&gt;</td>\n",
       "      <td>0</td>\n",
       "      <td>0.000000</td>\n",
       "    </tr>\n",
       "    <tr>\n",
       "      <th>51</th>\n",
       "      <td>application_type</td>\n",
       "      <td>1</td>\n",
       "      <td>INDIVIDUAL</td>\n",
       "      <td>&lt;class 'str'&gt;</td>\n",
       "      <td>0</td>\n",
       "      <td>0.000000</td>\n",
       "    </tr>\n",
       "    <tr>\n",
       "      <th>50</th>\n",
       "      <td>policy_code</td>\n",
       "      <td>1</td>\n",
       "      <td>1</td>\n",
       "      <td>&lt;class 'numpy.int64'&gt;</td>\n",
       "      <td>0</td>\n",
       "      <td>0.000000</td>\n",
       "    </tr>\n",
       "    <tr>\n",
       "      <th>49</th>\n",
       "      <td>collections_12_mths_ex_med</td>\n",
       "      <td>1</td>\n",
       "      <td>0.0</td>\n",
       "      <td>&lt;class 'numpy.float64'&gt;</td>\n",
       "      <td>56</td>\n",
       "      <td>0.140998</td>\n",
       "    </tr>\n",
       "    <tr>\n",
       "      <th>17</th>\n",
       "      <td>pymnt_plan</td>\n",
       "      <td>1</td>\n",
       "      <td>n</td>\n",
       "      <td>&lt;class 'str'&gt;</td>\n",
       "      <td>0</td>\n",
       "      <td>0.000000</td>\n",
       "    </tr>\n",
       "    <tr>\n",
       "      <th>35</th>\n",
       "      <td>initial_list_status</td>\n",
       "      <td>1</td>\n",
       "      <td>f</td>\n",
       "      <td>&lt;class 'str'&gt;</td>\n",
       "      <td>0</td>\n",
       "      <td>0.000000</td>\n",
       "    </tr>\n",
       "    <tr>\n",
       "      <th>47</th>\n",
       "      <td>next_pymnt_d</td>\n",
       "      <td>2</td>\n",
       "      <td>Jun-16</td>\n",
       "      <td>&lt;class 'str'&gt;</td>\n",
       "      <td>38577</td>\n",
       "      <td>97.129693</td>\n",
       "    </tr>\n",
       "    <tr>\n",
       "      <th>29</th>\n",
       "      <td>mths_since_last_record</td>\n",
       "      <td>111</td>\n",
       "      <td>0.0</td>\n",
       "      <td>&lt;class 'numpy.float64'&gt;</td>\n",
       "      <td>36931</td>\n",
       "      <td>92.985372</td>\n",
       "    </tr>\n",
       "  </tbody>\n",
       "</table>\n",
       "</div>"
      ],
      "text/plain": [
       "                        column  uniqueValues sample_value  \\\n",
       "56                   tax_liens             1          0.0   \n",
       "54                 delinq_amnt             1            0   \n",
       "53    chargeoff_within_12_mths             1          0.0   \n",
       "52              acc_now_delinq             1            0   \n",
       "51            application_type             1   INDIVIDUAL   \n",
       "50                 policy_code             1            1   \n",
       "49  collections_12_mths_ex_med             1          0.0   \n",
       "17                  pymnt_plan             1            n   \n",
       "35         initial_list_status             1            f   \n",
       "47                next_pymnt_d             2       Jun-16   \n",
       "29      mths_since_last_record           111          0.0   \n",
       "\n",
       "                       type  missingCount  missing Percentage  \n",
       "56  <class 'numpy.float64'>            39            0.098195  \n",
       "54    <class 'numpy.int64'>             0            0.000000  \n",
       "53  <class 'numpy.float64'>            56            0.140998  \n",
       "52    <class 'numpy.int64'>             0            0.000000  \n",
       "51            <class 'str'>             0            0.000000  \n",
       "50    <class 'numpy.int64'>             0            0.000000  \n",
       "49  <class 'numpy.float64'>            56            0.140998  \n",
       "17            <class 'str'>             0            0.000000  \n",
       "35            <class 'str'>             0            0.000000  \n",
       "47            <class 'str'>         38577           97.129693  \n",
       "29  <class 'numpy.float64'>         36931           92.985372  "
      ]
     },
     "execution_count": 16,
     "metadata": {},
     "output_type": "execute_result"
    }
   ],
   "source": [
    "# Dropping columns that have only one unique value or with missing values >= 90%\n",
    "columnsCanBeIgnored = columnMetadata[ (columnMetadata['uniqueValues']==1) |  (columnMetadata['missing Percentage'] >= 90)] \n",
    "columnsCanBeIgnored"
   ]
  },
  {
   "cell_type": "code",
   "execution_count": 17,
   "metadata": {
    "id": "67716701"
   },
   "outputs": [],
   "source": [
    "loan.drop(columns=columnsCanBeIgnored['column'], inplace=True)"
   ]
  },
  {
   "cell_type": "markdown",
   "metadata": {
    "id": "6RbCYCFPw3iI"
   },
   "source": [
    "## Attributes that still having missing values"
   ]
  },
  {
   "cell_type": "code",
   "execution_count": 18,
   "metadata": {
    "id": "1a6bfa29",
    "scrolled": false
   },
   "outputs": [
    {
     "data": {
      "text/html": [
       "<div>\n",
       "<style scoped>\n",
       "    .dataframe tbody tr th:only-of-type {\n",
       "        vertical-align: middle;\n",
       "    }\n",
       "\n",
       "    .dataframe tbody tr th {\n",
       "        vertical-align: top;\n",
       "    }\n",
       "\n",
       "    .dataframe thead th {\n",
       "        text-align: right;\n",
       "    }\n",
       "</style>\n",
       "<table border=\"1\" class=\"dataframe\">\n",
       "  <thead>\n",
       "    <tr style=\"text-align: right;\">\n",
       "      <th></th>\n",
       "      <th>column</th>\n",
       "      <th>uniqueValues</th>\n",
       "      <th>sample_value</th>\n",
       "      <th>type</th>\n",
       "      <th>missingCount</th>\n",
       "      <th>missing Percentage</th>\n",
       "    </tr>\n",
       "  </thead>\n",
       "  <tbody>\n",
       "    <tr>\n",
       "      <th>55</th>\n",
       "      <td>pub_rec_bankruptcies</td>\n",
       "      <td>3</td>\n",
       "      <td>0.0</td>\n",
       "      <td>&lt;class 'numpy.float64'&gt;</td>\n",
       "      <td>697</td>\n",
       "      <td>1.754916</td>\n",
       "    </tr>\n",
       "    <tr>\n",
       "      <th>11</th>\n",
       "      <td>emp_length</td>\n",
       "      <td>11</td>\n",
       "      <td>10+ years</td>\n",
       "      <td>&lt;class 'str'&gt;</td>\n",
       "      <td>1075</td>\n",
       "      <td>2.706650</td>\n",
       "    </tr>\n",
       "    <tr>\n",
       "      <th>28</th>\n",
       "      <td>mths_since_last_delinq</td>\n",
       "      <td>95</td>\n",
       "      <td>0.0</td>\n",
       "      <td>&lt;class 'numpy.float64'&gt;</td>\n",
       "      <td>25682</td>\n",
       "      <td>64.662487</td>\n",
       "    </tr>\n",
       "    <tr>\n",
       "      <th>45</th>\n",
       "      <td>last_pymnt_d</td>\n",
       "      <td>101</td>\n",
       "      <td>May-16</td>\n",
       "      <td>&lt;class 'str'&gt;</td>\n",
       "      <td>71</td>\n",
       "      <td>0.178765</td>\n",
       "    </tr>\n",
       "    <tr>\n",
       "      <th>48</th>\n",
       "      <td>last_credit_pull_d</td>\n",
       "      <td>106</td>\n",
       "      <td>May-16</td>\n",
       "      <td>&lt;class 'str'&gt;</td>\n",
       "      <td>2</td>\n",
       "      <td>0.005036</td>\n",
       "    </tr>\n",
       "    <tr>\n",
       "      <th>33</th>\n",
       "      <td>revol_util</td>\n",
       "      <td>1089</td>\n",
       "      <td>0%</td>\n",
       "      <td>&lt;class 'str'&gt;</td>\n",
       "      <td>50</td>\n",
       "      <td>0.125891</td>\n",
       "    </tr>\n",
       "    <tr>\n",
       "      <th>21</th>\n",
       "      <td>title</td>\n",
       "      <td>19615</td>\n",
       "      <td>Debt Consolidation</td>\n",
       "      <td>&lt;class 'str'&gt;</td>\n",
       "      <td>11</td>\n",
       "      <td>0.027696</td>\n",
       "    </tr>\n",
       "    <tr>\n",
       "      <th>19</th>\n",
       "      <td>desc</td>\n",
       "      <td>26527</td>\n",
       "      <td></td>\n",
       "      <td>&lt;class 'str'&gt;</td>\n",
       "      <td>12940</td>\n",
       "      <td>32.580507</td>\n",
       "    </tr>\n",
       "    <tr>\n",
       "      <th>10</th>\n",
       "      <td>emp_title</td>\n",
       "      <td>28820</td>\n",
       "      <td>US Army</td>\n",
       "      <td>&lt;class 'str'&gt;</td>\n",
       "      <td>2459</td>\n",
       "      <td>6.191303</td>\n",
       "    </tr>\n",
       "  </tbody>\n",
       "</table>\n",
       "</div>"
      ],
      "text/plain": [
       "                    column  uniqueValues        sample_value  \\\n",
       "55    pub_rec_bankruptcies             3                 0.0   \n",
       "11              emp_length            11           10+ years   \n",
       "28  mths_since_last_delinq            95                 0.0   \n",
       "45            last_pymnt_d           101              May-16   \n",
       "48      last_credit_pull_d           106              May-16   \n",
       "33              revol_util          1089                  0%   \n",
       "21                   title         19615  Debt Consolidation   \n",
       "19                    desc         26527                       \n",
       "10               emp_title         28820             US Army   \n",
       "\n",
       "                       type  missingCount  missing Percentage  \n",
       "55  <class 'numpy.float64'>           697            1.754916  \n",
       "11            <class 'str'>          1075            2.706650  \n",
       "28  <class 'numpy.float64'>         25682           64.662487  \n",
       "45            <class 'str'>            71            0.178765  \n",
       "48            <class 'str'>             2            0.005036  \n",
       "33            <class 'str'>            50            0.125891  \n",
       "21            <class 'str'>            11            0.027696  \n",
       "19            <class 'str'>         12940           32.580507  \n",
       "10            <class 'str'>          2459            6.191303  "
      ]
     },
     "execution_count": 18,
     "metadata": {},
     "output_type": "execute_result"
    }
   ],
   "source": [
    "stillMissing = loan.isna().sum().rename(\"missing\").to_frame()\n",
    "colList = stillMissing[stillMissing['missing']>0].index.to_list()\n",
    "stillMissing = columnMetadata[columnMetadata['column'].isin(colList)]\n",
    "stillMissing"
   ]
  },
  {
   "cell_type": "markdown",
   "metadata": {
    "id": "95913af1"
   },
   "source": [
    "## Attributes ignorable based on business importance"
   ]
  },
  {
   "cell_type": "code",
   "execution_count": 19,
   "metadata": {
    "id": "8216b95f"
   },
   "outputs": [],
   "source": [
    "# creating new column desc_length, it'll be 0 for NANs\n",
    "loan['derived_desc_length'] = loan['desc'].apply(lambda x: len(x.strip()) if x==x else 0)"
   ]
  },
  {
   "cell_type": "code",
   "execution_count": 20,
   "metadata": {
    "id": "600ac591"
   },
   "outputs": [],
   "source": [
    "# dropping these columns as then have no importance to the analysis\n",
    "attrsToBeignored = ['id','member_id','url','desc','mths_since_last_delinq','last_credit_pull_d']\n",
    "loan.drop(attrsToBeignored, inplace=True, axis=1)"
   ]
  },
  {
   "cell_type": "markdown",
   "metadata": {
    "id": "288360e7"
   },
   "source": [
    "## Imputations for ```pub_rec_bankruptcies```, ```emp_length```, ```last_pymnt_d```, ```revol_util```, ```title```, ```emp_title```"
   ]
  },
  {
   "cell_type": "code",
   "execution_count": 21,
   "metadata": {
    "id": "96dd456a"
   },
   "outputs": [],
   "source": [
    "loan['pub_rec_bankruptcies'] = loan.pub_rec_bankruptcies.apply(lambda x: x if x==x else 0)\n",
    "loan['emp_length'] = loan.emp_length.apply(lambda x: x if x==x else 'Unknwon')\n",
    "loan['last_pymnt_d'] = loan.last_pymnt_d.apply(lambda x: x if x==x else 'Jan-00')\n",
    "loan['revol_util'] = loan.revol_util.apply(lambda x: x if x==x else 0)\n",
    "loan['title'] = loan.title.apply(lambda x: x if x==x else 'Unknown')\n",
    "loan['emp_title'] = loan.emp_title.apply(lambda x: x if x==x else 'Unknown')"
   ]
  },
  {
   "cell_type": "code",
   "execution_count": 22,
   "metadata": {
    "id": "e2d69e12"
   },
   "outputs": [
    {
     "data": {
      "text/plain": [
       "loan_amnt                  0\n",
       "funded_amnt                0\n",
       "funded_amnt_inv            0\n",
       "term                       0\n",
       "int_rate                   0\n",
       "installment                0\n",
       "grade                      0\n",
       "sub_grade                  0\n",
       "emp_title                  0\n",
       "emp_length                 0\n",
       "home_ownership             0\n",
       "annual_inc                 0\n",
       "verification_status        0\n",
       "issue_d                    0\n",
       "loan_status                0\n",
       "purpose                    0\n",
       "title                      0\n",
       "zip_code                   0\n",
       "addr_state                 0\n",
       "dti                        0\n",
       "delinq_2yrs                0\n",
       "earliest_cr_line           0\n",
       "inq_last_6mths             0\n",
       "open_acc                   0\n",
       "pub_rec                    0\n",
       "revol_bal                  0\n",
       "revol_util                 0\n",
       "total_acc                  0\n",
       "out_prncp                  0\n",
       "out_prncp_inv              0\n",
       "total_pymnt                0\n",
       "total_pymnt_inv            0\n",
       "total_rec_prncp            0\n",
       "total_rec_int              0\n",
       "total_rec_late_fee         0\n",
       "recoveries                 0\n",
       "collection_recovery_fee    0\n",
       "last_pymnt_d               0\n",
       "last_pymnt_amnt            0\n",
       "pub_rec_bankruptcies       0\n",
       "derived_desc_length        0\n",
       "dtype: int64"
      ]
     },
     "execution_count": 22,
     "metadata": {},
     "output_type": "execute_result"
    }
   ],
   "source": [
    "loan.isnull().sum()"
   ]
  },
  {
   "cell_type": "markdown",
   "metadata": {
    "id": "042dd8f0"
   },
   "source": [
    "## Records to drop\n"
   ]
  },
  {
   "cell_type": "code",
   "execution_count": 23,
   "metadata": {
    "id": "3fdd4f8e"
   },
   "outputs": [
    {
     "name": "stdout",
     "output_type": "stream",
     "text": [
      "Loans that are currently in progress: 1140\n"
     ]
    }
   ],
   "source": [
    "# Loans that are currently in progress are of no importance to the analysis\n",
    "print(f\"Loans that are currently in progress: {(loan['loan_status']=='Current').sum()}\")\n",
    "loan.drop(loan[loan['loan_status']=='Current'].index, inplace=True)"
   ]
  },
  {
   "cell_type": "code",
   "execution_count": 24,
   "metadata": {
    "id": "448b91bb"
   },
   "outputs": [
    {
     "name": "stdout",
     "output_type": "stream",
     "text": [
      "0\n"
     ]
    },
    {
     "data": {
      "text/html": [
       "<div>\n",
       "<style scoped>\n",
       "    .dataframe tbody tr th:only-of-type {\n",
       "        vertical-align: middle;\n",
       "    }\n",
       "\n",
       "    .dataframe tbody tr th {\n",
       "        vertical-align: top;\n",
       "    }\n",
       "\n",
       "    .dataframe thead th {\n",
       "        text-align: right;\n",
       "    }\n",
       "</style>\n",
       "<table border=\"1\" class=\"dataframe\">\n",
       "  <thead>\n",
       "    <tr style=\"text-align: right;\">\n",
       "      <th></th>\n",
       "      <th>loan_amnt</th>\n",
       "      <th>funded_amnt</th>\n",
       "      <th>funded_amnt_inv</th>\n",
       "      <th>term</th>\n",
       "      <th>int_rate</th>\n",
       "      <th>installment</th>\n",
       "      <th>grade</th>\n",
       "      <th>sub_grade</th>\n",
       "      <th>emp_title</th>\n",
       "      <th>emp_length</th>\n",
       "      <th>home_ownership</th>\n",
       "      <th>annual_inc</th>\n",
       "      <th>verification_status</th>\n",
       "      <th>issue_d</th>\n",
       "      <th>loan_status</th>\n",
       "      <th>purpose</th>\n",
       "      <th>title</th>\n",
       "      <th>zip_code</th>\n",
       "      <th>addr_state</th>\n",
       "      <th>dti</th>\n",
       "      <th>delinq_2yrs</th>\n",
       "      <th>earliest_cr_line</th>\n",
       "      <th>inq_last_6mths</th>\n",
       "      <th>open_acc</th>\n",
       "      <th>pub_rec</th>\n",
       "      <th>revol_bal</th>\n",
       "      <th>revol_util</th>\n",
       "      <th>total_acc</th>\n",
       "      <th>out_prncp</th>\n",
       "      <th>out_prncp_inv</th>\n",
       "      <th>total_pymnt</th>\n",
       "      <th>total_pymnt_inv</th>\n",
       "      <th>total_rec_prncp</th>\n",
       "      <th>total_rec_int</th>\n",
       "      <th>total_rec_late_fee</th>\n",
       "      <th>recoveries</th>\n",
       "      <th>collection_recovery_fee</th>\n",
       "      <th>last_pymnt_d</th>\n",
       "      <th>last_pymnt_amnt</th>\n",
       "      <th>pub_rec_bankruptcies</th>\n",
       "      <th>derived_desc_length</th>\n",
       "    </tr>\n",
       "  </thead>\n",
       "  <tbody>\n",
       "    <tr>\n",
       "      <th>0</th>\n",
       "      <td>5000</td>\n",
       "      <td>5000</td>\n",
       "      <td>4975.0</td>\n",
       "      <td>36 months</td>\n",
       "      <td>10.65%</td>\n",
       "      <td>162.87</td>\n",
       "      <td>B</td>\n",
       "      <td>B2</td>\n",
       "      <td>Unknown</td>\n",
       "      <td>10+ years</td>\n",
       "      <td>RENT</td>\n",
       "      <td>24000.0</td>\n",
       "      <td>Verified</td>\n",
       "      <td>Dec-11</td>\n",
       "      <td>Fully Paid</td>\n",
       "      <td>credit_card</td>\n",
       "      <td>Computer</td>\n",
       "      <td>860xx</td>\n",
       "      <td>AZ</td>\n",
       "      <td>27.65</td>\n",
       "      <td>0</td>\n",
       "      <td>Jan-85</td>\n",
       "      <td>1</td>\n",
       "      <td>3</td>\n",
       "      <td>0</td>\n",
       "      <td>13648</td>\n",
       "      <td>83.70%</td>\n",
       "      <td>9</td>\n",
       "      <td>0.0</td>\n",
       "      <td>0.0</td>\n",
       "      <td>5863.155187</td>\n",
       "      <td>5833.84</td>\n",
       "      <td>5000.00</td>\n",
       "      <td>863.16</td>\n",
       "      <td>0.00</td>\n",
       "      <td>0.00</td>\n",
       "      <td>0.00</td>\n",
       "      <td>Jan-15</td>\n",
       "      <td>171.62</td>\n",
       "      <td>0.0</td>\n",
       "      <td>76</td>\n",
       "    </tr>\n",
       "    <tr>\n",
       "      <th>1</th>\n",
       "      <td>2500</td>\n",
       "      <td>2500</td>\n",
       "      <td>2500.0</td>\n",
       "      <td>60 months</td>\n",
       "      <td>15.27%</td>\n",
       "      <td>59.83</td>\n",
       "      <td>C</td>\n",
       "      <td>C4</td>\n",
       "      <td>Ryder</td>\n",
       "      <td>&lt; 1 year</td>\n",
       "      <td>RENT</td>\n",
       "      <td>30000.0</td>\n",
       "      <td>Source Verified</td>\n",
       "      <td>Dec-11</td>\n",
       "      <td>Charged Off</td>\n",
       "      <td>car</td>\n",
       "      <td>bike</td>\n",
       "      <td>309xx</td>\n",
       "      <td>GA</td>\n",
       "      <td>1.00</td>\n",
       "      <td>0</td>\n",
       "      <td>Apr-99</td>\n",
       "      <td>5</td>\n",
       "      <td>3</td>\n",
       "      <td>0</td>\n",
       "      <td>1687</td>\n",
       "      <td>9.40%</td>\n",
       "      <td>4</td>\n",
       "      <td>0.0</td>\n",
       "      <td>0.0</td>\n",
       "      <td>1008.710000</td>\n",
       "      <td>1008.71</td>\n",
       "      <td>456.46</td>\n",
       "      <td>435.17</td>\n",
       "      <td>0.00</td>\n",
       "      <td>117.08</td>\n",
       "      <td>1.11</td>\n",
       "      <td>Apr-13</td>\n",
       "      <td>119.66</td>\n",
       "      <td>0.0</td>\n",
       "      <td>588</td>\n",
       "    </tr>\n",
       "    <tr>\n",
       "      <th>2</th>\n",
       "      <td>2400</td>\n",
       "      <td>2400</td>\n",
       "      <td>2400.0</td>\n",
       "      <td>36 months</td>\n",
       "      <td>15.96%</td>\n",
       "      <td>84.33</td>\n",
       "      <td>C</td>\n",
       "      <td>C5</td>\n",
       "      <td>Unknown</td>\n",
       "      <td>10+ years</td>\n",
       "      <td>RENT</td>\n",
       "      <td>12252.0</td>\n",
       "      <td>Not Verified</td>\n",
       "      <td>Dec-11</td>\n",
       "      <td>Fully Paid</td>\n",
       "      <td>small_business</td>\n",
       "      <td>real estate business</td>\n",
       "      <td>606xx</td>\n",
       "      <td>IL</td>\n",
       "      <td>8.72</td>\n",
       "      <td>0</td>\n",
       "      <td>Nov-01</td>\n",
       "      <td>2</td>\n",
       "      <td>2</td>\n",
       "      <td>0</td>\n",
       "      <td>2956</td>\n",
       "      <td>98.50%</td>\n",
       "      <td>10</td>\n",
       "      <td>0.0</td>\n",
       "      <td>0.0</td>\n",
       "      <td>3005.666844</td>\n",
       "      <td>3005.67</td>\n",
       "      <td>2400.00</td>\n",
       "      <td>605.67</td>\n",
       "      <td>0.00</td>\n",
       "      <td>0.00</td>\n",
       "      <td>0.00</td>\n",
       "      <td>Jun-14</td>\n",
       "      <td>649.91</td>\n",
       "      <td>0.0</td>\n",
       "      <td>0</td>\n",
       "    </tr>\n",
       "    <tr>\n",
       "      <th>3</th>\n",
       "      <td>10000</td>\n",
       "      <td>10000</td>\n",
       "      <td>10000.0</td>\n",
       "      <td>36 months</td>\n",
       "      <td>13.49%</td>\n",
       "      <td>339.31</td>\n",
       "      <td>C</td>\n",
       "      <td>C1</td>\n",
       "      <td>AIR RESOURCES BOARD</td>\n",
       "      <td>10+ years</td>\n",
       "      <td>RENT</td>\n",
       "      <td>49200.0</td>\n",
       "      <td>Source Verified</td>\n",
       "      <td>Dec-11</td>\n",
       "      <td>Fully Paid</td>\n",
       "      <td>other</td>\n",
       "      <td>personel</td>\n",
       "      <td>917xx</td>\n",
       "      <td>CA</td>\n",
       "      <td>20.00</td>\n",
       "      <td>0</td>\n",
       "      <td>Feb-96</td>\n",
       "      <td>1</td>\n",
       "      <td>10</td>\n",
       "      <td>0</td>\n",
       "      <td>5598</td>\n",
       "      <td>21%</td>\n",
       "      <td>37</td>\n",
       "      <td>0.0</td>\n",
       "      <td>0.0</td>\n",
       "      <td>12231.890000</td>\n",
       "      <td>12231.89</td>\n",
       "      <td>10000.00</td>\n",
       "      <td>2214.92</td>\n",
       "      <td>16.97</td>\n",
       "      <td>0.00</td>\n",
       "      <td>0.00</td>\n",
       "      <td>Jan-15</td>\n",
       "      <td>357.48</td>\n",
       "      <td>0.0</td>\n",
       "      <td>178</td>\n",
       "    </tr>\n",
       "    <tr>\n",
       "      <th>5</th>\n",
       "      <td>5000</td>\n",
       "      <td>5000</td>\n",
       "      <td>5000.0</td>\n",
       "      <td>36 months</td>\n",
       "      <td>7.90%</td>\n",
       "      <td>156.46</td>\n",
       "      <td>A</td>\n",
       "      <td>A4</td>\n",
       "      <td>Veolia Transportaton</td>\n",
       "      <td>3 years</td>\n",
       "      <td>RENT</td>\n",
       "      <td>36000.0</td>\n",
       "      <td>Source Verified</td>\n",
       "      <td>Dec-11</td>\n",
       "      <td>Fully Paid</td>\n",
       "      <td>wedding</td>\n",
       "      <td>My wedding loan I promise to pay back</td>\n",
       "      <td>852xx</td>\n",
       "      <td>AZ</td>\n",
       "      <td>11.20</td>\n",
       "      <td>0</td>\n",
       "      <td>Nov-04</td>\n",
       "      <td>3</td>\n",
       "      <td>9</td>\n",
       "      <td>0</td>\n",
       "      <td>7963</td>\n",
       "      <td>28.30%</td>\n",
       "      <td>12</td>\n",
       "      <td>0.0</td>\n",
       "      <td>0.0</td>\n",
       "      <td>5632.210000</td>\n",
       "      <td>5632.21</td>\n",
       "      <td>5000.00</td>\n",
       "      <td>632.21</td>\n",
       "      <td>0.00</td>\n",
       "      <td>0.00</td>\n",
       "      <td>0.00</td>\n",
       "      <td>Jan-15</td>\n",
       "      <td>161.03</td>\n",
       "      <td>0.0</td>\n",
       "      <td>0</td>\n",
       "    </tr>\n",
       "    <tr>\n",
       "      <th>...</th>\n",
       "      <td>...</td>\n",
       "      <td>...</td>\n",
       "      <td>...</td>\n",
       "      <td>...</td>\n",
       "      <td>...</td>\n",
       "      <td>...</td>\n",
       "      <td>...</td>\n",
       "      <td>...</td>\n",
       "      <td>...</td>\n",
       "      <td>...</td>\n",
       "      <td>...</td>\n",
       "      <td>...</td>\n",
       "      <td>...</td>\n",
       "      <td>...</td>\n",
       "      <td>...</td>\n",
       "      <td>...</td>\n",
       "      <td>...</td>\n",
       "      <td>...</td>\n",
       "      <td>...</td>\n",
       "      <td>...</td>\n",
       "      <td>...</td>\n",
       "      <td>...</td>\n",
       "      <td>...</td>\n",
       "      <td>...</td>\n",
       "      <td>...</td>\n",
       "      <td>...</td>\n",
       "      <td>...</td>\n",
       "      <td>...</td>\n",
       "      <td>...</td>\n",
       "      <td>...</td>\n",
       "      <td>...</td>\n",
       "      <td>...</td>\n",
       "      <td>...</td>\n",
       "      <td>...</td>\n",
       "      <td>...</td>\n",
       "      <td>...</td>\n",
       "      <td>...</td>\n",
       "      <td>...</td>\n",
       "      <td>...</td>\n",
       "      <td>...</td>\n",
       "      <td>...</td>\n",
       "    </tr>\n",
       "    <tr>\n",
       "      <th>39712</th>\n",
       "      <td>2500</td>\n",
       "      <td>2500</td>\n",
       "      <td>1075.0</td>\n",
       "      <td>36 months</td>\n",
       "      <td>8.07%</td>\n",
       "      <td>78.42</td>\n",
       "      <td>A</td>\n",
       "      <td>A4</td>\n",
       "      <td>FiSite Research</td>\n",
       "      <td>4 years</td>\n",
       "      <td>MORTGAGE</td>\n",
       "      <td>110000.0</td>\n",
       "      <td>Not Verified</td>\n",
       "      <td>Jul-07</td>\n",
       "      <td>Fully Paid</td>\n",
       "      <td>home_improvement</td>\n",
       "      <td>Home Improvement</td>\n",
       "      <td>802xx</td>\n",
       "      <td>CO</td>\n",
       "      <td>11.33</td>\n",
       "      <td>0</td>\n",
       "      <td>Nov-90</td>\n",
       "      <td>0</td>\n",
       "      <td>13</td>\n",
       "      <td>0</td>\n",
       "      <td>7274</td>\n",
       "      <td>13.10%</td>\n",
       "      <td>40</td>\n",
       "      <td>0.0</td>\n",
       "      <td>0.0</td>\n",
       "      <td>2822.969293</td>\n",
       "      <td>1213.88</td>\n",
       "      <td>2500.00</td>\n",
       "      <td>322.97</td>\n",
       "      <td>0.00</td>\n",
       "      <td>0.00</td>\n",
       "      <td>0.00</td>\n",
       "      <td>Jul-10</td>\n",
       "      <td>80.90</td>\n",
       "      <td>0.0</td>\n",
       "      <td>148</td>\n",
       "    </tr>\n",
       "    <tr>\n",
       "      <th>39713</th>\n",
       "      <td>8500</td>\n",
       "      <td>8500</td>\n",
       "      <td>875.0</td>\n",
       "      <td>36 months</td>\n",
       "      <td>10.28%</td>\n",
       "      <td>275.38</td>\n",
       "      <td>C</td>\n",
       "      <td>C1</td>\n",
       "      <td>Squarewave Solutions, Ltd.</td>\n",
       "      <td>3 years</td>\n",
       "      <td>RENT</td>\n",
       "      <td>18000.0</td>\n",
       "      <td>Not Verified</td>\n",
       "      <td>Jul-07</td>\n",
       "      <td>Fully Paid</td>\n",
       "      <td>credit_card</td>\n",
       "      <td>Retiring credit card debt</td>\n",
       "      <td>274xx</td>\n",
       "      <td>NC</td>\n",
       "      <td>6.40</td>\n",
       "      <td>1</td>\n",
       "      <td>Dec-86</td>\n",
       "      <td>1</td>\n",
       "      <td>6</td>\n",
       "      <td>0</td>\n",
       "      <td>8847</td>\n",
       "      <td>26.90%</td>\n",
       "      <td>9</td>\n",
       "      <td>0.0</td>\n",
       "      <td>0.0</td>\n",
       "      <td>9913.491822</td>\n",
       "      <td>1020.51</td>\n",
       "      <td>8500.00</td>\n",
       "      <td>1413.49</td>\n",
       "      <td>0.00</td>\n",
       "      <td>0.00</td>\n",
       "      <td>0.00</td>\n",
       "      <td>Jul-10</td>\n",
       "      <td>281.94</td>\n",
       "      <td>0.0</td>\n",
       "      <td>406</td>\n",
       "    </tr>\n",
       "    <tr>\n",
       "      <th>39714</th>\n",
       "      <td>5000</td>\n",
       "      <td>5000</td>\n",
       "      <td>1325.0</td>\n",
       "      <td>36 months</td>\n",
       "      <td>8.07%</td>\n",
       "      <td>156.84</td>\n",
       "      <td>A</td>\n",
       "      <td>A4</td>\n",
       "      <td>Unknown</td>\n",
       "      <td>&lt; 1 year</td>\n",
       "      <td>MORTGAGE</td>\n",
       "      <td>100000.0</td>\n",
       "      <td>Not Verified</td>\n",
       "      <td>Jul-07</td>\n",
       "      <td>Fully Paid</td>\n",
       "      <td>debt_consolidation</td>\n",
       "      <td>MBA Loan Consolidation</td>\n",
       "      <td>017xx</td>\n",
       "      <td>MA</td>\n",
       "      <td>2.30</td>\n",
       "      <td>0</td>\n",
       "      <td>Oct-98</td>\n",
       "      <td>0</td>\n",
       "      <td>11</td>\n",
       "      <td>0</td>\n",
       "      <td>9698</td>\n",
       "      <td>19.40%</td>\n",
       "      <td>20</td>\n",
       "      <td>0.0</td>\n",
       "      <td>0.0</td>\n",
       "      <td>5272.161128</td>\n",
       "      <td>1397.12</td>\n",
       "      <td>5000.00</td>\n",
       "      <td>272.16</td>\n",
       "      <td>0.00</td>\n",
       "      <td>0.00</td>\n",
       "      <td>0.00</td>\n",
       "      <td>Apr-08</td>\n",
       "      <td>0.00</td>\n",
       "      <td>0.0</td>\n",
       "      <td>0</td>\n",
       "    </tr>\n",
       "    <tr>\n",
       "      <th>39715</th>\n",
       "      <td>5000</td>\n",
       "      <td>5000</td>\n",
       "      <td>650.0</td>\n",
       "      <td>36 months</td>\n",
       "      <td>7.43%</td>\n",
       "      <td>155.38</td>\n",
       "      <td>A</td>\n",
       "      <td>A2</td>\n",
       "      <td>Unknown</td>\n",
       "      <td>&lt; 1 year</td>\n",
       "      <td>MORTGAGE</td>\n",
       "      <td>200000.0</td>\n",
       "      <td>Not Verified</td>\n",
       "      <td>Jul-07</td>\n",
       "      <td>Fully Paid</td>\n",
       "      <td>other</td>\n",
       "      <td>JAL Loan</td>\n",
       "      <td>208xx</td>\n",
       "      <td>MD</td>\n",
       "      <td>3.72</td>\n",
       "      <td>0</td>\n",
       "      <td>Nov-88</td>\n",
       "      <td>0</td>\n",
       "      <td>17</td>\n",
       "      <td>0</td>\n",
       "      <td>85607</td>\n",
       "      <td>0.70%</td>\n",
       "      <td>26</td>\n",
       "      <td>0.0</td>\n",
       "      <td>0.0</td>\n",
       "      <td>5174.198551</td>\n",
       "      <td>672.66</td>\n",
       "      <td>5000.00</td>\n",
       "      <td>174.20</td>\n",
       "      <td>0.00</td>\n",
       "      <td>0.00</td>\n",
       "      <td>0.00</td>\n",
       "      <td>Jan-08</td>\n",
       "      <td>0.00</td>\n",
       "      <td>0.0</td>\n",
       "      <td>0</td>\n",
       "    </tr>\n",
       "    <tr>\n",
       "      <th>39716</th>\n",
       "      <td>7500</td>\n",
       "      <td>7500</td>\n",
       "      <td>800.0</td>\n",
       "      <td>36 months</td>\n",
       "      <td>13.75%</td>\n",
       "      <td>255.43</td>\n",
       "      <td>E</td>\n",
       "      <td>E2</td>\n",
       "      <td>Evergreen Center</td>\n",
       "      <td>&lt; 1 year</td>\n",
       "      <td>OWN</td>\n",
       "      <td>22000.0</td>\n",
       "      <td>Not Verified</td>\n",
       "      <td>Jun-07</td>\n",
       "      <td>Fully Paid</td>\n",
       "      <td>debt_consolidation</td>\n",
       "      <td>Consolidation Loan</td>\n",
       "      <td>027xx</td>\n",
       "      <td>MA</td>\n",
       "      <td>14.29</td>\n",
       "      <td>1</td>\n",
       "      <td>Oct-03</td>\n",
       "      <td>0</td>\n",
       "      <td>7</td>\n",
       "      <td>0</td>\n",
       "      <td>4175</td>\n",
       "      <td>51.50%</td>\n",
       "      <td>8</td>\n",
       "      <td>0.0</td>\n",
       "      <td>0.0</td>\n",
       "      <td>9195.263334</td>\n",
       "      <td>980.83</td>\n",
       "      <td>7500.00</td>\n",
       "      <td>1695.26</td>\n",
       "      <td>0.00</td>\n",
       "      <td>0.00</td>\n",
       "      <td>0.00</td>\n",
       "      <td>Jun-10</td>\n",
       "      <td>256.59</td>\n",
       "      <td>0.0</td>\n",
       "      <td>91</td>\n",
       "    </tr>\n",
       "  </tbody>\n",
       "</table>\n",
       "<p>38577 rows × 41 columns</p>\n",
       "</div>"
      ],
      "text/plain": [
       "       loan_amnt  funded_amnt  funded_amnt_inv        term int_rate  \\\n",
       "0           5000         5000           4975.0   36 months   10.65%   \n",
       "1           2500         2500           2500.0   60 months   15.27%   \n",
       "2           2400         2400           2400.0   36 months   15.96%   \n",
       "3          10000        10000          10000.0   36 months   13.49%   \n",
       "5           5000         5000           5000.0   36 months    7.90%   \n",
       "...          ...          ...              ...         ...      ...   \n",
       "39712       2500         2500           1075.0   36 months    8.07%   \n",
       "39713       8500         8500            875.0   36 months   10.28%   \n",
       "39714       5000         5000           1325.0   36 months    8.07%   \n",
       "39715       5000         5000            650.0   36 months    7.43%   \n",
       "39716       7500         7500            800.0   36 months   13.75%   \n",
       "\n",
       "       installment grade sub_grade                   emp_title emp_length  \\\n",
       "0           162.87     B        B2                     Unknown  10+ years   \n",
       "1            59.83     C        C4                       Ryder   < 1 year   \n",
       "2            84.33     C        C5                     Unknown  10+ years   \n",
       "3           339.31     C        C1         AIR RESOURCES BOARD  10+ years   \n",
       "5           156.46     A        A4        Veolia Transportaton    3 years   \n",
       "...            ...   ...       ...                         ...        ...   \n",
       "39712        78.42     A        A4             FiSite Research    4 years   \n",
       "39713       275.38     C        C1  Squarewave Solutions, Ltd.    3 years   \n",
       "39714       156.84     A        A4                     Unknown   < 1 year   \n",
       "39715       155.38     A        A2                     Unknown   < 1 year   \n",
       "39716       255.43     E        E2            Evergreen Center   < 1 year   \n",
       "\n",
       "      home_ownership  annual_inc verification_status issue_d  loan_status  \\\n",
       "0               RENT     24000.0            Verified  Dec-11   Fully Paid   \n",
       "1               RENT     30000.0     Source Verified  Dec-11  Charged Off   \n",
       "2               RENT     12252.0        Not Verified  Dec-11   Fully Paid   \n",
       "3               RENT     49200.0     Source Verified  Dec-11   Fully Paid   \n",
       "5               RENT     36000.0     Source Verified  Dec-11   Fully Paid   \n",
       "...              ...         ...                 ...     ...          ...   \n",
       "39712       MORTGAGE    110000.0        Not Verified  Jul-07   Fully Paid   \n",
       "39713           RENT     18000.0        Not Verified  Jul-07   Fully Paid   \n",
       "39714       MORTGAGE    100000.0        Not Verified  Jul-07   Fully Paid   \n",
       "39715       MORTGAGE    200000.0        Not Verified  Jul-07   Fully Paid   \n",
       "39716            OWN     22000.0        Not Verified  Jun-07   Fully Paid   \n",
       "\n",
       "                  purpose                                  title zip_code  \\\n",
       "0             credit_card                               Computer    860xx   \n",
       "1                     car                                   bike    309xx   \n",
       "2          small_business                   real estate business    606xx   \n",
       "3                   other                               personel    917xx   \n",
       "5                 wedding  My wedding loan I promise to pay back    852xx   \n",
       "...                   ...                                    ...      ...   \n",
       "39712    home_improvement                       Home Improvement    802xx   \n",
       "39713         credit_card              Retiring credit card debt    274xx   \n",
       "39714  debt_consolidation                 MBA Loan Consolidation    017xx   \n",
       "39715               other                               JAL Loan    208xx   \n",
       "39716  debt_consolidation                     Consolidation Loan    027xx   \n",
       "\n",
       "      addr_state    dti  delinq_2yrs earliest_cr_line  inq_last_6mths  \\\n",
       "0             AZ  27.65            0           Jan-85               1   \n",
       "1             GA   1.00            0           Apr-99               5   \n",
       "2             IL   8.72            0           Nov-01               2   \n",
       "3             CA  20.00            0           Feb-96               1   \n",
       "5             AZ  11.20            0           Nov-04               3   \n",
       "...          ...    ...          ...              ...             ...   \n",
       "39712         CO  11.33            0           Nov-90               0   \n",
       "39713         NC   6.40            1           Dec-86               1   \n",
       "39714         MA   2.30            0           Oct-98               0   \n",
       "39715         MD   3.72            0           Nov-88               0   \n",
       "39716         MA  14.29            1           Oct-03               0   \n",
       "\n",
       "       open_acc  pub_rec  revol_bal revol_util  total_acc  out_prncp  \\\n",
       "0             3        0      13648     83.70%          9        0.0   \n",
       "1             3        0       1687      9.40%          4        0.0   \n",
       "2             2        0       2956     98.50%         10        0.0   \n",
       "3            10        0       5598        21%         37        0.0   \n",
       "5             9        0       7963     28.30%         12        0.0   \n",
       "...         ...      ...        ...        ...        ...        ...   \n",
       "39712        13        0       7274     13.10%         40        0.0   \n",
       "39713         6        0       8847     26.90%          9        0.0   \n",
       "39714        11        0       9698     19.40%         20        0.0   \n",
       "39715        17        0      85607      0.70%         26        0.0   \n",
       "39716         7        0       4175     51.50%          8        0.0   \n",
       "\n",
       "       out_prncp_inv   total_pymnt  total_pymnt_inv  total_rec_prncp  \\\n",
       "0                0.0   5863.155187          5833.84          5000.00   \n",
       "1                0.0   1008.710000          1008.71           456.46   \n",
       "2                0.0   3005.666844          3005.67          2400.00   \n",
       "3                0.0  12231.890000         12231.89         10000.00   \n",
       "5                0.0   5632.210000          5632.21          5000.00   \n",
       "...              ...           ...              ...              ...   \n",
       "39712            0.0   2822.969293          1213.88          2500.00   \n",
       "39713            0.0   9913.491822          1020.51          8500.00   \n",
       "39714            0.0   5272.161128          1397.12          5000.00   \n",
       "39715            0.0   5174.198551           672.66          5000.00   \n",
       "39716            0.0   9195.263334           980.83          7500.00   \n",
       "\n",
       "       total_rec_int  total_rec_late_fee  recoveries  collection_recovery_fee  \\\n",
       "0             863.16                0.00        0.00                     0.00   \n",
       "1             435.17                0.00      117.08                     1.11   \n",
       "2             605.67                0.00        0.00                     0.00   \n",
       "3            2214.92               16.97        0.00                     0.00   \n",
       "5             632.21                0.00        0.00                     0.00   \n",
       "...              ...                 ...         ...                      ...   \n",
       "39712         322.97                0.00        0.00                     0.00   \n",
       "39713        1413.49                0.00        0.00                     0.00   \n",
       "39714         272.16                0.00        0.00                     0.00   \n",
       "39715         174.20                0.00        0.00                     0.00   \n",
       "39716        1695.26                0.00        0.00                     0.00   \n",
       "\n",
       "      last_pymnt_d  last_pymnt_amnt  pub_rec_bankruptcies  derived_desc_length  \n",
       "0           Jan-15           171.62                   0.0                   76  \n",
       "1           Apr-13           119.66                   0.0                  588  \n",
       "2           Jun-14           649.91                   0.0                    0  \n",
       "3           Jan-15           357.48                   0.0                  178  \n",
       "5           Jan-15           161.03                   0.0                    0  \n",
       "...            ...              ...                   ...                  ...  \n",
       "39712       Jul-10            80.90                   0.0                  148  \n",
       "39713       Jul-10           281.94                   0.0                  406  \n",
       "39714       Apr-08             0.00                   0.0                    0  \n",
       "39715       Jan-08             0.00                   0.0                    0  \n",
       "39716       Jun-10           256.59                   0.0                   91  \n",
       "\n",
       "[38577 rows x 41 columns]"
      ]
     },
     "execution_count": 24,
     "metadata": {},
     "output_type": "execute_result"
    }
   ],
   "source": [
    "#checking for duplicate records\n",
    "print(loan.duplicated().sum())\n",
    "loan.drop_duplicates()\n",
    "loan.dropna()"
   ]
  },
  {
   "cell_type": "markdown",
   "metadata": {
    "id": "cHkAjin6zq46"
   },
   "source": [
    "No duplicate records found"
   ]
  },
  {
   "cell_type": "code",
   "execution_count": 25,
   "metadata": {
    "id": "691522d3"
   },
   "outputs": [
    {
     "data": {
      "text/plain": [
       "(38577, 41)"
      ]
     },
     "execution_count": 25,
     "metadata": {},
     "output_type": "execute_result"
    }
   ],
   "source": [
    "loan.shape"
   ]
  },
  {
   "cell_type": "markdown",
   "metadata": {
    "id": "44c9adfa"
   },
   "source": [
    "## Handle Invalid Values"
   ]
  },
  {
   "cell_type": "code",
   "execution_count": 26,
   "metadata": {
    "id": "babf136a",
    "scrolled": true
   },
   "outputs": [
    {
     "data": {
      "text/plain": [
       "['term',\n",
       " 'int_rate',\n",
       " 'grade',\n",
       " 'sub_grade',\n",
       " 'emp_title',\n",
       " 'emp_length',\n",
       " 'home_ownership',\n",
       " 'verification_status',\n",
       " 'issue_d',\n",
       " 'loan_status',\n",
       " 'purpose',\n",
       " 'title',\n",
       " 'zip_code',\n",
       " 'addr_state',\n",
       " 'earliest_cr_line',\n",
       " 'revol_util',\n",
       " 'last_pymnt_d']"
      ]
     },
     "execution_count": 26,
     "metadata": {},
     "output_type": "execute_result"
    }
   ],
   "source": [
    "dataTypeMetadata = loan.dtypes\n",
    "coltypes = dataTypeMetadata.rename(\"type\").to_frame()\n",
    "coltypes.reset_index(inplace=True)\n",
    "\n",
    "# Columns with Object type\n",
    "allObjectTypeColumns = coltypes[coltypes['type'] == 'object']\n",
    "objectcols = allObjectTypeColumns['index'].to_list()\n",
    "objectcols"
   ]
  },
  {
   "cell_type": "markdown",
   "metadata": {
    "id": "uKtD0HM61SYR"
   },
   "source": [
    "## Creating new columns from existing columns"
   ]
  },
  {
   "cell_type": "code",
   "execution_count": null,
   "metadata": {
    "id": "30f36318"
   },
   "outputs": [],
   "source": [
    "for objectcol in objectcols:\n",
    "    loan[\"derived_\"+objectcol] = loan[objectcol].apply(lambda x: str(x).strip().lower())\n",
    "    print(objectcol, \" : \",loan[objectcol].value_counts())"
   ]
  },
  {
   "cell_type": "code",
   "execution_count": 27,
   "metadata": {
    "id": "ZdGsmNJUXJd3"
   },
   "outputs": [],
   "source": [
    "def correct_year(date, yearboundary=2017):\n",
    "    if date.year > yearboundary:\n",
    "        return date.replace(year=date.year-100)\n",
    "    else:\n",
    "        return date"
   ]
  },
  {
   "cell_type": "code",
   "execution_count": 28,
   "metadata": {
    "id": "c03013fb"
   },
   "outputs": [],
   "source": [
    "loan['derived_int_rate_pct']   =  loan['int_rate'].apply(lambda x: x[:-1]).astype(np.float16)\n",
    "\n",
    "loan['derived_revol_util_pct'] =  loan['revol_util'].apply(lambda x: x[:-1] if str(x).endswith(\"%\") else x).astype(np.float16)\n",
    "\n",
    "loan['derived_issue_d_date']     =  pd.to_datetime(loan['issue_d'], format=\"%b-%y\").apply(lambda x: correct_year(x, 2017))\n",
    "loan['derived_issue_d_year']     =  loan['derived_issue_d_date'].dt.year\n",
    "loan['derived_issue_d_month']    =  loan['derived_issue_d_date'].dt.month\n",
    "\n",
    "loan['derived_last_pymnt_d_date']     =  pd.to_datetime(loan['last_pymnt_d'], format=\"%b-%y\")\n",
    "loan['derived_last_pymnt_d_date']     = loan['derived_last_pymnt_d_date'].apply(lambda x: correct_year(x, 2020))\n",
    "loan['derived_last_pymnt_d_year']     =  loan['derived_last_pymnt_d_date'].dt.year\n",
    "loan['derived_last_pymnt_d_month']    =  loan['derived_last_pymnt_d_date'].dt.month\n",
    "\n",
    "loan['derived_earliest_cr_line_date']   =  pd.to_datetime(loan['earliest_cr_line'], format=\"%b-%y\").apply(lambda x: correct_year(x, 2017))\n",
    "loan['derived_earliest_cr_line_month']  =  loan['derived_earliest_cr_line_date'].dt.month\n",
    "loan['derived_earliest_cr_line_year']   =  loan['derived_earliest_cr_line_date'].dt.year\n",
    "\n",
    "loan['derived_zip_code']= loan['zip_code'].apply(lambda x: x[:-2])"
   ]
  },
  {
   "cell_type": "code",
   "execution_count": 29,
   "metadata": {},
   "outputs": [
    {
     "name": "stdout",
     "output_type": "stream",
     "text": [
      "Dropping columns coz of all nulls Or single values :  28        out_prncp\n",
      "29    out_prncp_inv\n",
      "Name: index, dtype: object\n"
     ]
    }
   ],
   "source": [
    "# dropping all columns with 0/1 unique values\n",
    "uniquevalues = loan.nunique().rename(\"uniqueCounts\").to_frame()\n",
    "uniquevalues.reset_index(inplace=True)\n",
    "uniqueCols = uniquevalues[uniquevalues['uniqueCounts']<=1]['index']\n",
    "print(\"Dropping columns coz of all nulls Or single values : \", uniqueCols)\n",
    "loan.drop(columns=uniqueCols, inplace=True)"
   ]
  },
  {
   "cell_type": "code",
   "execution_count": 30,
   "metadata": {
    "id": "qfMoe8mN8Rlk"
   },
   "outputs": [
    {
     "ename": "KeyError",
     "evalue": "\"['derived_earliest_cr_line', 'derived_int_rate', 'derived_revol_util'] not found in axis\"",
     "output_type": "error",
     "traceback": [
      "\u001b[1;31m---------------------------------------------------------------------------\u001b[0m",
      "\u001b[1;31mKeyError\u001b[0m                                  Traceback (most recent call last)",
      "Cell \u001b[1;32mIn [30], line 8\u001b[0m\n\u001b[0;32m      1\u001b[0m \u001b[38;5;66;03m# not using these columns as new cols are derived out of it\u001b[39;00m\n\u001b[0;32m      2\u001b[0m redundant_cols \u001b[38;5;241m=\u001b[39m [\u001b[38;5;124m'\u001b[39m\u001b[38;5;124mderived_earliest_cr_line\u001b[39m\u001b[38;5;124m'\u001b[39m, \u001b[38;5;124m'\u001b[39m\u001b[38;5;124mderived_int_rate\u001b[39m\u001b[38;5;124m'\u001b[39m, \u001b[38;5;124m'\u001b[39m\u001b[38;5;124mrevol_util\u001b[39m\u001b[38;5;124m'\u001b[39m, \u001b[38;5;124m'\u001b[39m\u001b[38;5;124mderived_revol_util\u001b[39m\u001b[38;5;124m'\u001b[39m, \u001b[38;5;124m'\u001b[39m\u001b[38;5;124missue_d\u001b[39m\u001b[38;5;124m'\u001b[39m, \n\u001b[0;32m      3\u001b[0m                   \u001b[38;5;124m'\u001b[39m\u001b[38;5;124mlast_pymnt_d\u001b[39m\u001b[38;5;124m'\u001b[39m, \u001b[38;5;124m'\u001b[39m\u001b[38;5;124mearliest_cr_line\u001b[39m\u001b[38;5;124m'\u001b[39m, \u001b[38;5;124m'\u001b[39m\u001b[38;5;124mterm\u001b[39m\u001b[38;5;124m'\u001b[39m, \n\u001b[0;32m      4\u001b[0m                   \u001b[38;5;124m'\u001b[39m\u001b[38;5;124mint_rate\u001b[39m\u001b[38;5;124m'\u001b[39m, \u001b[38;5;124m'\u001b[39m\u001b[38;5;124mgrade\u001b[39m\u001b[38;5;124m'\u001b[39m, \u001b[38;5;124m'\u001b[39m\u001b[38;5;124msub_grade\u001b[39m\u001b[38;5;124m'\u001b[39m, \u001b[38;5;124m'\u001b[39m\u001b[38;5;124memp_title\u001b[39m\u001b[38;5;124m'\u001b[39m,\n\u001b[0;32m      5\u001b[0m                   \u001b[38;5;124m'\u001b[39m\u001b[38;5;124memp_length\u001b[39m\u001b[38;5;124m'\u001b[39m, \u001b[38;5;124m'\u001b[39m\u001b[38;5;124mhome_ownership\u001b[39m\u001b[38;5;124m'\u001b[39m, \u001b[38;5;124m'\u001b[39m\u001b[38;5;124mverification_status\u001b[39m\u001b[38;5;124m'\u001b[39m, \n\u001b[0;32m      6\u001b[0m                   \u001b[38;5;124m'\u001b[39m\u001b[38;5;124missue_d\u001b[39m\u001b[38;5;124m'\u001b[39m, \u001b[38;5;124m'\u001b[39m\u001b[38;5;124mloan_status\u001b[39m\u001b[38;5;124m'\u001b[39m, \u001b[38;5;124m'\u001b[39m\u001b[38;5;124mpurpose\u001b[39m\u001b[38;5;124m'\u001b[39m, \u001b[38;5;124m'\u001b[39m\u001b[38;5;124mtitle\u001b[39m\u001b[38;5;124m'\u001b[39m, \u001b[38;5;124m'\u001b[39m\u001b[38;5;124mzip_code\u001b[39m\u001b[38;5;124m'\u001b[39m, \n\u001b[0;32m      7\u001b[0m                   \u001b[38;5;124m'\u001b[39m\u001b[38;5;124maddr_state\u001b[39m\u001b[38;5;124m'\u001b[39m, \u001b[38;5;124m'\u001b[39m\u001b[38;5;124mearliest_cr_line\u001b[39m\u001b[38;5;124m'\u001b[39m, \u001b[38;5;124m'\u001b[39m\u001b[38;5;124mlast_pymnt_d\u001b[39m\u001b[38;5;124m'\u001b[39m]\n\u001b[1;32m----> 8\u001b[0m \u001b[43mloan\u001b[49m\u001b[38;5;241;43m.\u001b[39;49m\u001b[43mdrop\u001b[49m\u001b[43m(\u001b[49m\u001b[43mredundant_cols\u001b[49m\u001b[43m,\u001b[49m\u001b[43m \u001b[49m\u001b[43maxis\u001b[49m\u001b[38;5;241;43m=\u001b[39;49m\u001b[38;5;241;43m1\u001b[39;49m\u001b[43m,\u001b[49m\u001b[43m \u001b[49m\u001b[43minplace\u001b[49m\u001b[38;5;241;43m=\u001b[39;49m\u001b[38;5;28;43;01mTrue\u001b[39;49;00m\u001b[43m)\u001b[49m\n",
      "File \u001b[1;32mE:\\Anaconda3_1\\envs\\MS_Upgrad_MLAI_Nov\\lib\\site-packages\\pandas\\util\\_decorators.py:331\u001b[0m, in \u001b[0;36mdeprecate_nonkeyword_arguments.<locals>.decorate.<locals>.wrapper\u001b[1;34m(*args, **kwargs)\u001b[0m\n\u001b[0;32m    325\u001b[0m \u001b[38;5;28;01mif\u001b[39;00m \u001b[38;5;28mlen\u001b[39m(args) \u001b[38;5;241m>\u001b[39m num_allow_args:\n\u001b[0;32m    326\u001b[0m     warnings\u001b[38;5;241m.\u001b[39mwarn(\n\u001b[0;32m    327\u001b[0m         msg\u001b[38;5;241m.\u001b[39mformat(arguments\u001b[38;5;241m=\u001b[39m_format_argument_list(allow_args)),\n\u001b[0;32m    328\u001b[0m         \u001b[38;5;167;01mFutureWarning\u001b[39;00m,\n\u001b[0;32m    329\u001b[0m         stacklevel\u001b[38;5;241m=\u001b[39mfind_stack_level(),\n\u001b[0;32m    330\u001b[0m     )\n\u001b[1;32m--> 331\u001b[0m \u001b[38;5;28;01mreturn\u001b[39;00m func(\u001b[38;5;241m*\u001b[39margs, \u001b[38;5;241m*\u001b[39m\u001b[38;5;241m*\u001b[39mkwargs)\n",
      "File \u001b[1;32mE:\\Anaconda3_1\\envs\\MS_Upgrad_MLAI_Nov\\lib\\site-packages\\pandas\\core\\frame.py:5388\u001b[0m, in \u001b[0;36mDataFrame.drop\u001b[1;34m(self, labels, axis, index, columns, level, inplace, errors)\u001b[0m\n\u001b[0;32m   5240\u001b[0m \u001b[38;5;129m@deprecate_nonkeyword_arguments\u001b[39m(version\u001b[38;5;241m=\u001b[39m\u001b[38;5;28;01mNone\u001b[39;00m, allowed_args\u001b[38;5;241m=\u001b[39m[\u001b[38;5;124m\"\u001b[39m\u001b[38;5;124mself\u001b[39m\u001b[38;5;124m\"\u001b[39m, \u001b[38;5;124m\"\u001b[39m\u001b[38;5;124mlabels\u001b[39m\u001b[38;5;124m\"\u001b[39m])\n\u001b[0;32m   5241\u001b[0m \u001b[38;5;28;01mdef\u001b[39;00m \u001b[38;5;21mdrop\u001b[39m(  \u001b[38;5;66;03m# type: ignore[override]\u001b[39;00m\n\u001b[0;32m   5242\u001b[0m     \u001b[38;5;28mself\u001b[39m,\n\u001b[1;32m   (...)\u001b[0m\n\u001b[0;32m   5249\u001b[0m     errors: IgnoreRaise \u001b[38;5;241m=\u001b[39m \u001b[38;5;124m\"\u001b[39m\u001b[38;5;124mraise\u001b[39m\u001b[38;5;124m\"\u001b[39m,\n\u001b[0;32m   5250\u001b[0m ) \u001b[38;5;241m-\u001b[39m\u001b[38;5;241m>\u001b[39m DataFrame \u001b[38;5;241m|\u001b[39m \u001b[38;5;28;01mNone\u001b[39;00m:\n\u001b[0;32m   5251\u001b[0m     \u001b[38;5;124;03m\"\"\"\u001b[39;00m\n\u001b[0;32m   5252\u001b[0m \u001b[38;5;124;03m    Drop specified labels from rows or columns.\u001b[39;00m\n\u001b[0;32m   5253\u001b[0m \n\u001b[1;32m   (...)\u001b[0m\n\u001b[0;32m   5386\u001b[0m \u001b[38;5;124;03m            weight  1.0     0.8\u001b[39;00m\n\u001b[0;32m   5387\u001b[0m \u001b[38;5;124;03m    \"\"\"\u001b[39;00m\n\u001b[1;32m-> 5388\u001b[0m     \u001b[38;5;28;01mreturn\u001b[39;00m \u001b[38;5;28;43msuper\u001b[39;49m\u001b[43m(\u001b[49m\u001b[43m)\u001b[49m\u001b[38;5;241;43m.\u001b[39;49m\u001b[43mdrop\u001b[49m\u001b[43m(\u001b[49m\n\u001b[0;32m   5389\u001b[0m \u001b[43m        \u001b[49m\u001b[43mlabels\u001b[49m\u001b[38;5;241;43m=\u001b[39;49m\u001b[43mlabels\u001b[49m\u001b[43m,\u001b[49m\n\u001b[0;32m   5390\u001b[0m \u001b[43m        \u001b[49m\u001b[43maxis\u001b[49m\u001b[38;5;241;43m=\u001b[39;49m\u001b[43maxis\u001b[49m\u001b[43m,\u001b[49m\n\u001b[0;32m   5391\u001b[0m \u001b[43m        \u001b[49m\u001b[43mindex\u001b[49m\u001b[38;5;241;43m=\u001b[39;49m\u001b[43mindex\u001b[49m\u001b[43m,\u001b[49m\n\u001b[0;32m   5392\u001b[0m \u001b[43m        \u001b[49m\u001b[43mcolumns\u001b[49m\u001b[38;5;241;43m=\u001b[39;49m\u001b[43mcolumns\u001b[49m\u001b[43m,\u001b[49m\n\u001b[0;32m   5393\u001b[0m \u001b[43m        \u001b[49m\u001b[43mlevel\u001b[49m\u001b[38;5;241;43m=\u001b[39;49m\u001b[43mlevel\u001b[49m\u001b[43m,\u001b[49m\n\u001b[0;32m   5394\u001b[0m \u001b[43m        \u001b[49m\u001b[43minplace\u001b[49m\u001b[38;5;241;43m=\u001b[39;49m\u001b[43minplace\u001b[49m\u001b[43m,\u001b[49m\n\u001b[0;32m   5395\u001b[0m \u001b[43m        \u001b[49m\u001b[43merrors\u001b[49m\u001b[38;5;241;43m=\u001b[39;49m\u001b[43merrors\u001b[49m\u001b[43m,\u001b[49m\n\u001b[0;32m   5396\u001b[0m \u001b[43m    \u001b[49m\u001b[43m)\u001b[49m\n",
      "File \u001b[1;32mE:\\Anaconda3_1\\envs\\MS_Upgrad_MLAI_Nov\\lib\\site-packages\\pandas\\util\\_decorators.py:331\u001b[0m, in \u001b[0;36mdeprecate_nonkeyword_arguments.<locals>.decorate.<locals>.wrapper\u001b[1;34m(*args, **kwargs)\u001b[0m\n\u001b[0;32m    325\u001b[0m \u001b[38;5;28;01mif\u001b[39;00m \u001b[38;5;28mlen\u001b[39m(args) \u001b[38;5;241m>\u001b[39m num_allow_args:\n\u001b[0;32m    326\u001b[0m     warnings\u001b[38;5;241m.\u001b[39mwarn(\n\u001b[0;32m    327\u001b[0m         msg\u001b[38;5;241m.\u001b[39mformat(arguments\u001b[38;5;241m=\u001b[39m_format_argument_list(allow_args)),\n\u001b[0;32m    328\u001b[0m         \u001b[38;5;167;01mFutureWarning\u001b[39;00m,\n\u001b[0;32m    329\u001b[0m         stacklevel\u001b[38;5;241m=\u001b[39mfind_stack_level(),\n\u001b[0;32m    330\u001b[0m     )\n\u001b[1;32m--> 331\u001b[0m \u001b[38;5;28;01mreturn\u001b[39;00m func(\u001b[38;5;241m*\u001b[39margs, \u001b[38;5;241m*\u001b[39m\u001b[38;5;241m*\u001b[39mkwargs)\n",
      "File \u001b[1;32mE:\\Anaconda3_1\\envs\\MS_Upgrad_MLAI_Nov\\lib\\site-packages\\pandas\\core\\generic.py:4505\u001b[0m, in \u001b[0;36mNDFrame.drop\u001b[1;34m(self, labels, axis, index, columns, level, inplace, errors)\u001b[0m\n\u001b[0;32m   4503\u001b[0m \u001b[38;5;28;01mfor\u001b[39;00m axis, labels \u001b[38;5;129;01min\u001b[39;00m axes\u001b[38;5;241m.\u001b[39mitems():\n\u001b[0;32m   4504\u001b[0m     \u001b[38;5;28;01mif\u001b[39;00m labels \u001b[38;5;129;01mis\u001b[39;00m \u001b[38;5;129;01mnot\u001b[39;00m \u001b[38;5;28;01mNone\u001b[39;00m:\n\u001b[1;32m-> 4505\u001b[0m         obj \u001b[38;5;241m=\u001b[39m \u001b[43mobj\u001b[49m\u001b[38;5;241;43m.\u001b[39;49m\u001b[43m_drop_axis\u001b[49m\u001b[43m(\u001b[49m\u001b[43mlabels\u001b[49m\u001b[43m,\u001b[49m\u001b[43m \u001b[49m\u001b[43maxis\u001b[49m\u001b[43m,\u001b[49m\u001b[43m \u001b[49m\u001b[43mlevel\u001b[49m\u001b[38;5;241;43m=\u001b[39;49m\u001b[43mlevel\u001b[49m\u001b[43m,\u001b[49m\u001b[43m \u001b[49m\u001b[43merrors\u001b[49m\u001b[38;5;241;43m=\u001b[39;49m\u001b[43merrors\u001b[49m\u001b[43m)\u001b[49m\n\u001b[0;32m   4507\u001b[0m \u001b[38;5;28;01mif\u001b[39;00m inplace:\n\u001b[0;32m   4508\u001b[0m     \u001b[38;5;28mself\u001b[39m\u001b[38;5;241m.\u001b[39m_update_inplace(obj)\n",
      "File \u001b[1;32mE:\\Anaconda3_1\\envs\\MS_Upgrad_MLAI_Nov\\lib\\site-packages\\pandas\\core\\generic.py:4546\u001b[0m, in \u001b[0;36mNDFrame._drop_axis\u001b[1;34m(self, labels, axis, level, errors, only_slice)\u001b[0m\n\u001b[0;32m   4544\u001b[0m         new_axis \u001b[38;5;241m=\u001b[39m axis\u001b[38;5;241m.\u001b[39mdrop(labels, level\u001b[38;5;241m=\u001b[39mlevel, errors\u001b[38;5;241m=\u001b[39merrors)\n\u001b[0;32m   4545\u001b[0m     \u001b[38;5;28;01melse\u001b[39;00m:\n\u001b[1;32m-> 4546\u001b[0m         new_axis \u001b[38;5;241m=\u001b[39m \u001b[43maxis\u001b[49m\u001b[38;5;241;43m.\u001b[39;49m\u001b[43mdrop\u001b[49m\u001b[43m(\u001b[49m\u001b[43mlabels\u001b[49m\u001b[43m,\u001b[49m\u001b[43m \u001b[49m\u001b[43merrors\u001b[49m\u001b[38;5;241;43m=\u001b[39;49m\u001b[43merrors\u001b[49m\u001b[43m)\u001b[49m\n\u001b[0;32m   4547\u001b[0m     indexer \u001b[38;5;241m=\u001b[39m axis\u001b[38;5;241m.\u001b[39mget_indexer(new_axis)\n\u001b[0;32m   4549\u001b[0m \u001b[38;5;66;03m# Case for non-unique axis\u001b[39;00m\n\u001b[0;32m   4550\u001b[0m \u001b[38;5;28;01melse\u001b[39;00m:\n",
      "File \u001b[1;32mE:\\Anaconda3_1\\envs\\MS_Upgrad_MLAI_Nov\\lib\\site-packages\\pandas\\core\\indexes\\base.py:6975\u001b[0m, in \u001b[0;36mIndex.drop\u001b[1;34m(self, labels, errors)\u001b[0m\n\u001b[0;32m   6973\u001b[0m \u001b[38;5;28;01mif\u001b[39;00m mask\u001b[38;5;241m.\u001b[39many():\n\u001b[0;32m   6974\u001b[0m     \u001b[38;5;28;01mif\u001b[39;00m errors \u001b[38;5;241m!=\u001b[39m \u001b[38;5;124m\"\u001b[39m\u001b[38;5;124mignore\u001b[39m\u001b[38;5;124m\"\u001b[39m:\n\u001b[1;32m-> 6975\u001b[0m         \u001b[38;5;28;01mraise\u001b[39;00m \u001b[38;5;167;01mKeyError\u001b[39;00m(\u001b[38;5;124mf\u001b[39m\u001b[38;5;124m\"\u001b[39m\u001b[38;5;132;01m{\u001b[39;00m\u001b[38;5;28mlist\u001b[39m(labels[mask])\u001b[38;5;132;01m}\u001b[39;00m\u001b[38;5;124m not found in axis\u001b[39m\u001b[38;5;124m\"\u001b[39m)\n\u001b[0;32m   6976\u001b[0m     indexer \u001b[38;5;241m=\u001b[39m indexer[\u001b[38;5;241m~\u001b[39mmask]\n\u001b[0;32m   6977\u001b[0m \u001b[38;5;28;01mreturn\u001b[39;00m \u001b[38;5;28mself\u001b[39m\u001b[38;5;241m.\u001b[39mdelete(indexer)\n",
      "\u001b[1;31mKeyError\u001b[0m: \"['derived_earliest_cr_line', 'derived_int_rate', 'derived_revol_util'] not found in axis\""
     ]
    }
   ],
   "source": [
    "# not using these columns as new cols are derived out of it\n",
    "redundant_cols = ['derived_earliest_cr_line', 'derived_int_rate', 'revol_util', 'derived_revol_util', 'issue_d', \n",
    "                  'last_pymnt_d', 'earliest_cr_line', 'term', \n",
    "                  'int_rate', 'grade', 'sub_grade', 'emp_title',\n",
    "                  'emp_length', 'home_ownership', 'verification_status', \n",
    "                  'issue_d', 'loan_status', 'purpose', 'title', 'zip_code', \n",
    "                  'addr_state', 'earliest_cr_line', 'last_pymnt_d']\n",
    "loan.drop(redundant_cols, axis=1, inplace=True)"
   ]
  },
  {
   "cell_type": "code",
   "execution_count": null,
   "metadata": {},
   "outputs": [],
   "source": [
    "#loan.to_csv(\"preprocessed_loan.csv\", sep=',', encoding='utf-8')"
   ]
  },
  {
   "cell_type": "markdown",
   "metadata": {
    "id": "CMukNLoT0Y75"
   },
   "source": [
    "### Data cleaning : trimming standardize the case of all columns"
   ]
  },
  {
   "cell_type": "code",
   "execution_count": null,
   "metadata": {
    "id": "-sVnju-rst2p"
   },
   "outputs": [],
   "source": [
    "# Converting month and year from number to string\n",
    "def monthToNum(monthNum):\n",
    "  months = {1: 'January', 2: 'February', 3: 'March', 4: 'April',5: 'May', 6: 'June',7: 'July', 8: 'August', 9: 'September',  10: 'October',  11: 'November',  12: 'December'}\n",
    "  return months.get(monthNum, 'NaN')\n",
    "\n",
    "loan['derived_earliest_cr_line_year'] = loan['derived_earliest_cr_line_year'].astype(str)\n",
    "loan['derived_earliest_cr_line_month'] = loan['derived_earliest_cr_line_month'].apply(monthToNum)\n",
    "loan['derived_issue_d_year'] = loan['derived_issue_d_year'].astype(str)\n",
    "loan['derived_issue_d_month'] = loan['derived_issue_d_month'].apply(monthToNum)"
   ]
  },
  {
   "cell_type": "markdown",
   "metadata": {
    "id": "MUoWa7mSkZYV"
   },
   "source": [
    "# Univariate Analysis"
   ]
  },
  {
   "cell_type": "code",
   "execution_count": null,
   "metadata": {
    "id": "h-Du7O0TuIZi"
   },
   "outputs": [],
   "source": [
    "loan.info(verbose=True, show_counts=True)"
   ]
  },
  {
   "cell_type": "code",
   "execution_count": null,
   "metadata": {
    "id": "bpwRf2Zh6quE"
   },
   "outputs": [],
   "source": [
    "# separating out categorical and numerical variables\n",
    "categorical = []\n",
    "numerical = []\n",
    "for col in loan.columns:\n",
    "  if loan[col].dtype == object:\n",
    "    categorical.append(col)\n",
    "  else:\n",
    "    numerical.append(col)\n",
    "print(f\"categorical: {categorical}\\n\")\n",
    "print(f\"numerical: {numerical}\")"
   ]
  },
  {
   "cell_type": "code",
   "execution_count": null,
   "metadata": {
    "id": "tK-ho-EfDBBN"
   },
   "outputs": [],
   "source": [
    "categorical_cols = loan[categorical]\n",
    "numeric_cols = loan[numerical]"
   ]
  },
  {
   "cell_type": "markdown",
   "metadata": {
    "id": "YLWqRJOt-WrG"
   },
   "source": [
    "## Categorical univariate analysis"
   ]
  },
  {
   "cell_type": "code",
   "execution_count": null,
   "metadata": {
    "id": "eHsXUIdkF7HP"
   },
   "outputs": [],
   "source": [
    "# method to add annotations to bar plots\n",
    "def add_annots(ax, data, percentage=False):\n",
    "  if percentage:\n",
    "    data = round(100 * data / data.sum(), 2)\n",
    "    data = data.apply(lambda x : str(x) + \"%\")\n",
    "  for patch, value in zip(ax.patches, data):\n",
    "    ax.annotate(value, xy=(patch.get_x() +patch.get_width() / 2, patch.get_height()), ha='center', va='bottom', color='black')"
   ]
  },
  {
   "cell_type": "code",
   "execution_count": null,
   "metadata": {
    "id": "mJpavvXLKrMl"
   },
   "outputs": [],
   "source": [
    "# method to plot rank frequency plot\n",
    "def frequency_plot(col, title, xlabel, ylabel, annot_percent=False, figsize=None, xtick_rotation=0):\n",
    "  value_counts = categorical_cols[col].value_counts()\n",
    "  if figsize:\n",
    "    plt.figure(figsize=figsize)\n",
    "\n",
    "  plt.title(title)\n",
    "  ax = sns.barplot(x=value_counts.index, y=value_counts, palette=sns.color_palette('pastel'))\n",
    "  add_annots(ax, value_counts, annot_percent)\n",
    "  plt.xlabel(xlabel)\n",
    "  plt.ylabel(ylabel)\n",
    "  plt.xticks(rotation=xtick_rotation)\n",
    "  plt.show()"
   ]
  },
  {
   "cell_type": "code",
   "execution_count": null,
   "metadata": {
    "id": "GqOAUawdc-y6"
   },
   "outputs": [],
   "source": [
    "# bar plot for 'loan_status'\n",
    "frequency_plot('derived_loan_status', 'Distribution of Loan Status', 'Loan Status', 'Frequency', True)"
   ]
  },
  {
   "cell_type": "markdown",
   "metadata": {
    "id": "K5wb3eQLdvfM"
   },
   "source": [
    "Around 85% of the loans were fully paid and \\~14% defaulted."
   ]
  },
  {
   "cell_type": "code",
   "execution_count": null,
   "metadata": {
    "id": "a2WWCHVw9o67"
   },
   "outputs": [],
   "source": [
    "# bar plot for 'term'\n",
    "frequency_plot('derived_term', 'Distribution of term', 'Term', 'Frequency', True, (5, 5))"
   ]
  },
  {
   "cell_type": "markdown",
   "metadata": {
    "id": "zgaUuLSNCnQI"
   },
   "source": [
    "From the above bar chart, it is clear that most borrowers (\\~75%) prefer a term of 36 months more than 60 months."
   ]
  },
  {
   "cell_type": "code",
   "execution_count": null,
   "metadata": {
    "id": "QtPMq-Sv_nb-"
   },
   "outputs": [],
   "source": [
    "# bar plot for 'grade'\n",
    "frequency_plot('derived_grade', 'Distribution of grade', 'Grade', 'Frequency', True)"
   ]
  },
  {
   "cell_type": "markdown",
   "metadata": {
    "id": "XOFoMaD1Dsvz"
   },
   "source": [
    "Most loans were given to borrowers with a grade of B (\\~30%), followed by A (\\~26%) and so on."
   ]
  },
  {
   "cell_type": "code",
   "execution_count": null,
   "metadata": {
    "id": "90Jd5yeGDXQt"
   },
   "outputs": [],
   "source": [
    "# bar plot for 'sub_grade'\n",
    "frequency_plot('derived_sub_grade', 'Distribution of Sub Grade', 'Sub-Grade', 'Frequency', True, (20, 6))"
   ]
  },
  {
   "cell_type": "markdown",
   "metadata": {
    "id": "zEqK-5RHJbPM"
   },
   "source": [
    "Borrowers of most approved loans fall under A4, B3 category, closely followed by A5."
   ]
  },
  {
   "cell_type": "code",
   "execution_count": null,
   "metadata": {
    "id": "4lBMSk5EESQ9"
   },
   "outputs": [],
   "source": [
    "# bar plot for 'emp_length'\n",
    "frequency_plot('derived_emp_length', 'Distribution of employment length', 'Years', 'Frequency', True, (11, 6))"
   ]
  },
  {
   "cell_type": "markdown",
   "metadata": {
    "id": "tMmOXgWtN1QX"
   },
   "source": [
    "- Loans of borrowers who have been working 10+ years gets approved more than others.\n",
    "- It is to be noted that the Distribution does not consistently decrease with no. of years of employment. It can be seen that people with \\<1 year, 2 years, etc employment have a higher frequency compared to people with 6, 7, 8 or 9 years. i.e. There is no proper trend with the loan approvals with respect to employment years."
   ]
  },
  {
   "cell_type": "code",
   "execution_count": null,
   "metadata": {
    "id": "jQxju28IKM3G"
   },
   "outputs": [],
   "source": [
    "# bar plot for 'home_ownership'\n",
    "frequency_plot('derived_home_ownership', 'Distribution of House Ownership', 'House Ownership', 'Frequency', True, (5, 6))"
   ]
  },
  {
   "cell_type": "markdown",
   "metadata": {
    "id": "0QB00hIUcQIl"
   },
   "source": [
    "Most of the borrowers have a rented house or mortgage."
   ]
  },
  {
   "cell_type": "code",
   "execution_count": null,
   "metadata": {
    "id": "s4cv1RHaYSDS"
   },
   "outputs": [],
   "source": [
    "# bar plot for 'verification_status'\n",
    "frequency_plot('derived_verification_status', 'Distribution of Verification Status', 'Verification Status', 'Frequency', True)"
   ]
  },
  {
   "cell_type": "markdown",
   "metadata": {
    "id": "P1pgKSU9dEuM"
   },
   "source": [
    "Most of the loans were given without verifying income of the borrower."
   ]
  },
  {
   "cell_type": "code",
   "execution_count": null,
   "metadata": {
    "id": "lR2QYDMido8n"
   },
   "outputs": [],
   "source": [
    "# bar plot for 'purpose'\n",
    "frequency_plot('derived_purpose', 'Distribution of Purpose of Loan', 'Purpose', 'Frequency', True, (15, 5), 90)"
   ]
  },
  {
   "cell_type": "markdown",
   "metadata": {
    "id": "REr-tDplgNrb"
   },
   "source": [
    "- Most loans were taken for dept consolidation i.e. taking a loan to pay off many other loans.\n",
    "- Considering other purposes, people mostly get credit card loans followed by other (purpose unspecified), home improvement and so on."
   ]
  },
  {
   "cell_type": "code",
   "execution_count": null,
   "metadata": {
    "id": "fYs-iqOhfLsX"
   },
   "outputs": [],
   "source": [
    "# bar plot for 'addr_state'\n",
    "frequency_plot('derived_addr_state', 'Distribution of State', 'State', 'Frequency', True, (35, 7))"
   ]
  },
  {
   "cell_type": "markdown",
   "metadata": {
    "id": "Wki1Y3sjiMHM"
   },
   "source": [
    "Most of the borrowers are from California (CA) followed by New Your (NY), Florida (FL) and so on."
   ]
  },
  {
   "cell_type": "code",
   "execution_count": null,
   "metadata": {
    "id": "espwLnCpmbZH"
   },
   "outputs": [],
   "source": [
    "# bar plot for Year derived from 'issue_d'\n",
    "frequency_plot('derived_issue_d_year', 'Distribution of Issued Loans by Year', 'Year', 'Frequency', True)"
   ]
  },
  {
   "cell_type": "markdown",
   "metadata": {
    "id": "qAJffVZLzVXg"
   },
   "source": [
    "- The number of loans given increases every year.\n",
    "- Most loans were given in the year 2011."
   ]
  },
  {
   "cell_type": "code",
   "execution_count": null,
   "metadata": {
    "id": "CUIDwYcHzTJT"
   },
   "outputs": [],
   "source": [
    "# bar plot for Month derived from 'issue_d'\n",
    "frequency_plot('derived_issue_d_month', 'Distribution of Loans Issued by Month', 'Month', 'Frequency', True, (10, 5), 90)"
   ]
  },
  {
   "cell_type": "markdown",
   "metadata": {
    "id": "jnkTOd6Xzu3Y"
   },
   "source": [
    "Most loans were given during the final months of a year (October, November & December) as they are festive seasons and people tend to spend more during those months."
   ]
  },
  {
   "cell_type": "code",
   "execution_count": null,
   "metadata": {
    "id": "4BB7z3ge1Zma"
   },
   "outputs": [],
   "source": [
    "# bar plot for Year derived from 'earliest_cr_line'\n",
    "frequency_plot('derived_earliest_cr_line_year', 'Distribution of Earliest Credit Lines by Year', 'Year', 'Frequency', True, (25, 6), 90)"
   ]
  },
  {
   "cell_type": "markdown",
   "metadata": {
    "id": "suUpOq9C2nU4"
   },
   "source": [
    "Most of the borrower's credit lines had begun by 2000."
   ]
  },
  {
   "cell_type": "code",
   "execution_count": null,
   "metadata": {
    "id": "tVpC8Eq31vUI"
   },
   "outputs": [],
   "source": [
    "# bar plot for Month derived from 'earliest_cr_line'\n",
    "frequency_plot('derived_earliest_cr_line_month', 'Distribution of Earliest Credit Lines by Month', 'Month', 'Frequency', True, (10, 5), 90)"
   ]
  },
  {
   "cell_type": "markdown",
   "metadata": {
    "id": "4vcNDUBR3N6U"
   },
   "source": [
    "Most credit lines had begun in the months or October or December."
   ]
  },
  {
   "cell_type": "markdown",
   "metadata": {
    "id": "k8H8KsMU4myZ"
   },
   "source": [
    "## Numerical univariate analysis\n"
   ]
  },
  {
   "cell_type": "code",
   "execution_count": null,
   "metadata": {
    "id": "Mmu5DfjLnLgZ"
   },
   "outputs": [],
   "source": [
    "pd.set_option('display.float_format', lambda x: '%.3f' % x) # display property for float\n",
    "\n",
    "def boxplot_annot(box_plot, summary):\n",
    "  box_plot.text(box_plot.get_xticks()[0]+0.17, summary['25%'], horizontalalignment='center', s=f'25%: {summary[\"25%\"]}', color='black')\n",
    "  box_plot.text(box_plot.get_xticks()[0]+0.17, summary['50%'], horizontalalignment='center', s=f'50%: {summary[\"50%\"]}', color='black')\n",
    "  box_plot.text(box_plot.get_xticks()[0]+0.17, summary['75%'], horizontalalignment='center', s=f'75%: {summary[\"75%\"]}', color='black')"
   ]
  },
  {
   "cell_type": "code",
   "execution_count": null,
   "metadata": {
    "id": "dRS8wyyA94Sy"
   },
   "outputs": [],
   "source": [
    "def plot_histogram_boxplot(col, bins, title, quantiles=None, outlier_count=False, is_outlier_after=95, remove_outliers=False):\n",
    "  \n",
    "  outlier_threshold = 0\n",
    "  column = loan[col]\n",
    "\n",
    "  if quantiles:\n",
    "    summary = column.describe(percentiles=quantiles)\n",
    "  else:\n",
    "    summary = column.describe()\n",
    "    \n",
    "  print(\"Summary metrics: \")\n",
    "  print(summary)\n",
    "  if outlier_count:\n",
    "    outlier_threshold = np.percentile(column, is_outlier_after)\n",
    "    print(\"Outliers: \", (column > outlier_threshold).sum())\n",
    "  \n",
    "  if remove_outliers:\n",
    "    column = loan[loan[col] < outlier_threshold][col]\n",
    "    print(\"Threshold: \", outlier_threshold)\n",
    "\n",
    "  \n",
    "  plt.figure(figsize=(15, 7))\n",
    "  plt.suptitle(title)\n",
    "\n",
    "  plt.subplot(1, 2, 1)\n",
    "  sns.set_style(\"darkgrid\")\n",
    "  sns.distplot(column, bins=bins)\n",
    "\n",
    "  plt.subplot(1, 2, 2)\n",
    "  sns.set_style(\"whitegrid\")\n",
    "  box_plot = column.plot.box()\n",
    "  boxplot_annot(box_plot, summary)\n",
    "  plt.show()"
   ]
  },
  {
   "cell_type": "code",
   "execution_count": null,
   "metadata": {
    "id": "HdDDgnTQ4nSQ"
   },
   "outputs": [],
   "source": [
    "# analysis of loan_amnt\n",
    "plot_histogram_boxplot('loan_amnt', 20, 'Loan Amount', [0.25, 0.5, 0.75, 0.95], True, 95)"
   ]
  },
  {
   "cell_type": "markdown",
   "metadata": {
    "id": "hM5Jcje6kFez"
   },
   "source": [
    "- Most loan amounts were approximately between 5300 and 15000.\n",
    "- The median is 9600.\n",
    "-  In the histogram, there are many spikes near round numbers. This might be because, most people prefer rounded numbers more."
   ]
  },
  {
   "cell_type": "code",
   "execution_count": null,
   "metadata": {
    "id": "zF7Xk6aq8zRL"
   },
   "outputs": [],
   "source": [
    "# analysis of funded_amnt\n",
    "plot_histogram_boxplot('funded_amnt', 20, 'Funded Amount', [0.25, 0.5, 0.75, 0.95], True, 95)"
   ]
  },
  {
   "cell_type": "markdown",
   "metadata": {
    "id": "v1wpjqMXpk_v"
   },
   "source": [
    "The summary metrics as well as the distribution of ```funded_amnt``` is very similar to ```loan_amnt```. This indicates that, in most cases, the Lending club lends the total amount requested by the borrower."
   ]
  },
  {
   "cell_type": "code",
   "execution_count": null,
   "metadata": {
    "id": "2bCZJYT-pbZo"
   },
   "outputs": [],
   "source": [
    "# analysis of funded_amnt_inv\n",
    "plot_histogram_boxplot('funded_amnt_inv', 20, 'Investors Funded Amount', [0.25, 0.5, 0.75, 0.95], True, 95)"
   ]
  },
  {
   "cell_type": "markdown",
   "metadata": {
    "id": "JR49MIbwqa9y"
   },
   "source": [
    "The summary metrics for this column is also very similar to ```loan_amnt```."
   ]
  },
  {
   "cell_type": "code",
   "execution_count": null,
   "metadata": {
    "id": "HfzsQDJQqTaZ"
   },
   "outputs": [],
   "source": [
    "# analysis of installment\n",
    "plot_histogram_boxplot('installment', 20, 'Installment', [0.25, 0.5, 0.75, 0.95], True, 95)"
   ]
  },
  {
   "cell_type": "markdown",
   "metadata": {
    "id": "kyuNgvDKurwE"
   },
   "source": [
    "We can consider the median (~278) as the representative value of the monthly installment amount."
   ]
  },
  {
   "cell_type": "code",
   "execution_count": null,
   "metadata": {
    "id": "YNI_UJePtn35"
   },
   "outputs": [],
   "source": [
    "# analysis of annual_inc\n",
    "# outliers (95 percentile above) are removed from visualization as visualization was not proper\n",
    "\n",
    "plot_histogram_boxplot('annual_inc', 20, 'Annual Income', [0.25, 0.5, 0.75, 0.95], True, 95, True)"
   ]
  },
  {
   "cell_type": "markdown",
   "metadata": {
    "id": "4cmUwUByzktS"
   },
   "source": [
    "- An income of 58868 (median) is an representation of the borrowers.\n",
    "- 95% of the people have an income below 140004."
   ]
  },
  {
   "cell_type": "code",
   "execution_count": null,
   "metadata": {
    "id": "zCDesozm0i4X"
   },
   "outputs": [],
   "source": [
    "# analysis of dti\n",
    "plot_histogram_boxplot('dti', 20, 'Debts to Income Ratio', [0.25, 0.5, 0.75, 0.95], True, 95)"
   ]
  },
  {
   "cell_type": "markdown",
   "metadata": {
    "id": "jS5_BASC1ohg"
   },
   "source": [
    "- There are no outliers in this column.\n",
    "- It is clear that greater the DTI lesser is the chance of getting a loan.\n",
    "- All the approved loans have a DTI of less than 30 and most lie in the range of 8 to ~19."
   ]
  },
  {
   "cell_type": "code",
   "execution_count": null,
   "metadata": {
    "id": "tp1vY_w_1c1w"
   },
   "outputs": [],
   "source": [
    "# analysis of delinq_2yrs\n",
    "plot_histogram_boxplot('delinq_2yrs', 15, '30+ days past-due incidences of delinquency in the past', [0.25, 0.5, 0.75, 0.95], True, 95)"
   ]
  },
  {
   "cell_type": "markdown",
   "metadata": {
    "id": "qcPZnB753Tcf"
   },
   "source": [
    "Except a few, most borrowers whose loan was approved had no 30+ days past-due delinquencies is the past 2 years."
   ]
  },
  {
   "cell_type": "code",
   "execution_count": null,
   "metadata": {
    "id": "lCwTxfk03NWJ"
   },
   "outputs": [],
   "source": [
    "# analysis of inq_last_6mths\n",
    "plot_histogram_boxplot('inq_last_6mths', 15, 'Number of Inquiries in the past 6 months', [0.25, 0.5, 0.75, 0.95], True, 95)"
   ]
  },
  {
   "cell_type": "markdown",
   "metadata": {
    "id": "hUQQ2ArA50fP"
   },
   "source": [
    "Most borrowers had enquired atleast once."
   ]
  },
  {
   "cell_type": "code",
   "execution_count": null,
   "metadata": {
    "id": "1uP-lg-H39JM"
   },
   "outputs": [],
   "source": [
    "# analysis of open_acc\n",
    "plot_histogram_boxplot('open_acc', 20, 'Number of Open Credit Lines', [0.25, 0.5, 0.75, 0.95], True, 95)"
   ]
  },
  {
   "cell_type": "markdown",
   "metadata": {
    "id": "cA03MmcR6Xqv"
   },
   "source": [
    "Most borrowers have an open credit line between 6 and 12."
   ]
  },
  {
   "cell_type": "code",
   "execution_count": null,
   "metadata": {
    "id": "CGJKizr375ak"
   },
   "outputs": [],
   "source": [
    "# analysis of total_acc\n",
    "plot_histogram_boxplot('total_acc', 10, 'Total Number of Credit Lines', [0.25, 0.5, 0.75, 0.95], True, 95)"
   ]
  },
  {
   "cell_type": "markdown",
   "metadata": {
    "id": "rDFAbIM29ZOt"
   },
   "source": [
    "Most borrowers have a total number of credit lines between 13 and 29."
   ]
  },
  {
   "cell_type": "code",
   "execution_count": null,
   "metadata": {
    "id": "AhTl9MwL6Pn2"
   },
   "outputs": [],
   "source": [
    "# analysis of pub_rec\n",
    "plot_histogram_boxplot('pub_rec', 5, 'Number of Derogatory Records', [0.25, 0.5, 0.75, 0.95], True, 95)"
   ]
  },
  {
   "cell_type": "markdown",
   "metadata": {
    "id": "PQ89vPIB7hlL"
   },
   "source": [
    "Except a very few borrowers, most did not have any derogatory public records."
   ]
  },
  {
   "cell_type": "code",
   "execution_count": null,
   "metadata": {
    "id": "05Nhetax94qG"
   },
   "outputs": [],
   "source": [
    "# analysis of pub_rec_bankruptcies\n",
    "plot_histogram_boxplot('pub_rec_bankruptcies', 5, 'Number of Public Records of Bankruptcies', [0.25, 0.5, 0.75, 0.95], True, 95)"
   ]
  },
  {
   "cell_type": "markdown",
   "metadata": {
    "id": "4ufcZIqz944A"
   },
   "source": [
    "Most borrowers had no public record of bankruptcies. Though a few borrowers had either 1 or 2 bankruptcies."
   ]
  },
  {
   "cell_type": "code",
   "execution_count": null,
   "metadata": {
    "id": "N3gmY_FM7bq9"
   },
   "outputs": [],
   "source": [
    "# analysis of revol_bal\n",
    "# outliers (95 percentile above) are removed from visualization as visualization was not proper\n",
    "\n",
    "plot_histogram_boxplot('revol_bal', 20, 'Credit Revolving Balance', [0.25, 0.5, 0.75, 0.95], True, 95, True)"
   ]
  },
  {
   "cell_type": "markdown",
   "metadata": {
    "id": "bHcen00i8eHY"
   },
   "source": [
    "- Most borrowers had a revolving balance between 3650 and 16912.\n",
    "- There are also some cases where borrowers had a revolving balance of more than a lakh."
   ]
  },
  {
   "cell_type": "code",
   "execution_count": null,
   "metadata": {
    "id": "mUyKhx049Mlj"
   },
   "outputs": [],
   "source": [
    "# analysis of total_rec_late_fee\n",
    "plot_histogram_boxplot('total_rec_late_fee', 5, 'Total Late Fee received', [0.25, 0.5, 0.75, 0.90, 0.95], True, 95)"
   ]
  },
  {
   "cell_type": "markdown",
   "metadata": {
    "id": "XyJyYI_oAQhu"
   },
   "source": [
    "90% of the borrowers had not paid any late fee."
   ]
  },
  {
   "cell_type": "code",
   "execution_count": null,
   "metadata": {
    "id": "S-weDI6LANoP"
   },
   "outputs": [],
   "source": [
    "# analysis of derived_int_rate_pct\n",
    "plot_histogram_boxplot('derived_int_rate_pct', 20, 'Interest Rate', [0.25, 0.5, 0.75, 0.95], True, 95)"
   ]
  },
  {
   "cell_type": "markdown",
   "metadata": {
    "id": "J4b0zL1fCwri"
   },
   "source": [
    "Most loan interest rates were between ~9% and 14%."
   ]
  },
  {
   "cell_type": "code",
   "execution_count": null,
   "metadata": {
    "id": "s5rH5lTaCr--"
   },
   "outputs": [],
   "source": [
    "# analysis of derived_revol_util_pct\n",
    "plot_histogram_boxplot('derived_revol_util_pct', 20, 'Revolving Balance utilization rate', [0.25, 0.5, 0.75, 0.95], True, 95)"
   ]
  },
  {
   "cell_type": "markdown",
   "metadata": {
    "id": "2_ovdhuhKJjl"
   },
   "source": [
    "Most people have a utilization rate between 25% and 72%."
   ]
  },
  {
   "cell_type": "markdown",
   "metadata": {
    "id": "48gDsjvopu8g"
   },
   "source": [
    "# Segmented Univariate Analysis"
   ]
  },
  {
   "cell_type": "code",
   "execution_count": null,
   "metadata": {
    "id": "BmUgsNS6dnut"
   },
   "outputs": [],
   "source": [
    "# method to display boxplot\n",
    "def plot_segmented_boxplot(segment_col, metric_col, title, figsize=(6, 6), plot_order=None, xtick_rot=0, show_stats=True, remove_outliers=False, outlier_threshold=0.95):\n",
    "  \n",
    "  temp_loan = loan\n",
    "  if remove_outliers:\n",
    "    temp_loan = loan[loan[metric_col] < loan[metric_col].quantile(outlier_threshold)]\n",
    "\n",
    "  plt.figure(figsize=figsize)\n",
    "  groupby = temp_loan.groupby(segment_col)[metric_col]\n",
    "  segmented_summary = groupby.describe()\n",
    "\n",
    "  ax = sns.boxplot(data=temp_loan, x=segment_col, y=metric_col, order=plot_order)\n",
    "  plt.title(title)\n",
    "  plt.xticks(rotation=xtick_rot)\n",
    "  plt.show()\n",
    "\n",
    "  if show_stats:\n",
    "    return segmented_summary"
   ]
  },
  {
   "cell_type": "code",
   "execution_count": null,
   "metadata": {
    "id": "GyD21lBeVx-t"
   },
   "outputs": [],
   "source": [
    "# method to display countplot\n",
    "\n",
    "def add_countplot_annots(ax):\n",
    "  all_heights = [[p.get_height() for p in bars] for bars in ax.containers]\n",
    "  for bars in ax.containers:\n",
    "    for i, p in enumerate(bars):\n",
    "      total = sum(xgroup[i] for xgroup in all_heights)\n",
    "      percentage = f'{round(100 * p.get_height() / total, 2)}%'\n",
    "      ax.annotate(percentage, (p.get_x() + p.get_width() / 2, p.get_height()), size=11, ha='center', va='bottom')\n",
    "\n",
    "def segmented_countplot(data, x, hue, title, figsize=(7, 5), annot=True, scale=False, xtick_rot=0):\n",
    "  plt.figure(figsize=figsize)\n",
    "  ax = sns.countplot(data=data, x=x, hue=hue, palette=sns.color_palette('pastel'), log=scale)\n",
    "  \n",
    "  if annot:\n",
    "    add_countplot_annots(ax)\n",
    "  plt.title(title)\n",
    "  plt.xticks(rotation=xtick_rot)\n",
    "  plt.legend(loc='upper right')\n",
    "  plt.show()"
   ]
  },
  {
   "cell_type": "markdown",
   "metadata": {
    "id": "OiBz_lGEcVat"
   },
   "source": [
    "### Loan Amount"
   ]
  },
  {
   "cell_type": "code",
   "execution_count": null,
   "metadata": {
    "id": "2YVxs91ocVnU"
   },
   "outputs": [],
   "source": [
    "# loan amount for different terms\n",
    "\n",
    "plot_segmented_boxplot('derived_term', 'loan_amnt', 'Loan Amount for different Loan Terms')"
   ]
  },
  {
   "cell_type": "markdown",
   "metadata": {
    "id": "X-yodOh0tz1i"
   },
   "source": [
    "Higher loan amounts tend to have a higher term."
   ]
  },
  {
   "cell_type": "code",
   "execution_count": null,
   "metadata": {
    "id": "rhQw6OGatxle"
   },
   "outputs": [],
   "source": [
    "# loan amount for different grades\n",
    "order = sorted(loan['derived_grade'].unique())\n",
    "plot_segmented_boxplot('derived_grade', 'loan_amnt', 'Loan Amount for different Grades', (15, 5), order)"
   ]
  },
  {
   "cell_type": "markdown",
   "metadata": {
    "id": "hokoMeEBvVrI"
   },
   "source": [
    "Loans with a grade G seems to have the highest the loan amounts."
   ]
  },
  {
   "cell_type": "code",
   "execution_count": null,
   "metadata": {
    "id": "hLy7znsmuBtp"
   },
   "outputs": [],
   "source": [
    "# loan amount for years of employment\n",
    "order = ['< 1 year', '1 year', '2 years', '3 years', '4 years', '5 years', '6 years', '7 years', '8 years', '9 years', '10+ years', 'unknwon']\n",
    "plot_segmented_boxplot('derived_emp_length', 'loan_amnt', 'Loan Amount for different Employment Years', (15, 5), order)"
   ]
  },
  {
   "cell_type": "markdown",
   "metadata": {
    "id": "IpcDzlZkxWZ_"
   },
   "source": [
    "The loan amounts are almost similar for borrowers with less than 1 year of employment to 9 years of employment. Borrowers with 10+ years of employment have a higher loan amount."
   ]
  },
  {
   "cell_type": "code",
   "execution_count": null,
   "metadata": {
    "id": "wFnqszkpw8t2"
   },
   "outputs": [],
   "source": [
    "# loan amount for different house ownership\n",
    "plot_segmented_boxplot('derived_home_ownership', 'loan_amnt', 'Loan Amount for different House Ownership', (15, 5))"
   ]
  },
  {
   "cell_type": "markdown",
   "metadata": {
    "id": "eUbQqncR0GlP"
   },
   "source": [
    "Borrowers with a mortgage have a slightly higher loan amount than others."
   ]
  },
  {
   "cell_type": "code",
   "execution_count": null,
   "metadata": {
    "id": "uDr0OoCTz_xV"
   },
   "outputs": [],
   "source": [
    "# loan amount for verification status\n",
    "plot_segmented_boxplot('derived_verification_status', 'loan_amnt', 'Loan Amount for different Verification Status')"
   ]
  },
  {
   "cell_type": "markdown",
   "metadata": {
    "id": "dsdyF68n0dRh"
   },
   "source": [
    "- Loans with a higher loan amount are verified.\n",
    "- Source verified loans and not verified loans have lesser loan amounts."
   ]
  },
  {
   "cell_type": "code",
   "execution_count": null,
   "metadata": {
    "id": "Tx_mgEJU0Z4n"
   },
   "outputs": [],
   "source": [
    "# loan amount for different loan purpose\n",
    "plot_segmented_boxplot('derived_purpose', 'loan_amnt', 'Loan Amount for different Loan Purpose', (15, 5), None, 90)"
   ]
  },
  {
   "cell_type": "markdown",
   "metadata": {
    "id": "jyhtyEAo2AKI"
   },
   "source": [
    "Loan amount for small business tend to be higher than the others and loan amount for vacation is the least."
   ]
  },
  {
   "cell_type": "code",
   "execution_count": null,
   "metadata": {
    "id": "ZoQVpGX61XYt"
   },
   "outputs": [],
   "source": [
    "# loan amount for different states\n",
    "plot_segmented_boxplot('derived_addr_state', 'loan_amnt', 'Loan Amount for different States', (25, 10), None, 90, False)"
   ]
  },
  {
   "cell_type": "markdown",
   "metadata": {
    "id": "0RVtzoyY2kTJ"
   },
   "source": [
    "- Loan amounts in Iowa (IA) tend to be higher than others.\n",
    "- Maine (ME) has the lowest loan amounts.\n",
    "- Apart from a few states, all other states have almost similar loan amounts."
   ]
  },
  {
   "cell_type": "code",
   "execution_count": null,
   "metadata": {
    "id": "pakx2I3i2PSH"
   },
   "outputs": [],
   "source": [
    "# loan amount for Year of Loan issue\n",
    "plot_segmented_boxplot('derived_issue_d_year', 'loan_amnt', 'Loan Amount for Year of Issue', (10, 5))"
   ]
  },
  {
   "cell_type": "markdown",
   "metadata": {
    "id": "9d1umoNs33uA"
   },
   "source": [
    "- Loan amounts in 2010 and 2011 are very similar and are higher compared to loan amounts for other years."
   ]
  },
  {
   "cell_type": "code",
   "execution_count": null,
   "metadata": {
    "id": "TAdVQvzs3utx"
   },
   "outputs": [],
   "source": [
    "# loan amount for Month of Loan issue\n",
    "order = ['January', 'February', 'March', 'April', 'May', 'June', 'July', 'August', 'September', 'October', 'November', 'December']\n",
    "\n",
    "plot_segmented_boxplot('derived_issue_d_month', 'loan_amnt', 'Loan Amount for Month of Issue', (10, 5), order, 90)"
   ]
  },
  {
   "cell_type": "markdown",
   "metadata": {
    "id": "HfqNKzzw41o5"
   },
   "source": [
    "- Loan amount for December is a bit higher than other months.\n",
    "- Looking at the 75th percentile, loan amount for June and July are a bit lower than others."
   ]
  },
  {
   "cell_type": "code",
   "execution_count": null,
   "metadata": {
    "id": "c0r64cfK5g4U"
   },
   "outputs": [],
   "source": [
    "# Loan amount for Loan Status\n",
    "\n",
    "plot_segmented_boxplot('derived_loan_status', 'loan_amnt', 'Loan Amount for Loan Status', (10, 5), None, 90)"
   ]
  },
  {
   "cell_type": "markdown",
   "metadata": {
    "id": "7lonnvc4MsNt"
   },
   "source": [
    "Loan amount of fully paid loans seems to be a bit lower than charged off loans."
   ]
  },
  {
   "cell_type": "markdown",
   "metadata": {
    "id": "3Vu84LAk9MiI"
   },
   "source": [
    "### Installment"
   ]
  },
  {
   "cell_type": "code",
   "execution_count": null,
   "metadata": {
    "id": "a9HD6kDc9MiJ"
   },
   "outputs": [],
   "source": [
    "# installment for different terms\n",
    "\n",
    "plot_segmented_boxplot('derived_term', 'installment', 'Installment for different Loan Terms')"
   ]
  },
  {
   "cell_type": "markdown",
   "metadata": {
    "id": "e1vPzGYu9MiK"
   },
   "source": [
    "Loans with 60 month term has a higher monthly installment."
   ]
  },
  {
   "cell_type": "code",
   "execution_count": null,
   "metadata": {
    "id": "9lf4r-ss9MiK"
   },
   "outputs": [],
   "source": [
    "# installment for different grades\n",
    "order = sorted(loan['derived_grade'].unique())\n",
    "plot_segmented_boxplot('derived_grade', 'installment', 'Installment for different Grades', (15, 5), order)"
   ]
  },
  {
   "cell_type": "markdown",
   "metadata": {
    "id": "C1CgZ0rH9MiK"
   },
   "source": [
    "Loans with a grade ```g``` seems to have the highest the installment and this keeps decreasing from ```f``` to ```a```. "
   ]
  },
  {
   "cell_type": "code",
   "execution_count": null,
   "metadata": {
    "id": "ahxJYkZc9MiK"
   },
   "outputs": [],
   "source": [
    "# installment for years of employment\n",
    "order = ['< 1 year', '1 year', '2 years', '3 years', '4 years', '5 years', '6 years', '7 years', '8 years', '9 years', '10+ years', 'unknwon']\n",
    "plot_segmented_boxplot('derived_emp_length', 'installment', 'Installment for different Employment Years', (15, 5), order)"
   ]
  },
  {
   "cell_type": "markdown",
   "metadata": {
    "id": "L6RcB1bZ9MiL"
   },
   "source": [
    "There is a slight increase in the installment with increase in the years of employment."
   ]
  },
  {
   "cell_type": "code",
   "execution_count": null,
   "metadata": {
    "id": "SFIe-Vnk9MiL"
   },
   "outputs": [],
   "source": [
    "# installment for different house ownership\n",
    "\n",
    "plot_segmented_boxplot('derived_home_ownership', 'installment', 'Installment for different House Ownership', (15, 5))"
   ]
  },
  {
   "cell_type": "markdown",
   "metadata": {
    "id": "3yEuWLq69MiL"
   },
   "source": [
    "Looking at the 75th percentile, borrowers with a ```other``` as the home ownership have a higher loan amount than others, followed very closely by mortgage."
   ]
  },
  {
   "cell_type": "code",
   "execution_count": null,
   "metadata": {
    "id": "R1gTMKWU9MiL"
   },
   "outputs": [],
   "source": [
    "# installment for verification status\n",
    "\n",
    "plot_segmented_boxplot('derived_verification_status', 'installment', 'Installment for different Verification Status')"
   ]
  },
  {
   "cell_type": "markdown",
   "metadata": {
    "id": "qlX3cxYA9MiL"
   },
   "source": [
    "- Loans with a higher installment are verified.\n",
    "- Source verified loans and not verified loans have lesser installments."
   ]
  },
  {
   "cell_type": "code",
   "execution_count": null,
   "metadata": {
    "id": "K7t8ywrB9MiM"
   },
   "outputs": [],
   "source": [
    "# installment for different loan purpose\n",
    "\n",
    "plot_segmented_boxplot('derived_purpose', 'installment', 'Installment for different Loan Purpose', (15, 5), None, 90)"
   ]
  },
  {
   "cell_type": "markdown",
   "metadata": {
    "id": "tOuNEZxm9MiM"
   },
   "source": [
    "Installments for small business tend to be higher than the others and installments for vacation is the least."
   ]
  },
  {
   "cell_type": "code",
   "execution_count": null,
   "metadata": {
    "id": "BHctDh3K9MiM"
   },
   "outputs": [],
   "source": [
    "# installment for different states\n",
    "\n",
    "plot_segmented_boxplot('derived_addr_state', 'installment', 'Installment for different States', (25, 10), None, 90, False)"
   ]
  },
  {
   "cell_type": "markdown",
   "metadata": {
    "id": "PSuxMBye9MiM"
   },
   "source": [
    "- Installments in Iowa (IA) tend to be higher than others.\n",
    "- Maine (ME) has the lowest installments."
   ]
  },
  {
   "cell_type": "code",
   "execution_count": null,
   "metadata": {
    "id": "fVoC5KP89MiN"
   },
   "outputs": [],
   "source": [
    "# installment for Year of Loan issue\n",
    "plot_segmented_boxplot('derived_issue_d_year', 'installment', 'Installment for Year of Issue', (10, 5))"
   ]
  },
  {
   "cell_type": "markdown",
   "metadata": {
    "id": "UMHen35e9MiN"
   },
   "source": [
    "- Installments in 2009 and 2011 are very similar and are higher compared to installments for other years."
   ]
  },
  {
   "cell_type": "code",
   "execution_count": null,
   "metadata": {
    "id": "o6crti8h9MiN"
   },
   "outputs": [],
   "source": [
    "# installment for Month of Loan issue\n",
    "order = ['January', 'February', 'March', 'April', 'May', 'June', 'July', 'August', 'September', 'October', 'November', 'December']\n",
    "\n",
    "plot_segmented_boxplot('derived_issue_d_month', 'installment', 'Installment for Month of Issue', (10, 5), order, 90)"
   ]
  },
  {
   "cell_type": "markdown",
   "metadata": {
    "id": "DfyYgri69MiN"
   },
   "source": [
    "- Installments for December is a bit higher than other months.\n",
    "- Looking at the 75th percentile, installment for June and July are a bit lower than others."
   ]
  },
  {
   "cell_type": "code",
   "execution_count": null,
   "metadata": {
    "id": "oe0tsJumMMNj"
   },
   "outputs": [],
   "source": [
    "# installment for Loan Status\n",
    "\n",
    "plot_segmented_boxplot('derived_loan_status', 'installment', 'Installment for Loan Status', (10, 5), None, 90)"
   ]
  },
  {
   "cell_type": "markdown",
   "metadata": {
    "id": "PBnIIyDhMVTc"
   },
   "source": [
    "Fully paid loans have lower monthly installments compared to charged off loans."
   ]
  },
  {
   "cell_type": "markdown",
   "metadata": {
    "id": "mhoc4IyQA0nx"
   },
   "source": [
    "### Annual Income"
   ]
  },
  {
   "cell_type": "code",
   "execution_count": null,
   "metadata": {
    "id": "zOX-bUi3A0oA"
   },
   "outputs": [],
   "source": [
    "# annual_inc for different terms\n",
    "\n",
    "plot_segmented_boxplot('derived_term', 'annual_inc', 'Annual Income for different Loan Terms', remove_outliers=True)"
   ]
  },
  {
   "cell_type": "markdown",
   "metadata": {
    "id": "uniitxZxA0oA"
   },
   "source": [
    "Borrowers with a higher annual income prefer 60 month term more."
   ]
  },
  {
   "cell_type": "code",
   "execution_count": null,
   "metadata": {
    "id": "V-ZpMynDA0oA"
   },
   "outputs": [],
   "source": [
    "# annual_inc for different grades\n",
    "order = sorted(loan['derived_grade'].unique())\n",
    "plot_segmented_boxplot('derived_grade', 'annual_inc', 'Annual Income for different Grades', (15, 5), order, remove_outliers=True)"
   ]
  },
  {
   "cell_type": "markdown",
   "metadata": {
    "id": "RKLFnU9sA0oB"
   },
   "source": [
    "Loans with a grade ```g``` seems to have the highest the annual income and this keeps decreasing from ```f``` to ```a```. "
   ]
  },
  {
   "cell_type": "code",
   "execution_count": null,
   "metadata": {
    "id": "9uGMlIcFA0oB"
   },
   "outputs": [],
   "source": [
    "# annual_inc for years of employment\n",
    "order = ['< 1 year', '1 year', '2 years', '3 years', '4 years', '5 years', '6 years', '7 years', '8 years', '9 years', '10+ years', 'unknwon']\n",
    "plot_segmented_boxplot('derived_emp_length', 'annual_inc', 'Annual Income for different Employment Years', (15, 5), order, remove_outliers=True)"
   ]
  },
  {
   "cell_type": "markdown",
   "metadata": {
    "id": "kXlPcJXBA0oB"
   },
   "source": [
    "There is a slight increase in the Annual Income with increase in the years of employment."
   ]
  },
  {
   "cell_type": "code",
   "execution_count": null,
   "metadata": {
    "id": "dman-qANA0oB"
   },
   "outputs": [],
   "source": [
    "# annual_inc for different house ownership\n",
    "\n",
    "plot_segmented_boxplot('derived_home_ownership', 'annual_inc', 'Annual Income for different House Ownership', (15, 5), remove_outliers=True)"
   ]
  },
  {
   "cell_type": "markdown",
   "metadata": {
    "id": "Gr6pkwfyA0oC"
   },
   "source": [
    "Without considering ```none``` category, borrowers with mortgage have a higher loan amount than others."
   ]
  },
  {
   "cell_type": "code",
   "execution_count": null,
   "metadata": {
    "id": "5pL2YMKaA0oC"
   },
   "outputs": [],
   "source": [
    "# annual_inc for verification status\n",
    "\n",
    "plot_segmented_boxplot('derived_verification_status', 'annual_inc', 'Annual Income for different Verification States', remove_outliers=True)"
   ]
  },
  {
   "cell_type": "markdown",
   "metadata": {
    "id": "SE_wUmsGA0oC"
   },
   "source": [
    "- Loans with a higher annual income are verified.\n",
    "- Source verified loans and not verified loans have lesser annual income."
   ]
  },
  {
   "cell_type": "code",
   "execution_count": null,
   "metadata": {
    "id": "tLSQY0viA0oC"
   },
   "outputs": [],
   "source": [
    "# annual_inc for different loan purpose\n",
    "\n",
    "plot_segmented_boxplot('derived_purpose', 'annual_inc', 'Annual Income for different Loan Purpose', (15, 5), None, 90, remove_outliers=True)"
   ]
  },
  {
   "cell_type": "markdown",
   "metadata": {
    "id": "L-eY_spSA0oC"
   },
   "source": [
    "- Annual income of people who get loan for home improvement are higher compared to others.\n",
    "- Annual income of those who avail educational loans are lower than others."
   ]
  },
  {
   "cell_type": "code",
   "execution_count": null,
   "metadata": {
    "id": "bjLR4GV_A0oD"
   },
   "outputs": [],
   "source": [
    "# annual_inc for different states\n",
    "\n",
    "plot_segmented_boxplot('derived_addr_state', 'annual_inc', 'Annual Income for different States', (25, 10), None, 90, False, remove_outliers=True, outlier_threshold=0.99)"
   ]
  },
  {
   "cell_type": "markdown",
   "metadata": {
    "id": "cmpWg5S_A0oD"
   },
   "source": [
    "- Annual Income in District of Columbia (DC) tend to be higher than others.\n",
    "- Maine (ME) has the lowest annual income."
   ]
  },
  {
   "cell_type": "code",
   "execution_count": null,
   "metadata": {
    "id": "GzMqRljAL1Uj"
   },
   "outputs": [],
   "source": [
    "# annual_inc for Loan Status\n",
    "\n",
    "plot_segmented_boxplot('derived_loan_status', 'annual_inc', 'Annual Income for Loan Status', (10, 5), None, 90, remove_outliers=True)"
   ]
  },
  {
   "cell_type": "markdown",
   "metadata": {
    "id": "PtE3eibPL-Yk"
   },
   "source": [
    "Annual income of borrowers who have fully paid the loans seems to be higher than borrowers whose loans charged off."
   ]
  },
  {
   "cell_type": "markdown",
   "metadata": {
    "id": "yr8pARcrINuT"
   },
   "source": [
    "### DTI (Debts to Income Ratio)"
   ]
  },
  {
   "cell_type": "code",
   "execution_count": null,
   "metadata": {
    "id": "eUFHT6j8INuU"
   },
   "outputs": [],
   "source": [
    "# dti for different terms\n",
    "\n",
    "plot_segmented_boxplot('derived_term', 'dti', 'DTI for different Loan Terms')"
   ]
  },
  {
   "cell_type": "markdown",
   "metadata": {
    "id": "qT8s4FQ-INuV"
   },
   "source": [
    "Loans with 60 month term have a higher DTI."
   ]
  },
  {
   "cell_type": "code",
   "execution_count": null,
   "metadata": {
    "id": "CieD1hD5INuV"
   },
   "outputs": [],
   "source": [
    "# dti for different grades\n",
    "order = sorted(loan['derived_grade'].unique())\n",
    "plot_segmented_boxplot('derived_grade', 'dti', 'DTI for different Grades', (15, 5), order)"
   ]
  },
  {
   "cell_type": "markdown",
   "metadata": {
    "id": "2UxOl1__INuV"
   },
   "source": [
    "Loans with a grade A seems to have the lowest DTI."
   ]
  },
  {
   "cell_type": "code",
   "execution_count": null,
   "metadata": {
    "id": "ctGbwZfyINuV"
   },
   "outputs": [],
   "source": [
    "# dti for years of employment\n",
    "order = ['< 1 year', '1 year', '2 years', '3 years', '4 years', '5 years', '6 years', '7 years', '8 years', '9 years', '10+ years', 'unknwon']\n",
    "plot_segmented_boxplot('derived_emp_length', 'dti', 'DTI for different Employment Years', (15, 5), order)"
   ]
  },
  {
   "cell_type": "markdown",
   "metadata": {
    "id": "XZCUyTx2INuW"
   },
   "source": [
    "DTI is almost very similar for all years of employment."
   ]
  },
  {
   "cell_type": "code",
   "execution_count": null,
   "metadata": {
    "id": "zolQjnnFINuW"
   },
   "outputs": [],
   "source": [
    "# dti for different house ownership\n",
    "\n",
    "plot_segmented_boxplot('derived_home_ownership', 'dti', 'DTI for different House Ownership', (15, 5))"
   ]
  },
  {
   "cell_type": "markdown",
   "metadata": {
    "id": "spkKrNuyINuW"
   },
   "source": [
    "Borrowers with a ```other``` as the home ownership have a lower DTI than others."
   ]
  },
  {
   "cell_type": "code",
   "execution_count": null,
   "metadata": {
    "id": "6eIM9lWqINuX"
   },
   "outputs": [],
   "source": [
    "# dti for verification status\n",
    "\n",
    "plot_segmented_boxplot('derived_verification_status', 'dti', 'DTI for different Verification Status')"
   ]
  },
  {
   "cell_type": "markdown",
   "metadata": {
    "id": "prguK_5FINuX"
   },
   "source": [
    "Verified loans seems to have higher DTI than others."
   ]
  },
  {
   "cell_type": "code",
   "execution_count": null,
   "metadata": {
    "id": "oVKP54m5INuX"
   },
   "outputs": [],
   "source": [
    "# dti for different loan purpose\n",
    "\n",
    "plot_segmented_boxplot('derived_purpose', 'dti', 'DTI for different Loan Purpose', (15, 5), None, 90)"
   ]
  },
  {
   "cell_type": "markdown",
   "metadata": {
    "id": "ijUAUk2rINuX"
   },
   "source": [
    "DTI of loans for credit card and debt consolidation are higher compared to other purposes."
   ]
  },
  {
   "cell_type": "code",
   "execution_count": null,
   "metadata": {
    "id": "ZRLWoTM8INuY"
   },
   "outputs": [],
   "source": [
    "# dti for different states\n",
    "\n",
    "plot_segmented_boxplot('derived_addr_state', 'dti', 'DTI for different States', (25, 10), None, 90, False)"
   ]
  },
  {
   "cell_type": "markdown",
   "metadata": {
    "id": "pfomg5sRINuY"
   },
   "source": [
    "Maine (ME) has the lowest DTI."
   ]
  },
  {
   "cell_type": "code",
   "execution_count": null,
   "metadata": {
    "id": "wD-zN2dFINuY"
   },
   "outputs": [],
   "source": [
    "# dti for Year of Loan issue\n",
    "plot_segmented_boxplot('derived_issue_d_year', 'dti', 'DTI for Year of Issue', (10, 5))"
   ]
  },
  {
   "cell_type": "markdown",
   "metadata": {
    "id": "vYtybZ4wINuY"
   },
   "source": [
    "Loan issued in 2007 have lower DTI compared to other years and the DTI seems to increase every year."
   ]
  },
  {
   "cell_type": "code",
   "execution_count": null,
   "metadata": {
    "id": "KKMmwP4tINuY"
   },
   "outputs": [],
   "source": [
    "# dti for Month of Loan issue\n",
    "order = ['January', 'February', 'March', 'April', 'May', 'June', 'July', 'August', 'September', 'October', 'November', 'December']\n",
    "\n",
    "plot_segmented_boxplot('derived_issue_d_month', 'dti', 'DTI for Month of Issue', (10, 5), order, 90)"
   ]
  },
  {
   "cell_type": "markdown",
   "metadata": {
    "id": "CQ9X_bbvINuZ"
   },
   "source": [
    "DTI for all the months seems fairly similar with December having a slightly higher DTI and January having a slightly lower DTI."
   ]
  },
  {
   "cell_type": "code",
   "execution_count": null,
   "metadata": {
    "id": "vIepTHfLLUIO"
   },
   "outputs": [],
   "source": [
    "# dti for Loan Status\n",
    "\n",
    "plot_segmented_boxplot('derived_loan_status', 'dti', 'DTI for Loan Status', (10, 5), None, 90)"
   ]
  },
  {
   "cell_type": "markdown",
   "metadata": {
    "id": "Pq2-FRc-LiTL"
   },
   "source": [
    "Loans that have been fully paid seems to have a lower DTI compared to loans that were charged off."
   ]
  },
  {
   "cell_type": "markdown",
   "metadata": {
    "id": "WRPNQnygN0DQ"
   },
   "source": [
    "### Interest Rate (int_rate)"
   ]
  },
  {
   "cell_type": "code",
   "execution_count": null,
   "metadata": {
    "id": "TTA8R6sYN0DS"
   },
   "outputs": [],
   "source": [
    "# interest rate for different terms\n",
    "\n",
    "plot_segmented_boxplot('derived_term', 'derived_int_rate_pct', 'Interest Rate for different Loan Terms')"
   ]
  },
  {
   "cell_type": "markdown",
   "metadata": {
    "id": "egrpzkLaN0DT"
   },
   "source": [
    "Loans with 60 month term have a higher interest rate."
   ]
  },
  {
   "cell_type": "code",
   "execution_count": null,
   "metadata": {
    "id": "8vayDZN8N0DT"
   },
   "outputs": [],
   "source": [
    "# interest rate for different grades\n",
    "order = sorted(loan['derived_grade'].unique())\n",
    "plot_segmented_boxplot('derived_grade', 'derived_int_rate_pct', 'Interest Rate for different Grades', (15, 5), order)"
   ]
  },
  {
   "cell_type": "markdown",
   "metadata": {
    "id": "HetTAnI7N0DU"
   },
   "source": [
    "Loans with a grade G has the highest interest rate and it decreases for every grade from ```f``` to ```a```."
   ]
  },
  {
   "cell_type": "code",
   "execution_count": null,
   "metadata": {
    "id": "5TCDcfPpN0DU"
   },
   "outputs": [],
   "source": [
    "# interest rate for years of employment\n",
    "order = ['< 1 year', '1 year', '2 years', '3 years', '4 years', '5 years', '6 years', '7 years', '8 years', '9 years', '10+ years', 'unknwon']\n",
    "plot_segmented_boxplot('derived_emp_length', 'derived_int_rate_pct', 'Interest Rate for different Employment Years', (15, 5), order)"
   ]
  },
  {
   "cell_type": "markdown",
   "metadata": {
    "id": "dszh6ZH_N0DV"
   },
   "source": [
    "Interest rate is almost very similar for all years of employment."
   ]
  },
  {
   "cell_type": "code",
   "execution_count": null,
   "metadata": {
    "id": "JkMg2ETtN0DV"
   },
   "outputs": [],
   "source": [
    "# interest rate for different house ownership\n",
    "\n",
    "plot_segmented_boxplot('derived_home_ownership', 'derived_int_rate_pct', 'Interest Rate for different House Ownership', (15, 5))"
   ]
  },
  {
   "cell_type": "markdown",
   "metadata": {
    "id": "mqdhJNIFN0DV"
   },
   "source": [
    "Interest Rate for any type of home ownership is almost similar."
   ]
  },
  {
   "cell_type": "code",
   "execution_count": null,
   "metadata": {
    "id": "zvPzPpg7N0DW"
   },
   "outputs": [],
   "source": [
    "# interest rate for verification status\n",
    "\n",
    "plot_segmented_boxplot('derived_verification_status', 'derived_int_rate_pct', 'Interest Rate for different Verification Status')"
   ]
  },
  {
   "cell_type": "markdown",
   "metadata": {
    "id": "6S_9zkaXN0DW"
   },
   "source": [
    "Verified loans seems to have higher interest rates than others."
   ]
  },
  {
   "cell_type": "code",
   "execution_count": null,
   "metadata": {
    "id": "yf934ooBN0DW"
   },
   "outputs": [],
   "source": [
    "# interest rate for different loan purpose\n",
    "\n",
    "plot_segmented_boxplot('derived_purpose', 'derived_int_rate_pct', 'Interest Rate for different Loan Purpose', (15, 5), None, 90)"
   ]
  },
  {
   "cell_type": "markdown",
   "metadata": {
    "id": "SlWWmfwQN0DX"
   },
   "source": [
    "Interest Rate of loans for small business, debt consolidation and house seems to be higher compared to other purposes."
   ]
  },
  {
   "cell_type": "code",
   "execution_count": null,
   "metadata": {
    "id": "nwpEWtmBN0DX"
   },
   "outputs": [],
   "source": [
    "# interest rate for different states\n",
    "\n",
    "plot_segmented_boxplot('derived_addr_state', 'derived_int_rate_pct', 'Interest Rate for different States', (25, 10), None, 90, False)"
   ]
  },
  {
   "cell_type": "markdown",
   "metadata": {
    "id": "D_Gk8P1ZN0DY"
   },
   "source": [
    "- Interest rates in Alaska (AK), Hawaii (HI) and Wyoming (WY) are the highest.\n",
    "- Interest rates seems to be lowest in Iowa (IA)."
   ]
  },
  {
   "cell_type": "code",
   "execution_count": null,
   "metadata": {
    "id": "SMMGeI77N0DY"
   },
   "outputs": [],
   "source": [
    "# interest rate for Year of Loan issue\n",
    "plot_segmented_boxplot('derived_issue_d_year', 'derived_int_rate_pct', 'Interest Rate for Year of Issue', (10, 5))"
   ]
  },
  {
   "cell_type": "markdown",
   "metadata": {
    "id": "gewQllnYN0DY"
   },
   "source": [
    "The interest rates have increased consistently throughout the years."
   ]
  },
  {
   "cell_type": "code",
   "execution_count": null,
   "metadata": {
    "id": "p_pe3CukN0DZ"
   },
   "outputs": [],
   "source": [
    "# interest rate for Month of Loan issue\n",
    "order = ['January', 'February', 'March', 'April', 'May', 'June', 'July', 'August', 'September', 'October', 'November', 'December']\n",
    "\n",
    "plot_segmented_boxplot('derived_issue_d_month', 'derived_int_rate_pct', 'Interest Rate for Month of Issue', (10, 5), order, 90)"
   ]
  },
  {
   "cell_type": "markdown",
   "metadata": {
    "id": "U3OTmMfWN0DZ"
   },
   "source": [
    "Interest Rate for all the months seems nearly similar."
   ]
  },
  {
   "cell_type": "code",
   "execution_count": null,
   "metadata": {
    "id": "0DVsO7-5N0DZ"
   },
   "outputs": [],
   "source": [
    "# Interest rate for Loan Status\n",
    "\n",
    "plot_segmented_boxplot('derived_loan_status', 'derived_int_rate_pct', 'Interest Rate for Loan Status', (10, 5), None, 90)"
   ]
  },
  {
   "cell_type": "markdown",
   "metadata": {
    "id": "8vv1H8fpN0DZ"
   },
   "source": [
    "Loans that have been fully paid seems to have a lower interest rate compared to loans that were charged off."
   ]
  },
  {
   "cell_type": "markdown",
   "metadata": {
    "id": "zlOkhf4KRYPf"
   },
   "source": [
    "### Revolving line utilization rate (revol_util)"
   ]
  },
  {
   "cell_type": "code",
   "execution_count": null,
   "metadata": {
    "id": "tY8YKm_mRYPg"
   },
   "outputs": [],
   "source": [
    "# revol_util rate for different terms\n",
    "\n",
    "plot_segmented_boxplot('derived_term', 'derived_revol_util_pct', 'revol_util for different Loan Terms')"
   ]
  },
  {
   "cell_type": "markdown",
   "metadata": {
    "id": "7_OiUIpNRYPi"
   },
   "source": [
    "Loans with 60 month term have a higher revolving utilization rate."
   ]
  },
  {
   "cell_type": "code",
   "execution_count": null,
   "metadata": {
    "id": "27Nv54HyRYPi"
   },
   "outputs": [],
   "source": [
    "# revol_util rate for different grades\n",
    "order = sorted(loan['derived_grade'].unique())\n",
    "plot_segmented_boxplot('derived_grade', 'derived_revol_util_pct', 'revol_util for different Grades', (15, 5), order)"
   ]
  },
  {
   "cell_type": "markdown",
   "metadata": {
    "id": "_U10Cor7RYPj"
   },
   "source": [
    "Loans with a grade G has the highest revolving utilization rate and it decreases for every grade from ```f``` to ```a```."
   ]
  },
  {
   "cell_type": "code",
   "execution_count": null,
   "metadata": {
    "id": "XET6FChlRYPj"
   },
   "outputs": [],
   "source": [
    "# revol_util rate for years of employment\n",
    "order = ['< 1 year', '1 year', '2 years', '3 years', '4 years', '5 years', '6 years', '7 years', '8 years', '9 years', '10+ years', 'unknwon']\n",
    "plot_segmented_boxplot('derived_emp_length', 'derived_revol_util_pct', 'revol_util for different Employment Years', (15, 5), order)"
   ]
  },
  {
   "cell_type": "markdown",
   "metadata": {
    "id": "DCFxcbEZRYPk"
   },
   "source": [
    "Revolving utilization rates are almost very similar for all years of employment."
   ]
  },
  {
   "cell_type": "code",
   "execution_count": null,
   "metadata": {
    "id": "h_VLFbtTRYPk"
   },
   "outputs": [],
   "source": [
    "# revol_util rate for different house ownership\n",
    "\n",
    "plot_segmented_boxplot('derived_home_ownership', 'derived_revol_util_pct', 'revol_util for different House Ownership', (15, 5))"
   ]
  },
  {
   "cell_type": "markdown",
   "metadata": {
    "id": "joToqIicRYPl"
   },
   "source": [
    "Revolving utilization rate for borrowers with a rented house is higher than others."
   ]
  },
  {
   "cell_type": "code",
   "execution_count": null,
   "metadata": {
    "id": "m5SdEWw_RYPl"
   },
   "outputs": [],
   "source": [
    "# revol_util for verification status\n",
    "\n",
    "plot_segmented_boxplot('derived_verification_status', 'derived_revol_util_pct', 'revol_util for different Verification Status')"
   ]
  },
  {
   "cell_type": "markdown",
   "metadata": {
    "id": "iEIMBqNQRYPl"
   },
   "source": [
    "Verified loans seems to have higher revolving utilization rates than others."
   ]
  },
  {
   "cell_type": "code",
   "execution_count": null,
   "metadata": {
    "id": "vbXMB8n-RYPl"
   },
   "outputs": [],
   "source": [
    "# revol_util for different loan purpose\n",
    "\n",
    "plot_segmented_boxplot('derived_purpose', 'derived_revol_util_pct', 'revol_util for different Loan Purpose', (15, 5), None, 90)"
   ]
  },
  {
   "cell_type": "markdown",
   "metadata": {
    "id": "znH39WoTRYPm"
   },
   "source": [
    "- Revolving utilization rate of loans for credit card and renewable energy seems to be higher compared to other purposes.\n",
    "- Loans on house have a lower revolving utilization rate."
   ]
  },
  {
   "cell_type": "code",
   "execution_count": null,
   "metadata": {
    "id": "SCM7_LcpRYPm"
   },
   "outputs": [],
   "source": [
    "# revol_util for different states\n",
    "\n",
    "plot_segmented_boxplot('derived_addr_state', 'derived_revol_util_pct', 'revol_util for different States', (25, 10), None, 90, False)"
   ]
  },
  {
   "cell_type": "markdown",
   "metadata": {
    "id": "YOZPSkHWRYPm"
   },
   "source": [
    "- Revolving utilization rate are the highest in Nebraska (NE).\n",
    "- Revolving utilization rate seems to be lowest in Iowa (IA)."
   ]
  },
  {
   "cell_type": "code",
   "execution_count": null,
   "metadata": {
    "id": "UUwrEG1WRYPm"
   },
   "outputs": [],
   "source": [
    "# revol_util for Year of Loan issue\n",
    "plot_segmented_boxplot('derived_issue_d_year', 'derived_revol_util_pct', 'revol_util for Year of Issue', (10, 5))"
   ]
  },
  {
   "cell_type": "markdown",
   "metadata": {
    "id": "jWIhqwbZRYPn"
   },
   "source": [
    "The revolving utilization rates have increased consistently throughout the years from 2007 to 2011."
   ]
  },
  {
   "cell_type": "code",
   "execution_count": null,
   "metadata": {
    "id": "5tdWvso5RYPn"
   },
   "outputs": [],
   "source": [
    "# revol_util rate for Month of Loan issue\n",
    "order = ['January', 'February', 'March', 'April', 'May', 'June', 'July', 'August', 'September', 'October', 'November', 'December']\n",
    "\n",
    "plot_segmented_boxplot('derived_issue_d_month', 'derived_revol_util_pct', 'revol_util for Month of Issue', (10, 5), order, 90)"
   ]
  },
  {
   "cell_type": "markdown",
   "metadata": {
    "id": "KmnWWwgXRYPn"
   },
   "source": [
    "Revolving utilization rate for all the months seems fairly similar but increases for December."
   ]
  },
  {
   "cell_type": "code",
   "execution_count": null,
   "metadata": {
    "id": "BHmYpKYYRYPo"
   },
   "outputs": [],
   "source": [
    "# revol_util for Loan Status\n",
    "\n",
    "plot_segmented_boxplot('derived_loan_status', 'derived_revol_util_pct', 'revol_util for Loan Status', (10, 5), None, 90)"
   ]
  },
  {
   "cell_type": "markdown",
   "metadata": {
    "id": "5fz3jOLERYPo"
   },
   "source": [
    "Borrowers with a lower revolving utilization rates have fully paid the loans compared to borrowers with higher revolving utilization rates."
   ]
  },
  {
   "cell_type": "markdown",
   "metadata": {
    "id": "RUwQHpDdVx-j"
   },
   "source": [
    "### Loan Status"
   ]
  },
  {
   "cell_type": "code",
   "execution_count": null,
   "metadata": {
    "id": "251-omqKVx-t"
   },
   "outputs": [],
   "source": [
    "# loan_status for loan term\n",
    "segmented_countplot(loan, 'derived_term', 'derived_loan_status', 'Loan status for different Loan Terms')"
   ]
  },
  {
   "cell_type": "markdown",
   "metadata": {
    "id": "KS8zMC-9Vx-t"
   },
   "source": [
    "Borrowers who had chosen 60 months term tend to be defaulters (25.3%) more compared to borrowers who choose 36 months term (11.1%)."
   ]
  },
  {
   "cell_type": "code",
   "execution_count": null,
   "metadata": {
    "id": "4blyZGXLVx-t"
   },
   "outputs": [],
   "source": [
    "# loan_status for purpose\n",
    "segmented_countplot(loan, 'derived_purpose', 'derived_loan_status', 'Loan status for different purposes', (25, 6), scale=True, xtick_rot=90)"
   ]
  },
  {
   "cell_type": "markdown",
   "metadata": {
    "id": "_Q1OANU7a8fG"
   },
   "source": [
    "- Loans for major purchase were mostly paid back, followed very closely by loans for wedding, car and credit card.\n",
    "- Loans for small business are mostly charged off."
   ]
  },
  {
   "cell_type": "code",
   "execution_count": null,
   "metadata": {
    "id": "hshVBWniWdu0"
   },
   "outputs": [],
   "source": [
    "# loan_status for derived_grade\n",
    "segmented_countplot(loan, 'derived_grade', 'derived_loan_status', 'Loan status for different grades', (10, 6), scale=True)"
   ]
  },
  {
   "cell_type": "markdown",
   "metadata": {
    "id": "KGae-glodDqm"
   },
   "source": [
    "- Loans with grade ```a``` are the most fully paid loans.\n",
    "- Almost 33.8% of grade ```g``` loans are charged off (highest), closely followed by grade ```f```."
   ]
  },
  {
   "cell_type": "code",
   "execution_count": null,
   "metadata": {
    "id": "k5w8jeW8a2Al"
   },
   "outputs": [],
   "source": [
    "# loan_status for derived_emp_length\n",
    "segmented_countplot(loan, 'derived_emp_length', 'derived_loan_status', 'Loan status for years of employment', (12, 6), scale=True, xtick_rot=90)"
   ]
  },
  {
   "cell_type": "markdown",
   "metadata": {
    "id": "KbhCWhsH3gM3"
   },
   "source": [
    "Charged off loans are less for borrowers with 9 years of employment."
   ]
  },
  {
   "cell_type": "code",
   "execution_count": null,
   "metadata": {
    "id": "7EGk4k7H1SAY"
   },
   "outputs": [],
   "source": [
    "# loan_status for derived_home_ownership\n",
    "segmented_countplot(loan, 'derived_home_ownership', 'derived_loan_status', 'Loan status for home ownership', (12, 6), scale=True)"
   ]
  },
  {
   "cell_type": "markdown",
   "metadata": {
    "id": "dH8AzDV5xxOI"
   },
   "source": [
    "- Borrowers with a ```mortgage``` tend to have the lowest charged off loans."
   ]
  },
  {
   "cell_type": "code",
   "execution_count": null,
   "metadata": {
    "id": "iuRd5xVC5izk"
   },
   "outputs": [],
   "source": [
    "# loan_status for derived_verification_status\n",
    "segmented_countplot(loan, 'derived_verification_status', 'derived_loan_status', 'Loan status for verification status', (10, 6))"
   ]
  },
  {
   "cell_type": "markdown",
   "metadata": {
    "id": "E4MCBSSd2LpG"
   },
   "source": [
    "- Loans that were not verified have a higher percent of fully paid loans."
   ]
  },
  {
   "cell_type": "markdown",
   "metadata": {
    "id": "S3tyTMFDrwPS"
   },
   "source": [
    "# Bivariate Analysis"
   ]
  },
  {
   "cell_type": "markdown",
   "metadata": {
    "id": "9718dd06"
   },
   "source": [
    "## Preps"
   ]
  },
  {
   "cell_type": "code",
   "execution_count": null,
   "metadata": {},
   "outputs": [],
   "source": [
    "#loan = pd.read_csv('preprocessed_loan.csv', index_col=0)"
   ]
  },
  {
   "cell_type": "code",
   "execution_count": null,
   "metadata": {},
   "outputs": [],
   "source": [
    "loan.shape"
   ]
  },
  {
   "cell_type": "code",
   "execution_count": null,
   "metadata": {
    "id": "7618dc75",
    "scrolled": true
   },
   "outputs": [],
   "source": [
    "loan['derived_earliest_cr_line_year'] = loan['derived_earliest_cr_line_year'].astype(str)\n",
    "loan['derived_issue_d_year'] = loan['derived_issue_d_year'].astype(str)\n",
    "loan['derived_installment_to_monthly_salary_ratio'] = loan['installment']/(loan['annual_inc']/12)\n",
    "\n",
    "#target variable used to color the scatterplot\n",
    "loan['derived_loan_status_bin']= loan['derived_loan_status'].apply(lambda x: 1 if x=='charged off' else 0)\n",
    "\n",
    "defaulters = loan[loan['derived_loan_status']=='charged off']\n",
    "non_defaulters = loan[loan['derived_loan_status']=='fully paid']\n",
    "\n",
    "\n",
    "loan['derived_loan_to_income_ratio'] = loan['loan_amnt']/loan['annual_inc']\n",
    "\n",
    "#outlier handling\n",
    "loan = loan[loan[\"annual_inc\"] <= loan[\"annual_inc\"].quantile(0.99)] #4000000]\n",
    "#loan[\"annual_inc\"].describe()"
   ]
  },
  {
   "cell_type": "markdown",
   "metadata": {
    "id": "7182ebdc"
   },
   "source": [
    "## Analysis of Continuous Variables"
   ]
  },
  {
   "cell_type": "markdown",
   "metadata": {
    "id": "c0271e46"
   },
   "source": [
    "### 1. Correlations"
   ]
  },
  {
   "cell_type": "code",
   "execution_count": null,
   "metadata": {
    "id": "019941f8",
    "scrolled": true
   },
   "outputs": [],
   "source": [
    "# TODO remove if not required\n",
    "columnsPostLoanApproval = ['total_rec_prncp', 'total_rec_int',\n",
    "                          'total_rec_late_fee', 'recoveries', 'collection_recovery_fee','last_pymnt_amnt','derived_issue_d',\n",
    "                          'derived_title','derived_zip_code','derived_last_pymnt_d','derived_earliest_cr_line_date','derived_last_pymnt_d_date',\n",
    "                          'derived_issue_d_date']\n",
    "loan_corr = loan#.drop(columnsPostLoanApproval, axis=1)"
   ]
  },
  {
   "cell_type": "code",
   "execution_count": null,
   "metadata": {
    "id": "942f2ac4",
    "scrolled": true
   },
   "outputs": [],
   "source": [
    "def plot_cluster(columns, df = loan, font_size=2):\n",
    "    \"\"\"\n",
    "        Parameters:\n",
    "            columns: columns to be considered for crrelation\n",
    "            df: dataframe, defaulted to loan\n",
    "            font_size : size defaulted to 2\n",
    "        Returns:\n",
    "            None, does a clustermap plot\n",
    "    \"\"\"\n",
    "    dfToCorr = df[columns]\n",
    "    df_corr = dfToCorr.corr()\n",
    "    \n",
    "    sns.set(font_scale=font_size)\n",
    "    cmap = sns.diverging_palette(h_neg=210, h_pos=350, s=90, l=30, as_cmap=True)\n",
    "    sns.clustermap(df_corr, annot=True, figsize=(30, 20),cmap=\"BrBG\")"
   ]
  },
  {
   "cell_type": "code",
   "execution_count": null,
   "metadata": {
    "id": "434602a3",
    "scrolled": false
   },
   "outputs": [],
   "source": [
    "## correlations between continuous variables\n",
    "#'total_rec_prncp', 'total_rec_int',\n",
    "columnsToCorr1 = loan.columns.difference({'id','member_id','derived_last_pymnt_d_year','total_rec_late_fee', 'recoveries', 'derived_issue_d_date','collection_recovery_fee','derived_last_pymnt_d_month','derived_title','derived_zip_code','derived_last_pymnt_d','derived_earliest_cr_line_date','derived_last_pymnt_d_date','derived_earliest_cr_line_month','derived_earliest_cr_line_day'}).to_list()\n",
    "                                         \n",
    "plot_cluster(columnsToCorr1, loan_corr, 1.7)"
   ]
  },
  {
   "cell_type": "markdown",
   "metadata": {
    "id": "16f4cd09"
   },
   "source": [
    "Observations :\n",
    "1. [loan_amount, funded amount, funded amount by investors, total payment to investors, total payment] are highly correlated  and proportional\n",
    "2. public records and public records of bankruptcies are highly correlated\n",
    "3. open account and total open account are correlated\n",
    "4. annual income is \n",
    "      A. positively correlated to\n",
    "          a. revolving credit balance : as income increases higher lesser the use of revol credits causing higher revolving credit balance \n",
    "          b. total payments (and other correlated loan payments listed in observation 1) : as income increases, the amount of loan increases which also means higher installament, and it also ensures the timely credit payment causing total_pyment, total investors payment to increase\n",
    "          c. total accounts & open accounts : as income rises, more accounts can be managed by borrowers\n",
    "      B. negatively correlates to\n",
    "          a. dti (slightly 11%) : debt to income ratio tend to reduce as annual income rises\n",
    "          b. loan status (slightly 6%) : increase in income enables the borrower to pay the credit\n",
    "          c. pub_rec & pub_rec_bankkruptcies (very less 1-2 %)\n",
    "5. interest rate is\n",
    "    A. positively correlated to\n",
    "        1. total recovered interest [52 %] : obvious relation\n",
    "        2. revolving utilization of credit [46 %] : as credit utilization increases, possibility of default increases and higher interest rates are charged to compensate the risk involved\n",
    "        3. loan amount [30 %]: higher amount loans are given with higher interest rates\n",
    "    B. negatively correlates to\n",
    "        1. total accounts of the borrower [very less 5%]\n",
    "\n",
    "6. total recovered principal is\n",
    "    A. positively correlates to\n",
    "        a. loan amount (& related features from observation 1)\n",
    "        b. annual income\n",
    "        c. revolving balance & total accounts of borrower\n",
    "    B.  negatively correlates to\n",
    "        a. public records & public records of bankruptcies\n",
    "        b. delinq_2yrs\n",
    "        c. number of credit inquiries made by borrower in last 6 months\n",
    "Credit history related variables\n",
    "7. debt to income ratio [dti] is \n",
    "    A. positively correlates to \n",
    "        1. open accounts\n",
    "        2. revolving credit utilization %\n",
    "        3. total accounts\n",
    "        4. revolving balance\n",
    "    B. negatively correlates to \n",
    "        1. annual income\n",
    "        2. delinq_2yrs : The number of 30+ days past-due incidences of delinquency in the borrower's credit file for the past 2 years\n",
    "\n",
    "8. delinq_2yrs is\n",
    "    A. positively correlates to \n",
    "        1. interest rate\n",
    "    B. negatively correlates to\n",
    "        1. loan amount\n",
    "        2. revolving credit balance"
   ]
  },
  {
   "cell_type": "code",
   "execution_count": null,
   "metadata": {
    "id": "bcc14475",
    "scrolled": false
   },
   "outputs": [],
   "source": [
    "#further drilldown on specfic variables\n",
    "columnsToCorr2 = set(columnsToCorr1).difference({'total_pymnt','total_pymnt_inv','funded_amnt','funded_amnt_inv','total_acc','open_acc','revol_util','derived_disc_length','derived_desc_length','revol_bal'})                                \n",
    "plot_cluster(columnsToCorr2, loan_corr )"
   ]
  },
  {
   "cell_type": "markdown",
   "metadata": {
    "id": "9abac361"
   },
   "source": [
    "### 2. Common Methods"
   ]
  },
  {
   "cell_type": "code",
   "execution_count": null,
   "metadata": {
    "id": "f63830fd",
    "scrolled": true
   },
   "outputs": [],
   "source": [
    "pd.set_option('display.float_format', lambda x: '%.3f' % x) # display property for float\n",
    "\n",
    "def boxplot_annot(box_plot, summary):\n",
    "    box_plot.text(box_plot.get_xticks()[0]+0.17, summary['25%'], horizontalalignment='center', s=f'25%: {summary[\"25%\"]}', color='black')\n",
    "    box_plot.text(box_plot.get_xticks()[0]+0.17, summary['50%'], horizontalalignment='center', s=f'50%: {summary[\"50%\"]}', color='black')\n",
    "    box_plot.text(box_plot.get_xticks()[0]+0.17, summary['75%'], horizontalalignment='center', s=f'75%: {summary[\"75%\"]}', color='black')"
   ]
  },
  {
   "cell_type": "code",
   "execution_count": null,
   "metadata": {
    "id": "98945b3a",
    "scrolled": true
   },
   "outputs": [],
   "source": [
    "sns.set()\n",
    "\n",
    "def remove_outliers_auto(df, column):\n",
    "    Q1 = df.quantile(0.25)\n",
    "    Q3 = df.quantile(0.75)\n",
    "    IQR = Q3 - Q1\n",
    "\n",
    "    return df[~((df < (Q1 - 1.5 * IQR)) |(df > (Q3 + 1.5 * IQR))).any(axis=1)]\n",
    "\n",
    "def handle_outliers(df, col, index, auto_remove_outliers = False, outlier_quantiles=None):\n",
    "    default_outlier_b = [[2, 98],[2,98]]\n",
    "    \n",
    "    if auto_remove_outliers:\n",
    "        df1 = remove_outliers_auto(df, col)\n",
    "    else:\n",
    "        if isinstance(outlier_quantiles, list):\n",
    "            default_outlier_b = outlier_quantiles\n",
    "        else:\n",
    "            print(\"defaulting outlier quntiles to \",default_outlier_b)\n",
    "        P = np.percentile(df[col], default_outlier_b[int(index)])\n",
    "        df1 = df[(df[col] > P[0]) & (df[col] < P[1])]\n",
    "       \n",
    "    print(f\"outliers removal summary for {col} : \\n \"+\n",
    "              f\"Total original records {df.shape[0]}, \\n\"+\n",
    "              f\"Total Records after outlier removal {df1.shape[0]}\" )\n",
    "    \n",
    "    return df1\n",
    "\n",
    "def plot_scatter(df, x, y, c=None, auto_remove_outliers=False, outlier_quantile=None):\n",
    "    \n",
    "    df1 = handle_outliers(df,  x, 0, auto_remove_outliers, outlier_quantile)\n",
    "    df1 = handle_outliers(df1, y, 1, auto_remove_outliers, outlier_quantile)\n",
    "        \n",
    "    if c:\n",
    "        sns.scatterplot(x=df1[x],y=df1[y], c= df1[c], cmap=plt.cm.get_cmap(\"cool\",5), alpha=0.5)\n",
    "    else:\n",
    "        chargedoff = df1[df1['derived_loan_status_bin']==1]\n",
    "        fullypaid = df1[df1['derived_loan_status_bin']==0]\n",
    "        #cmap=plt.cm.get_cmap(\"cool\",5),\n",
    "        cols=fullypaid.derived_loan_status_bin.map({0:'b', 1:'r'})\n",
    "        ax = sns.scatterplot(x=fullypaid[x],y=fullypaid[y], c= cols, alpha=0.7, cmap='viridis')\n",
    "        \n",
    "        cols = chargedoff.derived_loan_status_bin.map({0:'b', 1:'r'})\n",
    "        #sns.scatterplot(x=df1[x],y=df1[y], c= cols, alpha=0.8, cmap=plt.cm.get_cmap(\"cool\",5))\n",
    "        ax = sns.scatterplot(x=chargedoff[x],y=chargedoff[y], c=cols, alpha=0.3, cmap='viridis')\n",
    "        \n",
    "    \n",
    "    #cbar = plt.colorbar(orientation=\"vertical\", extend=\"both\",\n",
    "    #pad=0.05, shrink=1, aspect=20, format=\"%.3f\")\n",
    "    #cbar.set_label(label=\"Concentrations\", size=15)\n",
    "    #cbar.set_ticks([0,5,10])\n",
    "    #cbar.set_ticklabels([\"0 grams\",\"5 million\",\"cats\"])\n",
    "    #cbar.ax.tick_params(labelsize=15)\n",
    "    #plt.clim(0,10)\n",
    "    \n",
    "    title = f\"{x} Vs {y}\"\n",
    "    plt.figure(figsize=(15, 7))\n",
    "    plt.suptitle(title)\n",
    "\n",
    "    summary = df1[x].describe()\n",
    "    plt.subplot(1, 2, 1)\n",
    "    sns.set_style(\"whitegrid\")\n",
    "    box_plot = df1[x].plot.box()\n",
    "    boxplot_annot(box_plot, summary)\n",
    "\n",
    "    summary = df1[y].describe()\n",
    "    plt.subplot(1, 2, 2)\n",
    "    sns.set_style(\"whitegrid\")\n",
    "    box_plot = df1[y].plot.box()\n",
    "    boxplot_annot(box_plot, summary)\n",
    "    \n",
    "    plt.show()"
   ]
  },
  {
   "cell_type": "code",
   "execution_count": null,
   "metadata": {
    "id": "bc4beb18",
    "scrolled": true
   },
   "outputs": [],
   "source": [
    "plot_scatter(loan, 'annual_inc','loan_amnt',outlier_quantile =[[0.1, 99],[0.1, 99]])"
   ]
  },
  {
   "cell_type": "markdown",
   "metadata": {
    "id": "7c88c71e"
   },
   "source": [
    "1. As borrower's annual income increases, they start getting bigger loans. trend is evident till annual income of 50K\n",
    "2. High income individuals tend to pay the debts fully.\n",
    "3. Borrowers with low income tend to have high % of defaulters."
   ]
  },
  {
   "cell_type": "code",
   "execution_count": null,
   "metadata": {
    "id": "55b511e0",
    "scrolled": true
   },
   "outputs": [],
   "source": [
    "plot_scatter(defaulters, 'annual_inc','installment',outlier_quantile =[[0.1, 99],[0.1, 99]])"
   ]
  },
  {
   "cell_type": "markdown",
   "metadata": {
    "id": "49fc6c08"
   },
   "source": [
    "1. Defaulters are more between <=100k annual income and <=700 installment"
   ]
  },
  {
   "cell_type": "code",
   "execution_count": null,
   "metadata": {
    "id": "d2aec89d"
   },
   "outputs": [],
   "source": [
    "# TODO : futher analyse these 2 groups \n",
    "loan[loan['annual_inc'] < 100000]\n",
    "loan[loan['annual_inc'] >= 100000]"
   ]
  },
  {
   "cell_type": "code",
   "execution_count": null,
   "metadata": {
    "id": "b95ba97d",
    "scrolled": true
   },
   "outputs": [],
   "source": [
    "loan['derived_loan_amnt_log'] = np.log10(loan['loan_amnt'])\n",
    "loan['derived_annual_inc_log'] = np.log10(loan['annual_inc'])"
   ]
  },
  {
   "cell_type": "code",
   "execution_count": null,
   "metadata": {
    "id": "044c0555",
    "scrolled": true
   },
   "outputs": [],
   "source": [
    "plot_scatter(loan, 'loan_amnt','derived_int_rate_pct',outlier_quantile =[[0.1, 99],[0.1, 99]])"
   ]
  },
  {
   "cell_type": "markdown",
   "metadata": {
    "id": "9de83d3d"
   },
   "source": [
    "1. As loan amount increase, the interest rate also increase \n",
    "2. defaulters are everywhere, but slightly more percentage with lower loan amount < 15k & interest rates of (>= 9%), though this trend is not consistent"
   ]
  },
  {
   "cell_type": "markdown",
   "metadata": {
    "id": "5ae9cef8"
   },
   "source": [
    "### 3. Analysis of Impact of all variables on target variable (\"loan_status\")"
   ]
  },
  {
   "cell_type": "markdown",
   "metadata": {
    "id": "00b6a0c4"
   },
   "source": [
    "#### Distribution of 'loan_status' in the dataset"
   ]
  },
  {
   "cell_type": "code",
   "execution_count": null,
   "metadata": {
    "id": "900b4cea",
    "scrolled": true
   },
   "outputs": [],
   "source": [
    "loan_status_percent = loan['derived_loan_status'].value_counts()\n",
    "loan_status_percent"
   ]
  },
  {
   "cell_type": "code",
   "execution_count": null,
   "metadata": {
    "id": "cef42886",
    "scrolled": false
   },
   "outputs": [],
   "source": [
    "loan_status_percent = loan['derived_loan_status'].value_counts(normalize=True)\n",
    "loan_status_percent"
   ]
  },
  {
   "cell_type": "markdown",
   "metadata": {
    "id": "0eb03d28"
   },
   "source": [
    "1. ~15 % credits have defaulted. \n",
    "2. Only considering the population of loans which are either fully paid / defaulted. \n",
    "3. Not considering the ongoing 'current' credits"
   ]
  },
  {
   "cell_type": "markdown",
   "metadata": {
    "id": "a2338690"
   },
   "source": [
    "#### Common methods definitions"
   ]
  },
  {
   "cell_type": "code",
   "execution_count": null,
   "metadata": {
    "id": "8171a69b",
    "scrolled": true
   },
   "outputs": [],
   "source": [
    "# method to display boxplot\n",
    "def plot_segmented_boxplot(segment_col, metric_col, title, figsize=(6, 6), plot_order=None, xtick_rot=0, show_stats=True, remove_outliers=False, outlier_threshold=0.95):\n",
    "  \n",
    "    temp_loan = loan\n",
    "    if remove_outliers:\n",
    "        temp_loan = loan[loan[metric_col] < loan[metric_col].quantile(outlier_threshold)]\n",
    "\n",
    "    plt.figure(figsize=figsize)\n",
    "    groupby = temp_loan.groupby(segment_col)[metric_col]\n",
    "    segmented_summary = groupby.describe()\n",
    "\n",
    "    ax = sns.boxplot(data=temp_loan, x=segment_col, y=metric_col, order=plot_order)\n",
    "    plt.title(title)\n",
    "    plt.xticks(rotation=xtick_rot)\n",
    "    plt.show()\n",
    "\n",
    "    if show_stats:\n",
    "        return segmented_summary"
   ]
  },
  {
   "cell_type": "code",
   "execution_count": null,
   "metadata": {
    "id": "b632a4b9"
   },
   "outputs": [],
   "source": [
    "# method to display countplot\n",
    "def add_countplot_annots(ax):\n",
    "    all_heights = [[p.get_height() for p in bars] for bars in ax.containers]\n",
    "    for bars in ax.containers:\n",
    "        for i, p in enumerate(bars):\n",
    "            total = sum(xgroup[i] for xgroup in all_heights)\n",
    "            percentage = f'{round(100 * p.get_height() / total, 2)}%'\n",
    "            ax.annotate(percentage, (p.get_x() + p.get_width() / 2, p.get_height()), size=11, ha='center', va='bottom', rotation=90)\n",
    "\n",
    "def segmented_countplot(data, x, hue, title, figsize=(7, 5), annot=True, scale=False):\n",
    "    plt.figure(figsize=figsize)\n",
    "    ax = sns.countplot(data=data, x=x, hue=hue, palette=sns.color_palette('pastel'), log=scale)\n",
    "  \n",
    "    if annot:\n",
    "        add_countplot_annots(ax)\n",
    "    plt.title(title)\n",
    "    plt.legend(loc='upper right')\n",
    "    plt.xticks(rotation=90)"
   ]
  },
  {
   "cell_type": "code",
   "execution_count": null,
   "metadata": {
    "id": "4c1667b5",
    "scrolled": true
   },
   "outputs": [],
   "source": [
    "def per_category_percentplot(df, x, y, figsize=(7, 5)):\n",
    "    \"\"\" input paramters :\n",
    "             1. df : dataframe, \n",
    "             2. x: category column, \n",
    "             3. y: hue column\n",
    "             4. figsize : figure size, defaults to (7,5)\n",
    "    \"\"\"\n",
    "    (df\n",
    "        .groupby(x, observed=True)[y]\n",
    "        .value_counts(normalize=True)\n",
    "        .mul(100)\n",
    "        .rename('percent')\n",
    "        .reset_index()\n",
    "        .pipe((sns.catplot,'data'), x=x,y='percent',hue=y,kind='bar',height=3, aspect=2))\n",
    "    plt.xticks(rotation=90)"
   ]
  },
  {
   "cell_type": "code",
   "execution_count": null,
   "metadata": {
    "id": "6a74ab15",
    "scrolled": true
   },
   "outputs": [],
   "source": [
    "def categorizeContinuousFeature(df, col, ncats):\n",
    "    l = pd.cut(df[col], bins=ncats,precision =0)\n",
    "    #l.cat.categories.value_counts().to_frame().index\n",
    "    labels=[]\n",
    "    for cat in l.cat.categories:\n",
    "        labels.append(str(round(cat.left,2)).strip()+'-'+str(round(cat.right,2)).strip())\n",
    "    df[col+'_cats'] = pd.cut(df[col], bins=ncats,precision =0, labels=labels)\n",
    "    return labels"
   ]
  },
  {
   "cell_type": "markdown",
   "metadata": {
    "id": "b16aeb10"
   },
   "source": [
    "## Continuous features"
   ]
  },
  {
   "cell_type": "code",
   "execution_count": null,
   "metadata": {
    "id": "84a56cae"
   },
   "outputs": [],
   "source": [
    "def plotsForContinuousVariables(input_col, df=loan, hue_col = 'derived_loan_status', num_cuts=8):\n",
    "    \n",
    "    col = input_col\n",
    "    if 'derived_' in input_col:\n",
    "        col = input_col.split('derived_')[1]\n",
    "        \n",
    "    plot_segmented_boxplot(hue_col, input_col, f\"{col} Vs Loan Status\", (10, 5), None, 90)\n",
    "    \n",
    "    #divide the variable into categories\n",
    "    col_cats = categorizeContinuousFeature(df, input_col, num_cuts)\n",
    "    print(f\"categories created for {col} {col_cats}\")\n",
    "    \n",
    "    cats_col_name = f\"{input_col}_cats\"\n",
    "    plt.xticks(rotation=90)\n",
    "    sns.countplot(x=cats_col_name, data= df) #loan[loan['derived_loan_status'] == 'charged off'])\n",
    "    \n",
    "    # loan_status across the categories of loan amount\n",
    "    segmented_countplot(df, cats_col_name, hue_col, f\"Loan status for {col} categories\", (12, 6), annot=True)\n",
    "\n",
    "    per_category_percentplot(df, cats_col_name, 'derived_loan_status' )"
   ]
  },
  {
   "cell_type": "code",
   "execution_count": null,
   "metadata": {
    "id": "ce73c2a5"
   },
   "outputs": [],
   "source": [
    "def percategoryplots(basecol, df = loan, hue_col = 'derived_loan_status') :\n",
    "    cats_col = basecol+'_cats'\n",
    "    for cat in loan[cats_col].value_counts().index :\n",
    "        imputedcol = cats_col+'_'+cat\n",
    "        print(imputedcol)\n",
    "        df[imputedcol] = df[df[cats_col]==cat][cats_col]\n",
    "        plotsForCategoricalVariables(imputedcol, hue_col = hue_col, df=df)"
   ]
  },
  {
   "cell_type": "markdown",
   "metadata": {
    "id": "b0ad109d"
   },
   "source": [
    "### 3.2 'Loan Amount' vs 'Loan Status'"
   ]
  },
  {
   "cell_type": "code",
   "execution_count": null,
   "metadata": {
    "id": "60b3ec45",
    "scrolled": false
   },
   "outputs": [],
   "source": [
    "plotsForContinuousVariables('loan_amnt')"
   ]
  },
  {
   "cell_type": "raw",
   "metadata": {
    "id": "b8544a42"
   },
   "source": [
    "1. Analysis per subclass within loan amount clearly indicates that the number of defaults increase as the loan amount increase\n",
    "2. The sheer number of loans given in the categories 466-13k are higher, and have less 'defaults %' than the loan amounts above 13k"
   ]
  },
  {
   "cell_type": "code",
   "execution_count": null,
   "metadata": {
    "id": "a44f1b4a",
    "scrolled": false
   },
   "outputs": [],
   "source": [
    "plotsForContinuousVariables('derived_int_rate_pct', hue_col='loan_amnt_cats', df=loan[loan['derived_loan_status']=='charged off'])"
   ]
  },
  {
   "cell_type": "markdown",
   "metadata": {
    "id": "0fbef437"
   },
   "source": [
    "1. As loan amount increases, interest rates also increases\n",
    "2. more number of loans given are from 5-17%\n",
    "3. % of defaults increase as interest rates increase"
   ]
  },
  {
   "cell_type": "code",
   "execution_count": null,
   "metadata": {
    "id": "65bc7675",
    "scrolled": true
   },
   "outputs": [],
   "source": [
    "#loan[imputedcol] = loan[loan['loan_amnt_cats']=='4812.0-9125.0']['loan_amnt_cats']\n",
    "#percategoryplots('loan_amnt', hue_col='derived_purpose', df=loan[loan['derived_loan_status']=='charged off'])"
   ]
  },
  {
   "cell_type": "markdown",
   "metadata": {
    "id": "0283b3dd"
   },
   "source": [
    "###  3.3 'Annual Income' vs 'Loan Status'"
   ]
  },
  {
   "cell_type": "code",
   "execution_count": null,
   "metadata": {
    "id": "51e3f0cd"
   },
   "outputs": [],
   "source": [
    "plotsForContinuousVariables('annual_inc')"
   ]
  },
  {
   "cell_type": "markdown",
   "metadata": {
    "id": "d2fed792"
   },
   "source": [
    "1. 25th, 50th, 75th percentiles of annual income of charged off credits are lower than fully paid credits  : low annual income individuals are more likely to charge off the credit\n",
    "2. First 4 categories (ie people making annual income till 133k ) tend to borrow more loan than people making more money annually\n",
    "3. Income range 90k+  has less chances of charged off.\n",
    "4. Income range 0-32k has high chances of charged off.\n",
    "5. Notice that with increase in annual income charged off proportion got decreased. "
   ]
  },
  {
   "cell_type": "markdown",
   "metadata": {
    "id": "0e636ea6"
   },
   "source": [
    "###  3.4 'Interest Rate' vs 'Loan Status'"
   ]
  },
  {
   "cell_type": "code",
   "execution_count": null,
   "metadata": {
    "id": "8eea2400"
   },
   "outputs": [],
   "source": [
    "plotsForContinuousVariables('derived_int_rate_pct')"
   ]
  },
  {
   "cell_type": "markdown",
   "metadata": {
    "id": "cd2f09d8"
   },
   "source": [
    "1. Higher interest rates see higher loan defaults [Refer first graph of percentiles]\n",
    "2. More loans are distributed between 5-17% of interest rates\n",
    "3. loans w/ higher interest rates are more likely to be charged off, strong trend\n",
    "4. loan w/ int rates till 10 % have less chance of getting charged off (<= 8%)."
   ]
  },
  {
   "cell_type": "code",
   "execution_count": null,
   "metadata": {
    "id": "2a2d420e",
    "scrolled": true
   },
   "outputs": [],
   "source": [
    "#loan[['derived_installment_to_monthly_salary_ratio','derived_int_rate_pct_cats','dti','annual_inc','loan_amnt','derived_loan_to_income_ratio','derived_loan_status_bin']].groupby('derived_int_rate_pct_cats').mean()"
   ]
  },
  {
   "cell_type": "markdown",
   "metadata": {
    "id": "9984d091"
   },
   "source": [
    "To drill down on interest rate behavior on increased defaults, the above group by provides more insights\n",
    "\n",
    "As interest rate increase, we observe :\n",
    "    1. increase in debt to income ratio, \n",
    "        there are 2 possibilities : \n",
    "        1. high amount loans tend to have higher interest rates, resulting in more debt\n",
    "        2. risky customers : Lending club has already seen the risk and hence increased the int rest to compensate the risk \n",
    "\n",
    "    2. increase in annual income  :\n",
    "        1. more the annual income, more loan people can get & afford, which has more int rate\n",
    "    3. increase in loan_aount \n",
    "    4. increase in derived_loan_to_income_ratio :\n",
    "    5. increase in rate of defaults"
   ]
  },
  {
   "cell_type": "code",
   "execution_count": null,
   "metadata": {
    "id": "c9e75a88",
    "scrolled": true
   },
   "outputs": [],
   "source": [
    "loan[['derived_int_rate_pct_cats','dti','annual_inc','loan_amnt','derived_loan_to_income_ratio','derived_loan_status_bin','derived_grade','installment']].groupby(['derived_int_rate_pct_cats', 'derived_grade']).mean()"
   ]
  },
  {
   "cell_type": "markdown",
   "metadata": {
    "id": "b37c41d7"
   },
   "source": [
    "Observations :\n",
    "1. at lower interest rates 5.0-8.0, borrowers are able to pay the 'D' &'E' grade loans as their dti was low\n",
    "2. at higher interest rates, though avg annual income increases, the 'dti' has significantly increased in the range of 11-16, installments have increased, loan_to_annaul_income_ratio increases and rate of borrowers also increases to the range of [20-40]%\n",
    "\n",
    "more Visualization below"
   ]
  },
  {
   "cell_type": "markdown",
   "metadata": {
    "id": "ffb1e24f"
   },
   "source": [
    "###  3.5 'dti' vs 'Loan Status'"
   ]
  },
  {
   "cell_type": "code",
   "execution_count": null,
   "metadata": {
    "id": "82b70c00"
   },
   "outputs": [],
   "source": [
    "plotsForContinuousVariables('dti')"
   ]
  },
  {
   "cell_type": "markdown",
   "metadata": {
    "id": "c8e2ebe4"
   },
   "source": [
    "1. borrowers with dti of 7-10 are getting loan more than rest\n",
    "2. there is a slight increase in the % of loan getting 'charged off' from dti score of 7-26\n",
    "3. borrowers w/ dti score of 26+ and 0 to 7 are less likely [10-13%] to charge off the loan"
   ]
  },
  {
   "cell_type": "markdown",
   "metadata": {
    "id": "1eaa9775"
   },
   "source": [
    "###  3.6 'desc_length' vs 'Loan Status'"
   ]
  },
  {
   "cell_type": "code",
   "execution_count": null,
   "metadata": {
    "id": "4504ef21"
   },
   "outputs": [],
   "source": [
    "plotsForContinuousVariables('derived_desc_length')"
   ]
  },
  {
   "cell_type": "markdown",
   "metadata": {
    "id": "e28952c3"
   },
   "source": [
    "1. Most of the borrower's enter lesser words (<= 500) in the description\n",
    "2. Borrowers putting bigger descriptions (>1k words) are more like to 'charge off' the loan"
   ]
  },
  {
   "cell_type": "markdown",
   "metadata": {
    "id": "6b6df03a"
   },
   "source": [
    "###  3.7 'installment' vs 'Loan Status'"
   ]
  },
  {
   "cell_type": "code",
   "execution_count": null,
   "metadata": {
    "id": "926c3923"
   },
   "outputs": [],
   "source": [
    "plotsForContinuousVariables('installment')"
   ]
  },
  {
   "cell_type": "markdown",
   "metadata": {
    "id": "8ed92485"
   },
   "source": [
    "1. Most of the loans have installments <= 500\n",
    "2. As instllament amount increase there is slight increase in the 'loan default rate'\n",
    "3. installments from 822-983 have highest loan default rate"
   ]
  },
  {
   "cell_type": "markdown",
   "metadata": {
    "id": "10e0efc9"
   },
   "source": [
    "###  3.8 'revol_util_pct' vs 'Loan Status'"
   ]
  },
  {
   "cell_type": "code",
   "execution_count": null,
   "metadata": {
    "id": "35ba1a08"
   },
   "outputs": [],
   "source": [
    "plotsForContinuousVariables('derived_revol_util_pct')"
   ]
  },
  {
   "cell_type": "markdown",
   "metadata": {
    "id": "694e6d64"
   },
   "source": [
    "1. number of borrowers increase with the rate of utilization of available revolving credit\n",
    "2. rate of defaulting sligtly increase as the rate of revol util increases, which seems obious as people tend to use more credit and eventually charge of some loans."
   ]
  },
  {
   "cell_type": "markdown",
   "metadata": {
    "id": "cee81247"
   },
   "source": [
    "###  3.9 'revol_util' vs 'Loan Status'"
   ]
  },
  {
   "cell_type": "code",
   "execution_count": null,
   "metadata": {
    "id": "6ac6cce7"
   },
   "outputs": [],
   "source": [
    "plotsForContinuousVariables('revol_bal')"
   ]
  },
  {
   "cell_type": "markdown",
   "metadata": {
    "id": "c27a519b"
   },
   "source": [
    "1.lesser the revol credit balance, higher the 'charge off' rate\n",
    "clearly proves the observations in  revol_util above, as revol_bal and revol_util are inverse to each other"
   ]
  },
  {
   "cell_type": "markdown",
   "metadata": {
    "id": "7ca3559e"
   },
   "source": [
    "## Categorical Features"
   ]
  },
  {
   "cell_type": "code",
   "execution_count": null,
   "metadata": {
    "id": "cd84d3dd"
   },
   "outputs": [],
   "source": [
    "def plotsForCategoricalVariables(col, hue_col='derived_loan_status', df = loan):\n",
    "    \n",
    "    plt.xticks(rotation=90)\n",
    "    sns.countplot(x=col, data= df)#loan[loan['derived_loan_status'] == 'charged off'])\n",
    "    plt.show()\n",
    "    \n",
    "    # loan_status for derived_verification_status\n",
    "    titleCol = col\n",
    "    if 'derived_' in col:\n",
    "        titleCol = col.split('derived_')[1]\n",
    "    segmented_countplot(df, col, hue_col, 'Loan status per '+ col, (10, 6))\n",
    "    \n",
    "    per_category_percentplot(df, col, hue_col )\n",
    "    plt.show()"
   ]
  },
  {
   "cell_type": "markdown",
   "metadata": {
    "id": "9d15f1e4"
   },
   "source": [
    "### 3.10 'Grade' vs 'Loan Status'"
   ]
  },
  {
   "cell_type": "code",
   "execution_count": null,
   "metadata": {
    "id": "ea253e60",
    "scrolled": true
   },
   "outputs": [],
   "source": [
    "plotsForCategoricalVariables(col='derived_grade')"
   ]
  },
  {
   "cell_type": "markdown",
   "metadata": {
    "id": "b4513c18"
   },
   "source": [
    "Observations:\n",
    "1. loan grades of a-d are very frequent, e-g grades are comparatively rare\n",
    "2. increase in loan grade significantly increases default risk\n",
    "\n",
    "Imp References :\n",
    "\n",
    "    1. wrt https://www.lendingclub.com/foliofn/rateDetail.action, interest rates increase from a-g in increasing order\n",
    "    2. As per table 3, higher loan amount gives some benefit in the loan grade\n",
    "    3. Higher term [ie 60 months], provides 8-4 points benefits in interest rate\n"
   ]
  },
  {
   "cell_type": "markdown",
   "metadata": {
    "id": "572f7ac1"
   },
   "source": [
    "### 3.11 'sub_grade' vs 'Loan Status'"
   ]
  },
  {
   "cell_type": "code",
   "execution_count": null,
   "metadata": {
    "id": "3a2cd184"
   },
   "outputs": [],
   "source": [
    "plotsForCategoricalVariables(col='derived_sub_grade', df=loan.sort_values(by='derived_sub_grade'))"
   ]
  },
  {
   "cell_type": "markdown",
   "metadata": {
    "id": "110c25d8"
   },
   "source": [
    "1. a1-d5 subgrade loan are very frequent than loan in the cat e1-g5\n",
    "2. risk of defaults increases significantly as we move from a1-g5, this is obvious as the interest rates also increase from a1=g5."
   ]
  },
  {
   "cell_type": "markdown",
   "metadata": {
    "id": "a4508e47"
   },
   "source": [
    "### 3.12 'emp_length' vs 'Loan Status'"
   ]
  },
  {
   "cell_type": "code",
   "execution_count": null,
   "metadata": {
    "id": "fb78d867",
    "scrolled": true
   },
   "outputs": [],
   "source": [
    "plotsForCategoricalVariables(col='derived_emp_length')"
   ]
  },
  {
   "cell_type": "markdown",
   "metadata": {
    "id": "d0bc0698"
   },
   "source": [
    "1. As the number of years of exp increases, freq of credit availed descrease. though freq of 10+ years exp is maximum.\n",
    "2. No specific trend in the default behavior except there is 21% chance of default in case of 10 yrs of exp.\n",
    "3. Unknown emp length has most likelihood of defaults [22%]"
   ]
  },
  {
   "cell_type": "code",
   "execution_count": null,
   "metadata": {
    "id": "a9fd9632"
   },
   "outputs": [],
   "source": [
    "loan[loan['derived_emp_length']=='unknwon'][['derived_purpose','derived_loan_status_bin','derived_loan_status']].groupby(by=['derived_purpose','derived_loan_status']).count() #loan['derived_emp_length'].value_counts()"
   ]
  },
  {
   "cell_type": "markdown",
   "metadata": {
    "id": "1d4910fe"
   },
   "source": [
    "### 3.13 'addr_state' vs 'Loan Status'"
   ]
  },
  {
   "cell_type": "code",
   "execution_count": null,
   "metadata": {
    "id": "1c9f49eb",
    "scrolled": true
   },
   "outputs": [],
   "source": [
    "plotsForCategoricalVariables(col='derived_addr_state')"
   ]
  },
  {
   "cell_type": "markdown",
   "metadata": {
    "id": "6ece2f03"
   },
   "source": [
    "1. CA has more number of borrowers, followed by NY and FL\n",
    "2. Nebraska has more % of defaults [60%], followed by NV (Nevada), SD (South Dacota) and FL (Florida)"
   ]
  },
  {
   "cell_type": "markdown",
   "metadata": {
    "id": "86432144"
   },
   "source": [
    "### 3.14 'purpose' vs 'Loan Status'"
   ]
  },
  {
   "cell_type": "code",
   "execution_count": null,
   "metadata": {
    "id": "c7fcbf61"
   },
   "outputs": [],
   "source": [
    "plotsForCategoricalVariables(col='derived_purpose')"
   ]
  },
  {
   "cell_type": "markdown",
   "metadata": {
    "id": "f1b28f2d"
   },
   "source": [
    "1. Most of the loans are for debt_consolidation, followed by credit card and other\n",
    "2. Categorywise Risk of defaults lies \n",
    "    1. small business [27%]\n",
    "    2. renewable energy [19%]\n",
    "    3. educational [17%]\n",
    "3. Frequency based Risk of default lies with :\n",
    "    1. debt_consolidation [2k+]\n",
    "    2. other [400+]\n",
    "    3. credit card [400+]"
   ]
  },
  {
   "cell_type": "markdown",
   "metadata": {
    "id": "98769971"
   },
   "source": [
    "### 3.15 'verification_status' vs 'Loan Status'"
   ]
  },
  {
   "cell_type": "code",
   "execution_count": null,
   "metadata": {
    "id": "c5965fe5"
   },
   "outputs": [],
   "source": [
    "plotsForCategoricalVariables(col='derived_verification_status')"
   ]
  },
  {
   "cell_type": "markdown",
   "metadata": {
    "id": "cc06e376"
   },
   "source": [
    "Observations :\n",
    "   1. verified loans have more % of defaults, followed by 'source verified' followed by 'not verified'\n",
    "   2. Frquency wise, number of cases of default in verified and not verified are nearly equal"
   ]
  },
  {
   "cell_type": "markdown",
   "metadata": {
    "id": "f97902ff"
   },
   "source": [
    "### 3.16 'issue_month' vs 'Loan Status'"
   ]
  },
  {
   "cell_type": "code",
   "execution_count": null,
   "metadata": {
    "id": "9588eccb",
    "scrolled": true
   },
   "outputs": [],
   "source": [
    "plotsForCategoricalVariables(col='derived_issue_d_month')"
   ]
  },
  {
   "cell_type": "markdown",
   "metadata": {
    "id": "c429303f"
   },
   "source": [
    "1. Number of loans given increase from Jan-Dec\n",
    "2. number of loans defaulted increase from Jan -Dec, however % wise its almost the same\n",
    "No specific trend for defaults observed"
   ]
  },
  {
   "cell_type": "markdown",
   "metadata": {
    "id": "948a1c3b"
   },
   "source": [
    "### 3.17 'issue_year' vs 'Loan Status'"
   ]
  },
  {
   "cell_type": "code",
   "execution_count": null,
   "metadata": {
    "id": "53c6aa6a",
    "scrolled": true
   },
   "outputs": [],
   "source": [
    "plotsForCategoricalVariables(col='derived_issue_d_year')"
   ]
  },
  {
   "cell_type": "markdown",
   "metadata": {
    "id": "43dd10d2"
   },
   "source": [
    "1. Number of loans issued increase from 2007-2011\n",
    "2. number of loans defaulted increase from 2007-2011, however % wise its almost the same\n",
    "No specific trend for defaults observed"
   ]
  },
  {
   "cell_type": "markdown",
   "metadata": {
    "id": "444e1401"
   },
   "source": [
    "### 3.18 'home_ownership' vs 'Loan Status'"
   ]
  },
  {
   "cell_type": "code",
   "execution_count": null,
   "metadata": {
    "id": "cc43e61c",
    "scrolled": false
   },
   "outputs": [],
   "source": [
    "plotsForCategoricalVariables(col='derived_home_ownership')"
   ]
  },
  {
   "cell_type": "markdown",
   "metadata": {
    "id": "8e8d3f7e"
   },
   "source": [
    "1. borrowers with Rented house or mortgage, tend to be more frequent type of borrowers\n",
    "2. Frequency wise, higher risk of default lies with rented followed by mortgage\n",
    "3. category wise, 'other' typed borrowers have higher risk of default [19%], followed by\n",
    "    rent [15 %]\n",
    "    own [15 %]\n",
    "    mortgage [13 %]"
   ]
  },
  {
   "cell_type": "markdown",
   "metadata": {
    "id": "8622ff95"
   },
   "source": [
    "### 3.19 'delinq_2yrs' vs 'Loan Status'"
   ]
  },
  {
   "cell_type": "code",
   "execution_count": null,
   "metadata": {
    "id": "cfc2d629"
   },
   "outputs": [],
   "source": [
    "plotsForCategoricalVariables(col='delinq_2yrs',  df=loan[loan['delinq_2yrs']>0])"
   ]
  },
  {
   "cell_type": "markdown",
   "metadata": {
    "id": "395a3c8d"
   },
   "source": [
    "1. There are borrowers having delinq history, though the proportion is small.\n",
    "2. Among the borrowers with delinq history, 1 & 2 occurences are more frequent than others\n",
    "2. risk of default increases as delinq occurrences increase "
   ]
  },
  {
   "cell_type": "markdown",
   "metadata": {
    "id": "9766317f"
   },
   "source": [
    "### 3.20 'inq_last_6mths' vs 'Loan Status'"
   ]
  },
  {
   "cell_type": "code",
   "execution_count": null,
   "metadata": {
    "id": "105c2d0d",
    "scrolled": true
   },
   "outputs": [],
   "source": [
    "plotsForCategoricalVariables(col='inq_last_6mths',  df=loan[loan['delinq_2yrs']>0])"
   ]
  },
  {
   "cell_type": "markdown",
   "metadata": {
    "id": "2e6fd62c"
   },
   "source": [
    "1. Risk of default generally increases as number of inquiries for credit increase"
   ]
  },
  {
   "cell_type": "markdown",
   "metadata": {
    "id": "f2d318cd"
   },
   "source": [
    "### 3.21 'open_acc' vs 'Loan Status'"
   ]
  },
  {
   "cell_type": "code",
   "execution_count": null,
   "metadata": {
    "id": "22907829",
    "scrolled": true
   },
   "outputs": [],
   "source": [
    "plotsForCategoricalVariables(col='open_acc')"
   ]
  },
  {
   "cell_type": "markdown",
   "metadata": {
    "id": "2f48e290"
   },
   "source": [
    "1. no specific trend, however some spikes towards higher number of open accounts, but the frequency is very less"
   ]
  },
  {
   "cell_type": "markdown",
   "metadata": {
    "id": "376c3e8d"
   },
   "source": [
    "### 3.22 'pub_rec_bankruptcies' vs 'Loan Status'"
   ]
  },
  {
   "cell_type": "code",
   "execution_count": null,
   "metadata": {
    "id": "c548cfcd",
    "scrolled": false
   },
   "outputs": [],
   "source": [
    "plotsForCategoricalVariables(col='pub_rec_bankruptcies',  df=loan[loan['pub_rec_bankruptcies']>0])"
   ]
  },
  {
   "cell_type": "markdown",
   "metadata": {
    "id": "015b2381"
   },
   "source": [
    "1. strong indicator of default, more than 20% of chances of default in both the cases"
   ]
  },
  {
   "cell_type": "markdown",
   "metadata": {
    "id": "4542c75b"
   },
   "source": [
    "### 3.23 'pub_rec' vs 'Loan Status'"
   ]
  },
  {
   "cell_type": "code",
   "execution_count": null,
   "metadata": {
    "id": "a83fe3b4"
   },
   "outputs": [],
   "source": [
    "plotsForCategoricalVariables(col='pub_rec',  df=loan[loan['pub_rec']>0])"
   ]
  },
  {
   "cell_type": "markdown",
   "metadata": {
    "id": "fe9e5c9e"
   },
   "source": [
    "1. Strong indicator of defaulting borrower in case of 1 & 2 records, its above 20%\n",
    "2. there are no occurences of 3 & 4"
   ]
  },
  {
   "cell_type": "markdown",
   "metadata": {
    "id": "6732eca2"
   },
   "source": [
    "### 3.24 'term' vs 'Loan Status'"
   ]
  },
  {
   "cell_type": "code",
   "execution_count": null,
   "metadata": {
    "id": "ac769da6"
   },
   "outputs": [],
   "source": [
    "plotsForCategoricalVariables(col='derived_term')"
   ]
  },
  {
   "cell_type": "markdown",
   "metadata": {
    "id": "78f49dc2"
   },
   "source": [
    "1. Strong indicator of defaulting borrower in case of 1 & 2 records, its above 20%\n",
    "2. there are no occurences of 3 & 4"
   ]
  },
  {
   "cell_type": "code",
   "execution_count": null,
   "metadata": {
    "id": "0f56a985"
   },
   "outputs": [],
   "source": []
  },
  {
   "cell_type": "markdown",
   "metadata": {
    "id": "639b1a5f"
   },
   "source": [
    "##  4. Bivariate Analysis - Categorical variables"
   ]
  },
  {
   "cell_type": "code",
   "execution_count": null,
   "metadata": {
    "id": "9ed8fd46"
   },
   "outputs": [],
   "source": [
    "def generateHeatmap(x, y, data=loan, figsize=(10,5)):\n",
    "    \"\"\"\n",
    "        Parameters:\n",
    "            data : defaulted at the 'loan' variable, but can be changed externally if needed\n",
    "            x, y : columns of data in the corresponding axis, both categorical\n",
    "            figsize : a default have is given, but can be overridden\n",
    "        Returns:\n",
    "            None, does a heatmap plot\n",
    "    \"\"\"\n",
    "    sns.set(font_scale=0.6)\n",
    "    title = f\"Heatmap of {x} vs {y}\"\n",
    "    fig, ax = plt.subplots(figsize=figsize)\n",
    "    pt = pd.pivot_table(data=data, values='derived_loan_status_bin', index=y, columns=x)\n",
    "    sns.heatmap(pt, cmap='cool', annot=True)\n",
    "    if title is not None:\n",
    "        plt.title(title)\n",
    "    plt.show()"
   ]
  },
  {
   "cell_type": "code",
   "execution_count": null,
   "metadata": {
    "id": "dd8e4c43"
   },
   "outputs": [],
   "source": [
    "generateHeatmap(x='derived_purpose', y='derived_home_ownership')"
   ]
  },
  {
   "cell_type": "code",
   "execution_count": null,
   "metadata": {
    "id": "6329b2a8"
   },
   "outputs": [],
   "source": [
    "generateHeatmap(x='derived_purpose', y='annual_inc_cats', figsize=(10,4))"
   ]
  },
  {
   "cell_type": "markdown",
   "metadata": {
    "id": "8eb78e5f"
   },
   "source": [
    "Small business is seeing increased default rate at even medium-bigger annual income\n",
    "same pattern with less intensity can be observed in det_consolidation and other"
   ]
  },
  {
   "cell_type": "code",
   "execution_count": null,
   "metadata": {
    "id": "b9b2b855",
    "scrolled": true
   },
   "outputs": [],
   "source": [
    "generateHeatmap(x='dti_cats', y='annual_inc_cats', figsize=(10,4))"
   ]
  },
  {
   "cell_type": "markdown",
   "metadata": {
    "id": "9f1b32ad"
   },
   "source": [
    "lower and middle income borrowers show high default rates across all DTI categories"
   ]
  },
  {
   "cell_type": "code",
   "execution_count": null,
   "metadata": {
    "id": "380f0307",
    "scrolled": false
   },
   "outputs": [],
   "source": [
    "generateHeatmap(x='dti_cats', y='derived_int_rate_pct_cats', figsize=(10,4))"
   ]
  },
  {
   "cell_type": "markdown",
   "metadata": {
    "id": "b04948cc"
   },
   "source": [
    "At highest int rates even the lowest DTI category is not able to cope up"
   ]
  },
  {
   "cell_type": "code",
   "execution_count": null,
   "metadata": {
    "id": "91dc729d",
    "scrolled": true
   },
   "outputs": [],
   "source": [
    "generateHeatmap(x='dti_cats', y='derived_purpose', figsize=(10,4))"
   ]
  },
  {
   "cell_type": "markdown",
   "metadata": {
    "id": "beef7493"
   },
   "source": [
    "1. small business tend to have highest rate of defaults across all dti cats\n",
    "2. educational loans tend to have higher rate of default even at the lowest DTI category [0-4] and also\n",
    "  in [19-26] DTI scores\n",
    "3. moving, other, renewable enrgy, educational, debt consolidation show higher chances of default at higher DTI rates"
   ]
  },
  {
   "cell_type": "markdown",
   "metadata": {
    "id": "2bccae7b"
   },
   "source": [
    "1. even the lowest dti borrowers [0-4] find it difficult to pay the loan at highest rates[22-24]"
   ]
  },
  {
   "cell_type": "code",
   "execution_count": null,
   "metadata": {
    "id": "e97b20f8",
    "scrolled": true
   },
   "outputs": [],
   "source": [
    "generateHeatmap(x='derived_int_rate_pct_cats', y='loan_amnt_cats', figsize=(10,4))"
   ]
  },
  {
   "cell_type": "markdown",
   "metadata": {
    "id": "eee82700"
   },
   "source": [
    "higher interest rates at any loan amount are causing defaults"
   ]
  },
  {
   "cell_type": "code",
   "execution_count": null,
   "metadata": {
    "id": "1d374cd6",
    "scrolled": true
   },
   "outputs": [],
   "source": [
    "generateHeatmap(x='installment_cats', y='annual_inc_cats', figsize=(10,4))"
   ]
  },
  {
   "cell_type": "markdown",
   "metadata": {
    "id": "f26644b8"
   },
   "source": [
    "Lower income borrowers have higher"
   ]
  },
  {
   "cell_type": "code",
   "execution_count": null,
   "metadata": {
    "id": "0c5ef38a",
    "scrolled": false
   },
   "outputs": [],
   "source": [
    "generateHeatmap(x='installment_cats', y='derived_purpose', figsize=(10,4))"
   ]
  },
  {
   "cell_type": "code",
   "execution_count": null,
   "metadata": {
    "id": "a14ec37a"
   },
   "outputs": [],
   "source": [
    "generateHeatmap(x='installment_cats', y='derived_emp_length', figsize=(10,4))"
   ]
  },
  {
   "cell_type": "code",
   "execution_count": null,
   "metadata": {
    "id": "56607f13",
    "scrolled": false
   },
   "outputs": [],
   "source": [
    "generateHeatmap(x='derived_addr_state', y='derived_purpose', figsize=(22,8))"
   ]
  },
  {
   "cell_type": "markdown",
   "metadata": {
    "id": "ecba95d9"
   },
   "source": [
    "1. small business tend to default the loans across all states, followed by other and debt consolidations\n",
    "2. greater than 50 % defaults are observed :\n",
    "    small business loans in DE, NM, WV, WY\n",
    "    vacation loans in AK, HI, OR\n",
    "    renewal energy loan : UT\n",
    "    wedding loans in MS, OR\n",
    "    education loans in AR, KS, UT  "
   ]
  },
  {
   "cell_type": "markdown",
   "metadata": {
    "id": "769d8ed4"
   },
   "source": [
    "## 5. Computed variables"
   ]
  },
  {
   "cell_type": "markdown",
   "metadata": {
    "id": "b9970c3e"
   },
   "source": [
    "### 5.1 (applied loan - Amount funded )\n",
    "Significance : loan amount is not completely utilized\n",
    "    1. not required, credit availed is fully paid\n",
    "    2. defaulted"
   ]
  },
  {
   "cell_type": "code",
   "execution_count": null,
   "metadata": {
    "id": "f0939f95"
   },
   "outputs": [],
   "source": [
    "loan['appliedMinusFunded'] = loan['loan_amnt'] - loan['funded_amnt']"
   ]
  },
  {
   "cell_type": "code",
   "execution_count": null,
   "metadata": {
    "id": "4c189dc4"
   },
   "outputs": [],
   "source": [
    "loan['appliedMinusFunded'].sum()"
   ]
  },
  {
   "cell_type": "code",
   "execution_count": null,
   "metadata": {
    "id": "be519b09",
    "scrolled": true
   },
   "outputs": [],
   "source": [
    "loan[loan['appliedMinusFunded'] > 0].describe()"
   ]
  },
  {
   "cell_type": "code",
   "execution_count": null,
   "metadata": {
    "id": "49a84e07"
   },
   "outputs": [],
   "source": [
    "loan[loan['appliedMinusFunded'] > 0].describe()"
   ]
  },
  {
   "cell_type": "code",
   "execution_count": null,
   "metadata": {
    "id": "4f68c264",
    "scrolled": true
   },
   "outputs": [],
   "source": [
    "loan[loan['appliedMinusFunded'] > 0]['derived_loan_status'].value_counts()"
   ]
  },
  {
   "cell_type": "code",
   "execution_count": null,
   "metadata": {
    "id": "87a8b483"
   },
   "outputs": [],
   "source": [
    "loan[loan['appliedMinusFunded'] == 0]['derived_loan_status'].value_counts()"
   ]
  },
  {
   "cell_type": "code",
   "execution_count": null,
   "metadata": {
    "id": "f7402dd2"
   },
   "outputs": [],
   "source": [
    "plotsForContinuousVariables('appliedMinusFunded', num_cuts=20)"
   ]
  },
  {
   "cell_type": "code",
   "execution_count": null,
   "metadata": {
    "id": "2fddf4f9"
   },
   "outputs": [],
   "source": [
    "plotsForContinuousVariables('loan_amnt', df =loan[(loan['appliedMinusFunded'] > 0) ])"
   ]
  },
  {
   "cell_type": "code",
   "execution_count": null,
   "metadata": {
    "id": "505a518f"
   },
   "outputs": [],
   "source": [
    "plotsForContinuousVariables('installment', df =loan[(loan['appliedMinusFunded'] > 0) ])"
   ]
  },
  {
   "cell_type": "code",
   "execution_count": null,
   "metadata": {
    "id": "a36e53df",
    "scrolled": false
   },
   "outputs": [],
   "source": [
    "plotsForCategoricalVariables(col='derived_purpose', df = loan[(loan['appliedMinusFunded'] > 0) ])"
   ]
  },
  {
   "cell_type": "code",
   "execution_count": null,
   "metadata": {
    "id": "1ef54716"
   },
   "outputs": [],
   "source": [
    "plotsForCategoricalVariables(col='derived_term', df = loan[(loan['appliedMinusFunded'] > 0) ])"
   ]
  },
  {
   "cell_type": "code",
   "execution_count": null,
   "metadata": {
    "id": "eebe87b5"
   },
   "outputs": [],
   "source": [
    "plotsForCategoricalVariables(col='derived_int_rate_pct_cats', df = loan[(loan['appliedMinusFunded'] > 0) ])"
   ]
  },
  {
   "cell_type": "code",
   "execution_count": null,
   "metadata": {
    "id": "f4dc50a3",
    "scrolled": true
   },
   "outputs": [],
   "source": [
    "plotsForCategoricalVariables(col='derived_issue_d_month', df = loan[(loan['appliedMinusFunded'] > 0) ])"
   ]
  },
  {
   "cell_type": "code",
   "execution_count": null,
   "metadata": {
    "id": "9817751f"
   },
   "outputs": [],
   "source": [
    "plotsForCategoricalVariables(col='derived_home_ownership', df = loan[(loan['appliedMinusFunded'] > 0) ])"
   ]
  },
  {
   "cell_type": "code",
   "execution_count": null,
   "metadata": {
    "id": "a3104c2c"
   },
   "outputs": [],
   "source": [
    "plotsForCategoricalVariables(col='derived_emp_length', df = loan[(loan['appliedMinusFunded'] > 0) ])"
   ]
  },
  {
   "cell_type": "code",
   "execution_count": null,
   "metadata": {
    "id": "c2ca12d8",
    "scrolled": true
   },
   "outputs": [],
   "source": [
    "plotsForCategoricalVariables(col='derived_addr_state', df = loan[(loan['appliedMinusFunded'] > 0) ])"
   ]
  },
  {
   "cell_type": "code",
   "execution_count": null,
   "metadata": {
    "id": "595b4b3a"
   },
   "outputs": [],
   "source": [
    "plotsForCategoricalVariables(col='dti_cats', df = loan[(loan['appliedMinusFunded'] > 0) ])"
   ]
  },
  {
   "cell_type": "code",
   "execution_count": null,
   "metadata": {
    "id": "9a584c47"
   },
   "outputs": [],
   "source": [
    "plotsForCategoricalVariables(col='derived_grade', df = loan[(loan['appliedMinusFunded'] > 0) ])"
   ]
  },
  {
   "cell_type": "markdown",
   "metadata": {
    "id": "3f1e53a6"
   },
   "source": [
    "### 5.2 (loan_amnt / annual income)\n",
    "Significance :\n",
    "    1. borrower's capacity to pay the loan"
   ]
  },
  {
   "cell_type": "code",
   "execution_count": null,
   "metadata": {
    "id": "4bce002c"
   },
   "outputs": [],
   "source": [
    "loan['derived_loan_to_income_ratio'] = loan['loan_amnt']/loan['annual_inc']"
   ]
  },
  {
   "cell_type": "code",
   "execution_count": null,
   "metadata": {
    "id": "82905593"
   },
   "outputs": [],
   "source": [
    "loan['derived_loan_to_income_ratio'].describe()"
   ]
  },
  {
   "cell_type": "code",
   "execution_count": null,
   "metadata": {
    "id": "f1c505aa",
    "scrolled": false
   },
   "outputs": [],
   "source": [
    "plotsForContinuousVariables('derived_loan_to_income_ratio')\n",
    "categorizeContinuousFeature(loan, 'derived_loan_to_income_ratio', ncats=4)"
   ]
  },
  {
   "cell_type": "code",
   "execution_count": null,
   "metadata": {
    "id": "f361cf84"
   },
   "outputs": [],
   "source": [
    "plotsForCategoricalVariables(col='derived_loan_to_income_ratio_cats')"
   ]
  },
  {
   "cell_type": "code",
   "execution_count": null,
   "metadata": {
    "id": "4e5c2f07"
   },
   "outputs": [],
   "source": [
    "plotsForCategoricalVariables(col='derived_emp_length', hue_col='derived_loan_to_income_ratio_cats', df = loan[(loan['derived_loan_status'] == 'charged off') ])"
   ]
  },
  {
   "cell_type": "code",
   "execution_count": null,
   "metadata": {
    "id": "7c746e33",
    "scrolled": false
   },
   "outputs": [],
   "source": [
    "labels = categorizeContinuousFeature(loan, 'installment', ncats=8)\n",
    "\n",
    "plotsForCategoricalVariables(col='installment_cats', hue_col='derived_loan_to_income_ratio_cats', df = loan[(loan['derived_loan_status'] == 'charged off') ])"
   ]
  },
  {
   "cell_type": "code",
   "execution_count": null,
   "metadata": {
    "id": "86ef43ad"
   },
   "outputs": [],
   "source": [
    "\n",
    "plotsForCategoricalVariables(col='derived_purpose', hue_col='derived_loan_to_income_ratio_cats', df = loan[(loan['derived_loan_status'] == 'charged off') ])"
   ]
  },
  {
   "cell_type": "code",
   "execution_count": null,
   "metadata": {
    "id": "f42abad4"
   },
   "outputs": [],
   "source": [
    "plotsForCategoricalVariables(col='derived_home_ownership', hue_col='derived_loan_to_income_ratio_cats', df = loan[(loan['derived_loan_status'] == 'charged off') ])"
   ]
  },
  {
   "cell_type": "code",
   "execution_count": null,
   "metadata": {
    "id": "7ceab654"
   },
   "outputs": [],
   "source": [
    "plotsForCategoricalVariables(col='derived_grade', hue_col='derived_loan_to_income_ratio_cats', df = loan[(loan['derived_loan_status'] == 'charged off') ])"
   ]
  },
  {
   "cell_type": "code",
   "execution_count": null,
   "metadata": {
    "id": "0d0a810c"
   },
   "outputs": [],
   "source": [
    "plotsForCategoricalVariables(col='derived_term', hue_col='derived_loan_to_income_ratio_cats', df = loan[(loan['derived_loan_status'] == 'charged off') ])"
   ]
  },
  {
   "cell_type": "code",
   "execution_count": null,
   "metadata": {
    "id": "9be0f8d7",
    "scrolled": true
   },
   "outputs": [],
   "source": [
    "plotsForCategoricalVariables(col='dti_cats', hue_col='derived_loan_to_income_ratio_cats', df = loan[(loan['derived_loan_status'] == 'charged off') ])"
   ]
  },
  {
   "cell_type": "code",
   "execution_count": null,
   "metadata": {
    "id": "3e1b626f",
    "scrolled": true
   },
   "outputs": [],
   "source": [
    "# deep dive into dti against loan status\n",
    "plotsForCategoricalVariables(col='dti_cats', hue_col='derived_loan_to_income_ratio_cats', df = loan[(loan['derived_loan_status'] == 'charged off') ])"
   ]
  },
  {
   "cell_type": "code",
   "execution_count": null,
   "metadata": {
    "id": "3941656e"
   },
   "outputs": [],
   "source": [
    "# deep dive into derived_loan_to_income_ratio_cats against loan status\n",
    "g1 = loan[loan['derived_loan_to_income_ratio_cats'].isin(['0.0-0.2']) ] \n",
    "g2 = loan[loan['derived_loan_to_income_ratio_cats'].isin(['0.2-0.4']) ] \n",
    "g1_2 = pd.concat([g1,g2])\n",
    "\n",
    "g3 = loan[loan['derived_loan_to_income_ratio_cats'].isin(['0.4-0.6']) ] \n",
    "g4 = loan[loan['derived_loan_to_income_ratio_cats'].isin(['0.6-0.8']) ] \n",
    "g3_4 = pd.concat([g3,g4])\n",
    "#plotsForCategoricalVariables(col='dti_cats', df = l )\n",
    "g2['derived_loan_status'].value_counts()"
   ]
  },
  {
   "cell_type": "code",
   "execution_count": null,
   "metadata": {
    "id": "9722b9c6"
   },
   "outputs": [],
   "source": [
    "g1['annual_inc'].mean(), g1['annual_inc'].median()"
   ]
  },
  {
   "cell_type": "code",
   "execution_count": null,
   "metadata": {
    "id": "a5d3e739"
   },
   "outputs": [],
   "source": [
    "g1_good = g1[g1['derived_loan_status']=='fully paid']\n",
    "g1_bad = g1[g1['derived_loan_status']!='fully paid']\n",
    "\n",
    "g3_good = g3[g3['derived_loan_status']=='fully paid']\n",
    "g3_bad = g3[g3['derived_loan_status']!='fully paid']\n",
    "\n",
    "print(\n",
    "g1_good['annual_inc'].mean(), g1_good['annual_inc'].median(),\n",
    "g1_bad['annual_inc'].mean(), g1_bad['annual_inc'].median(),\n",
    "g3_good['annual_inc'].mean(), g3_good['annual_inc'].median(),\n",
    "g3_bad['annual_inc'].mean(), g3_bad['annual_inc'].median())"
   ]
  },
  {
   "cell_type": "code",
   "execution_count": null,
   "metadata": {
    "id": "7d537a68"
   },
   "outputs": [],
   "source": [
    "g2_good = g2[g2['derived_loan_status']=='fully paid']\n",
    "g2_bad = g2[g2['derived_loan_status']!='fully paid']\n",
    "\n",
    "g4_good = g4[g4['derived_loan_status']=='fully paid']\n",
    "g4_bad = g4[g4['derived_loan_status']!='fully paid']\n",
    "\n",
    "print(\n",
    "g2_good['annual_inc'].mean(), g2_good['annual_inc'].median(),\n",
    "g2_bad['annual_inc'].mean(), g2_bad['annual_inc'].median(),\n",
    "g4_good['annual_inc'].mean(), g4_good['annual_inc'].median(),\n",
    "g4_bad['annual_inc'].mean(), g4_bad['annual_inc'].median())"
   ]
  },
  {
   "cell_type": "code",
   "execution_count": null,
   "metadata": {
    "id": "d22ad3aa"
   },
   "outputs": [],
   "source": [
    "loan['annual_inc'].mean(),loan['annual_inc'].median()"
   ]
  },
  {
   "cell_type": "code",
   "execution_count": null,
   "metadata": {
    "id": "fcdcd97a",
    "scrolled": true
   },
   "outputs": [],
   "source": [
    "# deep dive into dti against loan status\n",
    "plotsForCategoricalVariables(col='derived_int_rate_pct_cats',  df = g1 )"
   ]
  },
  {
   "cell_type": "code",
   "execution_count": null,
   "metadata": {
    "id": "9320e0f5"
   },
   "outputs": [],
   "source": [
    "# deep dive into dti against loan status\n",
    "plotsForCategoricalVariables(col='annual_inc_cats',  df = g1 )"
   ]
  },
  {
   "cell_type": "code",
   "execution_count": null,
   "metadata": {
    "id": "ba31466b",
    "scrolled": true
   },
   "outputs": [],
   "source": [
    "# deep dive into dti against loan status\n",
    "plotsForCategoricalVariables(col='loan_amnt_cats',  df = g1 )"
   ]
  },
  {
   "cell_type": "code",
   "execution_count": null,
   "metadata": {
    "id": "729acc6e",
    "scrolled": false
   },
   "outputs": [],
   "source": [
    "#sns.catplot(loan,y='loan_amnt_cats',x='annual_inc_cats',hue='derived_loan_to_income_ratio_cats',col='derived_loan_status')"
   ]
  },
  {
   "cell_type": "code",
   "execution_count": null,
   "metadata": {
    "id": "704188df"
   },
   "outputs": [],
   "source": [
    "# deep dive into dti against loan status\n",
    "plotsForCategoricalVariables(col='derived_purpose',  df = g1 )"
   ]
  },
  {
   "cell_type": "code",
   "execution_count": null,
   "metadata": {
    "id": "ca1899d7"
   },
   "outputs": [],
   "source": [
    "# deep dive into dti against loan status\n",
    "plotsForCategoricalVariables(col='derived_revol_util_pct_cats',  df = g1 )"
   ]
  },
  {
   "cell_type": "code",
   "execution_count": null,
   "metadata": {
    "id": "9aff2820",
    "scrolled": true
   },
   "outputs": [],
   "source": [
    "plotsForCategoricalVariables(col='derived_loan_to_income_ratio_cats',  df = loan)"
   ]
  },
  {
   "cell_type": "code",
   "execution_count": null,
   "metadata": {
    "id": "bd21c917",
    "scrolled": true
   },
   "outputs": [],
   "source": [
    "plotsForCategoricalVariables(col='derived_loan_to_income_ratio_cats', hue_col='appliedMinusFunded_cats', df = loan)"
   ]
  },
  {
   "cell_type": "code",
   "execution_count": null,
   "metadata": {
    "id": "672dcaf0"
   },
   "outputs": [],
   "source": [
    "plotsForCategoricalVariables(col='derived_loan_to_income_ratio_cats', hue_col='appliedMinusFunded_cats', df = loan[loan['derived_loan_status']=='charged off'])"
   ]
  },
  {
   "cell_type": "code",
   "execution_count": null,
   "metadata": {
    "id": "b78daeca"
   },
   "outputs": [],
   "source": [
    "\n",
    "plotsForCategoricalVariables(col='derived_loan_to_income_ratio_cats', hue_col='appliedMinusFunded_cats', df = loan[loan['derived_loan_status']=='charged off'])"
   ]
  },
  {
   "cell_type": "markdown",
   "metadata": {
    "id": "2a9f5368"
   },
   "source": [
    "### 5.3 (loan_amnt / annual income)\n",
    "Significance :\n",
    "    1. borrower's capacity to pay the loan"
   ]
  },
  {
   "cell_type": "code",
   "execution_count": null,
   "metadata": {
    "id": "37675d7a"
   },
   "outputs": [],
   "source": [
    "#loan['derived_installment_to_monthly_salary_ratio'] = loan['installment']/(loan['annual_inc']/12)"
   ]
  },
  {
   "cell_type": "code",
   "execution_count": null,
   "metadata": {
    "id": "0426d3fc"
   },
   "outputs": [],
   "source": [
    "plotsForContinuousVariables('derived_installment_to_monthly_salary_ratio')"
   ]
  },
  {
   "cell_type": "code",
   "execution_count": null,
   "metadata": {
    "id": "f3db2f2c"
   },
   "outputs": [],
   "source": [
    "loan['monthly_inc'] = loan['annual_inc']/12\n",
    "categorizeContinuousFeature(loan, 'monthly_inc', 8)\n",
    "plotsForContinuousVariables('derived_installment_to_monthly_salary_ratio',df=loan[loan['derived_loan_status'] == 'fully paid'], hue_col='monthly_inc_cats')"
   ]
  },
  {
   "cell_type": "markdown",
   "metadata": {
    "id": "e709f013"
   },
   "source": [
    "1. as salary increases, installment_to_monthly_salary_ratio tend to decrease a lot, strong pattern, \n",
    "   which clearly indicates that borrowers with lesser income have bigger part of their monthly income going in to pay the installments\n",
    "2. above installment_to_monthly_salary_ratio of 0.08, all the borrowers are mostly from lower income groups,\n",
    "   which clearly indicates that why they are not keeping up with the loan and eventually default"
   ]
  },
  {
   "cell_type": "code",
   "execution_count": null,
   "metadata": {
    "id": "4f888754"
   },
   "outputs": [],
   "source": [
    "plotsForCategoricalVariables('dti_cats',df=loan, hue_col='derived_installment_to_monthly_salary_ratio_cats')"
   ]
  },
  {
   "cell_type": "markdown",
   "metadata": {
    "id": "evfcG0XeskmV"
   },
   "source": [
    "## Categorical columns classification\n",
    "A. customer attributes : \n",
    "                    1.  derived_addr_state,\n",
    "                    2.  derived_zip_code, \n",
    "                    3.  derived_emp_length, \n",
    "                    4.  derived_emp_title, \n",
    "                    5.  derived_emp_length,\n",
    "                    6.  derived_home_ownership,\n",
    "\n",
    "B. customer credit history related attributes : \n",
    "                    7.  derived_earliest_cr_line_year,\n",
    "                    8.  derived_earliest_cr_line_month ,\n",
    "                    9.  delinq_2yrs, \n",
    "                    10. inq_last_6mths\n",
    "\n",
    "C. loan attributes : \n",
    "                    11. derived_grade, \n",
    "                    12. derived_sub_grade , \n",
    "                    13. derived_issue_d, \n",
    "                    14. derived_issue_month  , \n",
    "                    15. derived_issue_year ,\n",
    "                    16. derived_term ,\n",
    "                    17. derived_last_pymnt_d, \n",
    "                    18. derived_last_pymnt_d_year ,\n",
    "                    19. derived_verification_status, \n",
    "                    20. derived_purpose , \n",
    "                    21. derived_title, \n",
    "                    22. derived_loan_status , "
   ]
  },
  {
   "cell_type": "markdown",
   "metadata": {
    "id": "7H0GBUsysmsg"
   },
   "source": [
    "## continuous columns classification\n",
    "\n",
    "A. customer attributes : \n",
    "            1. annual_inc,  YES\n",
    "            2. dti,         YES\n",
    "\n",
    "B. customer credit history related attributes :\n",
    "            3. delinq_2yrs,   Cat YES\n",
    "            4. derived_earliest_cr_line_date, NO\n",
    "            5. inq_last_6mths,   cat YES\n",
    "            6. open_acc,         cat YES\n",
    "            7. pub_rec,          cat YES\n",
    "            8. pub_rec_bankruptcies,  \n",
    "            9. recoveries,\n",
    "            \n",
    "C. loan attributes :\n",
    "            10. collection_recovery_fee,  No\n",
    "            11. derived_desc_length,      YES  \n",
    "            12. derived_int_rate_pct,     YES\n",
    "            13. derived_issue_date        NO\n",
    "            14. derived_last_pymnt_d_date, NO \n",
    "            15. funded_amnt,          NO\n",
    "            16. funded_amnt_inv,\n",
    "            17. installment,         YES\n",
    "            18. last_pymnt_amnt,      NO\n",
    "            19. loan_amnt,        YES\n",
    "            20. total_pymnt,        NO\n",
    "            21. total_pymnt_inv,    NO\n",
    "            22. total_rec_int,      NO\n",
    "            23. total_rec_late_fee,  NO\n",
    "            24. total_rec_prncp,      NO\n",
    "            25. revol_bal            either of these 2\n",
    "            26. derived_revol_util_pct   "
   ]
  },
  {
   "cell_type": "markdown",
   "metadata": {
    "id": "7393dfd7"
   },
   "source": [
    "## 6. important features cumulated"
   ]
  },
  {
   "cell_type": "code",
   "execution_count": null,
   "metadata": {
    "id": "541492e6"
   },
   "outputs": [],
   "source": [
    "loan['total_recovery_cost'] = loan['collection_recovery_fee'] + loan['recoveries']\n",
    "loan['derived_loan_status_bin'] = loan['derived_loan_status'].apply(lambda x: 1 if x == 'charged off' else 0)\n",
    "loan['loan_to_income_all'] = 100*loan['loan_amnt']/loan['annual_inc']\n",
    "\n",
    "all_agg_grouped_on_purpose = loan[['loan_to_income_all','total_recovery_cost','derived_loan_status_bin','annual_inc','loan_amnt','funded_amnt','funded_amnt','derived_int_rate_pct','dti','derived_revol_util_pct','derived_loan_status','derived_purpose']].groupby(by=['derived_purpose'])\n",
    "all_agg = all_agg_grouped_on_purpose.sum()\n",
    "all_agg['count'] = all_agg_grouped_on_purpose['annual_inc'].count()\n",
    "\n",
    "all_agg['loan_to_income'] = 100*all_agg['loan_amnt']/all_agg['annual_inc']\n",
    "all_agg['loan_to_income_all_com'] = all_agg['loan_to_income_all']/all_agg['count']\n",
    "all_agg['charge_off_ratio'] = 100*all_agg['derived_loan_status_bin']/all_agg['count']\n",
    "all_agg['average_int_rate'] = all_agg['derived_int_rate_pct'] / all_agg['count']\n",
    "all_agg['avg_recovery_cost'] = all_agg['total_recovery_cost'] / all_agg['count']\n",
    "all_agg['loan_cases_avg'] = 100*all_agg['count'] / loan.shape[0]\n",
    "all_agg['derived_revol_util_pct'] = all_agg['derived_revol_util_pct'] / all_agg['count']\n",
    "all_agg['dti'] = all_agg['dti'] / all_agg['count']\n",
    "#all_agg['applied_loan_minus_funded'] = all_agg['loan_amnt'] - all_agg['funded_amnt']\n",
    "#all_agg['funded_minus_inverstors'] = all_agg['funded_amnt'] - all_agg['funded_amnt_inv']\n",
    "#all_agg['average_int_rate'] = all_agg['funded_amnt'] - all_agg['funded_amnt_inv']\n",
    "\n",
    "all_agg"
   ]
  },
  {
   "cell_type": "code",
   "execution_count": null,
   "metadata": {
    "id": "f5c4f89a"
   },
   "outputs": [],
   "source": [
    "defaulters['total_recovery_cost'] = defaulters['collection_recovery_fee'] + defaulters['recoveries']\n",
    "defaulters['derived_loan_status_bin'] = defaulters['derived_loan_status'].apply(lambda x: 1 if x == 'charged off' else 0)\n",
    "defaulters['loan_to_income_all'] = 100*defaulters['loan_amnt']/loan['annual_inc']\n",
    "\n",
    "all_agg_grouped_on_purpose = defaulters[['loan_to_income_all','total_recovery_cost','derived_loan_status_bin','annual_inc','loan_amnt','funded_amnt','funded_amnt','derived_int_rate_pct','dti','derived_revol_util_pct','derived_loan_status','derived_purpose']].groupby(by=['derived_purpose'])\n",
    "all_agg = all_agg_grouped_on_purpose.sum()\n",
    "all_agg['count'] = all_agg_grouped_on_purpose['annual_inc'].count()\n",
    "\n",
    "all_agg['loan_to_income'] = 100*all_agg['loan_amnt']/all_agg['annual_inc']\n",
    "all_agg['loan_to_income_all_com'] = all_agg['loan_to_income_all']/all_agg['count']\n",
    "all_agg['charge_off_ratio'] = 100*all_agg['derived_loan_status_bin']/all_agg['count']\n",
    "all_agg['average_int_rate'] = all_agg['derived_int_rate_pct'] / all_agg['count']\n",
    "all_agg['avg_recovery_cost'] = all_agg['total_recovery_cost'] / all_agg['count']\n",
    "all_agg['loan_cases_avg'] = 100*all_agg['count'] / defaulters.shape[0]\n",
    "all_agg['derived_revol_util_pct'] = all_agg['derived_revol_util_pct'] / all_agg['count']\n",
    "all_agg['dti'] = all_agg['dti'] / all_agg['count']\n",
    "#all_agg['applied_loan_minus_funded'] = all_agg['loan_amnt'] - all_agg['funded_amnt']\n",
    "#all_agg['funded_minus_inverstors'] = all_agg['funded_amnt'] - all_agg['funded_amnt_inv']\n",
    "#all_agg['average_int_rate'] = all_agg['funded_amnt'] - all_agg['funded_amnt_inv']\n",
    "\n",
    "all_agg"
   ]
  },
  {
   "cell_type": "code",
   "execution_count": null,
   "metadata": {
    "id": "753c2611"
   },
   "outputs": [],
   "source": [
    "non_defaulters['total_recovery_cost'] = non_defaulters['collection_recovery_fee'] + non_defaulters['recoveries']\n",
    "non_defaulters['derived_loan_status_bin'] = non_defaulters['derived_loan_status'].apply(lambda x: 1 if x == 'charged off' else 0)\n",
    "non_defaulters['loan_to_income_all'] = 100*non_defaulters['loan_amnt']/loan['annual_inc']\n",
    "\n",
    "all_agg_grouped_on_purpose = non_defaulters[['loan_to_income_all','total_recovery_cost','derived_loan_status_bin','annual_inc','loan_amnt','funded_amnt','funded_amnt','derived_int_rate_pct','dti','derived_revol_util_pct','derived_loan_status','derived_purpose']].groupby(by=['derived_purpose'])\n",
    "all_agg = all_agg_grouped_on_purpose.sum()\n",
    "all_agg['count'] = all_agg_grouped_on_purpose['annual_inc'].count()\n",
    "\n",
    "all_agg['loan_to_income'] = 100*all_agg['loan_amnt']/all_agg['annual_inc']\n",
    "all_agg['loan_to_income_all_com'] = all_agg['loan_to_income_all']/all_agg['count']\n",
    "all_agg['charge_off_ratio'] = 100*all_agg['derived_loan_status_bin']/all_agg['count']\n",
    "all_agg['average_int_rate'] = all_agg['derived_int_rate_pct'] / all_agg['count']\n",
    "all_agg['avg_recovery_cost'] = all_agg['total_recovery_cost'] / all_agg['count']\n",
    "all_agg['loan_cases_avg'] = 100*all_agg['count'] / non_defaulters.shape[0]\n",
    "all_agg['derived_revol_util_pct'] = all_agg['derived_revol_util_pct'] / all_agg['count']\n",
    "all_agg['dti'] = all_agg['dti'] / all_agg['count']\n",
    "#all_agg['applied_loan_minus_funded'] = all_agg['loan_amnt'] - all_agg['funded_amnt']\n",
    "#all_agg['funded_minus_inverstors'] = all_agg['funded_amnt'] - all_agg['funded_amnt_inv']\n",
    "#all_agg['average_int_rate'] = all_agg['funded_amnt'] - all_agg['funded_amnt_inv']\n",
    "\n",
    "all_agg\n"
   ]
  },
  {
   "cell_type": "markdown",
   "metadata": {
    "id": "ROC1PGLrhGWF"
   },
   "source": [
    "# Recommendations and Conclusions"
   ]
  },
  {
   "cell_type": "markdown",
   "metadata": {
    "id": "k-MHHiiHhMqF"
   },
   "source": [
    "## Observations\n"
   ]
  },
  {
   "cell_type": "markdown",
   "metadata": {
    "id": "wvpzoHxLuvzE"
   },
   "source": [
    "### Features Related to Borrower’s Credit History & Profile"
   ]
  },
  {
   "cell_type": "markdown",
   "metadata": {},
   "source": [
    "1. lower Annual Income [ below 90K]\n",
    "2. higher Employment length : Unknown / Missing employment history [22 %]\n",
    "3. Home ownership isin (other, Rent, owned)\n",
    "4. Address State isin (NE Nebraska, NV Nevada, SD South Dacota AK Alaska and FL Florida)\n",
    "5. higher DTI [above 11 %]\n",
    "6. higher Revolving credit util [above 37%]\n",
    "7. higher Credit inquiries in last 6 months [above and equal to 1]\n",
    "8. higher Delinq occurrences in last 2 years [greater than equal to 1]\n",
    "9. higher Number of Public record of bankrupcies [greater than equal to 1]\n",
    "10. higher Number of derogatory public records [1 or 2]\n"
   ]
  },
  {
   "cell_type": "markdown",
   "metadata": {},
   "source": [
    "### Features Related to current Loan application :"
   ]
  },
  {
   "cell_type": "markdown",
   "metadata": {},
   "source": [
    "1. higher Loan amount [ > 13k]\n",
    "2. higher Interest Rate [above 13%]\n",
    "3. higher Installment [above 338]\n",
    "4. higher Loan Grade [on and above grade C], same observations through Loan Sub Grades\n",
    "5. Loan purpose isin [Small Business(27%), Renewable Energy(19%), Educational loan(17%)]\n",
    "6. Verification Status isin [Verified (17%), source verified (15%), not verified (13%)]\n",
    "7. Loan Issue Month isin [Dec, May, Sep, Oct)\n",
    "8. Loan repayment Term is [60 months term 25%]"
   ]
  },
  {
   "cell_type": "markdown",
   "metadata": {},
   "source": [
    "### Impact analysing Multiple Features"
   ]
  },
  {
   "cell_type": "markdown",
   "metadata": {},
   "source": [
    "1. High Loan amount and High Interest rates for Low Annual income borrowers\n",
    "2. High Installments with Lower Annual Income and Longer Term\n",
    "3. High Installments with higher Interest Rates for longer Term\n",
    "4. High DTI individual with Lower income\n"
   ]
  },
  {
   "cell_type": "markdown",
   "metadata": {},
   "source": [
    "## Recommendations"
   ]
  },
  {
   "cell_type": "markdown",
   "metadata": {},
   "source": [
    "1. Borrowers with Lower Income should be provided loans considering\n",
    "    \n",
    "    A. Loan amount should be based on interest rates, term, installments, dti and delinq history so that \n",
    "        a. loan amount should not be too high  [possible loss of business but Risky]\n",
    "        b. OR the installments are payable by the borrower\n",
    "\n",
    "    B. should be reviewd for DTI, delinq history, revolving util and inquiries for credit on a regular basis\n"
   ]
  },
  {
   "cell_type": "markdown",
   "metadata": {},
   "source": [
    "2. Different Loan purposes have different behavior and they should be evaluated based on\n",
    "  \n",
    "    A. Annual Income, Credit history (DTI, revol_util, delinq, credit_inquiries and public records), Borrower specific information (Borrowers State, employment length), Loan Grade\n"
   ]
  },
  {
   "cell_type": "markdown",
   "metadata": {},
   "source": [
    "3. Different Loan purposes have different behavior and they should be evaluated based on\n",
    "  \n",
    "    A. Annual Income, Credit history (DTI, revol_util, delinq, credit_inquiries and public records), Borrower specific information (Borrowers State, employment length), Loan Grade\n"
   ]
  },
  {
   "cell_type": "markdown",
   "metadata": {},
   "source": [
    "Verifications ie both ‘Verification’ & ‘Source Verification’need some more improvements as the default rate is still high.\n",
    "\n",
    "    A. Considering that verifications may have done in the cases of risky loans and those cases may have been addressed for the involved Risk, either by increasing the interest rates / reduing loan amount / adjusting the term, these adjustments needs a review whether the risk is getting mitigated. As we still see the defaults in these scenarios. \n"
   ]
  },
  {
   "cell_type": "markdown",
   "metadata": {},
   "source": [
    "High Risk loan can be reduced on by\n",
    "\n",
    "    A. Reducing loan amount / adjusting the installment, interest rate and term to compensate the risk\n",
    "    B. asking for co-borrowers / collateral\n",
    "    C. getting Investors / Credit Default Swaps\n"
   ]
  }
 ],
 "metadata": {
  "colab": {
   "collapsed_sections": [
    "5b90e8ab",
    "Ot9La-6FtFRT",
    "d281ed53",
    "MUoWa7mSkZYV",
    "48gDsjvopu8g",
    "OiBz_lGEcVat",
    "3Vu84LAk9MiI",
    "mhoc4IyQA0nx",
    "yr8pARcrINuT",
    "WRPNQnygN0DQ",
    "zlOkhf4KRYPf",
    "RUwQHpDdVx-j",
    "c0271e46"
   ],
   "provenance": [
    {
     "file_id": "1dPd0hrgeDvESigG967ytct-0PA8vHX4n",
     "timestamp": 1672767839790
    }
   ],
   "toc_visible": true
  },
  "kernelspec": {
   "display_name": "Python 3 (ipykernel)",
   "language": "python",
   "name": "python3"
  },
  "language_info": {
   "codemirror_mode": {
    "name": "ipython",
    "version": 3
   },
   "file_extension": ".py",
   "mimetype": "text/x-python",
   "name": "python",
   "nbconvert_exporter": "python",
   "pygments_lexer": "ipython3",
   "version": "3.10.6"
  }
 },
 "nbformat": 4,
 "nbformat_minor": 1
}
